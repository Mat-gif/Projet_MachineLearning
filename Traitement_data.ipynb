{
  "cells": [
    {
      "attachments": {},
      "cell_type": "markdown",
      "metadata": {},
      "source": [
        "# Création d'un jeu de données nettoyé"
      ]
    },
    {
      "attachments": {},
      "cell_type": "markdown",
      "metadata": {},
      "source": [
        "Avant de faire un prétraitement des données et d'effectuer des classifications, on va chercher à nettoyer les données en retirant les lignes où les textes/titres sont vides, en supprimant les doublons."
      ]
    },
    {
      "cell_type": "code",
      "execution_count": 2,
      "metadata": {
        "colab": {
          "base_uri": "https://localhost:8080/"
        },
        "id": "mfJPs4eda7XQ",
        "outputId": "f4b03881-7a46-48d0-ab24-14ec77f2d4e2"
      },
      "outputs": [],
      "source": [
        "import pandas as pd\n",
        "\n",
        "#Importation des jeux de données\n",
        "dfInit_train = pd.read_csv('./data_init/HAI817_Projet_train.csv',sep=',')\n",
        "dfInit_test = pd.read_csv('./data_init/HAI817_Projet_test.csv',sep=',')"
      ]
    },
    {
      "cell_type": "code",
      "execution_count": 3,
      "metadata": {},
      "outputs": [
        {
          "name": "stdout",
          "output_type": "stream",
          "text": [
            "Taille des Data train+test :\n",
            "false    815\n",
            "true     411\n",
            "Name: our rating, dtype: int64\n"
          ]
        }
      ],
      "source": [
        "#Concaténation des deux jeux de données test et train\n",
        "dfInit_concat = pd.concat([dfInit_train,dfInit_test], ignore_index = True)\n",
        "\n",
        "#Suppression des mixture et other\n",
        "df_concat = dfInit_concat.loc[~dfInit_concat['our rating'].isin(['mixture','other'])]\n",
        "\n",
        "#Suppression des doublons\n",
        "df_concat = df_concat.drop_duplicates()\n",
        "\n",
        "#Suppression des titres NaN\n",
        "df_concat = df_concat.loc[~df_concat['title'].isin(['NaN'])]\n",
        "\n",
        "#Suppression des textes NaN\n",
        "df_concat = df_concat.loc[~df_concat['text'].isin(['NaN'])]\n",
        "\n",
        "#Concaténation du titre et du texte dans une nouvelle colonne title_text\n",
        "df_concat['title_text'] = df_concat['title'] +\"  \"+ df_concat['text']\n",
        "\n",
        "#Affichage de la taille des données\n",
        "print(\"Taille des Data train+test :\")\n",
        "print(df_concat['our rating'].value_counts())"
      ]
    },
    {
      "attachments": {},
      "cell_type": "markdown",
      "metadata": {},
      "source": [
        "# Équilibrage du jeu de données"
      ]
    },
    {
      "attachments": {},
      "cell_type": "markdown",
      "metadata": {},
      "source": [
        "On équilibre la taille des label pour avoir un nombre équivalent de rating VRAI et FAUX."
      ]
    },
    {
      "cell_type": "code",
      "execution_count": 4,
      "metadata": {},
      "outputs": [],
      "source": [
        "#Fonction d'équilibrage du jeu de données\n",
        "def balanceSample(X, size, classe):\n",
        "  data = pd.DataFrame()\n",
        "  for i in classe:\n",
        "    x = X.loc[X['our rating'].isin([i])]\n",
        "    if( x.shape[0] > size) :\n",
        "      x_new =  pd.concat([x[x['our rating'] == c].sample(size, replace=False)for c in x['our rating'].unique()])\n",
        "    elif (x.shape[0] < size) :\n",
        "      if(x.shape[0]*2 >= size):\n",
        "        x_new = pd.concat([x,pd.concat([x[x['our rating'] == c].sample((size-x.shape[0]), replace=False)for c in x['our rating'].unique()])], ignore_index = True)\n",
        "      else :\n",
        "        x_new = pd.concat([x,pd.concat([x[x['our rating'] == c].sample((size-x.shape[0]), replace=True)for c in x['our rating'].unique()])], ignore_index = True)\n",
        "    else :\n",
        "      x_new = x\n",
        "    data = pd.concat([data,x_new], ignore_index = True)\n",
        "  print(data['our rating'].value_counts())\n",
        "  \n",
        "  return data"
      ]
    },
    {
      "cell_type": "code",
      "execution_count": 5,
      "metadata": {
        "colab": {
          "base_uri": "https://localhost:8080/"
        },
        "id": "vgjOTOVOZZh2",
        "outputId": "393475aa-9a15-473d-96fa-552acc608ec6"
      },
      "outputs": [
        {
          "name": "stdout",
          "output_type": "stream",
          "text": [
            "true     500\n",
            "false    500\n",
            "Name: our rating, dtype: int64\n"
          ]
        }
      ],
      "source": [
        "#Équilibrage des données True/False\n",
        "#Étant donné que l'on a 815 FALSE et 411 TRUE, on arrondis pour avoir 500 texte de chaque\n",
        "balanced_concat = balanceSample(df_concat,500,[\"true\",\"false\"])\n",
        "\n",
        "#Sauvegarde dans un fichier .csv d'un unique jeu de donnée traité qui va servir pour toutes les classification VRAI/FAUX\n",
        "# balanced_concat.to_csv('./data_csv/balanced_concat.csv')\n",
        "# df = pd.read_csv('./data_csv/balanced_concat.csv')"
      ]
    }
  ],
  "metadata": {
    "colab": {
      "provenance": []
    },
    "kernelspec": {
      "display_name": "base",
      "language": "python",
      "name": "python3"
    },
    "language_info": {
      "codemirror_mode": {
        "name": "ipython",
        "version": 3
      },
      "file_extension": ".py",
      "mimetype": "text/x-python",
      "name": "python",
      "nbconvert_exporter": "python",
      "pygments_lexer": "ipython3",
      "version": "3.9.13"
    },
    "vscode": {
      "interpreter": {
        "hash": "e6822839c80bb80c42f7f9e096efdd447a89633a8e8a553b5cfb2012f3a4eafe"
      }
    }
  },
  "nbformat": 4,
  "nbformat_minor": 0
}
