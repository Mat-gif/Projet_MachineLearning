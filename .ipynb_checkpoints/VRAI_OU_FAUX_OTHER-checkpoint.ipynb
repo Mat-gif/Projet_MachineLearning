{
 "cells": [
  {
   "cell_type": "markdown",
   "metadata": {
    "id": "txx7OFO-JM5N"
   },
   "source": [
    "## Tâche de classification {VRAI} vs {FAUX}\n",
    "\n",
    "Etudiants : Cazeres Mathieu (22200082), Martin-Chantereau Etienne (21909526), Moreaux Victor (22200010), Poiret Valentin (21609227)"
   ]
  },
  {
   "cell_type": "markdown",
   "metadata": {
    "id": "HWyJp8BhJM5b"
   },
   "source": [
    "_____________________________________________________________________________________________________\n",
    "_____________________________________________________________________________________________________\n",
    "                    \n",
    "## Introduction Notebook\n",
    "        \n",
    "_____________________________________________________________________________________________________\n",
    "_____________________________________________________________________________________________________"
   ]
  },
  {
   "cell_type": "markdown",
   "metadata": {
    "id": "BBOpBc9BJM5d"
   },
   "source": [
    "        -> Importation librairies"
   ]
  },
  {
   "cell_type": "code",
   "execution_count": 2,
   "metadata": {
    "colab": {
     "base_uri": "https://localhost:8080/",
     "height": 70
    },
    "executionInfo": {
     "elapsed": 25814,
     "status": "ok",
     "timestamp": 1682602029353,
     "user": {
      "displayName": "Etienne Martin",
      "userId": "04420319778773764841"
     },
     "user_tz": -120
    },
    "id": "AYvfvcHOJXId",
    "outputId": "31829148-f551-4182-bb96-9ec6a1ae140a"
   },
   "outputs": [
    {
     "name": "stdout",
     "output_type": "stream",
     "text": [
      "Mounted at /content/gdrive\n",
      "/content/gdrive/MyDrive/ML\n"
     ]
    },
    {
     "data": {
      "application/vnd.google.colaboratory.intrinsic+json": {
       "type": "string"
      },
      "text/plain": [
       "'/content/gdrive/MyDrive/ML'"
      ]
     },
     "execution_count": 2,
     "metadata": {},
     "output_type": "execute_result"
    }
   ],
   "source": [
    "import pandas as pd\n",
    "\n",
    "from google.colab import drive\n",
    "drive.mount('/content/gdrive')\n",
    "\n",
    "import sys \n",
    "\n",
    "my_local_drive='/content/gdrive/MyDrive/ML'\n",
    "# Ajout du path pour les librairies, fonctions et données\n",
    "sys.path.append(my_local_drive)\n",
    "# Se positionner sur le répertoire associé\n",
    "%cd $my_local_drive\n",
    "%pwd "
   ]
  },
  {
   "cell_type": "code",
   "execution_count": 3,
   "metadata": {
    "colab": {
     "base_uri": "https://localhost:8080/"
    },
    "executionInfo": {
     "elapsed": 6145,
     "status": "ok",
     "timestamp": 1682602039561,
     "user": {
      "displayName": "Etienne Martin",
      "userId": "04420319778773764841"
     },
     "user_tz": -120
    },
    "id": "lnxwaIe1JM5e",
    "outputId": "355a95de-501d-41ce-aeec-e4aaade6c90a"
   },
   "outputs": [
    {
     "name": "stderr",
     "output_type": "stream",
     "text": [
      "[nltk_data] Downloading package wordnet to /root/nltk_data...\n",
      "[nltk_data] Downloading package stopwords to /root/nltk_data...\n",
      "[nltk_data]   Unzipping corpora/stopwords.zip.\n",
      "[nltk_data] Downloading package punkt to /root/nltk_data...\n",
      "[nltk_data]   Unzipping tokenizers/punkt.zip.\n",
      "[nltk_data] Downloading package wordnet to /root/nltk_data...\n",
      "[nltk_data]   Package wordnet is already up-to-date!\n",
      "[nltk_data] Downloading package stopwords to /root/nltk_data...\n",
      "[nltk_data]   Package stopwords is already up-to-date!\n",
      "[nltk_data] Downloading package punkt to /root/nltk_data...\n",
      "[nltk_data]   Package punkt is already up-to-date!\n"
     ]
    }
   ],
   "source": [
    "import pandas as pd\n",
    "# fonctions utilities (affichage, confusion, etc.)\n",
    "from Fonction.MyNLPUtilities import *\n",
    "# fonctions utilities (fonction de clean, import etc etc)\n",
    "from Fonction.myFonction import *\n",
    "from Fonction.AllModels import *"
   ]
  },
  {
   "cell_type": "markdown",
   "metadata": {
    "id": "ldGoC7iNJM5h"
   },
   "source": [
    "        -> Chargement des données brutes"
   ]
  },
  {
   "cell_type": "code",
   "execution_count": null,
   "metadata": {
    "id": "BKSo87hDJM5i",
    "outputId": "038732e6-2262-497c-bfbd-7bc08a99cb5f"
   },
   "outputs": [
    {
     "name": "stdout",
     "output_type": "stream",
     "text": [
      "data_brute avant drop de duplicate : \n",
      " false      893\n",
      "true       421\n",
      "mixture    414\n",
      "other      148\n",
      "Name: our rating, dtype: int64 \n",
      "\n",
      "data après drop de duplicate : \n",
      " false      815\n",
      "true       411\n",
      "mixture    374\n",
      "other      127\n",
      "Name: our rating, dtype: int64 \n",
      "\n",
      "data_to_test avant drop duplicates : \n",
      " false    815\n",
      "true     411\n",
      "other    127\n",
      "Name: our rating, dtype: int64 \n",
      "\n",
      "datato_test après drop duplicates : \n",
      " false    801\n",
      "true     407\n",
      "other    126\n",
      "Name: our rating, dtype: int64 \n",
      "\n"
     ]
    },
    {
     "data": {
      "text/html": [
       "<div>\n",
       "<style scoped>\n",
       "    .dataframe tbody tr th:only-of-type {\n",
       "        vertical-align: middle;\n",
       "    }\n",
       "\n",
       "    .dataframe tbody tr th {\n",
       "        vertical-align: top;\n",
       "    }\n",
       "\n",
       "    .dataframe thead th {\n",
       "        text-align: right;\n",
       "    }\n",
       "</style>\n",
       "<table border=\"1\" class=\"dataframe\">\n",
       "  <thead>\n",
       "    <tr style=\"text-align: right;\">\n",
       "      <th></th>\n",
       "      <th>text</th>\n",
       "      <th>title</th>\n",
       "      <th>our rating</th>\n",
       "    </tr>\n",
       "  </thead>\n",
       "  <tbody>\n",
       "    <tr>\n",
       "      <th>count</th>\n",
       "      <td>1334</td>\n",
       "      <td>1324</td>\n",
       "      <td>1334</td>\n",
       "    </tr>\n",
       "    <tr>\n",
       "      <th>unique</th>\n",
       "      <td>1323</td>\n",
       "      <td>1220</td>\n",
       "      <td>3</td>\n",
       "    </tr>\n",
       "    <tr>\n",
       "      <th>top</th>\n",
       "      <td>ADVERTISEMENT The fire that gutted a flank of ...</td>\n",
       "      <td>Marine Corps. Rebukes Pelosi: “WE DON’T WORK F...</td>\n",
       "      <td>false</td>\n",
       "    </tr>\n",
       "    <tr>\n",
       "      <th>freq</th>\n",
       "      <td>2</td>\n",
       "      <td>4</td>\n",
       "      <td>801</td>\n",
       "    </tr>\n",
       "  </tbody>\n",
       "</table>\n",
       "</div>"
      ],
      "text/plain": [
       "                                                     text  \\\n",
       "count                                                1334   \n",
       "unique                                               1323   \n",
       "top     ADVERTISEMENT The fire that gutted a flank of ...   \n",
       "freq                                                    2   \n",
       "\n",
       "                                                    title our rating  \n",
       "count                                                1324       1334  \n",
       "unique                                               1220          3  \n",
       "top     Marine Corps. Rebukes Pelosi: “WE DON’T WORK F...      false  \n",
       "freq                                                    4        801  "
      ]
     },
     "metadata": {},
     "output_type": "display_data"
    }
   ],
   "source": [
    "Init_train = pd.read_csv('./Data_brut/HAI817_Projet_train.csv', sep=\",\")\n",
    "Init_test = pd.read_csv('./Data_brut/HAI817_Projet_test.csv', sep=\",\")\n",
    "data_brute = pd.concat([Init_train,Init_test], ignore_index = True)\n",
    "\n",
    "print(\"data_brute avant drop de duplicate : \\n\", data_brute['our rating'].value_counts(),'\\n')\n",
    "data_brute = data_brute.drop_duplicates()\n",
    "print(\"data après drop de duplicate : \\n\", data_brute['our rating'].value_counts(),'\\n')\n",
    "\n",
    "\n",
    "data_to_test = data_brute[~data_brute['our rating'].isin(['mixture'])]\n",
    "data_to_test = data_to_test.drop(columns=['public_id', 'ID'])\n",
    "print(\"data_to_test avant drop duplicates : \\n\", data_to_test['our rating'].value_counts(),'\\n')\n",
    "data_to_test = data_to_test.drop_duplicates()\n",
    "print(\"datato_test après drop duplicates : \\n\", data_to_test['our rating'].value_counts(),'\\n')\n",
    "\n",
    "display(data_to_test.describe())"
   ]
  },
  {
   "cell_type": "markdown",
   "metadata": {
    "id": "0qNaW2sbJM5j"
   },
   "source": [
    "        -> Initialisation des dataframes équilibrage "
   ]
  },
  {
   "cell_type": "markdown",
   "metadata": {
    "id": "RmM8U4FdJM5j"
   },
   "source": [
    "Lors de la visualisation les différentes données, nous nous sommes rendus compte que les données n'était pas du tout bien isolés je décide donc de tester tout les modèles en prenant différente classification : Texte, Titre, Texte+Titre pour ensuite sélectionner le meilleur de classification que je souhaite et le meilleur classifieur.\n",
    "\n",
    "Je crée donc 3 dataframe correspondant à chaque type de classification.  \n",
    "J'équilibre les dataframes en fonctions du nombre de other en appliquant la formule suivante : \n",
    "    nombre_de_True  = len(Other)/2\n",
    "    nombre_de_False = len(Other)/2\n",
    "    nombre_de_Other = Nombre de other dans le jeu de données d'origine \n",
    "Au regard du faible nombre d'other dans le jeu de données nous décidons d'opérer un oversampling d'environ 20% sur les données classées others"
   ]
  },
  {
   "cell_type": "code",
   "execution_count": null,
   "metadata": {
    "id": "GYNVn23iJM5k"
   },
   "outputs": [],
   "source": [
    "from pandas import DataFrame\n",
    "\n",
    "\n",
    "def initDataToTest(df : DataFrame, columnToDrop : list[str], columnToCount : str, valueToMerge : list[str], size : int, valueOfReplacement : str) :\n",
    "    data = df.copy()\n",
    "    data = data.drop(columns=columnToDrop)\n",
    "    print(\"data\", valueToMerge ,\"avant drop duplicates : \\n\", data[columnToCount].value_counts(),'\\n')\n",
    "    data = data.drop_duplicates()\n",
    "    print(\"data\", valueToMerge ,\"après drop duplicates : \\n\", data[columnToCount].value_counts(),'\\n')\n",
    "    if size > 0 :\n",
    "        data = balanceSample(data,size,valueToMerge)\n",
    "    if valueOfReplacement is not None : \n",
    "        data = data.replace(valueToMerge, valueOfReplacement)\n",
    "    return data"
   ]
  },
  {
   "cell_type": "markdown",
   "metadata": {
    "id": "11mrO_iyJM5l"
   },
   "source": [
    "❗IMPORTANT❗\n",
    "Ceci est le code permettant de créer des jeux de données équilibrés, si vous souhaitez les recréers il faut recharger la cellule attention toutefois cela risque d'écraser les anciens dataframes si vous les enregistrer par la suite et faussera les résultats des classifieurs"
   ]
  },
  {
   "cell_type": "code",
   "execution_count": null,
   "metadata": {
    "id": "hUAuKIFjJM5m",
    "outputId": "b5950584-7e38-4f34-d534-bb5469932014"
   },
   "outputs": [
    {
     "name": "stdout",
     "output_type": "stream",
     "text": [
      "dataFrame text only :\n",
      "data ['other'] avant drop duplicates : \n",
      " our rating\n",
      "other         126\n",
      "dtype: int64 \n",
      "\n",
      "data ['other'] après drop duplicates : \n",
      " our rating\n",
      "other         126\n",
      "dtype: int64 \n",
      "\n",
      "data ['true', 'false'] avant drop duplicates : \n",
      " our rating\n",
      "false         801\n",
      "true          407\n",
      "other         126\n",
      "dtype: int64 \n",
      "\n",
      "data ['true', 'false'] après drop duplicates : \n",
      " our rating\n",
      "false         800\n",
      "true          400\n",
      "other         126\n",
      "dtype: int64 \n",
      "\n",
      "dataFrame title only :\n",
      "data ['other'] avant drop duplicates : \n",
      " our rating\n",
      "other         126\n",
      "dtype: int64 \n",
      "\n",
      "data ['other'] après drop duplicates : \n",
      " our rating\n",
      "other         125\n",
      "dtype: int64 \n",
      "\n",
      "data ['true', 'false'] avant drop duplicates : \n",
      " our rating\n",
      "false         801\n",
      "true          407\n",
      "other         126\n",
      "dtype: int64 \n",
      "\n",
      "data ['true', 'false'] après drop duplicates : \n",
      " our rating\n",
      "false         702\n",
      "true          400\n",
      "other         125\n",
      "dtype: int64 \n",
      "\n",
      "dataFrame text_title concatenate only :\n",
      "data ['other'] avant drop duplicates : \n",
      " our rating\n",
      "other         126\n",
      "dtype: int64 \n",
      "\n",
      "data ['other'] après drop duplicates : \n",
      " our rating\n",
      "other         126\n",
      "dtype: int64 \n",
      "\n",
      "data ['true', 'false'] avant drop duplicates : \n",
      " our rating\n",
      "false         801\n",
      "true          407\n",
      "other         126\n",
      "dtype: int64 \n",
      "\n",
      "data ['true', 'false'] après drop duplicates : \n",
      " our rating\n",
      "false         801\n",
      "true          407\n",
      "other         126\n",
      "dtype: int64 \n",
      "\n"
     ]
    }
   ],
   "source": [
    "\"\"\"\n",
    "print(\"dataFrame text only :\")\n",
    "df_text = pd.concat([initDataToTest(data_to_test[data_to_test['our rating'] == 'other'],['title'], ['our rating'], ['other'], 0, None),\n",
    "                             initDataToTest(data_to_test,['title'], ['our rating'], ['true', 'false'], 75,'true/false')])\n",
    "df_text = balanceSample(df_text, 150, ['true/false', 'other'])\n",
    "X_train_text  = df_text['text']\n",
    "Y_train_text = df_text['our rating']\n",
    "\n",
    "\n",
    "print(\"dataFrame title only :\")\n",
    "df_title = pd.concat([initDataToTest(data_to_test[data_to_test['our rating'] == 'other'],['text'], ['our rating'], ['other'], 0, None),\n",
    "                             initDataToTest(data_to_test,['text'], ['our rating'], ['true', 'false'], 75,'true/false')])\n",
    "df_title = balanceSample(df_title, 150, ['true/false', 'other'])\n",
    "X_train_title = df_title['title']\n",
    "Y_train_title = df_title['our rating']\n",
    "\n",
    "\n",
    "print(\"dataFrame text_title concatenate only :\")\n",
    "df_text_titre_concat = data_to_test.copy()\n",
    "df_text_titre_concat = df_text_titre_concat.fillna('')\n",
    "df_text_titre_concat['title_text'] = df_text_titre_concat['title'].str.cat(df_text_titre_concat['text'], sep=' ')\n",
    "df_text_and_title = pd.concat([initDataToTest(df_text_titre_concat[df_text_titre_concat['our rating'] == 'other'],['text', 'title'], ['our rating'], ['other'], 0, None),\n",
    "                             initDataToTest(df_text_titre_concat,['text', 'title'], ['our rating'], ['true', 'false'], 75,'true/false')])\n",
    "df_text_and_title = balanceSample(df_text_and_title, 150, ['true/false', 'other'])\n",
    "X_train_text_and_title = df_text_and_title['title_text']\n",
    "Y_train_text_and_title = df_text_and_title['our rating']\n",
    "\"\"\"\n"
   ]
  },
  {
   "cell_type": "markdown",
   "metadata": {
    "id": "rtbnQPDbJM5n"
   },
   "source": [
    "    -> Enregistrement DataFrame à lancer seulement si de nouveau jeux de données sont crées"
   ]
  },
  {
   "cell_type": "code",
   "execution_count": null,
   "metadata": {
    "id": "LMnomFN1JM5o"
   },
   "outputs": [],
   "source": [
    "df_text.to_csv(\"./Data_equilibre/True_And_False_VS_Other/balanced_df_TFO_text.csv\")\n",
    "df_title.to_csv(\"./Data_equilibre/True_And_False_VS_Other/balanced_df_TFO_title.csv\")\n",
    "df_text_and_title.to_csv(\"./Data_equilibre/True_And_False_VS_Other/balanced_df_TFO_text_and_title.csv\")"
   ]
  },
  {
   "cell_type": "markdown",
   "metadata": {
    "id": "Lpb312atJM5o"
   },
   "source": [
    "        -> Chargement des jeux de données équilibrés"
   ]
  },
  {
   "cell_type": "code",
   "execution_count": null,
   "metadata": {
    "id": "H1jwMiq0JM5p"
   },
   "outputs": [],
   "source": [
    "df_text = pd.read_csv(\"./Data_equilibre/True_And_False_VS_Other/balanced_df_TFO_text.csv\")\n",
    "X_train_text  = df_text['text']\n",
    "Y_train_text = df_text['our rating']\n",
    "df_title = pd.read_csv(\"./Data_equilibre/True_And_False_VS_Other/balanced_df_TFO_title.csv\")\n",
    "X_train_title = df_title['title']\n",
    "Y_train_title = df_title['our rating']\n",
    "df_text_and_title = pd.read_csv(\"./Data_equilibre/True_And_False_VS_Other/balanced_df_TFO_text_and_title.csv\")\n",
    "X_train_text_and_title = df_text_and_title['title_text']\n",
    "Y_train_text_and_title = df_text_and_title['our rating']"
   ]
  },
  {
   "cell_type": "markdown",
   "metadata": {
    "id": "VIOd0L_TJM5p"
   },
   "source": [
    "        -> Première prédiction des modèles \n",
    "\n",
    "Cela permet de partir sur une première estimation pour savoir lesquels sont les plus performants puis nous allons vérifier cela après les différents test"
   ]
  },
  {
   "cell_type": "code",
   "execution_count": null,
   "metadata": {
    "id": "wNGlsN0UJM5p",
    "outputId": "ec55f23f-8751-4439-aaea-3cfa2c61ec69"
   },
   "outputs": [
    {
     "name": "stdout",
     "output_type": "stream",
     "text": [
      "Fonction Text\n"
     ]
    },
    {
     "name": "stderr",
     "output_type": "stream",
     "text": [
      "[nltk_data] Downloading package omw-1.4 to\n",
      "[nltk_data]     C:\\Users\\33683\\AppData\\Roaming\\nltk_data...\n",
      "[nltk_data]   Package omw-1.4 is already up-to-date!\n"
     ]
    },
    {
     "name": "stdout",
     "output_type": "stream",
     "text": [
      "Evaluation de  MultinomialNB\n",
      "MultinomialNB : 0.660 (0.095) in 0.534 s\n",
      "Evaluation de  LR\n",
      "LR : 0.677 (0.083) in 2.817 s\n",
      "Evaluation de  KNN\n",
      "KNN : 0.557 (0.109) in 1.219 s\n",
      "Evaluation de  CART\n",
      "CART : 0.550 (0.079) in 8.088 s\n",
      "Evaluation de  RF\n",
      "RF : 0.643 (0.086) in 12.640 s\n",
      "Evaluation de  SVM\n",
      "SVM : 0.690 (0.045) in 308.819 s\n",
      "\n",
      "Le meilleur resultat : \n",
      "Classifier :  SVM  accuracy : 0.690  (0.045)  en 308.819   s\n",
      "\n",
      "Tous les résultats : \n",
      "\n",
      "Classifier :  SVM  accuracy : 0.690  (0.045)  en 308.819   s\n",
      "Classifier :  LR  accuracy : 0.677  (0.083)  en 2.817   s\n",
      "Classifier :  MultinomialNB  accuracy : 0.660  (0.095)  en 0.534   s\n",
      "Classifier :  RF  accuracy : 0.643  (0.086)  en 12.640   s\n",
      "Classifier :  KNN  accuracy : 0.557  (0.109)  en 1.219   s\n",
      "Classifier :  CART  accuracy : 0.550  (0.079)  en 8.088   s\n"
     ]
    },
    {
     "data": {
      "image/png": "[encoded data removed]",
      "text/plain": [
       "<Figure size 640x480 with 1 Axes>"
      ]
     },
     "metadata": {},
     "output_type": "display_data"
    }
   ],
   "source": [
    "print(\"Fonction Text\")\n",
    "testAllModel(X_train_text,Y_train_text,5)\n",
    "\n",
    "\n"
   ]
  },
  {
   "cell_type": "code",
   "execution_count": null,
   "metadata": {
    "id": "QyX0fR7wJM5q",
    "outputId": "b021eec1-93cb-414f-926a-7282e1b8aeb4"
   },
   "outputs": [
    {
     "name": "stdout",
     "output_type": "stream",
     "text": [
      "Fonction Titre\n",
      "Evaluation de  MultinomialNB\n"
     ]
    },
    {
     "name": "stderr",
     "output_type": "stream",
     "text": [
      "[nltk_data] Downloading package omw-1.4 to\n",
      "[nltk_data]     C:\\Users\\33683\\AppData\\Roaming\\nltk_data...\n",
      "[nltk_data]   Package omw-1.4 is already up-to-date!\n"
     ]
    },
    {
     "name": "stdout",
     "output_type": "stream",
     "text": [
      "MultinomialNB : 0.587 (0.107) in 0.147 s\n",
      "Evaluation de  LR\n",
      "LR : 0.617 (0.101) in 0.443 s\n",
      "Evaluation de  KNN\n",
      "KNN : 0.560 (0.071) in 0.367 s\n",
      "Evaluation de  CART\n",
      "CART : 0.627 (0.071) in 1.949 s\n",
      "Evaluation de  RF\n",
      "RF : 0.623 (0.062) in 7.689 s\n",
      "Evaluation de  SVM\n",
      "SVM : 0.667 (0.045) in 1.894 s\n",
      "\n",
      "Le meilleur resultat : \n",
      "Classifier :  SVM  accuracy : 0.667  (0.045)  en 1.894   s\n",
      "\n",
      "Tous les résultats : \n",
      "\n",
      "Classifier :  SVM  accuracy : 0.667  (0.045)  en 1.894   s\n",
      "Classifier :  CART  accuracy : 0.627  (0.071)  en 1.949   s\n",
      "Classifier :  RF  accuracy : 0.623  (0.062)  en 7.689   s\n",
      "Classifier :  LR  accuracy : 0.617  (0.101)  en 0.443   s\n",
      "Classifier :  MultinomialNB  accuracy : 0.587  (0.107)  en 0.147   s\n",
      "Classifier :  KNN  accuracy : 0.560  (0.071)  en 0.367   s\n"
     ]
    },
    {
     "data": {
      "image/png": "[encoded data removed]",
      "text/plain": [
       "<Figure size 640x480 with 1 Axes>"
      ]
     },
     "metadata": {},
     "output_type": "display_data"
    }
   ],
   "source": [
    "print(\"Fonction Titre\")\n",
    "testAllModel(X_train_title,Y_train_title,5)"
   ]
  },
  {
   "cell_type": "code",
   "execution_count": null,
   "metadata": {
    "id": "HQacRwKTJM5q",
    "outputId": "533674e5-14be-4602-db68-049947c2aa44"
   },
   "outputs": [
    {
     "name": "stdout",
     "output_type": "stream",
     "text": [
      "Fonction titre et text \n"
     ]
    },
    {
     "name": "stderr",
     "output_type": "stream",
     "text": [
      "[nltk_data] Downloading package omw-1.4 to\n",
      "[nltk_data]     C:\\Users\\33683\\AppData\\Roaming\\nltk_data...\n",
      "[nltk_data]   Package omw-1.4 is already up-to-date!\n"
     ]
    },
    {
     "name": "stdout",
     "output_type": "stream",
     "text": [
      "Evaluation de  MultinomialNB\n",
      "MultinomialNB : 0.627 (0.090) in 0.522 s\n",
      "Evaluation de  LR\n",
      "LR : 0.623 (0.099) in 2.528 s\n",
      "Evaluation de  KNN\n",
      "KNN : 0.610 (0.084) in 0.923 s\n",
      "Evaluation de  CART\n",
      "CART : 0.577 (0.076) in 8.669 s\n",
      "Evaluation de  RF\n",
      "RF : 0.660 (0.059) in 12.323 s\n",
      "Evaluation de  SVM\n",
      "SVM : 0.640 (0.080) in 305.789 s\n",
      "\n",
      "Le meilleur resultat : \n",
      "Classifier :  RF  accuracy : 0.660  (0.059)  en 12.323   s\n",
      "\n",
      "Tous les résultats : \n",
      "\n",
      "Classifier :  RF  accuracy : 0.660  (0.059)  en 12.323   s\n",
      "Classifier :  SVM  accuracy : 0.640  (0.080)  en 305.789   s\n",
      "Classifier :  MultinomialNB  accuracy : 0.627  (0.090)  en 0.522   s\n",
      "Classifier :  LR  accuracy : 0.623  (0.099)  en 2.528   s\n",
      "Classifier :  KNN  accuracy : 0.610  (0.084)  en 0.923   s\n",
      "Classifier :  CART  accuracy : 0.577  (0.076)  en 8.669   s\n"
     ]
    },
    {
     "data": {
      "image/png": "[encoded data removed]",
      "text/plain": [
       "<Figure size 640x480 with 1 Axes>"
      ]
     },
     "metadata": {},
     "output_type": "display_data"
    }
   ],
   "source": [
    "print(\"Fonction titre et text \")\n",
    "testAllModel(X_train_text_and_title, Y_train_text_and_title,5)"
   ]
  },
  {
   "cell_type": "markdown",
   "metadata": {
    "id": "2GB8X2k9JM5r"
   },
   "source": [
    "_____________________________________________________________________________________________________\n",
    "_____________________________________________________________________________________________________\n",
    "                    \n",
    "## 1. Test des Classifieurs avec les données Brutes\n",
    "_____________________________________________________________________________________________________\n",
    "_____________________________________________________________________________________________________"
   ]
  },
  {
   "cell_type": "markdown",
   "metadata": {
    "id": "ax3uyQo-JM5r"
   },
   "source": [
    "        1.1 Test SVC"
   ]
  },
  {
   "cell_type": "markdown",
   "metadata": {
    "id": "P8fWd4xdJM5s"
   },
   "source": [
    "        ---> Texte"
   ]
  },
  {
   "cell_type": "code",
   "execution_count": null,
   "metadata": {
    "id": "AWGQNARCJM5s",
    "outputId": "9305fa8c-78f9-4c0e-c806-bad89c9ef68e"
   },
   "outputs": [
    {
     "name": "stdout",
     "output_type": "stream",
     "text": [
      "Test SVC Text\n",
      "Application de gridsearch ...\n",
      "pipeline : ['cleaner', 'tfidf', 'svm']\n",
      "parameters :\n",
      "{'cleaner__getstemmer': [True, False], 'cleaner__removedigit': [True, False], 'cleaner__getlemmatisation': [True, False], 'tfidf__stop_words': ['english', None], 'tfidf__lowercase': [True, False], 'svm__C': [0.001, 0.01, 0.1, 1, 10], 'svm__gamma': [0.001, 0.01, 0.1, 1], 'svm__kernel': ['linear', 'rbf', 'poly', 'sigmoid']}\n",
      "Fitting 5 folds for each of 2560 candidates, totalling 12800 fits\n",
      "réalisé en  6501.005 s\n",
      "Meilleur résultat : 0.703\n",
      "Ensemble des meilleurs paramètres :\n",
      "\tcleaner__getlemmatisation: True\n",
      "\tcleaner__getstemmer: False\n",
      "\tcleaner__removedigit: True\n",
      "\tsvm__C: 10\n",
      "\tsvm__gamma: 1\n",
      "\tsvm__kernel: 'rbf'\n",
      "\ttfidf__lowercase: False\n",
      "\ttfidf__stop_words: None\n",
      "\n",
      "Les premiers résultats : \n",
      "      cleaner__getlemmatisation  cleaner__getstemmer  cleaner__removedigit  \\\n",
      "951                       True                False                  True   \n",
      "620                       True                 True                 False   \n",
      "544                       True                 True                 False   \n",
      "528                       True                 True                 False   \n",
      "514                       True                 True                 False   \n",
      "\n",
      "     svm__C  svm__gamma svm__kernel  tfidf__lowercase tfidf__stop_words  \\\n",
      "951    10.0       1.000         rbf             False              None   \n",
      "620    10.0       0.100     sigmoid              True           english   \n",
      "544     1.0       0.100      linear              True           english   \n",
      "528     1.0       0.010      linear              True           english   \n",
      "514     1.0       0.001      linear             False           english   \n",
      "\n",
      "     accuracy  \n",
      "951  0.703333  \n",
      "620  0.700000  \n",
      "544  0.700000  \n",
      "528  0.700000  \n",
      "514  0.700000  \n"
     ]
    }
   ],
   "source": [
    "print(\"Test SVC Text\")\n",
    "testSVC(X_train_text,Y_train_text, 5,'/True_And_False_VS_Other/Texte/data_svc_TFO_Texte')"
   ]
  },
  {
   "cell_type": "code",
   "execution_count": null,
   "metadata": {
    "id": "y10szLF8JM5s",
    "outputId": "2a861bc4-a6e5-4428-ed3f-a8fd28fcc2ed"
   },
   "outputs": [
    {
     "name": "stdout",
     "output_type": "stream",
     "text": [
      "Sauvegarde du modèle dans  ./Modele/TFO_svm_not_DE.pkl\n",
      "Chargement du modèle \n",
      "\n",
      "Pipeline(steps=[('cleaner',\n",
      "                 TextNormalizer(getlemmatisation=True, removedigit=True)),\n",
      "                ('tfidf', TfidfVectorizer(lowercase=False)),\n",
      "                ('svm', SVC(C=10, gamma=1, probability=True))])\n",
      "Accuracy : 0.567\n",
      "Classification Report\n",
      "              precision    recall  f1-score   support\n",
      "\n",
      "       other    0.57143   0.53333   0.55172        15\n",
      "  true/false    0.56250   0.60000   0.58065        15\n",
      "\n",
      "    accuracy                        0.56667        30\n",
      "   macro avg    0.56696   0.56667   0.56618        30\n",
      "weighted avg    0.56696   0.56667   0.56618        30\n",
      "\n"
     ]
    },
    {
     "data": {
      "image/png": "[encoded data removed]",
      "text/plain": [
       "<Figure size 800x500 with 2 Axes>"
      ]
     },
     "metadata": {},
     "output_type": "display_data"
    }
   ],
   "source": [
    "from sklearn.model_selection import train_test_split\n",
    "import pickle\n",
    "# Création d'un jeu d'apprentissage et de test\n",
    "trainsize=0.9 # 90% pour le jeu d'apprentissage, il reste 10% du jeu de données pour\n",
    "testsize= 0.1\n",
    "seed=30\n",
    "\n",
    "train_text,test_text,train_note,test_note=train_test_split(X_train_text,Y_train_text, train_size=trainsize,random_state=seed,test_size=testsize,stratify=Y_train_text)\n",
    "\n",
    "pipeline=Pipeline([\n",
    "    (\"cleaner\", TextNormalizer(removedigit=True, getlemmatisation=True, getstemmer=False)),\n",
    "    (\"tfidf\", TfidfVectorizer(lowercase=False, stop_words=None)),\n",
    "    ('svm', SVC(C=10, gamma=1, kernel='rbf',probability=True))\n",
    "])\n",
    "pipeline.fit(train_text,train_note)\n",
    "filename='./Modele/True_And_False_VS_Other/TFO_svm_not_DE.pkl'\n",
    "print(\"Sauvegarde du modèle dans \", filename)\n",
    "pickle.dump(pipeline, open(filename, \"wb\"))\n",
    "\n",
    "\n",
    "print (\"Chargement du modèle \\n\")\n",
    "# le chargement se fait via la fonction load\n",
    "clf_loaded = pickle.load(open(filename, 'rb'))\n",
    "# affichage du modèle sauvegardé\n",
    "print (clf_loaded)\n",
    "\n",
    "\n",
    "# test  avec les données qu'il a apprise c'est parfait woahhha c'est beau\n",
    "y_pred = clf_loaded.predict(test_text)\n",
    "# autres mesures et matrice de confusion\n",
    "MyshowAllScores(test_note,y_pred)"
   ]
  },
  {
   "cell_type": "markdown",
   "metadata": {
    "id": "FFHOFJ4hJM5t"
   },
   "source": [
    "        ---> Titre"
   ]
  },
  {
   "cell_type": "code",
   "execution_count": null,
   "metadata": {
    "id": "_ntgkz1UJM5u",
    "outputId": "b13a127c-4c3a-4a43-a16b-38c578b807ff"
   },
   "outputs": [
    {
     "name": "stdout",
     "output_type": "stream",
     "text": [
      "Test SVC Titre\n",
      "Application de gridsearch ...\n",
      "pipeline : ['cleaner', 'tfidf', 'svm']\n",
      "parameters :\n",
      "{'cleaner__getstemmer': [True, False], 'cleaner__removedigit': [True, False], 'cleaner__getlemmatisation': [True, False], 'tfidf__stop_words': ['english', None], 'tfidf__lowercase': [True, False], 'svm__C': [0.001, 0.01, 0.1, 1, 10], 'svm__gamma': [0.001, 0.01, 0.1, 1], 'svm__kernel': ['linear', 'rbf', 'poly', 'sigmoid']}\n",
      "Fitting 5 folds for each of 2560 candidates, totalling 12800 fits\n",
      "réalisé en  222.986 s\n",
      "Meilleur résultat : 0.660\n",
      "Ensemble des meilleurs paramètres :\n",
      "\tcleaner__getlemmatisation: True\n",
      "\tcleaner__getstemmer: False\n",
      "\tcleaner__removedigit: False\n",
      "\tsvm__C: 0.001\n",
      "\tsvm__gamma: 0.001\n",
      "\tsvm__kernel: 'poly'\n",
      "\ttfidf__lowercase: True\n",
      "\ttfidf__stop_words: 'english'\n",
      "\n",
      "Les premiers résultats : \n",
      "       cleaner__getlemmatisation  cleaner__getstemmer  cleaner__removedigit  \\\n",
      "2296                      False                False                 False   \n",
      "2360                      False                False                 False   \n",
      "2200                      False                False                  True   \n",
      "2536                      False                False                 False   \n",
      "1112                       True                False                 False   \n",
      "\n",
      "      svm__C  svm__gamma svm__kernel  tfidf__lowercase tfidf__stop_words  \\\n",
      "2296   0.001        1.00        poly              True           english   \n",
      "2360   0.010        1.00        poly              True           english   \n",
      "2200  10.000        0.01        poly              True           english   \n",
      "2536  10.000        0.10        poly              True           english   \n",
      "1112   0.100        0.01        poly              True           english   \n",
      "\n",
      "      accuracy  \n",
      "2296      0.66  \n",
      "2360      0.66  \n",
      "2200      0.66  \n",
      "2536      0.66  \n",
      "1112      0.66  \n"
     ]
    }
   ],
   "source": [
    "print(\"Test SVC Titre\")\n",
    "testSVC(X_train_title,Y_train_title, 5, '/True_And_False_VS_Other/Titre/data_svc_TFO_Titre')"
   ]
  },
  {
   "cell_type": "markdown",
   "metadata": {
    "id": "VF3mU-hyJM5u"
   },
   "source": [
    "        ---> Texte et Titre"
   ]
  },
  {
   "cell_type": "code",
   "execution_count": null,
   "metadata": {
    "id": "iHm1bXllJM5v",
    "outputId": "062984b4-7b79-4508-b774-32f298846a62"
   },
   "outputs": [
    {
     "name": "stdout",
     "output_type": "stream",
     "text": [
      "Test SVC Text and Titre\n",
      "Application de gridsearch ...\n",
      "pipeline : ['cleaner', 'tfidf', 'svm']\n",
      "parameters :\n",
      "{'cleaner__getstemmer': [True, False], 'cleaner__removedigit': [True, False], 'cleaner__getlemmatisation': [True, False], 'tfidf__stop_words': ['english', None], 'tfidf__lowercase': [True, False], 'svm__C': [0.001, 0.01, 0.1, 1, 10], 'svm__gamma': [0.001, 0.01, 0.1, 1], 'svm__kernel': ['linear', 'rbf', 'poly', 'sigmoid']}\n",
      "Fitting 5 folds for each of 2560 candidates, totalling 12800 fits\n",
      "réalisé en  6559.843 s\n",
      "Meilleur résultat : 0.673\n",
      "Ensemble des meilleurs paramètres :\n",
      "\tcleaner__getlemmatisation: True\n",
      "\tcleaner__getstemmer: False\n",
      "\tcleaner__removedigit: False\n",
      "\tsvm__C: 1\n",
      "\tsvm__gamma: 0.001\n",
      "\tsvm__kernel: 'linear'\n",
      "\ttfidf__lowercase: True\n",
      "\ttfidf__stop_words: None\n",
      "\n",
      "Les premiers résultats : \n",
      "       cleaner__getlemmatisation  cleaner__getstemmer  cleaner__removedigit  \\\n",
      "1201                       True                False                 False   \n",
      "1153                       True                False                 False   \n",
      "1261                       True                False                 False   \n",
      "1169                       True                False                 False   \n",
      "1185                       True                False                 False   \n",
      "\n",
      "      svm__C  svm__gamma svm__kernel  tfidf__lowercase tfidf__stop_words  \\\n",
      "1201     1.0       1.000      linear              True              None   \n",
      "1153     1.0       0.001      linear              True              None   \n",
      "1261    10.0       0.100     sigmoid              True              None   \n",
      "1169     1.0       0.010      linear              True              None   \n",
      "1185     1.0       0.100      linear              True              None   \n",
      "\n",
      "      accuracy  \n",
      "1201  0.673333  \n",
      "1153  0.673333  \n",
      "1261  0.673333  \n",
      "1169  0.673333  \n",
      "1185  0.673333  \n"
     ]
    }
   ],
   "source": [
    "print(\"Test SVC Text and Titre\")\n",
    "testSVC(X_train_text_and_title,Y_train_text_and_title, 5,'/True_And_False_VS_Other/Titre_And_Texte/data_svc_TFO_Titre_And_Texte')"
   ]
  },
  {
   "cell_type": "markdown",
   "metadata": {
    "id": "bTnvrRbBJM5v"
   },
   "source": [
    "        1.2 Test RFC"
   ]
  },
  {
   "cell_type": "markdown",
   "metadata": {
    "id": "onW81wtaJM5v"
   },
   "source": [
    "        ---> Texte"
   ]
  },
  {
   "cell_type": "code",
   "execution_count": null,
   "metadata": {
    "id": "_llxkrYbJM5w",
    "outputId": "c8956606-377a-43d8-fb78-70abd6ceb517"
   },
   "outputs": [
    {
     "name": "stdout",
     "output_type": "stream",
     "text": [
      "Test RFC Text\n",
      "Application de gridsearch ...\n",
      "pipeline : ['cleaner', 'tfidf', 'rfc']\n",
      "parameters :\n",
      "{'cleaner__getstemmer': [True, False], 'cleaner__removedigit': [True, False], 'cleaner__getlemmatisation': [True, False], 'tfidf__stop_words': ['english', None], 'tfidf__lowercase': [True, False], 'rfc__n_estimators': [500, 1200], 'rfc__max_depth': [25, 30], 'rfc__min_samples_split': [5, 10, 15], 'rfc__min_samples_leaf': [1, 2]}\n",
      "Fitting 5 folds for each of 768 candidates, totalling 3840 fits\n",
      "réalisé en  3044.708 s\n",
      "Meilleur résultat : 0.720\n",
      "Ensemble des meilleurs paramètres :\n",
      "\tcleaner__getlemmatisation: True\n",
      "\tcleaner__getstemmer: True\n",
      "\tcleaner__removedigit: False\n",
      "\trfc__max_depth: 30\n",
      "\trfc__min_samples_leaf: 2\n",
      "\trfc__min_samples_split: 10\n",
      "\trfc__n_estimators: 1200\n",
      "\ttfidf__lowercase: True\n",
      "\ttfidf__stop_words: None\n",
      "\n",
      "Les premiers résultats : \n",
      "      cleaner__getlemmatisation  cleaner__getstemmer  cleaner__removedigit  \\\n",
      "181                       True                 True                 False   \n",
      "141                       True                 True                 False   \n",
      "507                      False                 True                 False   \n",
      "547                      False                 True                 False   \n",
      "541                      False                 True                 False   \n",
      "\n",
      "     rfc__max_depth  rfc__min_samples_leaf  rfc__min_samples_split  \\\n",
      "181              30                      2                      10   \n",
      "141              25                      2                      15   \n",
      "507              25                      2                       5   \n",
      "547              30                      1                      15   \n",
      "541              30                      1                      10   \n",
      "\n",
      "     rfc__n_estimators  tfidf__lowercase tfidf__stop_words  accuracy  \n",
      "181               1200              True              None  0.720000  \n",
      "141               1200              True              None  0.716667  \n",
      "507                500             False              None  0.713333  \n",
      "547                500             False              None  0.710000  \n",
      "541               1200              True              None  0.710000  \n"
     ]
    }
   ],
   "source": [
    "print(\"Test RFC Text\")\n",
    "testRFC(X_train_text,Y_train_text,5,'/True_And_False_VS_Other/Texte/data_RFC_TFO_Texte')"
   ]
  },
  {
   "cell_type": "code",
   "execution_count": null,
   "metadata": {
    "id": "4P33I78JJM5w",
    "outputId": "46c56969-b4dc-42dd-aa0b-73f891f3ddf9"
   },
   "outputs": [
    {
     "name": "stdout",
     "output_type": "stream",
     "text": [
      "Sauvegarde du modèle dans  ./Modele/True_And_False_VS_Other/TFO_RFC_not_DE.pkl.pkl\n",
      "Chargement du modèle \n",
      "\n",
      "Pipeline(steps=[('cleaner',\n",
      "                 TextNormalizer(getlemmatisation=True, getstemmer=True)),\n",
      "                ('tfidf', TfidfVectorizer(stop_words='english')),\n",
      "                ('rfc',\n",
      "                 RandomForestClassifier(max_depth=30, min_samples_leaf=2,\n",
      "                                        min_samples_split=10,\n",
      "                                        n_estimators=1200))])\n",
      "Accuracy : 0.633\n",
      "Classification Report\n",
      "              precision    recall  f1-score   support\n",
      "\n",
      "       other    0.61111   0.73333   0.66667        15\n",
      "  true/false    0.66667   0.53333   0.59259        15\n",
      "\n",
      "    accuracy                        0.63333        30\n",
      "   macro avg    0.63889   0.63333   0.62963        30\n",
      "weighted avg    0.63889   0.63333   0.62963        30\n",
      "\n"
     ]
    },
    {
     "data": {
      "image/png": "[encoded data removed]",
      "text/plain": [
       "<Figure size 800x500 with 2 Axes>"
      ]
     },
     "metadata": {},
     "output_type": "display_data"
    }
   ],
   "source": [
    "import pickle\n",
    "from sklearn.ensemble import RandomForestClassifier\n",
    "from sklearn.model_selection import train_test_split\n",
    "# Création d'un jeu d'apprentissage et de test\n",
    "trainsize=0.9 # 90% pour le jeu d'apprentissage, il reste 10% du jeu de données pour le test\n",
    "testsize= 0.1\n",
    "seed=30\n",
    "train_text,test_text,train_note,test_note=train_test_split(X_train_text,Y_train_text, train_size=trainsize,random_state=seed,test_size=testsize,stratify=Y_train_text)\n",
    "\n",
    "pipeline=Pipeline([\n",
    "    (\"cleaner\", TextNormalizer(removedigit=False, getlemmatisation=True, getstemmer=True)),\n",
    "    (\"tfidf\", TfidfVectorizer(lowercase=True, stop_words='english')),\n",
    "    ('rfc', RandomForestClassifier(max_depth=30,min_samples_leaf=2, min_samples_split=10, n_estimators=1200))\n",
    "])\n",
    "pipeline.fit(train_text,train_note)\n",
    "filename='./Modele/True_And_False_VS_Other/TFO_RFC_not_DE.pkl.pkl'\n",
    "print(\"Sauvegarde du modèle dans \", filename)\n",
    "pickle.dump(pipeline, open(filename, \"wb\"))\n",
    "\n",
    "\n",
    "\n",
    "print (\"Chargement du modèle \\n\")\n",
    "# le chargement se fait via la fonction load\n",
    "clf_loaded = pickle.load(open(filename, 'rb'))\n",
    "# affichage du modèle sauvegardé\n",
    "print (clf_loaded)\n",
    "\n",
    "\n",
    "# test  avec les données qu'il a apprise c'est parfait woahhha c'est beau\n",
    "y_pred = clf_loaded.predict(test_text)\n",
    "# autres mesures et matrice de confusion\n",
    "MyshowAllScores(test_note,y_pred)"
   ]
  },
  {
   "cell_type": "markdown",
   "metadata": {
    "id": "rpnCodRFJM5x"
   },
   "source": [
    "        ---> Title"
   ]
  },
  {
   "cell_type": "code",
   "execution_count": null,
   "metadata": {
    "id": "Gd8iJk-1JM5x",
    "outputId": "058ec433-b2f9-42f4-a626-443beebb5bf9"
   },
   "outputs": [
    {
     "name": "stdout",
     "output_type": "stream",
     "text": [
      "Test RFC Title\n",
      "Application de gridsearch ...\n",
      "pipeline : ['cleaner', 'tfidf', 'rfc']\n",
      "parameters :\n",
      "{'cleaner__getstemmer': [True, False], 'cleaner__removedigit': [True, False], 'cleaner__getlemmatisation': [True, False], 'tfidf__stop_words': ['english', None], 'tfidf__lowercase': [True, False], 'rfc__n_estimators': [500, 1200], 'rfc__max_depth': [25, 30], 'rfc__min_samples_split': [5, 10, 15], 'rfc__min_samples_leaf': [1, 2]}\n",
      "Fitting 5 folds for each of 768 candidates, totalling 3840 fits\n",
      "réalisé en  1281.896 s\n",
      "Meilleur résultat : 0.663\n",
      "Ensemble des meilleurs paramètres :\n",
      "\tcleaner__getlemmatisation: False\n",
      "\tcleaner__getstemmer: True\n",
      "\tcleaner__removedigit: False\n",
      "\trfc__max_depth: 30\n",
      "\trfc__min_samples_leaf: 1\n",
      "\trfc__min_samples_split: 5\n",
      "\trfc__n_estimators: 1200\n",
      "\ttfidf__lowercase: False\n",
      "\ttfidf__stop_words: 'english'\n",
      "\n",
      "Les premiers résultats : \n",
      "      cleaner__getlemmatisation  cleaner__getstemmer  cleaner__removedigit  \\\n",
      "534                      False                 True                 False   \n",
      "542                      False                 True                 False   \n",
      "636                      False                False                  True   \n",
      "632                      False                False                  True   \n",
      "580                      False                False                  True   \n",
      "\n",
      "     rfc__max_depth  rfc__min_samples_leaf  rfc__min_samples_split  \\\n",
      "534              30                      1                       5   \n",
      "542              30                      1                      10   \n",
      "636              30                      1                      10   \n",
      "632              30                      1                      10   \n",
      "580              25                      1                       5   \n",
      "\n",
      "     rfc__n_estimators  tfidf__lowercase tfidf__stop_words  accuracy  \n",
      "534               1200             False           english  0.663333  \n",
      "542               1200             False           english  0.660000  \n",
      "636               1200              True           english  0.656667  \n",
      "632                500              True           english  0.656667  \n",
      "580               1200              True           english  0.656667  \n"
     ]
    }
   ],
   "source": [
    "print(\"Test RFC Title\")\n",
    "testRFC(X_train_title,Y_train_title,5,'/True_And_False_VS_Other/Titre/data_rfc_TFO_Titre')"
   ]
  },
  {
   "cell_type": "markdown",
   "metadata": {
    "id": "Cp2ghst6JM5x"
   },
   "source": [
    "        ---> Texte et titre"
   ]
  },
  {
   "cell_type": "code",
   "execution_count": null,
   "metadata": {
    "id": "CP4qf4yWJM5y",
    "outputId": "74febb3d-ed12-45e8-ec83-df335909cb6f"
   },
   "outputs": [
    {
     "name": "stdout",
     "output_type": "stream",
     "text": [
      "Test RFC Text and title\n",
      "Application de gridsearch ...\n",
      "pipeline : ['cleaner', 'tfidf', 'rfc']\n",
      "parameters :\n",
      "{'cleaner__getstemmer': [True, False], 'cleaner__removedigit': [True, False], 'cleaner__getlemmatisation': [True, False], 'tfidf__stop_words': ['english', None], 'tfidf__lowercase': [True, False], 'rfc__n_estimators': [500, 1200], 'rfc__max_depth': [25, 30], 'rfc__min_samples_split': [5, 10, 15], 'rfc__min_samples_leaf': [1, 2]}\n",
      "Fitting 5 folds for each of 768 candidates, totalling 3840 fits\n",
      "réalisé en  3288.387 s\n",
      "Meilleur résultat : 0.663\n",
      "Ensemble des meilleurs paramètres :\n",
      "\tcleaner__getlemmatisation: False\n",
      "\tcleaner__getstemmer: True\n",
      "\tcleaner__removedigit: False\n",
      "\trfc__max_depth: 25\n",
      "\trfc__min_samples_leaf: 1\n",
      "\trfc__min_samples_split: 10\n",
      "\trfc__n_estimators: 500\n",
      "\ttfidf__lowercase: False\n",
      "\ttfidf__stop_words: 'english'\n",
      "\n",
      "Les premiers résultats : \n",
      "      cleaner__getlemmatisation  cleaner__getstemmer  cleaner__removedigit  \\\n",
      "490                      False                 True                 False   \n",
      "369                       True                False                 False   \n",
      "689                      False                False                 False   \n",
      "467                      False                 True                  True   \n",
      "753                      False                False                 False   \n",
      "\n",
      "     rfc__max_depth  rfc__min_samples_leaf  rfc__min_samples_split  \\\n",
      "490              25                      1                      10   \n",
      "369              30                      2                      10   \n",
      "689              25                      1                      15   \n",
      "467              30                      2                      10   \n",
      "753              30                      2                      10   \n",
      "\n",
      "     rfc__n_estimators  tfidf__lowercase tfidf__stop_words  accuracy  \n",
      "490                500             False           english  0.663333  \n",
      "369                500              True              None  0.650000  \n",
      "689                500              True              None  0.650000  \n",
      "467                500             False              None  0.650000  \n",
      "753                500              True              None  0.646667  \n"
     ]
    }
   ],
   "source": [
    "print(\"Test RFC Text and title\")\n",
    "testRFC(X_train_text_and_title,Y_train_text_and_title,5,'/True_And_False_VS_Other/Titre_And_Texte/data_svc_TFO_Titre_And_Texte')"
   ]
  },
  {
   "cell_type": "markdown",
   "metadata": {
    "id": "L6OGItI5JM5y"
   },
   "source": [
    "        1.3 Test LR"
   ]
  },
  {
   "cell_type": "markdown",
   "metadata": {
    "id": "HIrAOc1tJM5z"
   },
   "source": [
    "        ---> Texte"
   ]
  },
  {
   "cell_type": "code",
   "execution_count": null,
   "metadata": {
    "id": "ovo6_ScZJM5z",
    "outputId": "62e0beed-6293-4f84-d7a5-528c209d83ef"
   },
   "outputs": [
    {
     "name": "stdout",
     "output_type": "stream",
     "text": [
      "Test LR text\n",
      "Application de gridsearch ...\n",
      "pipeline : ['cleaner', 'tfidf', 'lr']\n",
      "parameters :\n",
      "{'cleaner__getstemmer': [True, False], 'cleaner__removedigit': [True, False], 'cleaner__getlemmatisation': [True, False], 'tfidf__stop_words': ['english', None], 'tfidf__lowercase': [True, False], 'lr__solver': ['newton-cg', 'lbfgs', 'liblinear'], 'lr__penalty': ['l2'], 'lr__C': [100, 10, 1.0, 0.1, 0.01]}\n",
      "Fitting 5 folds for each of 480 candidates, totalling 2400 fits\n",
      "réalisé en  941.495 s\n",
      "Meilleur résultat : 0.710\n",
      "Ensemble des meilleurs paramètres :\n",
      "\tcleaner__getlemmatisation: True\n",
      "\tcleaner__getstemmer: True\n",
      "\tcleaner__removedigit: False\n",
      "\tlr__C: 1.0\n",
      "\tlr__penalty: 'l2'\n",
      "\tlr__solver: 'liblinear'\n",
      "\ttfidf__lowercase: True\n",
      "\ttfidf__stop_words: 'english'\n",
      "\n",
      "Les premiers résultats : \n",
      "     cleaner__getlemmatisation  cleaner__getstemmer  cleaner__removedigit  \\\n",
      "94                       True                 True                 False   \n",
      "92                       True                 True                 False   \n",
      "86                       True                 True                 False   \n",
      "90                       True                 True                 False   \n",
      "88                       True                 True                 False   \n",
      "\n",
      "    lr__C lr__penalty lr__solver  tfidf__lowercase tfidf__stop_words  accuracy  \n",
      "94    1.0          l2  liblinear             False           english  0.710000  \n",
      "92    1.0          l2  liblinear              True           english  0.710000  \n",
      "86    1.0          l2  newton-cg             False           english  0.706667  \n",
      "90    1.0          l2      lbfgs             False           english  0.706667  \n",
      "88    1.0          l2      lbfgs              True           english  0.706667  \n"
     ]
    }
   ],
   "source": [
    "print(\"Test LR text\")\n",
    "testLR(X_train_text,Y_train_text,5,'/True_And_False_VS_Other/Texte/data_LR_TFO_Texte')"
   ]
  },
  {
   "cell_type": "markdown",
   "metadata": {
    "id": "NU51D9kjJM50"
   },
   "source": [
    "        ---> Titre"
   ]
  },
  {
   "cell_type": "code",
   "execution_count": null,
   "metadata": {
    "id": "yDc_BaI5JM50",
    "outputId": "dbc21e58-26f2-436f-8c3a-a3b1ec0d7ff2"
   },
   "outputs": [
    {
     "name": "stdout",
     "output_type": "stream",
     "text": [
      "Test LR Titre\n",
      "Application de gridsearch ...\n",
      "pipeline : ['cleaner', 'tfidf', 'lr']\n",
      "parameters :\n",
      "{'cleaner__getstemmer': [True, False], 'cleaner__removedigit': [True, False], 'cleaner__getlemmatisation': [True, False], 'tfidf__stop_words': ['english', None], 'tfidf__lowercase': [True, False], 'lr__solver': ['newton-cg', 'lbfgs', 'liblinear'], 'lr__penalty': ['l2'], 'lr__C': [100, 10, 1.0, 0.1, 0.01]}\n",
      "Fitting 5 folds for each of 480 candidates, totalling 2400 fits\n",
      "réalisé en  93.201 s\n",
      "Meilleur résultat : 0.653\n",
      "Ensemble des meilleurs paramètres :\n",
      "\tcleaner__getlemmatisation: True\n",
      "\tcleaner__getstemmer: True\n",
      "\tcleaner__removedigit: True\n",
      "\tlr__C: 1.0\n",
      "\tlr__penalty: 'l2'\n",
      "\tlr__solver: 'newton-cg'\n",
      "\ttfidf__lowercase: True\n",
      "\ttfidf__stop_words: 'english'\n",
      "\n",
      "Les premiers résultats : \n",
      "     cleaner__getlemmatisation  cleaner__getstemmer  cleaner__removedigit  \\\n",
      "26                       True                 True                  True   \n",
      "28                       True                 True                  True   \n",
      "30                       True                 True                  True   \n",
      "32                       True                 True                  True   \n",
      "34                       True                 True                  True   \n",
      "\n",
      "    lr__C lr__penalty lr__solver  tfidf__lowercase tfidf__stop_words  accuracy  \n",
      "26    1.0          l2  newton-cg             False           english  0.653333  \n",
      "28    1.0          l2      lbfgs              True           english  0.653333  \n",
      "30    1.0          l2      lbfgs             False           english  0.653333  \n",
      "32    1.0          l2  liblinear              True           english  0.653333  \n",
      "34    1.0          l2  liblinear             False           english  0.653333  \n"
     ]
    }
   ],
   "source": [
    "print(\"Test LR Titre\")\n",
    "testLR(X_train_title,Y_train_title,5,'/True_And_False_VS_Other/Titre/data_LR_TFO_Titre')"
   ]
  },
  {
   "cell_type": "markdown",
   "metadata": {
    "id": "1kTfMV9mJM51"
   },
   "source": [
    "        ---> Texte et Titre"
   ]
  },
  {
   "cell_type": "code",
   "execution_count": null,
   "metadata": {
    "id": "fWdrlO3wJM51",
    "outputId": "b76dbc94-308b-4c6e-d8f2-d25d81cdb13a"
   },
   "outputs": [
    {
     "name": "stdout",
     "output_type": "stream",
     "text": [
      "Test LR Texte et Titre\n",
      "Application de gridsearch ...\n",
      "pipeline : ['cleaner', 'tfidf', 'lr']\n",
      "parameters :\n",
      "{'cleaner__getstemmer': [True, False], 'cleaner__removedigit': [True, False], 'cleaner__getlemmatisation': [True, False], 'tfidf__stop_words': ['english', None], 'tfidf__lowercase': [True, False], 'lr__solver': ['newton-cg', 'lbfgs', 'liblinear'], 'lr__penalty': ['l2'], 'lr__C': [100, 10, 1.0, 0.1, 0.01]}\n",
      "Fitting 5 folds for each of 480 candidates, totalling 2400 fits\n",
      "réalisé en  1079.282 s\n",
      "Meilleur résultat : 0.663\n",
      "Ensemble des meilleurs paramètres :\n",
      "\tcleaner__getlemmatisation: False\n",
      "\tcleaner__getstemmer: True\n",
      "\tcleaner__removedigit: False\n",
      "\tlr__C: 100\n",
      "\tlr__penalty: 'l2'\n",
      "\tlr__solver: 'newton-cg'\n",
      "\ttfidf__lowercase: True\n",
      "\ttfidf__stop_words: None\n",
      "\n",
      "Les premiers résultats : \n",
      "      cleaner__getlemmatisation  cleaner__getstemmer  cleaner__removedigit  \\\n",
      "305                      False                 True                 False   \n",
      "301                      False                 True                 False   \n",
      "309                      False                 True                 False   \n",
      "307                      False                 True                 False   \n",
      "303                      False                 True                 False   \n",
      "\n",
      "     lr__C lr__penalty lr__solver  tfidf__lowercase tfidf__stop_words  \\\n",
      "305  100.0          l2      lbfgs              True              None   \n",
      "301  100.0          l2  newton-cg              True              None   \n",
      "309  100.0          l2  liblinear              True              None   \n",
      "307  100.0          l2      lbfgs             False              None   \n",
      "303  100.0          l2  newton-cg             False              None   \n",
      "\n",
      "     accuracy  \n",
      "305  0.663333  \n",
      "301  0.663333  \n",
      "309  0.663333  \n",
      "307  0.663333  \n",
      "303  0.663333  \n"
     ]
    }
   ],
   "source": [
    "print(\"Test LR Texte et Titre\")\n",
    "testLR(X_train_text_and_title, Y_train_text_and_title,5,'/True_And_False_VS_Other/Titre_And_Texte/data_LR_TFO_Titre_And_Texte')"
   ]
  },
  {
   "cell_type": "markdown",
   "metadata": {
    "id": "W-fEDjRqJM6H"
   },
   "source": [
    "        1.4 Test CART"
   ]
  },
  {
   "cell_type": "markdown",
   "metadata": {
    "id": "I-o7Jal_JM6I"
   },
   "source": [
    "        ---> Texte"
   ]
  },
  {
   "cell_type": "code",
   "execution_count": null,
   "metadata": {
    "id": "Iq9ltsDMJM6J",
    "outputId": "eb09d2e9-68fe-4c12-b4c3-b43564891c7b"
   },
   "outputs": [
    {
     "name": "stdout",
     "output_type": "stream",
     "text": [
      "Test CART, Texte\n",
      "Application de gridsearch ...\n",
      "pipeline : ['cleaner', 'tfidf', 'CART']\n",
      "parameters :\n",
      "{'cleaner__getstemmer': [True, False], 'cleaner__removedigit': [True, False], 'cleaner__getlemmatisation': [True, False], 'tfidf__stop_words': ['english', None], 'tfidf__lowercase': [True, False], 'CART__max_depth': [10, 20, 30], 'CART__min_samples_split': [2, 5, 10], 'CART__min_samples_leaf': [1, 2, 4], 'CART__criterion': ['gini', 'entropy']}\n",
      "Fitting 5 folds for each of 1728 candidates, totalling 8640 fits\n",
      "réalisé en  3389.543 s\n",
      "Meilleur résultat : 0.677\n",
      "Ensemble des meilleurs paramètres :\n",
      "\tCART__criterion: 'entropy'\n",
      "\tCART__max_depth: 10\n",
      "\tCART__min_samples_leaf: 1\n",
      "\tCART__min_samples_split: 5\n",
      "\tcleaner__getlemmatisation: False\n",
      "\tcleaner__getstemmer: True\n",
      "\tcleaner__removedigit: True\n",
      "\ttfidf__lowercase: True\n",
      "\ttfidf__stop_words: None\n",
      "\n",
      "Les premiers résultats : \n",
      "      CART__criterion  CART__max_depth  CART__min_samples_leaf  \\\n",
      "913          entropy               10                       1   \n",
      "702             gini               30                       2   \n",
      "1203         entropy               20                       1   \n",
      "1157         entropy               20                       1   \n",
      "290             gini               20                       1   \n",
      "\n",
      "      CART__min_samples_split  cleaner__getlemmatisation  cleaner__getstemmer  \\\n",
      "913                         5                      False                 True   \n",
      "702                         2                      False                False   \n",
      "1203                        5                      False                 True   \n",
      "1157                        2                       True                 True   \n",
      "290                         2                       True                 True   \n",
      "\n",
      "      cleaner__removedigit  tfidf__lowercase tfidf__stop_words  accuracy  \n",
      "913                   True              True              None  0.676667  \n",
      "702                  False             False           english  0.670000  \n",
      "1203                  True             False              None  0.670000  \n",
      "1157                 False              True              None  0.666667  \n",
      "290                   True             False           english  0.666667  \n"
     ]
    }
   ],
   "source": [
    "print(\"Test CART, Texte\")\n",
    "testCART(X_train_text, Y_train_text,5,'/True_And_False_VS_Other/Texte/data_CART_TFO_Texte')"
   ]
  },
  {
   "cell_type": "markdown",
   "metadata": {
    "id": "NU-343V3JM6K"
   },
   "source": [
    "        ---> Titre"
   ]
  },
  {
   "cell_type": "code",
   "execution_count": null,
   "metadata": {
    "id": "t8HIDoCSJM6L",
    "outputId": "ca2da6fe-0f56-43d8-9e09-223a6d81bf2e"
   },
   "outputs": [
    {
     "name": "stdout",
     "output_type": "stream",
     "text": [
      "Test CART, Title\n",
      "Application de gridsearch ...\n",
      "pipeline : ['cleaner', 'tfidf', 'CART']\n",
      "parameters :\n",
      "{'cleaner__getstemmer': [True, False], 'cleaner__removedigit': [True, False], 'cleaner__getlemmatisation': [True, False], 'tfidf__stop_words': ['english', None], 'tfidf__lowercase': [True, False], 'CART__max_depth': [10, 20, 30], 'CART__min_samples_split': [2, 5, 10], 'CART__min_samples_leaf': [1, 2, 4], 'CART__criterion': ['gini', 'entropy']}\n",
      "Fitting 5 folds for each of 1728 candidates, totalling 8640 fits\n",
      "réalisé en  283.017 s\n",
      "Meilleur résultat : 0.657\n",
      "Ensemble des meilleurs paramètres :\n",
      "\tCART__criterion: 'gini'\n",
      "\tCART__max_depth: 30\n",
      "\tCART__min_samples_leaf: 2\n",
      "\tCART__min_samples_split: 2\n",
      "\tcleaner__getlemmatisation: False\n",
      "\tcleaner__getstemmer: True\n",
      "\tcleaner__removedigit: True\n",
      "\ttfidf__lowercase: True\n",
      "\ttfidf__stop_words: 'english'\n",
      "\n",
      "Les premiers résultats : \n",
      "     CART__criterion  CART__max_depth  CART__min_samples_leaf  \\\n",
      "688            gini               30                       2   \n",
      "754            gini               30                       2   \n",
      "704            gini               30                       2   \n",
      "690            gini               30                       2   \n",
      "710            gini               30                       2   \n",
      "\n",
      "     CART__min_samples_split  cleaner__getlemmatisation  cleaner__getstemmer  \\\n",
      "688                        2                      False                 True   \n",
      "754                       10                      False                 True   \n",
      "704                        5                       True                 True   \n",
      "690                        2                      False                 True   \n",
      "710                        5                       True                 True   \n",
      "\n",
      "     cleaner__removedigit  tfidf__lowercase tfidf__stop_words  accuracy  \n",
      "688                  True              True           english  0.656667  \n",
      "754                  True             False           english  0.653333  \n",
      "704                  True              True           english  0.643333  \n",
      "690                  True             False           english  0.643333  \n",
      "710                 False             False           english  0.643333  \n"
     ]
    }
   ],
   "source": [
    "print(\"Test CART, Title\")\n",
    "testCART(X_train_title, Y_train_title,5,'/True_And_False_VS_Other/Titre/data_CART_TFO_Titre')"
   ]
  },
  {
   "cell_type": "markdown",
   "metadata": {
    "id": "QlbsJnQyJM6M"
   },
   "source": [
    "        ---> Texte et Titre"
   ]
  },
  {
   "cell_type": "code",
   "execution_count": null,
   "metadata": {
    "id": "fVkU05kaJM6M",
    "outputId": "8acdf823-04a6-4da1-ce4f-06ab1190d0de"
   },
   "outputs": [
    {
     "name": "stdout",
     "output_type": "stream",
     "text": [
      "Test CART, Text and title\n",
      "Application de gridsearch ...\n",
      "pipeline : ['cleaner', 'tfidf', 'CART']\n",
      "parameters :\n",
      "{'cleaner__getstemmer': [True, False], 'cleaner__removedigit': [True, False], 'cleaner__getlemmatisation': [True, False], 'tfidf__stop_words': ['english', None], 'tfidf__lowercase': [True, False], 'CART__max_depth': [10, 20, 30], 'CART__min_samples_split': [2, 5, 10], 'CART__min_samples_leaf': [1, 2, 4], 'CART__criterion': ['gini', 'entropy']}\n",
      "Fitting 5 folds for each of 1728 candidates, totalling 8640 fits\n",
      "réalisé en  4087.149 s\n",
      "Meilleur résultat : 0.650\n",
      "Ensemble des meilleurs paramètres :\n",
      "\tCART__criterion: 'gini'\n",
      "\tCART__max_depth: 20\n",
      "\tCART__min_samples_leaf: 1\n",
      "\tCART__min_samples_split: 2\n",
      "\tcleaner__getlemmatisation: True\n",
      "\tcleaner__getstemmer: True\n",
      "\tcleaner__removedigit: True\n",
      "\ttfidf__lowercase: True\n",
      "\ttfidf__stop_words: 'english'\n",
      "\n",
      "Les premiers résultats : \n",
      "     CART__criterion  CART__max_depth  CART__min_samples_leaf  \\\n",
      "288            gini               20                       1   \n",
      "608            gini               30                       1   \n",
      "322            gini               20                       1   \n",
      "416            gini               20                       2   \n",
      "576            gini               30                       1   \n",
      "\n",
      "     CART__min_samples_split  cleaner__getlemmatisation  cleaner__getstemmer  \\\n",
      "288                        2                       True                 True   \n",
      "608                        5                       True                 True   \n",
      "322                        5                       True                 True   \n",
      "416                        5                       True                 True   \n",
      "576                        2                       True                 True   \n",
      "\n",
      "     cleaner__removedigit  tfidf__lowercase tfidf__stop_words  accuracy  \n",
      "288                  True              True           english  0.650000  \n",
      "608                  True              True           english  0.646667  \n",
      "322                  True             False           english  0.646667  \n",
      "416                  True              True           english  0.643333  \n",
      "576                  True              True           english  0.640000  \n"
     ]
    }
   ],
   "source": [
    "print(\"Test CART, Text and title\")\n",
    "testCART(X_train_text_and_title, Y_train_text_and_title,5,'/True_And_False_VS_Other/Titre_And_Texte/data_CART_TFO_Titre_And_Texte')"
   ]
  },
  {
   "cell_type": "markdown",
   "metadata": {
    "id": "WdQG9BiSJM6N"
   },
   "source": [
    "        1.5 Test KNN"
   ]
  },
  {
   "cell_type": "markdown",
   "metadata": {
    "id": "dJCNmLUGJM6N"
   },
   "source": [
    "        ---> Texte"
   ]
  },
  {
   "cell_type": "code",
   "execution_count": null,
   "metadata": {
    "id": "pcEyt8fVJM6N",
    "outputId": "34a6b2d0-fab8-40fd-dbcd-5411d2576a22"
   },
   "outputs": [
    {
     "name": "stdout",
     "output_type": "stream",
     "text": [
      "Test KNN text\n",
      "Application de gridsearch ...\n",
      "pipeline : ['cleaner', 'tfidf', 'KNN']\n",
      "parameters :\n",
      "{'cleaner__getstemmer': [True, False], 'cleaner__removedigit': [True, False], 'cleaner__getlemmatisation': [True, False], 'tfidf__stop_words': ['english', None], 'tfidf__lowercase': [True, False], 'KNN__n_neighbors': [1, 2, 3, 4, 5, 6, 7, 8, 9, 10, 11, 12, 13, 14], 'KNN__algorithm': ['auto', 'ball_tree', 'kd_tree', 'brute'], 'KNN__weights': ['uniform', 'distance'], 'KNN__metric': ['minkowski', 'euclidean', 'manhattan']}\n",
      "Fitting 5 folds for each of 10752 candidates, totalling 53760 fits\n",
      "réalisé en  25578.512 s\n",
      "Meilleur résultat : 0.707\n",
      "Ensemble des meilleurs paramètres :\n",
      "\tKNN__algorithm: 'auto'\n",
      "\tKNN__metric: 'minkowski'\n",
      "\tKNN__n_neighbors: 14\n",
      "\tKNN__weights: 'distance'\n",
      "\tcleaner__getlemmatisation: True\n",
      "\tcleaner__getstemmer: True\n",
      "\tcleaner__removedigit: False\n",
      "\ttfidf__lowercase: True\n",
      "\ttfidf__stop_words: 'english'\n",
      "\n",
      "Les premiers résultats : \n",
      "      KNN__algorithm KNN__metric  KNN__n_neighbors KNN__weights  \\\n",
      "868            auto   minkowski                14     distance   \n",
      "3558      ball_tree   minkowski                14     distance   \n",
      "4454      ball_tree   euclidean                14     distance   \n",
      "4452      ball_tree   euclidean                14     distance   \n",
      "7142        kd_tree   euclidean                14     distance   \n",
      "\n",
      "      cleaner__getlemmatisation  cleaner__getstemmer  cleaner__removedigit  \\\n",
      "868                        True                 True                 False   \n",
      "3558                       True                 True                 False   \n",
      "4454                       True                 True                 False   \n",
      "4452                       True                 True                 False   \n",
      "7142                       True                 True                 False   \n",
      "\n",
      "      tfidf__lowercase tfidf__stop_words  accuracy  \n",
      "868               True           english  0.706667  \n",
      "3558             False           english  0.706667  \n",
      "4454             False           english  0.706667  \n",
      "4452              True           english  0.706667  \n",
      "7142             False           english  0.706667  \n"
     ]
    }
   ],
   "source": [
    "print(\"Test KNN text\")\n",
    "testKNeighborsClassifier(X_train_text, Y_train_text,5,'/True_And_False_VS_Other/Texte/data_KNN_TFO_Texte')"
   ]
  },
  {
   "cell_type": "markdown",
   "metadata": {
    "id": "_-3jKkAkJM6O"
   },
   "source": [
    "        ---> Titre"
   ]
  },
  {
   "cell_type": "code",
   "execution_count": null,
   "metadata": {
    "id": "IIqBkiz6JM6O",
    "outputId": "e0ad9643-2bb3-4858-be28-e5ba0bce2165"
   },
   "outputs": [
    {
     "name": "stdout",
     "output_type": "stream",
     "text": [
      "Test KNN title\n",
      "Application de gridsearch ...\n",
      "pipeline : ['cleaner', 'tfidf', 'KNN']\n",
      "parameters :\n",
      "{'cleaner__getstemmer': [True, False], 'cleaner__removedigit': [True, False], 'cleaner__getlemmatisation': [True, False], 'tfidf__stop_words': ['english', None], 'tfidf__lowercase': [True, False], 'KNN__n_neighbors': [1, 2, 3, 4, 5, 6, 7, 8, 9, 10, 11, 12, 13, 14], 'KNN__algorithm': ['auto', 'ball_tree', 'kd_tree', 'brute'], 'KNN__weights': ['uniform', 'distance'], 'KNN__metric': ['minkowski', 'euclidean', 'manhattan']}\n",
      "Fitting 5 folds for each of 10752 candidates, totalling 53760 fits\n",
      "réalisé en  1517.085 s\n",
      "Meilleur résultat : 0.683\n",
      "Ensemble des meilleurs paramètres :\n",
      "\tKNN__algorithm: 'auto'\n",
      "\tKNN__metric: 'minkowski'\n",
      "\tKNN__n_neighbors: 11\n",
      "\tKNN__weights: 'distance'\n",
      "\tcleaner__getlemmatisation: False\n",
      "\tcleaner__getstemmer: False\n",
      "\tcleaner__removedigit: False\n",
      "\ttfidf__lowercase: True\n",
      "\ttfidf__stop_words: 'english'\n",
      "\n",
      "Les premiers résultats : \n",
      "      KNN__algorithm KNN__metric  KNN__n_neighbors KNN__weights  \\\n",
      "4284      ball_tree   euclidean                11     distance   \n",
      "8764          brute   minkowski                11     distance   \n",
      "1596           auto   euclidean                11     distance   \n",
      "3388      ball_tree   minkowski                11     distance   \n",
      "6076        kd_tree   minkowski                11     distance   \n",
      "\n",
      "      cleaner__getlemmatisation  cleaner__getstemmer  cleaner__removedigit  \\\n",
      "4284                      False                False                 False   \n",
      "8764                      False                False                 False   \n",
      "1596                      False                False                 False   \n",
      "3388                      False                False                 False   \n",
      "6076                      False                False                 False   \n",
      "\n",
      "      tfidf__lowercase tfidf__stop_words  accuracy  \n",
      "4284              True           english  0.683333  \n",
      "8764              True           english  0.683333  \n",
      "1596              True           english  0.683333  \n",
      "3388              True           english  0.683333  \n",
      "6076              True           english  0.683333  \n"
     ]
    }
   ],
   "source": [
    "print(\"Test KNN title\")\n",
    "testKNeighborsClassifier(X_train_title, Y_train_title,5,'/True_And_False_VS_Other/Titre/data_KNN_TFO_Titre')"
   ]
  },
  {
   "cell_type": "markdown",
   "metadata": {
    "id": "li_OqjJfJM6P"
   },
   "source": [
    "        ---> Texte et Titre"
   ]
  },
  {
   "cell_type": "code",
   "execution_count": null,
   "metadata": {
    "id": "QWqLTbOxJM6P",
    "outputId": "ebc58c81-afd1-4a8c-cb6c-7969f636d718"
   },
   "outputs": [
    {
     "name": "stdout",
     "output_type": "stream",
     "text": [
      "Test KNN text and title\n",
      "Application de gridsearch ...\n",
      "pipeline : ['cleaner', 'tfidf', 'KNN']\n",
      "parameters :\n",
      "{'cleaner__getstemmer': [True, False], 'cleaner__removedigit': [True, False], 'cleaner__getlemmatisation': [True, False], 'tfidf__stop_words': ['english', None], 'tfidf__lowercase': [True, False], 'KNN__n_neighbors': [1, 2, 3, 4, 5, 6, 7, 8, 9, 10, 11, 12, 13, 14], 'KNN__algorithm': ['auto', 'ball_tree', 'kd_tree', 'brute'], 'KNN__weights': ['uniform', 'distance'], 'KNN__metric': ['minkowski', 'euclidean', 'manhattan']}\n",
      "Fitting 5 folds for each of 10752 candidates, totalling 53760 fits\n",
      "réalisé en  22120.986 s\n",
      "Meilleur résultat : 0.673\n",
      "Ensemble des meilleurs paramètres :\n",
      "\tKNN__algorithm: 'auto'\n",
      "\tKNN__metric: 'minkowski'\n",
      "\tKNN__n_neighbors: 9\n",
      "\tKNN__weights: 'distance'\n",
      "\tcleaner__getlemmatisation: False\n",
      "\tcleaner__getstemmer: True\n",
      "\tcleaner__removedigit: False\n",
      "\ttfidf__lowercase: True\n",
      "\ttfidf__stop_words: None\n",
      "\n",
      "Les premiers résultats : \n",
      "      KNN__algorithm KNN__metric  KNN__n_neighbors KNN__weights  \\\n",
      "4151      ball_tree   euclidean                 9     distance   \n",
      "8629          brute   minkowski                 9     distance   \n",
      "6839        kd_tree   euclidean                 9     distance   \n",
      "6837        kd_tree   euclidean                 9     distance   \n",
      "9527          brute   euclidean                 9     distance   \n",
      "\n",
      "      cleaner__getlemmatisation  cleaner__getstemmer  cleaner__removedigit  \\\n",
      "4151                      False                 True                 False   \n",
      "8629                      False                 True                 False   \n",
      "6839                      False                 True                 False   \n",
      "6837                      False                 True                 False   \n",
      "9527                      False                 True                 False   \n",
      "\n",
      "      tfidf__lowercase tfidf__stop_words  accuracy  \n",
      "4151             False              None  0.673333  \n",
      "8629              True              None  0.673333  \n",
      "6839             False              None  0.673333  \n",
      "6837              True              None  0.673333  \n",
      "9527             False              None  0.673333  \n"
     ]
    }
   ],
   "source": [
    "print(\"Test KNN text and title\")\n",
    "testKNeighborsClassifier(X_train_text_and_title, Y_train_text_and_title,5,'/True_And_False_VS_Other/Titre_And_Texte/data_KNN_TFO_Titre_And_Texte')"
   ]
  },
  {
   "cell_type": "markdown",
   "metadata": {
    "id": "mkx_6dllJM6Q"
   },
   "source": [
    "        1.6 Test MB"
   ]
  },
  {
   "cell_type": "markdown",
   "metadata": {
    "id": "t7_39hCcJM6Q"
   },
   "source": [
    "        ---> Texte"
   ]
  },
  {
   "cell_type": "code",
   "execution_count": null,
   "metadata": {
    "id": "1EgkXBz_JM6Q",
    "outputId": "a3c763df-0438-4b99-d8f2-546e876ac5df"
   },
   "outputs": [
    {
     "name": "stdout",
     "output_type": "stream",
     "text": [
      "MultinomialNB test Text\n",
      "Application de gridsearch ...\n",
      "pipeline : ['cleaner', 'tfidf', 'MultinomialNB']\n",
      "parameters :\n",
      "{'cleaner__getstemmer': [True, False], 'cleaner__removedigit': [True, False], 'cleaner__getlemmatisation': [True, False], 'tfidf__stop_words': ['english', None], 'tfidf__lowercase': [True, False], 'MultinomialNB__alpha': [0.1, 0.5, 1.0, 2.0], 'MultinomialNB__fit_prior': [True, False], 'MultinomialNB__force_alpha': [True, False]}\n",
      "Fitting 5 folds for each of 512 candidates, totalling 2560 fits\n",
      "réalisé en  1010.455 s\n",
      "Meilleur résultat : 0.707\n",
      "Ensemble des meilleurs paramètres :\n",
      "\tMultinomialNB__alpha: 1.0\n",
      "\tMultinomialNB__fit_prior: True\n",
      "\tMultinomialNB__force_alpha: True\n",
      "\tcleaner__getlemmatisation: True\n",
      "\tcleaner__getstemmer: False\n",
      "\tcleaner__removedigit: False\n",
      "\ttfidf__lowercase: False\n",
      "\ttfidf__stop_words: 'english'\n",
      "\n",
      "Les premiers résultats : \n",
      "      MultinomialNB__alpha  MultinomialNB__fit_prior  \\\n",
      "334                   1.0                     False   \n",
      "302                   1.0                      True   \n",
      "366                   1.0                     False   \n",
      "270                   1.0                      True   \n",
      "350                   1.0                     False   \n",
      "\n",
      "     MultinomialNB__force_alpha  cleaner__getlemmatisation  \\\n",
      "334                        True                       True   \n",
      "302                       False                       True   \n",
      "366                       False                       True   \n",
      "270                        True                       True   \n",
      "350                        True                      False   \n",
      "\n",
      "     cleaner__getstemmer  cleaner__removedigit  tfidf__lowercase  \\\n",
      "334                False                 False             False   \n",
      "302                False                 False             False   \n",
      "366                False                 False             False   \n",
      "270                False                 False             False   \n",
      "350                False                 False             False   \n",
      "\n",
      "    tfidf__stop_words  accuracy  \n",
      "334           english  0.706667  \n",
      "302           english  0.706667  \n",
      "366           english  0.706667  \n",
      "270           english  0.706667  \n",
      "350           english  0.700000  \n"
     ]
    }
   ],
   "source": [
    "print(\"MultinomialNB test Text\")\n",
    "testMNB(X_train_text, Y_train_text,5,'/True_And_False_VS_Other/Texte/data_MNB_TFO_Texte')"
   ]
  },
  {
   "cell_type": "markdown",
   "metadata": {
    "id": "dcRRdtmSJM6R"
   },
   "source": [
    "        ---> Texte et Titre"
   ]
  },
  {
   "cell_type": "code",
   "execution_count": null,
   "metadata": {
    "id": "af7IT1HJJM6R",
    "outputId": "5c86de7f-572d-4f9e-b9d1-32195c0a3c75"
   },
   "outputs": [
    {
     "name": "stdout",
     "output_type": "stream",
     "text": [
      "MultinomialNB test Title\n",
      "Application de gridsearch ...\n",
      "pipeline : ['cleaner', 'tfidf', 'MultinomialNB']\n",
      "parameters :\n",
      "{'cleaner__getstemmer': [True, False], 'cleaner__removedigit': [True, False], 'cleaner__getlemmatisation': [True, False], 'tfidf__stop_words': ['english', None], 'tfidf__lowercase': [True, False], 'MultinomialNB__alpha': [0.1, 0.5, 1.0, 2.0], 'MultinomialNB__fit_prior': [True, False], 'MultinomialNB__force_alpha': [True, False]}\n",
      "Fitting 5 folds for each of 512 candidates, totalling 2560 fits\n",
      "réalisé en  73.155 s\n",
      "Meilleur résultat : 0.657\n",
      "Ensemble des meilleurs paramètres :\n",
      "\tMultinomialNB__alpha: 0.1\n",
      "\tMultinomialNB__fit_prior: True\n",
      "\tMultinomialNB__force_alpha: True\n",
      "\tcleaner__getlemmatisation: False\n",
      "\tcleaner__getstemmer: True\n",
      "\tcleaner__removedigit: False\n",
      "\ttfidf__lowercase: True\n",
      "\ttfidf__stop_words: 'english'\n",
      "\n",
      "Les premiers résultats : \n",
      "      MultinomialNB__alpha  MultinomialNB__fit_prior  \\\n",
      "20                    0.1                      True   \n",
      "54                    0.1                      True   \n",
      "86                    0.1                     False   \n",
      "84                    0.1                     False   \n",
      "116                   0.1                     False   \n",
      "\n",
      "     MultinomialNB__force_alpha  cleaner__getlemmatisation  \\\n",
      "20                         True                      False   \n",
      "54                        False                      False   \n",
      "86                         True                      False   \n",
      "84                         True                      False   \n",
      "116                       False                      False   \n",
      "\n",
      "     cleaner__getstemmer  cleaner__removedigit  tfidf__lowercase  \\\n",
      "20                  True                 False              True   \n",
      "54                  True                 False             False   \n",
      "86                  True                 False             False   \n",
      "84                  True                 False              True   \n",
      "116                 True                 False              True   \n",
      "\n",
      "    tfidf__stop_words  accuracy  \n",
      "20            english  0.656667  \n",
      "54            english  0.656667  \n",
      "86            english  0.656667  \n",
      "84            english  0.656667  \n",
      "116           english  0.656667  \n"
     ]
    }
   ],
   "source": [
    "print(\"MultinomialNB test Title\")\n",
    "testMNB(X_train_title, Y_train_title,5,'/True_And_False_VS_Other/Titre/data_MNB_TFO_Titre')"
   ]
  },
  {
   "cell_type": "markdown",
   "metadata": {
    "id": "IKdHLWv2JM6S"
   },
   "source": [
    "        ---> Texte et Titre"
   ]
  },
  {
   "cell_type": "code",
   "execution_count": null,
   "metadata": {
    "id": "HdWiXAPgJM6T",
    "outputId": "b0c32b94-6c3e-49ec-f356-b7ee7e0a97d5"
   },
   "outputs": [
    {
     "name": "stdout",
     "output_type": "stream",
     "text": [
      "MultinomialNB test Text and Title\n",
      "Application de gridsearch ...\n",
      "pipeline : ['cleaner', 'tfidf', 'MultinomialNB']\n",
      "parameters :\n",
      "{'cleaner__getstemmer': [True, False], 'cleaner__removedigit': [True, False], 'cleaner__getlemmatisation': [True, False], 'tfidf__stop_words': ['english', None], 'tfidf__lowercase': [True, False], 'MultinomialNB__alpha': [0.1, 0.5, 1.0, 2.0], 'MultinomialNB__fit_prior': [True, False], 'MultinomialNB__force_alpha': [True, False]}\n",
      "Fitting 5 folds for each of 512 candidates, totalling 2560 fits\n",
      "réalisé en  987.406 s\n",
      "Meilleur résultat : 0.677\n",
      "Ensemble des meilleurs paramètres :\n",
      "\tMultinomialNB__alpha: 1.0\n",
      "\tMultinomialNB__fit_prior: True\n",
      "\tMultinomialNB__force_alpha: True\n",
      "\tcleaner__getlemmatisation: True\n",
      "\tcleaner__getstemmer: True\n",
      "\tcleaner__removedigit: False\n",
      "\ttfidf__lowercase: True\n",
      "\ttfidf__stop_words: None\n",
      "\n",
      "Les premiers résultats : \n",
      "      MultinomialNB__alpha  MultinomialNB__fit_prior  \\\n",
      "277                   1.0                      True   \n",
      "295                   1.0                      True   \n",
      "327                   1.0                     False   \n",
      "293                   1.0                      True   \n",
      "343                   1.0                     False   \n",
      "\n",
      "     MultinomialNB__force_alpha  cleaner__getlemmatisation  \\\n",
      "277                        True                      False   \n",
      "295                       False                       True   \n",
      "327                        True                       True   \n",
      "293                       False                       True   \n",
      "343                        True                      False   \n",
      "\n",
      "     cleaner__getstemmer  cleaner__removedigit  tfidf__lowercase  \\\n",
      "277                 True                 False              True   \n",
      "295                 True                 False             False   \n",
      "327                 True                 False             False   \n",
      "293                 True                 False              True   \n",
      "343                 True                 False             False   \n",
      "\n",
      "    tfidf__stop_words  accuracy  \n",
      "277              None  0.676667  \n",
      "295              None  0.676667  \n",
      "327              None  0.676667  \n",
      "293              None  0.676667  \n",
      "343              None  0.676667  \n"
     ]
    }
   ],
   "source": [
    "print(\"MultinomialNB test Text and Title\")\n",
    "testMNB(X_train_text_and_title, Y_train_text_and_title,5,'/True_And_False_VS_Other/Titre_And_Texte/data_MNB_TFO_Titre_And_Texte')"
   ]
  },
  {
   "cell_type": "markdown",
   "metadata": {
    "id": "lCIE1pmvJM6T"
   },
   "source": [
    "_____________________________________________________________________________________________________\n",
    "_____________________________________________________________________________________________________\n",
    "                    \n",
    "## 2. Enrichissement des Jeux de données et Nouveau test des Classifieurs\n",
    "_____________________________________________________________________________________________________\n",
    "_____________________________________________________________________________________________________"
   ]
  },
  {
   "cell_type": "markdown",
   "metadata": {
    "id": "kOMA2-mFJM6U"
   },
   "source": [
    "Après nos premiers résultats, nous nous rendons compte que la meilleur classification ce fait sur le texte. Afin d'essayer d'augmenter notre score nous essayons d'enrichir nos données en convertissant le jeu de données allemands du challenge à l'aide de l'API deepl cf le notebook Traduction dans le dossier Autre_Notebook pour la traduction. \n",
    "Nous concaténons ensuite nos jeu de données brut et le jeu de données allemandes et réequilibrons les jeux de données pour avoir le même nombre de true/false que de other cette fois nous ne testons sans oversampling. "
   ]
  },
  {
   "cell_type": "code",
   "execution_count": null,
   "metadata": {
    "id": "_OEwV8gAJM6U"
   },
   "outputs": [],
   "source": [
    "df_allemand =  pd.read_csv(\"./Data_brut/data_allemand_all.csv\")\n",
    "#display(df_allemand)\n",
    "df_allemand = df_allemand.drop(columns=[\"ID\", \"Unnamed: 0\"], axis=1)\n",
    "df_allemand = df_allemand.replace(\"Other\", \"other\")\n",
    "#display(df_allemand)\n",
    "df_allemand_text = initDataToTest(df_allemand, [\"title\"],[\"our rating\"], [\"other\"], 0, None)"
   ]
  },
  {
   "cell_type": "markdown",
   "metadata": {
    "id": "F8VfZmgQJM6V"
   },
   "source": [
    "❗IMPORTANT❗\n",
    "Ceci est le code permettant de créer des jeux de données équilibrés avec les jeux de données allemandes, si vous souhaitez les recréers il faut recharger la cellule attention toutefois cela risque d'écraser les anciens dataframes si vous les enregistrer par la suite et faussera les résultats des classifieurs"
   ]
  },
  {
   "cell_type": "code",
   "execution_count": null,
   "metadata": {
    "id": "6JYlALVgJM6V",
    "outputId": "60b83208-0e3d-42f5-ee1f-75dee4a7f2da"
   },
   "outputs": [
    {
     "name": "stdout",
     "output_type": "stream",
     "text": [
      "Valeur du dataset de base:  false    801\n",
      "true     407\n",
      "other    126\n",
      "Name: our rating, dtype: int64\n",
      "data ['true', 'false'] avant drop duplicates : \n",
      " our rating\n",
      "false         726\n",
      "true          331\n",
      "dtype: int64 \n",
      "\n",
      "data ['true', 'false'] après drop duplicates : \n",
      " our rating\n",
      "false         725\n",
      "true          324\n",
      "dtype: int64 \n",
      "\n",
      "Manque une row dans le dataset :\n",
      " true/false    54\n",
      "Name: our rating, dtype: int64\n",
      "Choix aléatoire d'une row à ajouter dans le data set\n",
      "Nouveau nombre de row : \n",
      " true/false    54\n",
      "false          1\n",
      "Name: our rating, dtype: int64\n",
      "Nouveau nombre de row :  true/false    55\n",
      "Name: our rating, dtype: int64\n"
     ]
    }
   ],
   "source": [
    "\"\"\"\n",
    "import random\n",
    "print(\"Valeur du dataset de base: \", data_to_test['our rating'].value_counts())\n",
    "data_to_add = initDataToTest(data_to_test[~data_to_test['text'].isin(df_text['text'])],['title'], ['our rating'], ['true', 'false'], 27 ,'true/false')\n",
    "print(\"Manque une row dans le dataset :\\n\", data_to_add['our rating'].value_counts())\n",
    "print(\"Choix aléatoire d'une row à ajouter dans le data set\")\n",
    "data_to_random = data_to_test[~data_to_test['text'].isin(data_to_add['text'])]\n",
    "random_row_index = random.randint(0, len(data_to_random) - 1)\n",
    "random_row = data_to_random.iloc[random_row_index]\n",
    "data_to_add = data_to_add.append(random_row, ignore_index=True)\n",
    "print(\"Nouveau nombre de row : \\n\", data_to_add['our rating'].value_counts())\n",
    "data_to_add = data_to_add.replace(\"false\", \"true/false\")\n",
    "print(\"Nouveau nombre de row : \", data_to_add['our rating'].value_counts())\n",
    "\n",
    "\"\"\""
   ]
  },
  {
   "cell_type": "markdown",
   "metadata": {
    "id": "GZ_yp_o1JM6W"
   },
   "source": [
    "    -> Enregistrement DataFrame à lancer seulement si de nouveau jeux de données sont crées"
   ]
  },
  {
   "cell_type": "code",
   "execution_count": null,
   "metadata": {
    "id": "9BSDE9fHJM6X"
   },
   "outputs": [],
   "source": [
    "df_text_EN_and_DE = pd.concat([df_text, df_allemand_text, data_to_add])\n",
    "df_text_EN_and_DE.to_csv(\"./Data_equilibre/True_And_False_VS_Other/balanced_df_TFO_text_EN_and_DE.csv\")"
   ]
  },
  {
   "cell_type": "markdown",
   "metadata": {
    "id": "4JQZJOleJM6X"
   },
   "source": [
    "    -> Chargement des données Anglaise et Allemandes traduites"
   ]
  },
  {
   "cell_type": "code",
   "execution_count": null,
   "metadata": {
    "colab": {
     "base_uri": "https://localhost:8080/",
     "height": 476
    },
    "executionInfo": {
     "elapsed": 2207,
     "status": "ok",
     "timestamp": 1682532399223,
     "user": {
      "displayName": "Etienne Martin",
      "userId": "04420319778773764841"
     },
     "user_tz": -120
    },
    "id": "o2ftcsqJJM6Y",
    "outputId": "1c73bfc1-3560-4c53-eccf-b3658fe3b22b"
   },
   "outputs": [
    {
     "data": {
      "text/html": [
       "<div>\n",
       "<style scoped>\n",
       "    .dataframe tbody tr th:only-of-type {\n",
       "        vertical-align: middle;\n",
       "    }\n",
       "\n",
       "    .dataframe tbody tr th {\n",
       "        vertical-align: top;\n",
       "    }\n",
       "\n",
       "    .dataframe thead th {\n",
       "        text-align: right;\n",
       "    }\n",
       "</style>\n",
       "<table border=\"1\" class=\"dataframe\">\n",
       "  <thead>\n",
       "    <tr style=\"text-align: right;\">\n",
       "      <th></th>\n",
       "      <th>Unnamed: 0.1</th>\n",
       "      <th>Unnamed: 0</th>\n",
       "      <th>text</th>\n",
       "      <th>our rating</th>\n",
       "      <th>title</th>\n",
       "    </tr>\n",
       "  </thead>\n",
       "  <tbody>\n",
       "    <tr>\n",
       "      <th>0</th>\n",
       "      <td>0</td>\n",
       "      <td>0.0</td>\n",
       "      <td>(CNN) Even though the coronavirus pandemic con...</td>\n",
       "      <td>true/false</td>\n",
       "      <td>NaN</td>\n",
       "    </tr>\n",
       "    <tr>\n",
       "      <th>1</th>\n",
       "      <td>1</td>\n",
       "      <td>1.0</td>\n",
       "      <td>As we try to come to terms with the extent of ...</td>\n",
       "      <td>true/false</td>\n",
       "      <td>NaN</td>\n",
       "    </tr>\n",
       "    <tr>\n",
       "      <th>2</th>\n",
       "      <td>2</td>\n",
       "      <td>2.0</td>\n",
       "      <td>HOUSTON — In Texas, marijuana is illegal, and ...</td>\n",
       "      <td>true/false</td>\n",
       "      <td>NaN</td>\n",
       "    </tr>\n",
       "    <tr>\n",
       "      <th>3</th>\n",
       "      <td>3</td>\n",
       "      <td>3.0</td>\n",
       "      <td>Milwaukee County Executive Chris Abele high-fi...</td>\n",
       "      <td>true/false</td>\n",
       "      <td>NaN</td>\n",
       "    </tr>\n",
       "    <tr>\n",
       "      <th>4</th>\n",
       "      <td>4</td>\n",
       "      <td>4.0</td>\n",
       "      <td>Extremely hot days, when temperatures soar to ...</td>\n",
       "      <td>true/false</td>\n",
       "      <td>NaN</td>\n",
       "    </tr>\n",
       "    <tr>\n",
       "      <th>...</th>\n",
       "      <td>...</td>\n",
       "      <td>...</td>\n",
       "      <td>...</td>\n",
       "      <td>...</td>\n",
       "      <td>...</td>\n",
       "    </tr>\n",
       "    <tr>\n",
       "      <th>405</th>\n",
       "      <td>50</td>\n",
       "      <td>NaN</td>\n",
       "      <td>There was joy in the air Tuesday, as State Rep...</td>\n",
       "      <td>true/false</td>\n",
       "      <td>NaN</td>\n",
       "    </tr>\n",
       "    <tr>\n",
       "      <th>406</th>\n",
       "      <td>51</td>\n",
       "      <td>NaN</td>\n",
       "      <td>@chris_najdek  Chris_najdek IG  Cnajdek27@gmai...</td>\n",
       "      <td>true/false</td>\n",
       "      <td>NaN</td>\n",
       "    </tr>\n",
       "    <tr>\n",
       "      <th>407</th>\n",
       "      <td>52</td>\n",
       "      <td>NaN</td>\n",
       "      <td>The chant “lock her up” has finally seen fruit...</td>\n",
       "      <td>true/false</td>\n",
       "      <td>NaN</td>\n",
       "    </tr>\n",
       "    <tr>\n",
       "      <th>408</th>\n",
       "      <td>53</td>\n",
       "      <td>NaN</td>\n",
       "      <td>The Daily Star's FREE newsletter is spectacula...</td>\n",
       "      <td>true/false</td>\n",
       "      <td>NaN</td>\n",
       "    </tr>\n",
       "    <tr>\n",
       "      <th>409</th>\n",
       "      <td>54</td>\n",
       "      <td>NaN</td>\n",
       "      <td>This is HUGE!  Pennsylvania Judge Patricia A. ...</td>\n",
       "      <td>true/false</td>\n",
       "      <td>BREAKING HUGE: Pennsylvania Judge Files Memora...</td>\n",
       "    </tr>\n",
       "  </tbody>\n",
       "</table>\n",
       "<p>410 rows × 5 columns</p>\n",
       "</div>"
      ],
      "text/plain": [
       "     Unnamed: 0.1  Unnamed: 0  \\\n",
       "0               0         0.0   \n",
       "1               1         1.0   \n",
       "2               2         2.0   \n",
       "3               3         3.0   \n",
       "4               4         4.0   \n",
       "..            ...         ...   \n",
       "405            50         NaN   \n",
       "406            51         NaN   \n",
       "407            52         NaN   \n",
       "408            53         NaN   \n",
       "409            54         NaN   \n",
       "\n",
       "                                                  text  our rating  \\\n",
       "0    (CNN) Even though the coronavirus pandemic con...  true/false   \n",
       "1    As we try to come to terms with the extent of ...  true/false   \n",
       "2    HOUSTON — In Texas, marijuana is illegal, and ...  true/false   \n",
       "3    Milwaukee County Executive Chris Abele high-fi...  true/false   \n",
       "4    Extremely hot days, when temperatures soar to ...  true/false   \n",
       "..                                                 ...         ...   \n",
       "405  There was joy in the air Tuesday, as State Rep...  true/false   \n",
       "406  @chris_najdek  Chris_najdek IG  Cnajdek27@gmai...  true/false   \n",
       "407  The chant “lock her up” has finally seen fruit...  true/false   \n",
       "408  The Daily Star's FREE newsletter is spectacula...  true/false   \n",
       "409  This is HUGE!  Pennsylvania Judge Patricia A. ...  true/false   \n",
       "\n",
       "                                                 title  \n",
       "0                                                  NaN  \n",
       "1                                                  NaN  \n",
       "2                                                  NaN  \n",
       "3                                                  NaN  \n",
       "4                                                  NaN  \n",
       "..                                                 ...  \n",
       "405                                                NaN  \n",
       "406                                                NaN  \n",
       "407                                                NaN  \n",
       "408                                                NaN  \n",
       "409  BREAKING HUGE: Pennsylvania Judge Files Memora...  \n",
       "\n",
       "[410 rows x 5 columns]"
      ]
     },
     "metadata": {},
     "output_type": "display_data"
    },
    {
     "name": "stdout",
     "output_type": "stream",
     "text": [
      "true/false    205\n",
      "other         205\n",
      "Name: our rating, dtype: int64\n"
     ]
    }
   ],
   "source": [
    "df_text_EN_and_DE = pd.read_csv(\"./Data_equilibre/True_And_False_VS_Other/balanced_df_TFO_text_EN_and_DE.csv\")\n",
    "display(df_text_EN_and_DE)\n",
    "print(df_text_EN_and_DE['our rating'].value_counts())\n"
   ]
  },
  {
   "cell_type": "markdown",
   "metadata": {
    "id": "5fFFViMSJM6Y"
   },
   "source": [
    "_____________________________________________________________________________________________________\n",
    "_____________________________________________________________________________________________________\n",
    "                    \n",
    "        2. Nouveau Test des Classifieurs avec les données Allemandes seulement avec le Texte\n",
    "_____________________________________________________________________________________________________\n",
    "_____________________________________________________________________________________________________"
   ]
  },
  {
   "cell_type": "code",
   "execution_count": null,
   "metadata": {
    "id": "L08ek9p_JM6Z"
   },
   "outputs": [],
   "source": [
    "X_train_text_DE = df_text_EN_and_DE['text']\n",
    "Y_train_text_DE = df_text_EN_and_DE['our rating']"
   ]
  },
  {
   "cell_type": "markdown",
   "metadata": {
    "id": "CLrHfDlsJM6Z"
   },
   "source": [
    "        2.1  SVC"
   ]
  },
  {
   "cell_type": "code",
   "execution_count": null,
   "metadata": {
    "colab": {
     "base_uri": "https://localhost:8080/"
    },
    "id": "e9kTXPPxJM6Z",
    "outputId": "bbdc4008-9516-44e7-d994-693cedb021c2"
   },
   "outputs": [
    {
     "name": "stdout",
     "output_type": "stream",
     "text": [
      "Test SVC Text\n",
      "Application de gridsearch ...\n",
      "pipeline : ['cleaner', 'tfidf', 'svm']\n",
      "parameters :\n",
      "{'cleaner__removedigit': [True, False], 'cleaner__getlemmatisation': [True, False], 'cleaner__getstemmer': [True, False], 'tfidf__stop_words': ['english', None], 'tfidf__lowercase': [True, False], 'svm__C': [0.001, 0.01, 0.1, 1, 10], 'svm__gamma': [0.001, 0.01, 0.1, 1], 'svm__kernel': ['linear', 'rbf', 'poly', 'sigmoid']}\n",
      "Fitting 5 folds for each of 2560 candidates, totalling 12800 fits\n"
     ]
    },
    {
     "name": "stderr",
     "output_type": "stream",
     "text": [
      "[nltk_data] Error loading omw-1.4: <urlopen error [Errno 11001]\n",
      "[nltk_data]     getaddrinfo failed>\n"
     ]
    },
    {
     "name": "stdout",
     "output_type": "stream",
     "text": [
      "réalisé en  6697.374 s\n",
      "Meilleur résultat : 0.722\n",
      "Ensemble des meilleurs paramètres :\n",
      "\tcleaner__getlemmatisation: True\n",
      "\tcleaner__getstemmer: True\n",
      "\tcleaner__removedigit: False\n",
      "\tsvm__C: 10\n",
      "\tsvm__gamma: 0.1\n",
      "\tsvm__kernel: 'rbf'\n",
      "\ttfidf__lowercase: True\n",
      "\ttfidf__stop_words: None\n",
      "\n",
      "Les premiers résultats : \n",
      "       cleaner__getlemmatisation  cleaner__getstemmer  cleaner__removedigit  \\\n",
      "613                        True                 True                 False   \n",
      "615                        True                 True                 False   \n",
      "1893                      False                 True                 False   \n",
      "1895                      False                 True                 False   \n",
      "1253                       True                False                 False   \n",
      "\n",
      "      svm__C  svm__gamma svm__kernel  tfidf__lowercase tfidf__stop_words  \\\n",
      "613     10.0         0.1         rbf              True              None   \n",
      "615     10.0         0.1         rbf             False              None   \n",
      "1893    10.0         0.1         rbf              True              None   \n",
      "1895    10.0         0.1         rbf             False              None   \n",
      "1253    10.0         0.1         rbf              True              None   \n",
      "\n",
      "      accuracy  \n",
      "613   0.721951  \n",
      "615   0.721951  \n",
      "1893  0.719512  \n",
      "1895  0.719512  \n",
      "1253  0.714634  \n"
     ]
    }
   ],
   "source": [
    "print(\"Test SVC Text\")\n",
    "testSVC(X_train_text_DE,Y_train_text_DE, 5,'/True_And_False_VS_Other/Texte/data_EN_And_DE_SVC_TFO_Texte')"
   ]
  },
  {
   "cell_type": "code",
   "execution_count": null,
   "metadata": {
    "id": "t2wlMYeOJM6a",
    "outputId": "edafd106-4a37-4c48-865c-85a7187f399a"
   },
   "outputs": [
    {
     "name": "stdout",
     "output_type": "stream",
     "text": [
      "Sauvegarde du modèle dans  ./Modele/True_And_False_VS_Other/TFO_svm_DE.pkl\n",
      "Chargement du modèle \n",
      "\n",
      "Pipeline(steps=[('cleaner',\n",
      "                 TextNormalizer(getlemmatisation=True, getstemmer=True)),\n",
      "                ('tfidf', TfidfVectorizer()),\n",
      "                ('svm', SVC(C=10, gamma=0.1, probability=True))])\n",
      "Accuracy : 0.805\n",
      "Classification Report\n",
      "              precision    recall  f1-score   support\n",
      "\n",
      "       other    0.83333   0.75000   0.78947        20\n",
      "  true/false    0.78261   0.85714   0.81818        21\n",
      "\n",
      "    accuracy                        0.80488        41\n",
      "   macro avg    0.80797   0.80357   0.80383        41\n",
      "weighted avg    0.80735   0.80488   0.80418        41\n",
      "\n"
     ]
    },
    {
     "data": {
      "image/png": "[encoded data removed]",
      "text/plain": [
       "<Figure size 800x500 with 2 Axes>"
      ]
     },
     "metadata": {},
     "output_type": "display_data"
    }
   ],
   "source": [
    "from sklearn.model_selection import train_test_split\n",
    "import pickle\n",
    "# Création d'un jeu d'apprentissage et de test\n",
    "trainsize=0.9 # 70% pour le jeu d'apprentissage, il reste 30% du jeu de données pour\n",
    "testsize= 0.1\n",
    "seed=30\n",
    "\n",
    "train_title,test_title,train_note,test_note=train_test_split(X_train_text_DE,Y_train_text_DE, train_size=trainsize,random_state=seed,test_size=testsize,stratify=Y_train_text_DE)\n",
    "\n",
    "pipeline=Pipeline([\n",
    "    (\"cleaner\", TextNormalizer(removedigit=False, getlemmatisation=True, getstemmer=True)),\n",
    "    (\"tfidf\", TfidfVectorizer(lowercase=True, stop_words=None)),\n",
    "    ('svm', SVC(C=10, gamma=0.1, kernel='rbf',probability=True))\n",
    "])\n",
    "pipeline.fit(train_title,train_note)\n",
    "filename='./Modele/True_And_False_VS_Other/TFO_svm_DE.pkl'\n",
    "print(\"Sauvegarde du modèle dans \", filename)\n",
    "pickle.dump(pipeline, open(filename, \"wb\"))\n",
    "\n",
    "\n",
    "print (\"Chargement du modèle \\n\")\n",
    "# le chargement se fait via la fonction load\n",
    "clf_loaded = pickle.load(open(filename, 'rb'))\n",
    "# affichage du modèle sauvegardé\n",
    "print (clf_loaded)\n",
    "\n",
    "\n",
    "# test  avec les données qu'il a apprise c'est parfait woahhha c'est beau\n",
    "y_pred = clf_loaded.predict(test_title)\n",
    "# autres mesures et matrice de confusion\n",
    "MyshowAllScores(test_note,y_pred)"
   ]
  },
  {
   "cell_type": "markdown",
   "metadata": {
    "id": "RoF_-wZHJM6a"
   },
   "source": [
    "        2.2  RFC"
   ]
  },
  {
   "cell_type": "code",
   "execution_count": null,
   "metadata": {
    "id": "xJPG9X-NJM6a",
    "outputId": "04058cf2-da54-484a-eb59-6d5ed5ca0385"
   },
   "outputs": [
    {
     "name": "stdout",
     "output_type": "stream",
     "text": [
      "Test RFC Text\n",
      "Application de gridsearch ...\n",
      "pipeline : ['cleaner', 'tfidf', 'rfc']\n",
      "parameters :\n",
      "{'cleaner__getstemmer': [True, False], 'cleaner__removedigit': [True, False], 'cleaner__getlemmatisation': [True, False], 'tfidf__stop_words': ['english', None], 'tfidf__lowercase': [True, False], 'rfc__n_estimators': [500, 1200], 'rfc__max_depth': [25, 30], 'rfc__min_samples_split': [5, 10, 15], 'rfc__min_samples_leaf': [1, 2]}\n",
      "Fitting 5 folds for each of 768 candidates, totalling 3840 fits\n",
      "réalisé en  3698.907 s\n",
      "Meilleur résultat : 0.710\n",
      "Ensemble des meilleurs paramètres :\n",
      "\tcleaner__getlemmatisation: True\n",
      "\tcleaner__getstemmer: True\n",
      "\tcleaner__removedigit: False\n",
      "\trfc__max_depth: 25\n",
      "\trfc__min_samples_leaf: 2\n",
      "\trfc__min_samples_split: 5\n",
      "\trfc__n_estimators: 500\n",
      "\ttfidf__lowercase: True\n",
      "\ttfidf__stop_words: None\n",
      "\n",
      "Les premiers résultats : \n",
      "      cleaner__getlemmatisation  cleaner__getstemmer  cleaner__removedigit  \\\n",
      "121                       True                 True                 False   \n",
      "657                      False                False                  True   \n",
      "107                       True                 True                 False   \n",
      "669                      False                False                  True   \n",
      "339                       True                False                 False   \n",
      "\n",
      "     rfc__max_depth  rfc__min_samples_leaf  rfc__min_samples_split  \\\n",
      "121              25                      2                       5   \n",
      "657              30                      2                      10   \n",
      "107              25                      1                      10   \n",
      "669              30                      2                      15   \n",
      "339              30                      1                       5   \n",
      "\n",
      "     rfc__n_estimators  tfidf__lowercase tfidf__stop_words  accuracy  \n",
      "121                500              True              None  0.709756  \n",
      "657                500              True              None  0.704878  \n",
      "107                500             False              None  0.704878  \n",
      "669               1200              True              None  0.704878  \n",
      "339                500             False              None  0.702439  \n"
     ]
    }
   ],
   "source": [
    "print(\"Test RFC Text\")\n",
    "testRFC(X_train_text_DE,Y_train_text_DE,5,'/True_And_False_VS_Other/Texte/data_EN_And_DE_RFC_TFO_Texte')"
   ]
  },
  {
   "cell_type": "code",
   "execution_count": null,
   "metadata": {
    "id": "b2Cw0elwJM6b",
    "outputId": "f27f761a-7437-481b-ae3c-2ffe0c562d20"
   },
   "outputs": [
    {
     "name": "stdout",
     "output_type": "stream",
     "text": [
      "Sauvegarde du modèle dans  ./Modele/True_And_False_VS_Other/TFO_RFC_DE.pkl\n",
      "Chargement du modèle \n",
      "\n",
      "Pipeline(steps=[('cleaner',\n",
      "                 TextNormalizer(getlemmatisation=True, getstemmer=True)),\n",
      "                ('tfidf', TfidfVectorizer(stop_words='english')),\n",
      "                ('rfc',\n",
      "                 RandomForestClassifier(max_depth=25, min_samples_leaf=2,\n",
      "                                        min_samples_split=5,\n",
      "                                        n_estimators=500))])\n",
      "Accuracy : 0.780\n",
      "Classification Report\n",
      "              precision    recall  f1-score   support\n",
      "\n",
      "       other    0.76190   0.80000   0.78049        20\n",
      "  true/false    0.80000   0.76190   0.78049        21\n",
      "\n",
      "    accuracy                        0.78049        41\n",
      "   macro avg    0.78095   0.78095   0.78049        41\n",
      "weighted avg    0.78142   0.78049   0.78049        41\n",
      "\n"
     ]
    },
    {
     "data": {
      "image/png": "[encoded data removed]",
      "text/plain": [
       "<Figure size 800x500 with 2 Axes>"
      ]
     },
     "metadata": {},
     "output_type": "display_data"
    }
   ],
   "source": [
    "import pickle\n",
    "from sklearn.ensemble import RandomForestClassifier\n",
    "from sklearn.model_selection import train_test_split\n",
    "# Création d'un jeu d'apprentissage et de test\n",
    "trainsize=0.9 # 70% pour le jeu d'apprentissage, il reste 30% du jeu de données pour\n",
    "testsize= 0.1\n",
    "seed=30\n",
    "train_title,test_title,train_note,test_note=train_test_split(X_train_text_DE,Y_train_text_DE, train_size=trainsize,random_state=seed,test_size=testsize,stratify=Y_train_text_DE)\n",
    "\n",
    "pipeline=Pipeline([\n",
    "    (\"cleaner\", TextNormalizer(removedigit=False, getlemmatisation=True, getstemmer=True)),\n",
    "    (\"tfidf\", TfidfVectorizer(lowercase=True, stop_words='english')),\n",
    "    ('rfc', RandomForestClassifier(max_depth=25,min_samples_leaf=2, min_samples_split=5, n_estimators=500))\n",
    "])\n",
    "pipeline.fit(train_title,train_note)\n",
    "filename='./Modele/True_And_False_VS_Other/TFO_RFC_DE.pkl'\n",
    "print(\"Sauvegarde du modèle dans \", filename)\n",
    "pickle.dump(pipeline, open(filename, \"wb\"))\n",
    "\n",
    "\n",
    "\n",
    "print (\"Chargement du modèle \\n\")\n",
    "# le chargement se fait via la fonction load\n",
    "clf_loaded = pickle.load(open(filename, 'rb'))\n",
    "# affichage du modèle sauvegardé\n",
    "print (clf_loaded)\n",
    "\n",
    "\n",
    "# test  avec les données qu'il a apprise c'est parfait woahhha c'est beau\n",
    "y_pred = clf_loaded.predict(test_title)\n",
    "# autres mesures et matrice de confusion\n",
    "MyshowAllScores(test_note,y_pred)"
   ]
  },
  {
   "cell_type": "markdown",
   "metadata": {
    "id": "4IIfbxnbJM6c"
   },
   "source": [
    "        2.3  LR"
   ]
  },
  {
   "cell_type": "code",
   "execution_count": null,
   "metadata": {
    "id": "72MZmdc4JM6c",
    "outputId": "d12e4986-075a-438c-adfd-e1749395b815"
   },
   "outputs": [
    {
     "name": "stdout",
     "output_type": "stream",
     "text": [
      "Test LR text\n",
      "Application de gridsearch ...\n",
      "pipeline : ['cleaner', 'tfidf', 'lr']\n",
      "parameters :\n",
      "{'cleaner__getstemmer': [True, False], 'cleaner__removedigit': [True, False], 'cleaner__getlemmatisation': [True, False], 'tfidf__stop_words': ['english', None], 'tfidf__lowercase': [True, False], 'lr__solver': ['newton-cg', 'lbfgs', 'liblinear'], 'lr__penalty': ['l2'], 'lr__C': [100, 10, 1.0, 0.1, 0.01]}\n",
      "Fitting 5 folds for each of 480 candidates, totalling 2400 fits\n",
      "réalisé en  1256.716 s\n",
      "Meilleur résultat : 0.710\n",
      "Ensemble des meilleurs paramètres :\n",
      "\tcleaner__getlemmatisation: False\n",
      "\tcleaner__getstemmer: True\n",
      "\tcleaner__removedigit: False\n",
      "\tlr__C: 100\n",
      "\tlr__penalty: 'l2'\n",
      "\tlr__solver: 'newton-cg'\n",
      "\ttfidf__lowercase: True\n",
      "\ttfidf__stop_words: None\n",
      "\n",
      "Les premiers résultats : \n",
      "      cleaner__getlemmatisation  cleaner__getstemmer  cleaner__removedigit  \\\n",
      "301                      False                 True                 False   \n",
      "303                      False                 True                 False   \n",
      "305                      False                 True                 False   \n",
      "307                      False                 True                 False   \n",
      "309                      False                 True                 False   \n",
      "\n",
      "     lr__C lr__penalty lr__solver  tfidf__lowercase tfidf__stop_words  \\\n",
      "301  100.0          l2  newton-cg              True              None   \n",
      "303  100.0          l2  newton-cg             False              None   \n",
      "305  100.0          l2      lbfgs              True              None   \n",
      "307  100.0          l2      lbfgs             False              None   \n",
      "309  100.0          l2  liblinear              True              None   \n",
      "\n",
      "     accuracy  \n",
      "301  0.709756  \n",
      "303  0.709756  \n",
      "305  0.709756  \n",
      "307  0.709756  \n",
      "309  0.709756  \n"
     ]
    }
   ],
   "source": [
    "print(\"Test LR text\")\n",
    "testLR(X_train_text_DE,Y_train_text_DE,5,'/True_And_False_VS_Other/Texte/data_EN_And_DE_LR_TFO_Texte')\n"
   ]
  },
  {
   "cell_type": "markdown",
   "metadata": {
    "id": "N_6qZWygJM6d"
   },
   "source": [
    "        2.4  CART"
   ]
  },
  {
   "cell_type": "code",
   "execution_count": null,
   "metadata": {
    "id": "_kIhXTryJM6d",
    "outputId": "295fcfbe-bf5f-443f-846f-3d885d5a305b"
   },
   "outputs": [
    {
     "name": "stdout",
     "output_type": "stream",
     "text": [
      "Test CART, Texte\n",
      "Application de gridsearch ...\n",
      "pipeline : ['cleaner', 'tfidf', 'CART']\n",
      "parameters :\n",
      "{'cleaner__getstemmer': [True, False], 'cleaner__removedigit': [True, False], 'cleaner__getlemmatisation': [True, False], 'tfidf__stop_words': ['english', None], 'tfidf__lowercase': [True, False], 'CART__max_depth': [10, 20, 30], 'CART__min_samples_split': [2, 5, 10], 'CART__min_samples_leaf': [1, 2, 4], 'CART__criterion': ['gini', 'entropy']}\n",
      "Fitting 5 folds for each of 1728 candidates, totalling 8640 fits\n",
      "réalisé en  4589.401 s\n",
      "Meilleur résultat : 0.695\n",
      "Ensemble des meilleurs paramètres :\n",
      "\tCART__criterion: 'gini'\n",
      "\tCART__max_depth: 20\n",
      "\tCART__min_samples_leaf: 1\n",
      "\tCART__min_samples_split: 5\n",
      "\tcleaner__getlemmatisation: True\n",
      "\tcleaner__getstemmer: False\n",
      "\tcleaner__removedigit: True\n",
      "\ttfidf__lowercase: True\n",
      "\ttfidf__stop_words: None\n",
      "\n",
      "Les premiers résultats : \n",
      "      CART__criterion  CART__max_depth  CART__min_samples_leaf  \\\n",
      "329             gini               20                       1   \n",
      "1612         entropy               30                       2   \n",
      "1580         entropy               30                       2   \n",
      "361             gini               20                       1   \n",
      "1468         entropy               30                       1   \n",
      "\n",
      "      CART__min_samples_split  cleaner__getlemmatisation  cleaner__getstemmer  \\\n",
      "329                         5                       True                False   \n",
      "1612                       10                       True                False   \n",
      "1580                        5                       True                False   \n",
      "361                        10                       True                False   \n",
      "1468                        2                      False                False   \n",
      "\n",
      "      cleaner__removedigit  tfidf__lowercase tfidf__stop_words  accuracy  \n",
      "329                   True              True              None  0.695122  \n",
      "1612                 False              True           english  0.678049  \n",
      "1580                 False              True           english  0.678049  \n",
      "361                   True              True              None  0.673171  \n",
      "1468                 False              True           english  0.673171  \n"
     ]
    }
   ],
   "source": [
    "print(\"Test CART, Texte\")\n",
    "testCART(X_train_text_DE,Y_train_text_DE,5,'/True_And_False_VS_Other/Texte/data_EN_And_DE_CART_TFO_Texte')\n"
   ]
  },
  {
   "cell_type": "markdown",
   "metadata": {
    "id": "9U9mkfn4JM6d"
   },
   "source": [
    "        2.5  KNN"
   ]
  },
  {
   "cell_type": "code",
   "execution_count": null,
   "metadata": {
    "id": "-gn5bPRDJM6e",
    "outputId": "3c504735-7c53-4fbb-df65-ff42dfc96853"
   },
   "outputs": [
    {
     "name": "stdout",
     "output_type": "stream",
     "text": [
      "Test KNN text\n",
      "Application de gridsearch ...\n",
      "pipeline : ['cleaner', 'tfidf', 'KNN']\n",
      "parameters :\n",
      "{'cleaner__getstemmer': [True, False], 'cleaner__removedigit': [True, False], 'cleaner__getlemmatisation': [True, False], 'tfidf__stop_words': ['english', None], 'tfidf__lowercase': [True, False], 'KNN__n_neighbors': [1, 2, 3, 4, 5, 6, 7, 8, 9, 10, 11, 12, 13, 14], 'KNN__algorithm': ['auto', 'ball_tree', 'kd_tree', 'brute'], 'KNN__weights': ['uniform', 'distance'], 'KNN__metric': ['minkowski', 'euclidean', 'manhattan']}\n",
      "Fitting 5 folds for each of 10752 candidates, totalling 53760 fits\n",
      "réalisé en  36830.463 s\n",
      "Meilleur résultat : 0.712\n",
      "Ensemble des meilleurs paramètres :\n",
      "\tKNN__algorithm: 'auto'\n",
      "\tKNN__metric: 'minkowski'\n",
      "\tKNN__n_neighbors: 4\n",
      "\tKNN__weights: 'distance'\n",
      "\tcleaner__getlemmatisation: True\n",
      "\tcleaner__getstemmer: True\n",
      "\tcleaner__removedigit: True\n",
      "\ttfidf__lowercase: True\n",
      "\ttfidf__stop_words: None\n",
      "\n",
      "Les premiers résultats : \n",
      "      KNN__algorithm KNN__metric  KNN__n_neighbors KNN__weights  \\\n",
      "6497        kd_tree   euclidean                 4     distance   \n",
      "227            auto   minkowski                 4     distance   \n",
      "2915      ball_tree   minkowski                 4     distance   \n",
      "2913      ball_tree   minkowski                 4     distance   \n",
      "1123           auto   euclidean                 4     distance   \n",
      "\n",
      "      cleaner__getlemmatisation  cleaner__getstemmer  cleaner__removedigit  \\\n",
      "6497                       True                 True                  True   \n",
      "227                        True                 True                  True   \n",
      "2915                       True                 True                  True   \n",
      "2913                       True                 True                  True   \n",
      "1123                       True                 True                  True   \n",
      "\n",
      "      tfidf__lowercase tfidf__stop_words  accuracy  \n",
      "6497              True              None  0.712195  \n",
      "227              False              None  0.712195  \n",
      "2915             False              None  0.712195  \n",
      "2913              True              None  0.712195  \n",
      "1123             False              None  0.712195  \n"
     ]
    }
   ],
   "source": [
    "print(\"Test KNN text\")\n",
    "testKNeighborsClassifier(X_train_text_DE,Y_train_text_DE,5,'/True_And_False_VS_Other/Texte/data_EN_And_DE_KNN_TFO_Texte')\n"
   ]
  },
  {
   "cell_type": "markdown",
   "metadata": {
    "id": "xPfhpn-dJM6e"
   },
   "source": [
    "        2.6  MB"
   ]
  },
  {
   "cell_type": "code",
   "execution_count": null,
   "metadata": {
    "id": "KMO6XitoJM6e",
    "outputId": "1dbade6f-dda0-4b32-fb37-9f06b467569a"
   },
   "outputs": [
    {
     "name": "stdout",
     "output_type": "stream",
     "text": [
      "MultinomialNB test Text\n",
      "Application de gridsearch ...\n",
      "pipeline : ['cleaner', 'tfidf', 'MultinomialNB']\n",
      "parameters :\n",
      "{'cleaner__getstemmer': [True, False], 'cleaner__removedigit': [True, False], 'cleaner__getlemmatisation': [True, False], 'tfidf__stop_words': ['english', None], 'tfidf__lowercase': [True, False], 'MultinomialNB__alpha': [0.1, 0.5, 1.0, 2.0], 'MultinomialNB__fit_prior': [True, False], 'MultinomialNB__force_alpha': [True, False]}\n",
      "Fitting 5 folds for each of 512 candidates, totalling 2560 fits\n",
      "réalisé en  1360.580 s\n",
      "Meilleur résultat : 0.693\n",
      "Ensemble des meilleurs paramètres :\n",
      "\tMultinomialNB__alpha: 0.1\n",
      "\tMultinomialNB__fit_prior: True\n",
      "\tMultinomialNB__force_alpha: True\n",
      "\tcleaner__getlemmatisation: True\n",
      "\tcleaner__getstemmer: False\n",
      "\tcleaner__removedigit: True\n",
      "\ttfidf__lowercase: True\n",
      "\ttfidf__stop_words: None\n",
      "\n",
      "Les premiers résultats : \n",
      "      MultinomialNB__alpha  MultinomialNB__fit_prior  \\\n",
      "105                   0.1                     False   \n",
      "41                    0.1                      True   \n",
      "73                    0.1                     False   \n",
      "9                     0.1                      True   \n",
      "0                     0.1                      True   \n",
      "\n",
      "     MultinomialNB__force_alpha  cleaner__getlemmatisation  \\\n",
      "105                       False                       True   \n",
      "41                        False                       True   \n",
      "73                         True                       True   \n",
      "9                          True                       True   \n",
      "0                          True                       True   \n",
      "\n",
      "     cleaner__getstemmer  cleaner__removedigit  tfidf__lowercase  \\\n",
      "105                False                  True              True   \n",
      "41                 False                  True              True   \n",
      "73                 False                  True              True   \n",
      "9                  False                  True              True   \n",
      "0                   True                  True              True   \n",
      "\n",
      "    tfidf__stop_words  accuracy  \n",
      "105              None  0.692683  \n",
      "41               None  0.692683  \n",
      "73               None  0.692683  \n",
      "9                None  0.692683  \n",
      "0             english  0.687805  \n"
     ]
    }
   ],
   "source": [
    "print(\"MultinomialNB test Text\")\n",
    "testMNB(X_train_text_DE,Y_train_text_DE,5,'/True_And_False_VS_Other/Texte/data_EN_And_DE_MNB_TFO_Texte')"
   ]
  },
  {
   "cell_type": "markdown",
   "metadata": {
    "id": "9isWqxs4JM6f"
   },
   "source": [
    "_____________________________________________________________________________________________________\n",
    "_____________________________________________________________________________________________________\n",
    "                    \n",
    " ## 3. Affichage des données du meilleur modèle Courbe Roc,         d'apprentissage ect...\n",
    "\n",
    " Meilleur modèle SVC avec données allemandes\n",
    "_____________________________________________________________________________________________________\n",
    "_____________________________________________________________________________________________________"
   ]
  },
  {
   "cell_type": "code",
   "execution_count": null,
   "metadata": {
    "id": "DQy53JwnJM6f",
    "outputId": "a26ee6df-0f44-41cf-d557-c04ba11fecbc"
   },
   "outputs": [
    {
     "data": {
      "text/html": [
       "<div>\n",
       "<style scoped>\n",
       "    .dataframe tbody tr th:only-of-type {\n",
       "        vertical-align: middle;\n",
       "    }\n",
       "\n",
       "    .dataframe tbody tr th {\n",
       "        vertical-align: top;\n",
       "    }\n",
       "\n",
       "    .dataframe thead th {\n",
       "        text-align: right;\n",
       "    }\n",
       "</style>\n",
       "<table border=\"1\" class=\"dataframe\">\n",
       "  <thead>\n",
       "    <tr style=\"text-align: right;\">\n",
       "      <th></th>\n",
       "      <th>cleaner__getlemmatisation</th>\n",
       "      <th>cleaner__getstemmer</th>\n",
       "      <th>cleaner__removedigit</th>\n",
       "      <th>svm__C</th>\n",
       "      <th>svm__gamma</th>\n",
       "      <th>svm__kernel</th>\n",
       "      <th>tfidf__lowercase</th>\n",
       "      <th>tfidf__stop_words</th>\n",
       "      <th>accuracy</th>\n",
       "    </tr>\n",
       "  </thead>\n",
       "  <tbody>\n",
       "    <tr>\n",
       "      <th>0</th>\n",
       "      <td>True</td>\n",
       "      <td>True</td>\n",
       "      <td>False</td>\n",
       "      <td>10.0</td>\n",
       "      <td>0.1</td>\n",
       "      <td>rbf</td>\n",
       "      <td>True</td>\n",
       "      <td>NaN</td>\n",
       "      <td>0.721951</td>\n",
       "    </tr>\n",
       "    <tr>\n",
       "      <th>1</th>\n",
       "      <td>True</td>\n",
       "      <td>True</td>\n",
       "      <td>False</td>\n",
       "      <td>10.0</td>\n",
       "      <td>0.1</td>\n",
       "      <td>rbf</td>\n",
       "      <td>False</td>\n",
       "      <td>NaN</td>\n",
       "      <td>0.721951</td>\n",
       "    </tr>\n",
       "    <tr>\n",
       "      <th>2</th>\n",
       "      <td>False</td>\n",
       "      <td>True</td>\n",
       "      <td>False</td>\n",
       "      <td>10.0</td>\n",
       "      <td>0.1</td>\n",
       "      <td>rbf</td>\n",
       "      <td>True</td>\n",
       "      <td>NaN</td>\n",
       "      <td>0.719512</td>\n",
       "    </tr>\n",
       "    <tr>\n",
       "      <th>3</th>\n",
       "      <td>False</td>\n",
       "      <td>True</td>\n",
       "      <td>False</td>\n",
       "      <td>10.0</td>\n",
       "      <td>0.1</td>\n",
       "      <td>rbf</td>\n",
       "      <td>False</td>\n",
       "      <td>NaN</td>\n",
       "      <td>0.719512</td>\n",
       "    </tr>\n",
       "    <tr>\n",
       "      <th>4</th>\n",
       "      <td>True</td>\n",
       "      <td>False</td>\n",
       "      <td>False</td>\n",
       "      <td>10.0</td>\n",
       "      <td>0.1</td>\n",
       "      <td>rbf</td>\n",
       "      <td>True</td>\n",
       "      <td>NaN</td>\n",
       "      <td>0.714634</td>\n",
       "    </tr>\n",
       "  </tbody>\n",
       "</table>\n",
       "</div>"
      ],
      "text/plain": [
       "   cleaner__getlemmatisation  cleaner__getstemmer  cleaner__removedigit  \\\n",
       "0                       True                 True                 False   \n",
       "1                       True                 True                 False   \n",
       "2                      False                 True                 False   \n",
       "3                      False                 True                 False   \n",
       "4                       True                False                 False   \n",
       "\n",
       "   svm__C  svm__gamma svm__kernel  tfidf__lowercase tfidf__stop_words  \\\n",
       "0    10.0         0.1         rbf              True               NaN   \n",
       "1    10.0         0.1         rbf             False               NaN   \n",
       "2    10.0         0.1         rbf              True               NaN   \n",
       "3    10.0         0.1         rbf             False               NaN   \n",
       "4    10.0         0.1         rbf              True               NaN   \n",
       "\n",
       "   accuracy  \n",
       "0  0.721951  \n",
       "1  0.721951  \n",
       "2  0.719512  \n",
       "3  0.719512  \n",
       "4  0.714634  "
      ]
     },
     "metadata": {},
     "output_type": "display_data"
    },
    {
     "data": {
      "image/png": "[encoded data removed]",
      "text/plain": [
       "<Figure size 640x480 with 1 Axes>"
      ]
     },
     "metadata": {},
     "output_type": "display_data"
    }
   ],
   "source": [
    "import matplotlib.pyplot as plt\n",
    "import pandas as pd\n",
    "# Chargement des données\n",
    "data = pd.read_csv('./Data_parametrage/True_And_False_VS_Other/Texte/data_EN_And_DE_SVC_TFO_Texte.csv')\n",
    "\n",
    "\n",
    "display(data.head())\n",
    "\n",
    "df = data\n",
    "# Récupérer les valeurs de x et de y\n",
    "x = df.index.values\n",
    "y = df['accuracy']\n",
    "\n",
    "# Tracer les points\n",
    "plt.scatter(x, y)\n",
    "\n",
    "# Ajouter un titre et des labels d'axe\n",
    "plt.title(\"Tracé des points d'accuracy en fonction de l'index\")\n",
    "plt.xlabel('Index')\n",
    "plt.ylabel('Accuracy')\n",
    "\n",
    "# Afficher le plot\n",
    "plt.show()"
   ]
  },
  {
   "cell_type": "code",
   "execution_count": 9,
   "metadata": {
    "colab": {
     "base_uri": "https://localhost:8080/",
     "height": 1000
    },
    "executionInfo": {
     "elapsed": 8978,
     "status": "ok",
     "timestamp": 1682602655053,
     "user": {
      "displayName": "Etienne Martin",
      "userId": "04420319778773764841"
     },
     "user_tz": -120
    },
    "id": "k0adkzU-_gGb",
    "outputId": "f75b7a40-5c07-49ca-8ad9-607f51ec2b01"
   },
   "outputs": [
    {
     "name": "stdout",
     "output_type": "stream",
     "text": [
      "Looking in indexes: https://pypi.org/simple, https://us-python.pkg.dev/colab-wheels/public/simple/\n",
      "Requirement already satisfied: ruptures in /usr/local/lib/python3.9/dist-packages (1.1.7)\n",
      "Requirement already satisfied: numpy in /usr/local/lib/python3.9/dist-packages (from ruptures) (1.22.4)\n",
      "Requirement already satisfied: scipy in /usr/local/lib/python3.9/dist-packages (from ruptures) (1.10.1)\n"
     ]
    },
    {
     "data": {
      "text/html": [
       "\n",
       "  <div id=\"df-415e4347-9345-4a60-93c0-465e7f0b1ee8\">\n",
       "    <div class=\"colab-df-container\">\n",
       "      <div>\n",
       "<style scoped>\n",
       "    .dataframe tbody tr th:only-of-type {\n",
       "        vertical-align: middle;\n",
       "    }\n",
       "\n",
       "    .dataframe tbody tr th {\n",
       "        vertical-align: top;\n",
       "    }\n",
       "\n",
       "    .dataframe thead th {\n",
       "        text-align: right;\n",
       "    }\n",
       "</style>\n",
       "<table border=\"1\" class=\"dataframe\">\n",
       "  <thead>\n",
       "    <tr style=\"text-align: right;\">\n",
       "      <th></th>\n",
       "      <th>cleaner__getlemmatisation</th>\n",
       "      <th>cleaner__getstemmer</th>\n",
       "      <th>cleaner__removedigit</th>\n",
       "      <th>svm__C</th>\n",
       "      <th>svm__gamma</th>\n",
       "      <th>svm__kernel</th>\n",
       "      <th>tfidf__lowercase</th>\n",
       "      <th>tfidf__stop_words</th>\n",
       "      <th>accuracy</th>\n",
       "    </tr>\n",
       "  </thead>\n",
       "  <tbody>\n",
       "    <tr>\n",
       "      <th>0</th>\n",
       "      <td>True</td>\n",
       "      <td>True</td>\n",
       "      <td>False</td>\n",
       "      <td>10.0</td>\n",
       "      <td>0.1</td>\n",
       "      <td>rbf</td>\n",
       "      <td>True</td>\n",
       "      <td>vide</td>\n",
       "      <td>0.721951</td>\n",
       "    </tr>\n",
       "    <tr>\n",
       "      <th>1</th>\n",
       "      <td>True</td>\n",
       "      <td>True</td>\n",
       "      <td>False</td>\n",
       "      <td>10.0</td>\n",
       "      <td>0.1</td>\n",
       "      <td>rbf</td>\n",
       "      <td>False</td>\n",
       "      <td>vide</td>\n",
       "      <td>0.721951</td>\n",
       "    </tr>\n",
       "    <tr>\n",
       "      <th>2</th>\n",
       "      <td>False</td>\n",
       "      <td>True</td>\n",
       "      <td>False</td>\n",
       "      <td>10.0</td>\n",
       "      <td>0.1</td>\n",
       "      <td>rbf</td>\n",
       "      <td>True</td>\n",
       "      <td>vide</td>\n",
       "      <td>0.719512</td>\n",
       "    </tr>\n",
       "    <tr>\n",
       "      <th>3</th>\n",
       "      <td>False</td>\n",
       "      <td>True</td>\n",
       "      <td>False</td>\n",
       "      <td>10.0</td>\n",
       "      <td>0.1</td>\n",
       "      <td>rbf</td>\n",
       "      <td>False</td>\n",
       "      <td>vide</td>\n",
       "      <td>0.719512</td>\n",
       "    </tr>\n",
       "    <tr>\n",
       "      <th>4</th>\n",
       "      <td>True</td>\n",
       "      <td>False</td>\n",
       "      <td>False</td>\n",
       "      <td>10.0</td>\n",
       "      <td>0.1</td>\n",
       "      <td>rbf</td>\n",
       "      <td>True</td>\n",
       "      <td>vide</td>\n",
       "      <td>0.714634</td>\n",
       "    </tr>\n",
       "  </tbody>\n",
       "</table>\n",
       "</div>\n",
       "      <button class=\"colab-df-convert\" onclick=\"convertToInteractive('df-415e4347-9345-4a60-93c0-465e7f0b1ee8')\"\n",
       "              title=\"Convert this dataframe to an interactive table.\"\n",
       "              style=\"display:none;\">\n",
       "        \n",
       "  <svg xmlns=\"http://www.w3.org/2000/svg\" height=\"24px\"viewBox=\"0 0 24 24\"\n",
       "       width=\"24px\">\n",
       "    <path d=\"M0 0h24v24H0V0z\" fill=\"none\"/>\n",
       "    <path d=\"M18.56 5.44l.94 2.06.94-2.06 2.06-.94-2.06-.94-.94-2.06-.94 2.06-2.06.94zm-11 1L8.5 8.5l.94-2.06 2.06-.94-2.06-.94L8.5 2.5l-.94 2.06-2.06.94zm10 10l.94 2.06.94-2.06 2.06-.94-2.06-.94-.94-2.06-.94 2.06-2.06.94z\"/><path d=\"M17.41 7.96l-1.37-1.37c-.4-.4-.92-.59-1.43-.59-.52 0-1.04.2-1.43.59L10.3 9.45l-7.72 7.72c-.78.78-.78 2.05 0 2.83L4 21.41c.39.39.9.59 1.41.59.51 0 1.02-.2 1.41-.59l7.78-7.78 2.81-2.81c.8-.78.8-2.07 0-2.86zM5.41 20L4 18.59l7.72-7.72 1.47 1.35L5.41 20z\"/>\n",
       "  </svg>\n",
       "      </button>\n",
       "      \n",
       "  <style>\n",
       "    .colab-df-container {\n",
       "      display:flex;\n",
       "      flex-wrap:wrap;\n",
       "      gap: 12px;\n",
       "    }\n",
       "\n",
       "    .colab-df-convert {\n",
       "      background-color: #E8F0FE;\n",
       "      border: none;\n",
       "      border-radius: 50%;\n",
       "      cursor: pointer;\n",
       "      display: none;\n",
       "      fill: #1967D2;\n",
       "      height: 32px;\n",
       "      padding: 0 0 0 0;\n",
       "      width: 32px;\n",
       "    }\n",
       "\n",
       "    .colab-df-convert:hover {\n",
       "      background-color: #E2EBFA;\n",
       "      box-shadow: 0px 1px 2px rgba(60, 64, 67, 0.3), 0px 1px 3px 1px rgba(60, 64, 67, 0.15);\n",
       "      fill: #174EA6;\n",
       "    }\n",
       "\n",
       "    [theme=dark] .colab-df-convert {\n",
       "      background-color: #3B4455;\n",
       "      fill: #D2E3FC;\n",
       "    }\n",
       "\n",
       "    [theme=dark] .colab-df-convert:hover {\n",
       "      background-color: #434B5C;\n",
       "      box-shadow: 0px 1px 3px 1px rgba(0, 0, 0, 0.15);\n",
       "      filter: drop-shadow(0px 1px 2px rgba(0, 0, 0, 0.3));\n",
       "      fill: #FFFFFF;\n",
       "    }\n",
       "  </style>\n",
       "\n",
       "      <script>\n",
       "        const buttonEl =\n",
       "          document.querySelector('#df-415e4347-9345-4a60-93c0-465e7f0b1ee8 button.colab-df-convert');\n",
       "        buttonEl.style.display =\n",
       "          google.colab.kernel.accessAllowed ? 'block' : 'none';\n",
       "\n",
       "        async function convertToInteractive(key) {\n",
       "          const element = document.querySelector('#df-415e4347-9345-4a60-93c0-465e7f0b1ee8');\n",
       "          const dataTable =\n",
       "            await google.colab.kernel.invokeFunction('convertToInteractive',\n",
       "                                                     [key], {});\n",
       "          if (!dataTable) return;\n",
       "\n",
       "          const docLinkHtml = 'Like what you see? Visit the ' +\n",
       "            '<a target=\"_blank\" href=https://colab.research.google.com/notebooks/data_table.ipynb>data table notebook</a>'\n",
       "            + ' to learn more about interactive tables.';\n",
       "          element.innerHTML = '';\n",
       "          dataTable['output_type'] = 'display_data';\n",
       "          await google.colab.output.renderOutput(dataTable, element);\n",
       "          const docLink = document.createElement('div');\n",
       "          docLink.innerHTML = docLinkHtml;\n",
       "          element.appendChild(docLink);\n",
       "        }\n",
       "      </script>\n",
       "    </div>\n",
       "  </div>\n",
       "  "
      ],
      "text/plain": [
       "   cleaner__getlemmatisation  cleaner__getstemmer  cleaner__removedigit  \\\n",
       "0                       True                 True                 False   \n",
       "1                       True                 True                 False   \n",
       "2                      False                 True                 False   \n",
       "3                      False                 True                 False   \n",
       "4                       True                False                 False   \n",
       "\n",
       "   svm__C  svm__gamma svm__kernel  tfidf__lowercase tfidf__stop_words  \\\n",
       "0    10.0         0.1         rbf              True              vide   \n",
       "1    10.0         0.1         rbf             False              vide   \n",
       "2    10.0         0.1         rbf              True              vide   \n",
       "3    10.0         0.1         rbf             False              vide   \n",
       "4    10.0         0.1         rbf              True              vide   \n",
       "\n",
       "   accuracy  \n",
       "0  0.721951  \n",
       "1  0.721951  \n",
       "2  0.719512  \n",
       "3  0.719512  \n",
       "4  0.714634  "
      ]
     },
     "metadata": {},
     "output_type": "display_data"
    },
    {
     "name": "stdout",
     "output_type": "stream",
     "text": [
      "  tfidf__stop_words=vide tfidf__stop_words=english svm__C=10.0 svm__C=1.0  \\\n",
      "0                    NaN                       NaN         NaN        NaN   \n",
      "1                    NaN                       NaN         NaN        NaN   \n",
      "2                    NaN                       NaN         NaN        NaN   \n",
      "\n",
      "  svm__C=0.01 svm__C=0.1 svm__C=0.001 svm__kernel=rbf svm__kernel=linear  \\\n",
      "0         NaN        NaN          NaN             NaN                NaN   \n",
      "1         NaN        NaN          NaN             NaN                NaN   \n",
      "2         NaN        NaN          NaN             NaN                NaN   \n",
      "\n",
      "  svm__kernel=sigmoid svm__kernel=poly  \n",
      "0                 NaN              NaN  \n",
      "1                 NaN              NaN  \n",
      "2                 NaN              NaN  \n"
     ]
    },
    {
     "name": "stderr",
     "output_type": "stream",
     "text": [
      "WARNING:matplotlib.text:posx and posy should be finite values\n",
      "WARNING:matplotlib.text:posx and posy should be finite values\n"
     ]
    },
    {
     "data": {
      "image/png": "[encoded data removed]",
      "text/plain": [
       "<Figure size 1000x500 with 1 Axes>"
      ]
     },
     "metadata": {},
     "output_type": "display_data"
    },
    {
     "name": "stderr",
     "output_type": "stream",
     "text": [
      "WARNING:matplotlib.text:posx and posy should be finite values\n",
      "WARNING:matplotlib.text:posx and posy should be finite values\n"
     ]
    },
    {
     "data": {
      "image/png": "[encoded data removed]",
      "text/plain": [
       "<Figure size 800x600 with 1 Axes>"
      ]
     },
     "metadata": {},
     "output_type": "display_data"
    }
   ],
   "source": [
    "from matplotlib import patches\n",
    "from numpy import NaN\n",
    "import pandas as pd\n",
    "import seaborn as sns\n",
    "import matplotlib.pyplot as plt\n",
    "!pip install ruptures\n",
    "import ruptures as rpt\n",
    "\n",
    "# Charger les données\n",
    "data = pd.read_csv('./Data_parametrage/True_And_False_VS_Other/Texte/data_EN_And_DE_SVC_TFO_Texte.csv')\n",
    "\n",
    "data.fillna('vide', inplace=True)\n",
    "display(data.head())\n",
    "# Sélectionner les colonnes à analyser\n",
    "y_colonne = 'accuracy'\n",
    "\n",
    "signal = data[y_colonne].values\n",
    "model = \"l2\"\n",
    "algo = rpt.Window(width=40, model=model, jump=1).fit(signal)\n",
    "result = algo.predict(n_bkps=1)\n",
    "\n",
    "fig, ax = plt.subplots(figsize=(10, 5))\n",
    "\n",
    "\n",
    "#Tu choisis la liste des param ici a visualiser je te conseil de le faire en deux fois\n",
    "\n",
    "\n",
    "params = ['tfidf__stop_words', 'svm__C','svm__kernel'] \n",
    "\n",
    "l = []\n",
    "for param in params:\n",
    "  p = data[param].value_counts(normalize=True)\n",
    "  for i in range(len(p)):\n",
    "    x = p.index.tolist()[i]\n",
    "    l.append(str(param)+\"=\"+str(x))\n",
    "\n",
    "\n",
    "mydf = pd.DataFrame(columns=l,index=[0, 1, 2])\n",
    "print(mydf)\n",
    "\n",
    "# Plot the data points\n",
    "ax.plot(data.index, data[y_colonne], 'x', color='black')\n",
    "my_row=[]\n",
    "for i, (start, end) in enumerate(zip([0] + result, result + [len(signal)])):\n",
    "    segment = data.iloc[start:end]\n",
    "    \n",
    "    # Calculate the proportion of each unique value in the selected columns for this segment\n",
    "    param_props = []\n",
    "    for param in params:\n",
    "        param_value_counts = segment[param].value_counts(normalize=True)\n",
    "\n",
    "        param_value_props = [f\"{count*100:.2f}%\" for count in param_value_counts]\n",
    "        \n",
    "        param_value_legend = \" / \".join([f\"{param}={param_value} ({param_value_props[j]})\" \n",
    "                                         for j, param_value in enumerate(param_value_counts.index)])\n",
    "        \n",
    "        param_props.append(param_value_legend)\n",
    "\n",
    "        for j, param_value in enumerate(param_value_counts.index):\n",
    "          k=str(param)+\"=\"+str(param_value)\n",
    "          \n",
    "          # print(k)\n",
    "          param_value_counts_df = param_value_counts.reset_index()\n",
    "          param_value_counts_df = param_value_counts_df.rename(columns={param: 'Parametre', 0: 'Pourcentage'})\n",
    "          # print(param_value_counts_df.loc[j, 'Parametre'])\n",
    "          mydf.loc[i][k]=param_value_counts_df.loc[j, 'Parametre']\n",
    "        \n",
    "    # Join the legends for each parameter into one legend for the segment\n",
    "    segment_legend = \" / \".join(param_props)\n",
    "    \n",
    "    # Plot the regression line for this segment with the corresponding color and legend\n",
    "    sns.regplot(x=segment.index, y=y_colonne, data=segment, ax=ax, color=f'C{i+1}', \n",
    "                label=f'Segment {i+1} ', scatter=False)\n",
    "    #({segment_legend})'\n",
    "    # Add text to show the start and end of each segment\n",
    "    if(start != len(data[y_colonne])):\n",
    "        ax.text(start, segment[y_colonne].min(), f'start: {start}', fontsize=8)\n",
    "        if start not in my_row: \n",
    "            my_row.append(start)\n",
    "    if(end-1 != len(data[y_colonne])):\n",
    "        ax.text(end, segment[y_colonne].max(), f'end: {end-1}', fontsize=8)\n",
    "        if end-1 not in my_row: \n",
    "            my_row.append(end-1)\n",
    "    \n",
    "    # Set the values of the corresponding row in mydf to the parameters in this segment\n",
    "      \n",
    "\n",
    "   \n",
    "    \n",
    "# d = pd.DataFrame(my_param, columns=nom_col)\n",
    "\n",
    "# Set the axis labels and title\n",
    "ax.set_xlabel('Index du paramètrage')\n",
    "ax.set_ylabel(y_colonne)\n",
    "# ax.set_title('Tracé de droites de régression avec ruptures des paramètrage différents du modèle en fonction de l\\'accuracy')\n",
    "\n",
    "# Hide the current legend\n",
    "ax.legend(loc='lower center', bbox_to_anchor=(0.5, -0.6), ncol=1)\n",
    "\n",
    "  \n",
    "  \n",
    "plt.show()\n",
    "\n",
    "fig.savefig('./Images/data_svm_TFO.png', dpi=300, bbox_inches='tight')\n",
    "\n",
    "# créer le graphique\n",
    "fig, ax = plt.subplots(figsize=(8, 6))\n",
    "mydf.plot(kind='bar', ax=ax)\n",
    "\n",
    "# ajouter des étiquettes\n",
    "# ax.set_title('Proportion des paramètres sans impact pour le modèle LogisticRegression pour chacun des segments')\n",
    "ax.set_xlabel('Segment')\n",
    "ax.set_ylabel('Proportion des paramètres')\n",
    "legend = ax.legend(ncol=1)\n",
    "\n",
    "# afficher le graphique\n",
    "plt.show()"
   ]
  },
  {
   "cell_type": "markdown",
   "metadata": {
    "id": "26dIrSl3J0y7"
   },
   "source": [
    "Parametre non impactant "
   ]
  },
  {
   "cell_type": "code",
   "execution_count": 8,
   "metadata": {
    "colab": {
     "base_uri": "https://localhost:8080/",
     "height": 1000
    },
    "executionInfo": {
     "elapsed": 11851,
     "status": "ok",
     "timestamp": 1682602381360,
     "user": {
      "displayName": "Etienne Martin",
      "userId": "04420319778773764841"
     },
     "user_tz": -120
    },
    "id": "qeZDGYhCJ0V2",
    "outputId": "1976dc34-4dff-45ef-fa82-a6c74b1896ff"
   },
   "outputs": [
    {
     "name": "stdout",
     "output_type": "stream",
     "text": [
      "Looking in indexes: https://pypi.org/simple, https://us-python.pkg.dev/colab-wheels/public/simple/\n",
      "Requirement already satisfied: ruptures in /usr/local/lib/python3.9/dist-packages (1.1.7)\n",
      "Requirement already satisfied: scipy in /usr/local/lib/python3.9/dist-packages (from ruptures) (1.10.1)\n",
      "Requirement already satisfied: numpy in /usr/local/lib/python3.9/dist-packages (from ruptures) (1.22.4)\n"
     ]
    },
    {
     "data": {
      "text/html": [
       "\n",
       "  <div id=\"df-ba2cca1e-68be-42d4-ba04-3fe25c70cab5\">\n",
       "    <div class=\"colab-df-container\">\n",
       "      <div>\n",
       "<style scoped>\n",
       "    .dataframe tbody tr th:only-of-type {\n",
       "        vertical-align: middle;\n",
       "    }\n",
       "\n",
       "    .dataframe tbody tr th {\n",
       "        vertical-align: top;\n",
       "    }\n",
       "\n",
       "    .dataframe thead th {\n",
       "        text-align: right;\n",
       "    }\n",
       "</style>\n",
       "<table border=\"1\" class=\"dataframe\">\n",
       "  <thead>\n",
       "    <tr style=\"text-align: right;\">\n",
       "      <th></th>\n",
       "      <th>cleaner__getlemmatisation</th>\n",
       "      <th>cleaner__getstemmer</th>\n",
       "      <th>cleaner__removedigit</th>\n",
       "      <th>svm__C</th>\n",
       "      <th>svm__gamma</th>\n",
       "      <th>svm__kernel</th>\n",
       "      <th>tfidf__lowercase</th>\n",
       "      <th>tfidf__stop_words</th>\n",
       "      <th>accuracy</th>\n",
       "    </tr>\n",
       "  </thead>\n",
       "  <tbody>\n",
       "    <tr>\n",
       "      <th>0</th>\n",
       "      <td>True</td>\n",
       "      <td>True</td>\n",
       "      <td>False</td>\n",
       "      <td>10.0</td>\n",
       "      <td>0.1</td>\n",
       "      <td>rbf</td>\n",
       "      <td>True</td>\n",
       "      <td>vide</td>\n",
       "      <td>0.721951</td>\n",
       "    </tr>\n",
       "    <tr>\n",
       "      <th>1</th>\n",
       "      <td>True</td>\n",
       "      <td>True</td>\n",
       "      <td>False</td>\n",
       "      <td>10.0</td>\n",
       "      <td>0.1</td>\n",
       "      <td>rbf</td>\n",
       "      <td>False</td>\n",
       "      <td>vide</td>\n",
       "      <td>0.721951</td>\n",
       "    </tr>\n",
       "    <tr>\n",
       "      <th>2</th>\n",
       "      <td>False</td>\n",
       "      <td>True</td>\n",
       "      <td>False</td>\n",
       "      <td>10.0</td>\n",
       "      <td>0.1</td>\n",
       "      <td>rbf</td>\n",
       "      <td>True</td>\n",
       "      <td>vide</td>\n",
       "      <td>0.719512</td>\n",
       "    </tr>\n",
       "    <tr>\n",
       "      <th>3</th>\n",
       "      <td>False</td>\n",
       "      <td>True</td>\n",
       "      <td>False</td>\n",
       "      <td>10.0</td>\n",
       "      <td>0.1</td>\n",
       "      <td>rbf</td>\n",
       "      <td>False</td>\n",
       "      <td>vide</td>\n",
       "      <td>0.719512</td>\n",
       "    </tr>\n",
       "    <tr>\n",
       "      <th>4</th>\n",
       "      <td>True</td>\n",
       "      <td>False</td>\n",
       "      <td>False</td>\n",
       "      <td>10.0</td>\n",
       "      <td>0.1</td>\n",
       "      <td>rbf</td>\n",
       "      <td>True</td>\n",
       "      <td>vide</td>\n",
       "      <td>0.714634</td>\n",
       "    </tr>\n",
       "  </tbody>\n",
       "</table>\n",
       "</div>\n",
       "      <button class=\"colab-df-convert\" onclick=\"convertToInteractive('df-ba2cca1e-68be-42d4-ba04-3fe25c70cab5')\"\n",
       "              title=\"Convert this dataframe to an interactive table.\"\n",
       "              style=\"display:none;\">\n",
       "        \n",
       "  <svg xmlns=\"http://www.w3.org/2000/svg\" height=\"24px\"viewBox=\"0 0 24 24\"\n",
       "       width=\"24px\">\n",
       "    <path d=\"M0 0h24v24H0V0z\" fill=\"none\"/>\n",
       "    <path d=\"M18.56 5.44l.94 2.06.94-2.06 2.06-.94-2.06-.94-.94-2.06-.94 2.06-2.06.94zm-11 1L8.5 8.5l.94-2.06 2.06-.94-2.06-.94L8.5 2.5l-.94 2.06-2.06.94zm10 10l.94 2.06.94-2.06 2.06-.94-2.06-.94-.94-2.06-.94 2.06-2.06.94z\"/><path d=\"M17.41 7.96l-1.37-1.37c-.4-.4-.92-.59-1.43-.59-.52 0-1.04.2-1.43.59L10.3 9.45l-7.72 7.72c-.78.78-.78 2.05 0 2.83L4 21.41c.39.39.9.59 1.41.59.51 0 1.02-.2 1.41-.59l7.78-7.78 2.81-2.81c.8-.78.8-2.07 0-2.86zM5.41 20L4 18.59l7.72-7.72 1.47 1.35L5.41 20z\"/>\n",
       "  </svg>\n",
       "      </button>\n",
       "      \n",
       "  <style>\n",
       "    .colab-df-container {\n",
       "      display:flex;\n",
       "      flex-wrap:wrap;\n",
       "      gap: 12px;\n",
       "    }\n",
       "\n",
       "    .colab-df-convert {\n",
       "      background-color: #E8F0FE;\n",
       "      border: none;\n",
       "      border-radius: 50%;\n",
       "      cursor: pointer;\n",
       "      display: none;\n",
       "      fill: #1967D2;\n",
       "      height: 32px;\n",
       "      padding: 0 0 0 0;\n",
       "      width: 32px;\n",
       "    }\n",
       "\n",
       "    .colab-df-convert:hover {\n",
       "      background-color: #E2EBFA;\n",
       "      box-shadow: 0px 1px 2px rgba(60, 64, 67, 0.3), 0px 1px 3px 1px rgba(60, 64, 67, 0.15);\n",
       "      fill: #174EA6;\n",
       "    }\n",
       "\n",
       "    [theme=dark] .colab-df-convert {\n",
       "      background-color: #3B4455;\n",
       "      fill: #D2E3FC;\n",
       "    }\n",
       "\n",
       "    [theme=dark] .colab-df-convert:hover {\n",
       "      background-color: #434B5C;\n",
       "      box-shadow: 0px 1px 3px 1px rgba(0, 0, 0, 0.15);\n",
       "      filter: drop-shadow(0px 1px 2px rgba(0, 0, 0, 0.3));\n",
       "      fill: #FFFFFF;\n",
       "    }\n",
       "  </style>\n",
       "\n",
       "      <script>\n",
       "        const buttonEl =\n",
       "          document.querySelector('#df-ba2cca1e-68be-42d4-ba04-3fe25c70cab5 button.colab-df-convert');\n",
       "        buttonEl.style.display =\n",
       "          google.colab.kernel.accessAllowed ? 'block' : 'none';\n",
       "\n",
       "        async function convertToInteractive(key) {\n",
       "          const element = document.querySelector('#df-ba2cca1e-68be-42d4-ba04-3fe25c70cab5');\n",
       "          const dataTable =\n",
       "            await google.colab.kernel.invokeFunction('convertToInteractive',\n",
       "                                                     [key], {});\n",
       "          if (!dataTable) return;\n",
       "\n",
       "          const docLinkHtml = 'Like what you see? Visit the ' +\n",
       "            '<a target=\"_blank\" href=https://colab.research.google.com/notebooks/data_table.ipynb>data table notebook</a>'\n",
       "            + ' to learn more about interactive tables.';\n",
       "          element.innerHTML = '';\n",
       "          dataTable['output_type'] = 'display_data';\n",
       "          await google.colab.output.renderOutput(dataTable, element);\n",
       "          const docLink = document.createElement('div');\n",
       "          docLink.innerHTML = docLinkHtml;\n",
       "          element.appendChild(docLink);\n",
       "        }\n",
       "      </script>\n",
       "    </div>\n",
       "  </div>\n",
       "  "
      ],
      "text/plain": [
       "   cleaner__getlemmatisation  cleaner__getstemmer  cleaner__removedigit  \\\n",
       "0                       True                 True                 False   \n",
       "1                       True                 True                 False   \n",
       "2                      False                 True                 False   \n",
       "3                      False                 True                 False   \n",
       "4                       True                False                 False   \n",
       "\n",
       "   svm__C  svm__gamma svm__kernel  tfidf__lowercase tfidf__stop_words  \\\n",
       "0    10.0         0.1         rbf              True              vide   \n",
       "1    10.0         0.1         rbf             False              vide   \n",
       "2    10.0         0.1         rbf              True              vide   \n",
       "3    10.0         0.1         rbf             False              vide   \n",
       "4    10.0         0.1         rbf              True              vide   \n",
       "\n",
       "   accuracy  \n",
       "0  0.721951  \n",
       "1  0.721951  \n",
       "2  0.719512  \n",
       "3  0.719512  \n",
       "4  0.714634  "
      ]
     },
     "metadata": {},
     "output_type": "display_data"
    },
    {
     "name": "stdout",
     "output_type": "stream",
     "text": [
      "  cleaner__removedigit=False cleaner__removedigit=True  \\\n",
      "0                        NaN                       NaN   \n",
      "1                        NaN                       NaN   \n",
      "2                        NaN                       NaN   \n",
      "\n",
      "  cleaner__getlemmatisation=True cleaner__getlemmatisation=False  \\\n",
      "0                            NaN                             NaN   \n",
      "1                            NaN                             NaN   \n",
      "2                            NaN                             NaN   \n",
      "\n",
      "  tfidf__lowercase=True tfidf__lowercase=False svm__gamma=0.1 svm__gamma=0.01  \\\n",
      "0                   NaN                    NaN            NaN             NaN   \n",
      "1                   NaN                    NaN            NaN             NaN   \n",
      "2                   NaN                    NaN            NaN             NaN   \n",
      "\n",
      "  svm__gamma=1.0 svm__gamma=0.001 cleaner__getstemmer=True  \\\n",
      "0            NaN              NaN                      NaN   \n",
      "1            NaN              NaN                      NaN   \n",
      "2            NaN              NaN                      NaN   \n",
      "\n",
      "  cleaner__getstemmer=False  \n",
      "0                       NaN  \n",
      "1                       NaN  \n",
      "2                       NaN  \n"
     ]
    },
    {
     "name": "stderr",
     "output_type": "stream",
     "text": [
      "WARNING:matplotlib.text:posx and posy should be finite values\n",
      "WARNING:matplotlib.text:posx and posy should be finite values\n"
     ]
    },
    {
     "data": {
      "image/png": "[encoded data removed]",
      "text/plain": [
       "<Figure size 1000x500 with 1 Axes>"
      ]
     },
     "metadata": {},
     "output_type": "display_data"
    },
    {
     "data": {
      "image/png": "[encoded data removed]",
      "text/plain": [
       "<Figure size 1500x1000 with 1 Axes>"
      ]
     },
     "metadata": {},
     "output_type": "display_data"
    }
   ],
   "source": [
    "from matplotlib import patches\n",
    "from numpy import NaN\n",
    "import pandas as pd\n",
    "import seaborn as sns\n",
    "import matplotlib.pyplot as plt\n",
    "!pip install ruptures\n",
    "import ruptures as rpt\n",
    "\n",
    "# Charger les données\n",
    "data = pd.read_csv('./Data_parametrage/True_And_False_VS_Other/Texte/data_EN_And_DE_SVC_TFO_Texte.csv')\n",
    "\n",
    "data.fillna('vide', inplace=True)\n",
    "display(data.head())\n",
    "# Sélectionner les colonnes à analyser\n",
    "y_colonne = 'accuracy'\n",
    "\n",
    "signal = data[y_colonne].values\n",
    "model = \"l2\"\n",
    "algo = rpt.Window(width=40, model=model, jump=1).fit(signal)\n",
    "result = algo.predict(n_bkps=1)\n",
    "\n",
    "fig, ax = plt.subplots(figsize=(10, 5))\n",
    "\n",
    "\n",
    "#Tu choisis la liste des param ici a visualiser je te conseil de le faire en deux fois\n",
    "\n",
    "\n",
    "params = ['cleaner__removedigit','cleaner__getlemmatisation','tfidf__lowercase','svm__gamma','cleaner__getstemmer']\n",
    "\n",
    "l = []\n",
    "for param in params:\n",
    "  p = data[param].value_counts(normalize=True)\n",
    "  for i in range(len(p)):\n",
    "    x = p.index.tolist()[i]\n",
    "    l.append(str(param)+\"=\"+str(x))\n",
    "\n",
    "\n",
    "mydf = pd.DataFrame(columns=l,index=[0, 1, 2])\n",
    "print(mydf)\n",
    "\n",
    "# Plot the data points\n",
    "ax.plot(data.index, data[y_colonne], 'x', color='black')\n",
    "my_row=[]\n",
    "for i, (start, end) in enumerate(zip([0] + result, result + [len(signal)])):\n",
    "    segment = data.iloc[start:end]\n",
    "    \n",
    "    # Calculate the proportion of each unique value in the selected columns for this segment\n",
    "    param_props = []\n",
    "    for param in params:\n",
    "        param_value_counts = segment[param].value_counts(normalize=True)\n",
    "\n",
    "        param_value_props = [f\"{count*100:.2f}%\" for count in param_value_counts]\n",
    "        \n",
    "        param_value_legend = \" / \".join([f\"{param}={param_value} ({param_value_props[j]})\" \n",
    "                                         for j, param_value in enumerate(param_value_counts.index)])\n",
    "        \n",
    "        param_props.append(param_value_legend)\n",
    "\n",
    "        for j, param_value in enumerate(param_value_counts.index):\n",
    "          k=str(param)+\"=\"+str(param_value)\n",
    "          \n",
    "          # print(k)\n",
    "          param_value_counts_df = param_value_counts.reset_index()\n",
    "          param_value_counts_df = param_value_counts_df.rename(columns={param: 'Parametre', 0: 'Pourcentage'})\n",
    "          # print(param_value_counts_df.loc[j, 'Parametre'])\n",
    "          mydf.loc[i][k]=param_value_counts_df.loc[j, 'Parametre']\n",
    "        \n",
    "    # Join the legends for each parameter into one legend for the segment\n",
    "    segment_legend = \" / \".join(param_props)\n",
    "    \n",
    "    # Plot the regression line for this segment with the corresponding color and legend\n",
    "    sns.regplot(x=segment.index, y=y_colonne, data=segment, ax=ax, color=f'C{i+1}', \n",
    "                label=f'Segment {i+1} ({segment_legend})', scatter=False)\n",
    "    \n",
    "    # Add text to show the start and end of each segment\n",
    "    if(start != len(data[y_colonne])):\n",
    "        ax.text(start, segment[y_colonne].min(), f'start: {start}', fontsize=8)\n",
    "        if start not in my_row: \n",
    "            my_row.append(start)\n",
    "    if(end-1 != len(data[y_colonne])):\n",
    "        ax.text(end, segment[y_colonne].max(), f'end: {end-1}', fontsize=8)\n",
    "        if end-1 not in my_row: \n",
    "            my_row.append(end-1)\n",
    "    \n",
    "# d = pd.DataFrame(my_param, columns=nom_col)\n",
    "\n",
    "# Set the axis labels and title\n",
    "ax.set_xlabel('Index du paramètrage')\n",
    "ax.set_ylabel(y_colonne)\n",
    "# ax.set_title('Tracé de droites de régression avec ruptures des paramètrage différents du modèle en fonction de l\\'accuracy')\n",
    "\n",
    "# Hide the current legend\n",
    "ax.legend(loc='lower center', bbox_to_anchor=(0.5, -0.6), ncol=1)\n",
    "\n",
    "\n",
    "# créer le graphique\n",
    "fig, ax = plt.subplots(figsize=(15, 10))\n",
    "mydf.plot(kind='bar', ax=ax)\n",
    "\n",
    "# ajouter des étiquettes\n",
    "# ax.set_title('Proportion des paramètres sans impact pour le modèle LogisticRegression pour chacun des segments')\n",
    "ax.set_xlabel('Segment')\n",
    "ax.set_ylabel('Proportion des paramètres')\n",
    "legend = ax.legend(ncol=1)\n",
    "\n",
    "# afficher le graphique\n",
    "plt.show()"
   ]
  },
  {
   "cell_type": "code",
   "execution_count": null,
   "metadata": {
    "colab": {
     "base_uri": "https://localhost:8080/",
     "height": 1000
    },
    "executionInfo": {
     "elapsed": 16935,
     "status": "ok",
     "timestamp": 1682410518044,
     "user": {
      "displayName": "Etienne Martin",
      "userId": "04420319778773764841"
     },
     "user_tz": -120
    },
    "id": "IIANDdTZJM6g",
    "outputId": "4bfc861b-33d2-4ba2-efaf-b96a19c008c1"
   },
   "outputs": [
    {
     "name": "stdout",
     "output_type": "stream",
     "text": [
      "Sauvegarde du modèle dans  ./Modele/True_And_False_VS_Other/TFO_svm_DE.pkl\n",
      "Chargement du modèle \n",
      "\n",
      "Pipeline(steps=[('cleaner',\n",
      "                 TextNormalizer(getlemmatisation=True, getstemmer=True)),\n",
      "                ('tfidf', TfidfVectorizer()),\n",
      "                ('svm', SVC(C=10, gamma=0.1, probability=True))])\n",
      "Accuracy : 0.805\n",
      "Classification Report\n",
      "              precision    recall  f1-score   support\n",
      "\n",
      "       other    0.83333   0.75000   0.78947        20\n",
      "  true/false    0.78261   0.85714   0.81818        21\n",
      "\n",
      "    accuracy                        0.80488        41\n",
      "   macro avg    0.80797   0.80357   0.80383        41\n",
      "weighted avg    0.80735   0.80488   0.80418        41\n",
      "\n"
     ]
    },
    {
     "data": {
      "image/png": "[encoded data removed]",
      "text/plain": [
       "<Figure size 800x500 with 2 Axes>"
      ]
     },
     "metadata": {},
     "output_type": "display_data"
    },
    {
     "name": "stdout",
     "output_type": "stream",
     "text": [
      "Courbe de Roc\n"
     ]
    },
    {
     "data": {
      "image/png": "[encoded data removed]",
      "text/plain": [
       "<Figure size 640x480 with 1 Axes>"
      ]
     },
     "metadata": {},
     "output_type": "display_data"
    },
    {
     "name": "stdout",
     "output_type": "stream",
     "text": [
      "Graphique de projections des prédictions vue le manque de données il est peut pertinent\n"
     ]
    },
    {
     "data": {
      "text/html": [
       "<html>\n",
       "<head><meta charset=\"utf-8\" /></head>\n",
       "<body>\n",
       "    <div>            <script src=\"https://cdnjs.cloudflare.com/ajax/libs/mathjax/2.7.5/MathJax.js?config=TeX-AMS-MML_SVG\"></script><script type=\"text/javascript\">if (window.MathJax && window.MathJax.Hub && window.MathJax.Hub.Config) {window.MathJax.Hub.Config({SVG: {font: \"STIX-Web\"}});}</script>                <script type=\"text/javascript\">window.PlotlyConfig = {MathJaxConfig: 'local'};</script>\n",
       "        <script src=\"https://cdn.plot.ly/plotly-2.18.2.min.js\"></script>                <div id=\"105b2a40-0c4d-4710-ab37-b272dfc19b7e\" class=\"plotly-graph-div\" style=\"height:525px; width:100%;\"></div>            <script type=\"text/javascript\">                                    window.PLOTLYENV=window.PLOTLYENV || {};                                    if (document.getElementById(\"105b2a40-0c4d-4710-ab37-b272dfc19b7e\")) {                    Plotly.newPlot(                        \"105b2a40-0c4d-4710-ab37-b272dfc19b7e\",                        [{\"hovertemplate\":\"color=True<br>symbol=other<br>x=%{x}<br>y=%{y}<extra></extra>\",\"legendgroup\":\"True, other\",\"marker\":{\"color\":\"#636efa\",\"symbol\":\"circle\"},\"mode\":\"markers\",\"name\":\"True, other\",\"orientation\":\"v\",\"showlegend\":true,\"x\":[-4.2599310874938965,-4.452206134796143,-5.638789176940918,-4.201663970947266,-4.3983473777771,-6.388874530792236,-4.1996541023254395,-6.325300693511963,-4.676329135894775,-6.419264793395996,-4.537989616394043,-3.666611909866333,-5.110373020172119,-3.4057695865631104,-4.9221415519714355],\"xaxis\":\"x\",\"y\":[1.3387879133224487,1.7147456407546997,2.0689756870269775,1.880885362625122,1.3732178211212158,1.4135082960128784,0.004968146327883005,1.3950504064559937,0.8494894504547119,0.2905309796333313,1.7045429944992065,1.1347402334213257,1.5318933725357056,1.4773050546646118,-0.5677701830863953],\"yaxis\":\"y\",\"type\":\"scatter\"},{\"hovertemplate\":\"color=True<br>symbol=true/false<br>x=%{x}<br>y=%{y}<extra></extra>\",\"legendgroup\":\"True, true/false\",\"marker\":{\"color\":\"#636efa\",\"symbol\":\"diamond\"},\"mode\":\"markers\",\"name\":\"True, true/false\",\"orientation\":\"v\",\"showlegend\":true,\"x\":[-4.642702579498291,-3.884838819503784,-4.756571292877197,-5.260391712188721,-4.801916599273682,-5.571511745452881,-4.688118934631348,-4.655767917633057,-5.132518291473389,-5.87704610824585,-3.7227871417999268,-5.312485694885254,-5.041928768157959,-5.615511417388916,-5.706088066101074,-4.8737053871154785,-3.8740437030792236,-5.578459739685059],\"xaxis\":\"x\",\"y\":[1.7672983407974243,0.4011470377445221,1.9208818674087524,0.5861815214157104,0.873681902885437,-0.35233381390571594,0.31675004959106445,1.8021069765090942,-0.40241843461990356,1.3954453468322754,0.6107991933822632,-0.30195048451423645,-0.00040421157609671354,0.9115898013114929,0.9603654742240906,-0.07548016309738159,0.43118971586227417,1.1096256971359253],\"yaxis\":\"y\",\"type\":\"scatter\"},{\"hovertemplate\":\"color=False<br>symbol=other<br>x=%{x}<br>y=%{y}<extra></extra>\",\"legendgroup\":\"False, other\",\"marker\":{\"color\":\"#EF553B\",\"symbol\":\"circle\"},\"mode\":\"markers\",\"name\":\"False, other\",\"orientation\":\"v\",\"showlegend\":true,\"x\":[-5.395915985107422,-5.328973293304443,-3.862812042236328,-5.7334065437316895,-5.7334065437316895],\"xaxis\":\"x\",\"y\":[1.9781296253204346,0.10001400113105774,0.36267420649528503,0.489283949136734,0.489283949136734],\"yaxis\":\"y\",\"type\":\"scatter\"},{\"hovertemplate\":\"color=False<br>symbol=true/false<br>x=%{x}<br>y=%{y}<extra></extra>\",\"legendgroup\":\"False, true/false\",\"marker\":{\"color\":\"#EF553B\",\"symbol\":\"diamond\"},\"mode\":\"markers\",\"name\":\"False, true/false\",\"orientation\":\"v\",\"showlegend\":true,\"x\":[-4.775428771972656,-5.629302978515625,-6.317564487457275],\"xaxis\":\"x\",\"y\":[0.9778627753257751,1.8325575590133667,0.28236764669418335],\"yaxis\":\"y\",\"type\":\"scatter\"}],                        {\"template\":{\"data\":{\"histogram2dcontour\":[{\"type\":\"histogram2dcontour\",\"colorbar\":{\"outlinewidth\":0,\"ticks\":\"\"},\"colorscale\":[[0.0,\"#0d0887\"],[0.1111111111111111,\"#46039f\"],[0.2222222222222222,\"#7201a8\"],[0.3333333333333333,\"#9c179e\"],[0.4444444444444444,\"#bd3786\"],[0.5555555555555556,\"#d8576b\"],[0.6666666666666666,\"#ed7953\"],[0.7777777777777778,\"#fb9f3a\"],[0.8888888888888888,\"#fdca26\"],[1.0,\"#f0f921\"]]}],\"choropleth\":[{\"type\":\"choropleth\",\"colorbar\":{\"outlinewidth\":0,\"ticks\":\"\"}}],\"histogram2d\":[{\"type\":\"histogram2d\",\"colorbar\":{\"outlinewidth\":0,\"ticks\":\"\"},\"colorscale\":[[0.0,\"#0d0887\"],[0.1111111111111111,\"#46039f\"],[0.2222222222222222,\"#7201a8\"],[0.3333333333333333,\"#9c179e\"],[0.4444444444444444,\"#bd3786\"],[0.5555555555555556,\"#d8576b\"],[0.6666666666666666,\"#ed7953\"],[0.7777777777777778,\"#fb9f3a\"],[0.8888888888888888,\"#fdca26\"],[1.0,\"#f0f921\"]]}],\"heatmap\":[{\"type\":\"heatmap\",\"colorbar\":{\"outlinewidth\":0,\"ticks\":\"\"},\"colorscale\":[[0.0,\"#0d0887\"],[0.1111111111111111,\"#46039f\"],[0.2222222222222222,\"#7201a8\"],[0.3333333333333333,\"#9c179e\"],[0.4444444444444444,\"#bd3786\"],[0.5555555555555556,\"#d8576b\"],[0.6666666666666666,\"#ed7953\"],[0.7777777777777778,\"#fb9f3a\"],[0.8888888888888888,\"#fdca26\"],[1.0,\"#f0f921\"]]}],\"heatmapgl\":[{\"type\":\"heatmapgl\",\"colorbar\":{\"outlinewidth\":0,\"ticks\":\"\"},\"colorscale\":[[0.0,\"#0d0887\"],[0.1111111111111111,\"#46039f\"],[0.2222222222222222,\"#7201a8\"],[0.3333333333333333,\"#9c179e\"],[0.4444444444444444,\"#bd3786\"],[0.5555555555555556,\"#d8576b\"],[0.6666666666666666,\"#ed7953\"],[0.7777777777777778,\"#fb9f3a\"],[0.8888888888888888,\"#fdca26\"],[1.0,\"#f0f921\"]]}],\"contourcarpet\":[{\"type\":\"contourcarpet\",\"colorbar\":{\"outlinewidth\":0,\"ticks\":\"\"}}],\"contour\":[{\"type\":\"contour\",\"colorbar\":{\"outlinewidth\":0,\"ticks\":\"\"},\"colorscale\":[[0.0,\"#0d0887\"],[0.1111111111111111,\"#46039f\"],[0.2222222222222222,\"#7201a8\"],[0.3333333333333333,\"#9c179e\"],[0.4444444444444444,\"#bd3786\"],[0.5555555555555556,\"#d8576b\"],[0.6666666666666666,\"#ed7953\"],[0.7777777777777778,\"#fb9f3a\"],[0.8888888888888888,\"#fdca26\"],[1.0,\"#f0f921\"]]}],\"surface\":[{\"type\":\"surface\",\"colorbar\":{\"outlinewidth\":0,\"ticks\":\"\"},\"colorscale\":[[0.0,\"#0d0887\"],[0.1111111111111111,\"#46039f\"],[0.2222222222222222,\"#7201a8\"],[0.3333333333333333,\"#9c179e\"],[0.4444444444444444,\"#bd3786\"],[0.5555555555555556,\"#d8576b\"],[0.6666666666666666,\"#ed7953\"],[0.7777777777777778,\"#fb9f3a\"],[0.8888888888888888,\"#fdca26\"],[1.0,\"#f0f921\"]]}],\"mesh3d\":[{\"type\":\"mesh3d\",\"colorbar\":{\"outlinewidth\":0,\"ticks\":\"\"}}],\"scatter\":[{\"fillpattern\":{\"fillmode\":\"overlay\",\"size\":10,\"solidity\":0.2},\"type\":\"scatter\"}],\"parcoords\":[{\"type\":\"parcoords\",\"line\":{\"colorbar\":{\"outlinewidth\":0,\"ticks\":\"\"}}}],\"scatterpolargl\":[{\"type\":\"scatterpolargl\",\"marker\":{\"colorbar\":{\"outlinewidth\":0,\"ticks\":\"\"}}}],\"bar\":[{\"error_x\":{\"color\":\"#2a3f5f\"},\"error_y\":{\"color\":\"#2a3f5f\"},\"marker\":{\"line\":{\"color\":\"#E5ECF6\",\"width\":0.5},\"pattern\":{\"fillmode\":\"overlay\",\"size\":10,\"solidity\":0.2}},\"type\":\"bar\"}],\"scattergeo\":[{\"type\":\"scattergeo\",\"marker\":{\"colorbar\":{\"outlinewidth\":0,\"ticks\":\"\"}}}],\"scatterpolar\":[{\"type\":\"scatterpolar\",\"marker\":{\"colorbar\":{\"outlinewidth\":0,\"ticks\":\"\"}}}],\"histogram\":[{\"marker\":{\"pattern\":{\"fillmode\":\"overlay\",\"size\":10,\"solidity\":0.2}},\"type\":\"histogram\"}],\"scattergl\":[{\"type\":\"scattergl\",\"marker\":{\"colorbar\":{\"outlinewidth\":0,\"ticks\":\"\"}}}],\"scatter3d\":[{\"type\":\"scatter3d\",\"line\":{\"colorbar\":{\"outlinewidth\":0,\"ticks\":\"\"}},\"marker\":{\"colorbar\":{\"outlinewidth\":0,\"ticks\":\"\"}}}],\"scattermapbox\":[{\"type\":\"scattermapbox\",\"marker\":{\"colorbar\":{\"outlinewidth\":0,\"ticks\":\"\"}}}],\"scatterternary\":[{\"type\":\"scatterternary\",\"marker\":{\"colorbar\":{\"outlinewidth\":0,\"ticks\":\"\"}}}],\"scattercarpet\":[{\"type\":\"scattercarpet\",\"marker\":{\"colorbar\":{\"outlinewidth\":0,\"ticks\":\"\"}}}],\"carpet\":[{\"aaxis\":{\"endlinecolor\":\"#2a3f5f\",\"gridcolor\":\"white\",\"linecolor\":\"white\",\"minorgridcolor\":\"white\",\"startlinecolor\":\"#2a3f5f\"},\"baxis\":{\"endlinecolor\":\"#2a3f5f\",\"gridcolor\":\"white\",\"linecolor\":\"white\",\"minorgridcolor\":\"white\",\"startlinecolor\":\"#2a3f5f\"},\"type\":\"carpet\"}],\"table\":[{\"cells\":{\"fill\":{\"color\":\"#EBF0F8\"},\"line\":{\"color\":\"white\"}},\"header\":{\"fill\":{\"color\":\"#C8D4E3\"},\"line\":{\"color\":\"white\"}},\"type\":\"table\"}],\"barpolar\":[{\"marker\":{\"line\":{\"color\":\"#E5ECF6\",\"width\":0.5},\"pattern\":{\"fillmode\":\"overlay\",\"size\":10,\"solidity\":0.2}},\"type\":\"barpolar\"}],\"pie\":[{\"automargin\":true,\"type\":\"pie\"}]},\"layout\":{\"autotypenumbers\":\"strict\",\"colorway\":[\"#636efa\",\"#EF553B\",\"#00cc96\",\"#ab63fa\",\"#FFA15A\",\"#19d3f3\",\"#FF6692\",\"#B6E880\",\"#FF97FF\",\"#FECB52\"],\"font\":{\"color\":\"#2a3f5f\"},\"hovermode\":\"closest\",\"hoverlabel\":{\"align\":\"left\"},\"paper_bgcolor\":\"white\",\"plot_bgcolor\":\"#E5ECF6\",\"polar\":{\"bgcolor\":\"#E5ECF6\",\"angularaxis\":{\"gridcolor\":\"white\",\"linecolor\":\"white\",\"ticks\":\"\"},\"radialaxis\":{\"gridcolor\":\"white\",\"linecolor\":\"white\",\"ticks\":\"\"}},\"ternary\":{\"bgcolor\":\"#E5ECF6\",\"aaxis\":{\"gridcolor\":\"white\",\"linecolor\":\"white\",\"ticks\":\"\"},\"baxis\":{\"gridcolor\":\"white\",\"linecolor\":\"white\",\"ticks\":\"\"},\"caxis\":{\"gridcolor\":\"white\",\"linecolor\":\"white\",\"ticks\":\"\"}},\"coloraxis\":{\"colorbar\":{\"outlinewidth\":0,\"ticks\":\"\"}},\"colorscale\":{\"sequential\":[[0.0,\"#0d0887\"],[0.1111111111111111,\"#46039f\"],[0.2222222222222222,\"#7201a8\"],[0.3333333333333333,\"#9c179e\"],[0.4444444444444444,\"#bd3786\"],[0.5555555555555556,\"#d8576b\"],[0.6666666666666666,\"#ed7953\"],[0.7777777777777778,\"#fb9f3a\"],[0.8888888888888888,\"#fdca26\"],[1.0,\"#f0f921\"]],\"sequentialminus\":[[0.0,\"#0d0887\"],[0.1111111111111111,\"#46039f\"],[0.2222222222222222,\"#7201a8\"],[0.3333333333333333,\"#9c179e\"],[0.4444444444444444,\"#bd3786\"],[0.5555555555555556,\"#d8576b\"],[0.6666666666666666,\"#ed7953\"],[0.7777777777777778,\"#fb9f3a\"],[0.8888888888888888,\"#fdca26\"],[1.0,\"#f0f921\"]],\"diverging\":[[0,\"#8e0152\"],[0.1,\"#c51b7d\"],[0.2,\"#de77ae\"],[0.3,\"#f1b6da\"],[0.4,\"#fde0ef\"],[0.5,\"#f7f7f7\"],[0.6,\"#e6f5d0\"],[0.7,\"#b8e186\"],[0.8,\"#7fbc41\"],[0.9,\"#4d9221\"],[1,\"#276419\"]]},\"xaxis\":{\"gridcolor\":\"white\",\"linecolor\":\"white\",\"ticks\":\"\",\"title\":{\"standoff\":15},\"zerolinecolor\":\"white\",\"automargin\":true,\"zerolinewidth\":2},\"yaxis\":{\"gridcolor\":\"white\",\"linecolor\":\"white\",\"ticks\":\"\",\"title\":{\"standoff\":15},\"zerolinecolor\":\"white\",\"automargin\":true,\"zerolinewidth\":2},\"scene\":{\"xaxis\":{\"backgroundcolor\":\"#E5ECF6\",\"gridcolor\":\"white\",\"linecolor\":\"white\",\"showbackground\":true,\"ticks\":\"\",\"zerolinecolor\":\"white\",\"gridwidth\":2},\"yaxis\":{\"backgroundcolor\":\"#E5ECF6\",\"gridcolor\":\"white\",\"linecolor\":\"white\",\"showbackground\":true,\"ticks\":\"\",\"zerolinecolor\":\"white\",\"gridwidth\":2},\"zaxis\":{\"backgroundcolor\":\"#E5ECF6\",\"gridcolor\":\"white\",\"linecolor\":\"white\",\"showbackground\":true,\"ticks\":\"\",\"zerolinecolor\":\"white\",\"gridwidth\":2}},\"shapedefaults\":{\"line\":{\"color\":\"#2a3f5f\"}},\"annotationdefaults\":{\"arrowcolor\":\"#2a3f5f\",\"arrowhead\":0,\"arrowwidth\":1},\"geo\":{\"bgcolor\":\"white\",\"landcolor\":\"#E5ECF6\",\"subunitcolor\":\"white\",\"showland\":true,\"showlakes\":true,\"lakecolor\":\"white\"},\"title\":{\"x\":0.05},\"mapbox\":{\"style\":\"light\"}}},\"xaxis\":{\"anchor\":\"y\",\"domain\":[0.0,1.0],\"title\":{\"text\":\"x\"}},\"yaxis\":{\"anchor\":\"x\",\"domain\":[0.0,1.0],\"title\":{\"text\":\"y\"}},\"legend\":{\"title\":{\"text\":\"color, symbol\"},\"tracegroupgap\":0},\"margin\":{\"t\":60}},                        {\"responsive\": true}                    ).then(function(){\n",
       "                            \n",
       "var gd = document.getElementById('105b2a40-0c4d-4710-ab37-b272dfc19b7e');\n",
       "var x = new MutationObserver(function (mutations, observer) {{\n",
       "        var display = window.getComputedStyle(gd).display;\n",
       "        if (!display || display === 'none') {{\n",
       "            console.log([gd, 'removed!']);\n",
       "            Plotly.purge(gd);\n",
       "            observer.disconnect();\n",
       "        }}\n",
       "}});\n",
       "\n",
       "// Listen for the removal of the full notebook cells\n",
       "var notebookContainer = gd.closest('#notebook-container');\n",
       "if (notebookContainer) {{\n",
       "    x.observe(notebookContainer, {childList: true});\n",
       "}}\n",
       "\n",
       "// Listen for the clearing of the current output cell\n",
       "var outputEl = gd.closest('.output');\n",
       "if (outputEl) {{\n",
       "    x.observe(outputEl, {childList: true});\n",
       "}}\n",
       "\n",
       "                        })                };                            </script>        </div>\n",
       "</body>\n",
       "</html>"
      ]
     },
     "metadata": {},
     "output_type": "display_data"
    }
   ],
   "source": [
    "from sklearn.model_selection import train_test_split\n",
    "import pickle\n",
    "import pandas as pd\n",
    "import numpy as np\n",
    "from sklearn.manifold import TSNE\n",
    "import plotly.express as px\n",
    "# Création d'un jeu d'apprentissage et de test\n",
    "trainsize=0.9 # 70% pour le jeu d'apprentissage, il reste 30% du jeu de données pour\n",
    "testsize= 0.1\n",
    "seed=30\n",
    "\n",
    "train_title,test_title,train_note,test_note=train_test_split(X_train_text_DE,Y_train_text_DE, train_size=trainsize,random_state=seed,test_size=testsize,stratify=Y_train_text_DE)\n",
    "\n",
    "pipeline=Pipeline([\n",
    "    (\"cleaner\", TextNormalizer(removedigit=False, getlemmatisation=True, getstemmer=True)),\n",
    "    (\"tfidf\", TfidfVectorizer(lowercase=True, stop_words=None)),\n",
    "    ('svm', SVC(C=10, gamma=0.1, kernel='rbf',probability=True))\n",
    "])\n",
    "pipeline.fit(train_title,train_note)\n",
    "filename='./Modele/True_And_False_VS_Other/TFO_svm_DE.pkl'\n",
    "print(\"Sauvegarde du modèle dans \", filename)\n",
    "pickle.dump(pipeline, open(filename, \"wb\"))\n",
    "\n",
    "\n",
    "print (\"Chargement du modèle \\n\")\n",
    "# le chargement se fait via la fonction load\n",
    "clf_loaded = pickle.load(open(filename, 'rb'))\n",
    "# affichage du modèle sauvegardé\n",
    "print (clf_loaded)\n",
    "\n",
    "\n",
    "# test  avec les données qu'il a apprise c'est parfait woahhha c'est beau\n",
    "y_pred = clf_loaded.predict(test_title)\n",
    "# autres mesures et matrice de confusion\n",
    "MyshowAllScores(test_note,y_pred)\n",
    "\n",
    "# Calcul de la courbe ROC\n",
    "y_pred_proba = clf_loaded.predict_proba(test_title)[:,1]\n",
    "\n",
    "test = test_note.copy()\n",
    "test = test.replace({'other': 0})\n",
    "test = test.replace({'true/false': 1})\n",
    "fpr, tpr, thresholds = roc_curve(test, y_pred_proba)\n",
    "roc_auc = auc(fpr, tpr)\n",
    "\n",
    "# Tracé de la courbe ROC\n",
    "plt.figure()\n",
    "plt.plot(fpr, tpr, color='darkorange', lw=2, label='Courbe ROC (AUC = %0.2f)' % roc_auc)\n",
    "plt.plot([0, 1], [0, 1], color='navy', lw=2, linestyle='--')\n",
    "plt.xlim([0.0, 1.0])\n",
    "plt.ylim([0.0, 1.05])\n",
    "plt.xlabel('Taux de faux positifs')\n",
    "plt.ylabel('Taux de vrais positifs')\n",
    "plt.title('Courbe ROC')\n",
    "plt.legend(loc=\"lower right\")\n",
    "print(\"Courbe de Roc\")\n",
    "plt.show()\n",
    "\n",
    "\n",
    "#Affichage Répartition des données\n",
    "new_class_data = pd.DataFrame(np.column_stack((test_title, y_pred,test_note)), columns=['text', 'predictions','note'])\n",
    "\n",
    "new_class_data = new_class_data.loc[~new_class_data['predictions'].isin([\"false\",\"true\"])]\n",
    "\n",
    "text_normalizer = TextNormalizer(getlemmatisation=True, removedigit=True, removestopwords=True)\n",
    "cleaned_text = text_normalizer.fit_transform(new_class_data[\"text\"])\n",
    "tfidf = TfidfVectorizer(lowercase=False)\n",
    "vector_tfidf = tfidf.fit_transform(cleaned_text)\n",
    "tsne = TSNE(n_components=2, random_state=42)\n",
    "projections = tsne.fit_transform(vector_tfidf.toarray())\n",
    "\n",
    "# Ajoutez une colonne pour indiquer si la prédiction du modèle est correcte ou non\n",
    "new_class_data[\"correct\"] = (new_class_data[\"predictions\"] == new_class_data[\"note\"])\n",
    "\n",
    "# Tracez un graphique en utilisant Plotly pour représenter les projections obtenues avec des couleurs différentes pour les prédictions correctes et incorrectes\n",
    "fig = px.scatter(x=projections[:,0], y=projections[:,1], color=new_class_data[\"correct\"],symbol=new_class_data[\"note\"])\n",
    "print(\"Graphique de projections des prédictions vu le manque de données il est peut pertinent\")\n",
    "fig.show()\n"
   ]
  }
 ],
 "metadata": {
  "colab": {
   "provenance": []
  },
  "kernelspec": {
   "display_name": "Python 3 (ipykernel)",
   "language": "python",
   "name": "python3"
  },
  "language_info": {
   "codemirror_mode": {
    "name": "ipython",
    "version": 3
   },
   "file_extension": ".py",
   "mimetype": "text/x-python",
   "name": "python",
   "nbconvert_exporter": "python",
   "pygments_lexer": "ipython3",
   "version": "3.9.13"
  }
 },
 "nbformat": 4,
 "nbformat_minor": 1
}
