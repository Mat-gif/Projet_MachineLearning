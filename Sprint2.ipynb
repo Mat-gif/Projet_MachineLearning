{
  "cells": [
    {
      "cell_type": "markdown",
      "metadata": {
        "collapsed": false,
        "id": "egeOGzXDKtBl"
      },
      "source": [
        "-> Chargement des librairies et fonctions"
      ]
    },
    {
      "cell_type": "code",
      "execution_count": 1,
      "metadata": {
        "colab": {
          "base_uri": "https://localhost:8080/"
        },
        "id": "TG4aGsrdKtBs",
        "outputId": "8f07e517-46e0-4a2d-a568-84c8ec58839d"
      },
      "outputs": [
        {
          "name": "stderr",
          "output_type": "stream",
          "text": [
            "[nltk_data] Downloading package wordnet to\n",
            "[nltk_data]     C:\\Users\\victo\\AppData\\Roaming\\nltk_data...\n",
            "[nltk_data]   Package wordnet is already up-to-date!\n",
            "[nltk_data] Downloading package stopwords to\n",
            "[nltk_data]     C:\\Users\\victo\\AppData\\Roaming\\nltk_data...\n",
            "[nltk_data]   Package stopwords is already up-to-date!\n",
            "[nltk_data] Downloading package punkt to\n",
            "[nltk_data]     C:\\Users\\victo\\AppData\\Roaming\\nltk_data...\n",
            "[nltk_data]   Package punkt is already up-to-date!\n",
            "[nltk_data] Downloading package wordnet to\n",
            "[nltk_data]     C:\\Users\\victo\\AppData\\Roaming\\nltk_data...\n",
            "[nltk_data]   Package wordnet is already up-to-date!\n",
            "[nltk_data] Downloading package stopwords to\n",
            "[nltk_data]     C:\\Users\\victo\\AppData\\Roaming\\nltk_data...\n",
            "[nltk_data]   Package stopwords is already up-to-date!\n",
            "[nltk_data] Downloading package punkt to\n",
            "[nltk_data]     C:\\Users\\victo\\AppData\\Roaming\\nltk_data...\n",
            "[nltk_data]   Package punkt is already up-to-date!\n"
          ]
        }
      ],
      "source": [
        "# #Montage Drive\n",
        "\n",
        "# from google.colab import drive\n",
        "# import sys\n",
        "\n",
        "# drive.mount('/content/gdrive')\n",
        "\n",
        "# my_local_drive = \"/content/gdrive/MyDrive/Perso/Etudes/Master\\ ICo/Colab\\ Notebooks/\"\n",
        "# # Ajout du path pour les librairies, fonctions et données\n",
        "# sys.path.append(my_local_drive)\n",
        "# # Se positionner sur le répertoire associé\n",
        "# %cd $my_local_drive\n",
        "# %pwd \n",
        "\n",
        "# fonctions utilities (affichage, confusion, etc.)\n",
        "from MyNLPUtilities import *\n",
        "# fonctions utilities (fonction de clean, import etc etc)\n",
        "from Fonction.myFonction import *\n",
        "\n",
        "from Fonction.AllModels_pretraitement_first import *\n"
      ]
    },
    {
      "cell_type": "markdown",
      "metadata": {
        "collapsed": false,
        "id": "WKimspTRKtBw"
      },
      "source": [
        "-> Chargement des données brutes"
      ]
    },
    {
      "cell_type": "code",
      "execution_count": 2,
      "metadata": {
        "colab": {
          "base_uri": "https://localhost:8080/"
        },
        "id": "JaH_R3dcKtBx",
        "outputId": "e02af225-996f-4f4b-8cdf-b69fa309e9e8"
      },
      "outputs": [
        {
          "name": "stdout",
          "output_type": "stream",
          "text": [
            "True     500\n",
            "False    500\n",
            "Name: our rating, dtype: int64\n"
          ]
        }
      ],
      "source": [
        "# Init_train = pd.read_csv('./Data_brut/HAI817_Projet_train.csv', sep=\",\")\n",
        "# Init_test = pd.read_csv('./Data_brut/HAI817_Projet_test.csv', sep=\",\")\n",
        "# data_brute = pd.concat([Init_train,Init_test], ignore_index = True)\n",
        "# data_brute = data_brute.drop_duplicates()\n",
        "# print(data_brute['our rating'].value_counts())\n",
        "# data_equilibre = balanceSample(data_brute,150,[\"false\",\"true\",\"mixture\",\"other\"])\n",
        "# print(data_equilibre['our rating'].value_counts())\n",
        "# data_equilibre.to_csv('./Data_equilibre/MyData_Sprint1.csv', sep=',', index=False)\n",
        "mySample = pd.read_csv('./data_csv/balanced_concat.csv')\n",
        "\n",
        "print(mySample['our rating'].value_counts())\n",
        "X_train = mySample['text']\n",
        "y_train = mySample['our rating']"
      ]
    },
    {
      "cell_type": "markdown",
      "metadata": {
        "collapsed": false,
        "id": "uSG_1gudKtB5"
      },
      "source": [
        "-> Je test tout les models"
      ]
    },
    {
      "cell_type": "code",
      "execution_count": null,
      "metadata": {
        "colab": {
          "base_uri": "https://localhost:8080/",
          "height": 912
        },
        "id": "bcmDoEnOKtCG",
        "outputId": "f5978669-1914-48bd-f5f5-83321bac84b8"
      },
      "outputs": [
        {
          "name": "stderr",
          "output_type": "stream",
          "text": [
            "[nltk_data] Downloading package omw-1.4 to /root/nltk_data...\n"
          ]
        },
        {
          "name": "stdout",
          "output_type": "stream",
          "text": [
            "Evaluation de  MultinomialNB\n",
            "MultinomialNB : 0.758 (0.065) in 2.072 s\n",
            "Evaluation de  LR\n",
            "LR : 0.784 (0.049) in 19.481 s\n",
            "Evaluation de  KNN\n",
            "KNN : 0.668 (0.041) in 5.990 s\n",
            "Evaluation de  CART\n",
            "CART : 0.708 (0.027) in 26.919 s\n",
            "Evaluation de  RF\n",
            "RF : 0.794 (0.037) in 31.376 s\n",
            "Evaluation de  SVM\n",
            "SVM : 0.820 (0.029) in 239.030 s\n",
            "\n",
            "Le meilleur resultat : \n",
            "Classifier :  SVM  accuracy : 0.820  (0.029)  en 239.030   s\n",
            "\n",
            "Tous les résultats : \n",
            "\n",
            "Classifier :  SVM  accuracy : 0.820  (0.029)  en 239.030   s\n",
            "Classifier :  RF  accuracy : 0.794  (0.037)  en 31.376   s\n",
            "Classifier :  LR  accuracy : 0.784  (0.049)  en 19.481   s\n",
            "Classifier :  MultinomialNB  accuracy : 0.758  (0.065)  en 2.072   s\n",
            "Classifier :  CART  accuracy : 0.708  (0.027)  en 26.919   s\n",
            "Classifier :  KNN  accuracy : 0.668  (0.041)  en 5.990   s\n"
          ]
        },
        {
          "data": {
            "image/png": "[encoded data removed]",
            "text/plain": [
              "<Figure size 640x480 with 1 Axes>"
            ]
          },
          "metadata": {},
          "output_type": "display_data"
        }
      ],
      "source": [
        "testAllModel(X_train,y_train,5)"
      ]
    },
    {
      "cell_type": "markdown",
      "metadata": {
        "collapsed": false,
        "id": "aF8j62cfKtCJ"
      },
      "source": [
        "-> je test les hyper-parametres de SVC"
      ]
    },
    {
      "cell_type": "code",
      "execution_count": 3,
      "metadata": {
        "id": "3Lhia4XdKtCK",
        "outputId": "c74bc81a-400f-42cd-c291-318f4599e09d"
      },
      "outputs": [
        {
          "name": "stdout",
          "output_type": "stream",
          "text": [
            "Application de gridsearch ...\n",
            "pipeline : ['cleaner', 'tfidf', 'svm']\n",
            "parameters :\n",
            "{'cleaner__removedigit': [True, False], 'cleaner__getlemmatisation': [True, False], 'tfidf__stop_words': ['english', None], 'tfidf__lowercase': [True, False]}\n",
            "Fitting 5 folds for each of 16 candidates, totalling 80 fits\n",
            "réalisé en  108.993 s\n",
            "Meilleur résultat : 0.796\n",
            "Ensemble des meilleurs paramètres :\n",
            "\tcleaner__getlemmatisation: True\n",
            "\tcleaner__removedigit: False\n",
            "\ttfidf__lowercase: False\n",
            "\ttfidf__stop_words: None\n",
            "\n",
            "Les premiers résultats : \n",
            "     cleaner__getlemmatisation  cleaner__removedigit  tfidf__lowercase  \\\n",
            "7                        True                 False             False   \n",
            "9                       False                  True              True   \n",
            "13                      False                 False              True   \n",
            "3                        True                  True             False   \n",
            "11                      False                  True             False   \n",
            "\n",
            "   tfidf__stop_words  accuracy  \n",
            "7               None     0.796  \n",
            "9               None     0.796  \n",
            "13              None     0.796  \n",
            "3               None     0.795  \n",
            "11              None     0.794  \n"
          ]
        }
      ],
      "source": [
        "testSVC(X_train,y_train)"
      ]
    },
    {
      "cell_type": "markdown",
      "metadata": {
        "collapsed": false,
        "id": "6fW-D5IdKtCM"
      },
      "source": [
        "-> Ajuster pretraitement"
      ]
    },
    {
      "cell_type": "code",
      "execution_count": 4,
      "metadata": {
        "id": "k1n0-UMDKtCO",
        "outputId": "73bac4bc-3bee-4c74-db8c-71342ba9b020"
      },
      "outputs": [
        {
          "name": "stderr",
          "output_type": "stream",
          "text": [
            "[nltk_data] Downloading package omw-1.4 to\n",
            "[nltk_data]     C:\\Users\\victo\\AppData\\Roaming\\nltk_data...\n",
            "[nltk_data]   Package omw-1.4 is already up-to-date!\n"
          ]
        },
        {
          "name": "stdout",
          "output_type": "stream",
          "text": [
            "Application de gridsearch ...\n",
            "pipeline : ['cleaner', 'tfidf', 'svm']\n",
            "parameters :\n",
            "{'cleaner__removedigit': [False], 'cleaner__getlemmatisation': [True], 'tfidf__stop_words': [None], 'tfidf__lowercase': [False], 'svm__C': [0.001, 0.01, 0.1, 1, 10], 'svm__gamma': [0.001, 0.01, 0.1, 1], 'svm__kernel': ['linear', 'rbf', 'poly', 'sigmoid']}\n",
            "Fitting 5 folds for each of 80 candidates, totalling 400 fits\n",
            "réalisé en  530.879 s\n",
            "Meilleur résultat : 0.817\n",
            "Ensemble des meilleurs paramètres :\n",
            "\tcleaner__getlemmatisation: True\n",
            "\tcleaner__removedigit: False\n",
            "\tsvm__C: 10\n",
            "\tsvm__gamma: 0.1\n",
            "\tsvm__kernel: 'rbf'\n",
            "\ttfidf__lowercase: False\n",
            "\ttfidf__stop_words: None\n",
            "\n",
            "Les premiers résultats : \n",
            "     cleaner__getlemmatisation  cleaner__removedigit  svm__C  svm__gamma  \\\n",
            "73                       True                 False    10.0       0.100   \n",
            "64                       True                 False    10.0       0.001   \n",
            "76                       True                 False    10.0       1.000   \n",
            "72                       True                 False    10.0       0.100   \n",
            "68                       True                 False    10.0       0.010   \n",
            "\n",
            "   svm__kernel  tfidf__lowercase tfidf__stop_words  accuracy  \n",
            "73         rbf             False              None     0.817  \n",
            "64      linear             False              None     0.816  \n",
            "76      linear             False              None     0.816  \n",
            "72      linear             False              None     0.816  \n",
            "68      linear             False              None     0.816  \n"
          ]
        }
      ],
      "source": [
        "ajustSVC(X_train, y_train,[False],[True],[None],[False]) #removedegit,getlem,stopword,lwc"
      ]
    },
    {
      "cell_type": "markdown",
      "metadata": {
        "collapsed": false,
        "id": "1rQ9wgdfKtCR"
      },
      "source": [
        "-> enregistrement du modele SVC"
      ]
    },
    {
      "cell_type": "code",
      "execution_count": 5,
      "metadata": {
        "id": "070vpddKKtCT",
        "outputId": "732555bc-f674-4119-91a9-ecbc82c1b231"
      },
      "outputs": [
        {
          "name": "stdout",
          "output_type": "stream",
          "text": [
            "Sauvegarde du modèle dans  ./Sprint2/SentimentModel_Sprint2.pkl\n",
            "Chargement du modèle \n",
            "\n",
            "Pipeline(steps=[('cleaner', TextNormalizer(getlemmatisation=True)),\n",
            "                ('tfidf', TfidfVectorizer(lowercase=False)),\n",
            "                ('svm', SVC(C=10, gamma=1))])\n",
            "Accuracy : 0.840\n",
            "Classification Report\n",
            "              precision    recall  f1-score   support\n",
            "\n",
            "       False    0.81818   0.88235   0.84906        51\n",
            "        True    0.86667   0.79592   0.82979        49\n",
            "\n",
            "    accuracy                        0.84000       100\n",
            "   macro avg    0.84242   0.83914   0.83942       100\n",
            "weighted avg    0.84194   0.84000   0.83961       100\n",
            "\n"
          ]
        },
        {
          "data": {
            "image/png": "[encoded data removed]",
            "text/plain": [
              "<Figure size 800x500 with 2 Axes>"
            ]
          },
          "metadata": {},
          "output_type": "display_data"
        }
      ],
      "source": [
        "from sklearn.model_selection import train_test_split\n",
        "import pickle\n",
        "# Création d'un jeu d'apprentissage et de test\n",
        "trainsize=0.9 # 70% pour le jeu d'apprentissage, il reste 30% du jeu de données pour\n",
        "testsize= 0.1\n",
        "seed=30\n",
        "\n",
        "train_title,test_title,train_note,test_note=train_test_split(X_train,y_train, train_size=trainsize,random_state=seed,test_size=testsize)\n",
        "\n",
        "pipeline=Pipeline([\n",
        "    (\"cleaner\", TextNormalizer(removedigit=False, getlemmatisation=True)),\n",
        "    (\"tfidf\", TfidfVectorizer(lowercase=False, stop_words=None)),\n",
        "    ('svm', SVC(C=10, gamma=1, kernel='rbf'))\n",
        "])\n",
        "pipeline.fit(train_title,train_note)\n",
        "filename='./Sprint2/SentimentModel_Sprint2.pkl'\n",
        "print(\"Sauvegarde du modèle dans \", filename)\n",
        "pickle.dump(pipeline, open(filename, \"wb\"))\n",
        "\n",
        "\n",
        "print (\"Chargement du modèle \\n\")\n",
        "# le chargement se fait via la fonction load\n",
        "clf_loaded = pickle.load(open(filename, 'rb'))\n",
        "# affichage du modèle sauvegardé\n",
        "print (clf_loaded)\n",
        "\n",
        "\n",
        "# test  avec les données qu'il a apprise c'est parfait woahhha c'est beau\n",
        "y_pred = clf_loaded.predict(test_title)\n",
        "# autres mesures et matrice de confusion\n",
        "MyshowAllScores(test_note,y_pred)"
      ]
    },
    {
      "cell_type": "markdown",
      "metadata": {
        "collapsed": false,
        "id": "zggxQtOaKtCX"
      },
      "source": [
        "-> Second Modèle"
      ]
    },
    {
      "cell_type": "code",
      "execution_count": 4,
      "metadata": {
        "colab": {
          "base_uri": "https://localhost:8080/"
        },
        "id": "ngpvX3qYKtCY",
        "outputId": "2fb74912-fd10-4f92-f738-19a32ead3995"
      },
      "outputs": [
        {
          "name": "stdout",
          "output_type": "stream",
          "text": [
            "Application de gridsearch ...\n",
            "pipeline : ['cleaner', 'tfidf', 'rfc']\n",
            "parameters :\n",
            "{'cleaner__removedigit': [True, False], 'cleaner__getlemmatisation': [True, False], 'tfidf__stop_words': ['english', None], 'tfidf__lowercase': [True, False]}\n",
            "Fitting 5 folds for each of 16 candidates, totalling 80 fits\n",
            "réalisé en  80.010 s\n",
            "Meilleur résultat : 0.783\n",
            "Ensemble des meilleurs paramètres :\n",
            "\tcleaner__getlemmatisation: False\n",
            "\tcleaner__removedigit: True\n",
            "\ttfidf__lowercase: True\n",
            "\ttfidf__stop_words: 'english'\n",
            "\n",
            "Les premiers résultats : \n",
            "     cleaner__getlemmatisation  cleaner__removedigit  tfidf__lowercase  \\\n",
            "8                       False                  True              True   \n",
            "13                      False                 False              True   \n",
            "9                       False                  True              True   \n",
            "10                      False                  True             False   \n",
            "11                      False                  True             False   \n",
            "\n",
            "   tfidf__stop_words  accuracy  \n",
            "8            english     0.783  \n",
            "13              None     0.780  \n",
            "9               None     0.779  \n",
            "10           english     0.779  \n",
            "11              None     0.779  \n"
          ]
        }
      ],
      "source": [
        "testRFC(X_train,y_train)"
      ]
    },
    {
      "cell_type": "code",
      "execution_count": 6,
      "metadata": {
        "colab": {
          "base_uri": "https://localhost:8080/"
        },
        "id": "pzib0Aw-KtCa",
        "outputId": "467ae176-424f-44b6-d910-f2b6a47d20c4"
      },
      "outputs": [
        {
          "name": "stdout",
          "output_type": "stream",
          "text": [
            "Application de gridsearch ...\n",
            "pipeline : ['cleaner', 'tfidf', 'rfc']\n",
            "parameters :\n",
            "{'cleaner__removedigit': [True, False], 'cleaner__getlemmatisation': [False], 'tfidf__stop_words': ['english', None], 'tfidf__lowercase': [True], 'rfc__n_estimators': [500, 1200], 'rfc__max_depth': [25, 30], 'rfc__min_samples_split': [5, 10, 15], 'rfc__min_samples_leaf': [1, 2]}\n",
            "Fitting 5 folds for each of 96 candidates, totalling 480 fits\n",
            "réalisé en  580.455 s\n",
            "Meilleur résultat : 0.791\n",
            "Ensemble des meilleurs paramètres :\n",
            "\tcleaner__getlemmatisation: False\n",
            "\tcleaner__removedigit: True\n",
            "\trfc__max_depth: 25\n",
            "\trfc__min_samples_leaf: 1\n",
            "\trfc__min_samples_split: 15\n",
            "\trfc__n_estimators: 500\n",
            "\ttfidf__lowercase: True\n",
            "\ttfidf__stop_words: None\n",
            "\n",
            "Les premiers résultats : \n",
            "     cleaner__getlemmatisation  cleaner__removedigit  rfc__max_depth  \\\n",
            "9                       False                  True              25   \n",
            "75                      False                 False              30   \n",
            "81                      False                 False              30   \n",
            "77                      False                 False              30   \n",
            "25                      False                  True              30   \n",
            "\n",
            "    rfc__min_samples_leaf  rfc__min_samples_split  rfc__n_estimators  \\\n",
            "9                       1                      15                500   \n",
            "75                      1                       5               1200   \n",
            "81                      1                      15                500   \n",
            "77                      1                      10                500   \n",
            "25                      1                       5                500   \n",
            "\n",
            "    tfidf__lowercase tfidf__stop_words  accuracy  \n",
            "9               True              None     0.791  \n",
            "75              True              None     0.790  \n",
            "81              True              None     0.790  \n",
            "77              True              None     0.790  \n",
            "25              True              None     0.789  \n"
          ]
        }
      ],
      "source": [
        "ajustRFC(X_train, y_train,[True,False],[False],['english',None],[True]) #removedigit,getlem,stopword,lwc"
      ]
    },
    {
      "cell_type": "code",
      "execution_count": 9,
      "metadata": {
        "id": "kDkZAx4tKtCb",
        "outputId": "df7a3261-8f8c-4cf8-ab6d-8be3d4bed32d"
      },
      "outputs": [
        {
          "name": "stdout",
          "output_type": "stream",
          "text": [
            "Sauvegarde du modèle dans  ./Sprint2/RandomForestClassifier_Sprint2.pkl\n",
            "Chargement du modèle \n",
            "\n",
            "Pipeline(steps=[('cleaner', TextNormalizer(removedigit=True)),\n",
            "                ('tfidf', TfidfVectorizer()),\n",
            "                ('rfc',\n",
            "                 RandomForestClassifier(max_depth=25, min_samples_split=15,\n",
            "                                        n_estimators=500))])\n",
            "Accuracy : 0.820\n",
            "Classification Report\n",
            "              precision    recall  f1-score   support\n",
            "\n",
            "       False    0.82353   0.82353   0.82353        51\n",
            "        True    0.81633   0.81633   0.81633        49\n",
            "\n",
            "    accuracy                        0.82000       100\n",
            "   macro avg    0.81993   0.81993   0.81993       100\n",
            "weighted avg    0.82000   0.82000   0.82000       100\n",
            "\n"
          ]
        },
        {
          "data": {
            "image/png": "[encoded data removed]",
            "text/plain": [
              "<Figure size 800x500 with 2 Axes>"
            ]
          },
          "metadata": {},
          "output_type": "display_data"
        }
      ],
      "source": [
        "import pickle\n",
        "from sklearn.ensemble import RandomForestClassifier\n",
        "from sklearn.model_selection import train_test_split\n",
        "# Création d'un jeu d'apprentissage et de test\n",
        "trainsize=0.9 # 70% pour le jeu d'apprentissage, il reste 30% du jeu de données pour\n",
        "testsize= 0.1\n",
        "seed=30\n",
        "train_title,test_title,train_note,test_note=train_test_split(X_train,y_train, train_size=trainsize,random_state=seed,test_size=testsize)\n",
        "\n",
        "pipeline=Pipeline([\n",
        "    (\"cleaner\", TextNormalizer(removedigit=True, getlemmatisation=False)),\n",
        "    (\"tfidf\", TfidfVectorizer(lowercase=True, stop_words=None)),\n",
        "    ('rfc', RandomForestClassifier(max_depth=25,min_samples_leaf=1, min_samples_split=15, n_estimators=500))\n",
        "])\n",
        "pipeline.fit(train_title,train_note)\n",
        "filename='./Sprint2/RandomForestClassifier_Sprint2.pkl'\n",
        "print(\"Sauvegarde du modèle dans \", filename)\n",
        "pickle.dump(pipeline, open(filename, \"wb\"))\n",
        "\n",
        "\n",
        "\n",
        "print (\"Chargement du modèle \\n\")\n",
        "# le chargement se fait via la fonction load\n",
        "clf_loaded = pickle.load(open(filename, 'rb'))\n",
        "# affichage du modèle sauvegardé\n",
        "print (clf_loaded)\n",
        "\n",
        "\n",
        "# test  avec les données qu'il a apprise c'est parfait woahhha c'est beau\n",
        "y_pred = clf_loaded.predict(test_title)\n",
        "# autres mesures et matrice de confusion\n",
        "MyshowAllScores(test_note,y_pred)"
      ]
    },
    {
      "cell_type": "markdown",
      "metadata": {
        "collapsed": false,
        "id": "udIJz5TIKtCd"
      },
      "source": [
        "-> Le dernier modele"
      ]
    },
    {
      "cell_type": "code",
      "execution_count": 3,
      "metadata": {
        "id": "iv-w2n52KtCe",
        "outputId": "105b40f4-3dc8-413e-82a3-21d1a1be4981"
      },
      "outputs": [
        {
          "name": "stdout",
          "output_type": "stream",
          "text": [
            "Application de gridsearch ...\n",
            "pipeline : ['cleaner', 'tfidf', 'lr']\n",
            "parameters :\n",
            "{'cleaner__removedigit': [True, False], 'cleaner__getlemmatisation': [True, False], 'tfidf__stop_words': ['english', None], 'tfidf__lowercase': [True, False]}\n",
            "Fitting 5 folds for each of 16 candidates, totalling 80 fits\n",
            "réalisé en  86.228 s\n",
            "Meilleur résultat : 0.786\n",
            "Ensemble des meilleurs paramètres :\n",
            "\tcleaner__getlemmatisation: False\n",
            "\tcleaner__removedigit: True\n",
            "\ttfidf__lowercase: False\n",
            "\ttfidf__stop_words: 'english'\n",
            "\n",
            "Les premiers résultats : \n",
            "     cleaner__getlemmatisation  cleaner__removedigit  tfidf__lowercase  \\\n",
            "10                      False                  True             False   \n",
            "14                      False                 False             False   \n",
            "2                        True                  True             False   \n",
            "6                        True                 False             False   \n",
            "8                       False                  True              True   \n",
            "\n",
            "   tfidf__stop_words  accuracy  \n",
            "10           english     0.786  \n",
            "14           english     0.786  \n",
            "2            english     0.785  \n",
            "6            english     0.783  \n",
            "8            english     0.778  \n"
          ]
        }
      ],
      "source": [
        "testLR(X_train,y_train)"
      ]
    },
    {
      "cell_type": "code",
      "execution_count": 4,
      "metadata": {
        "id": "dv_14FalKtCf",
        "outputId": "c9c6e14a-7814-4f65-eab4-21ab3f43bc30"
      },
      "outputs": [
        {
          "name": "stdout",
          "output_type": "stream",
          "text": [
            "Application de gridsearch ...\n",
            "pipeline : ['cleaner', 'tfidf', 'lr']\n",
            "parameters :\n",
            "{'cleaner__removedigit': [True], 'cleaner__getlemmatisation': [False], 'tfidf__stop_words': ['english'], 'tfidf__lowercase': [False], 'lr__solver': ['newton-cg', 'lbfgs', 'liblinear'], 'lr__penalty': ['l2'], 'lr__C': [100, 10, 1.0, 0.1, 0.01]}\n",
            "Fitting 5 folds for each of 15 candidates, totalling 75 fits\n",
            "réalisé en  52.468 s\n",
            "Meilleur résultat : 0.824\n",
            "Ensemble des meilleurs paramètres :\n",
            "\tcleaner__getlemmatisation: False\n",
            "\tcleaner__removedigit: True\n",
            "\tlr__C: 100\n",
            "\tlr__penalty: 'l2'\n",
            "\tlr__solver: 'liblinear'\n",
            "\ttfidf__lowercase: False\n",
            "\ttfidf__stop_words: 'english'\n",
            "\n",
            "Les premiers résultats : \n",
            "    cleaner__getlemmatisation  cleaner__removedigit  lr__C lr__penalty  \\\n",
            "2                      False                  True  100.0          l2   \n",
            "0                      False                  True  100.0          l2   \n",
            "1                      False                  True  100.0          l2   \n",
            "3                      False                  True   10.0          l2   \n",
            "4                      False                  True   10.0          l2   \n",
            "\n",
            "  lr__solver  tfidf__lowercase tfidf__stop_words  accuracy  \n",
            "2  liblinear             False           english     0.824  \n",
            "0  newton-cg             False           english     0.823  \n",
            "1      lbfgs             False           english     0.823  \n",
            "3  newton-cg             False           english     0.815  \n",
            "4      lbfgs             False           english     0.815  \n"
          ]
        }
      ],
      "source": [
        "ajustLR(X_train, y_train,[True],[False],['english'],[False]) #removedigit,getlem,stopword,lwc"
      ]
    },
    {
      "cell_type": "code",
      "execution_count": 6,
      "metadata": {
        "id": "xxTDP_81KtCh",
        "outputId": "33dafd89-07ee-4d02-a8d6-8426373039fe"
      },
      "outputs": [
        {
          "name": "stdout",
          "output_type": "stream",
          "text": [
            "Sauvegarde du modèle dans  ./Sprint2/LogisticRegression_Sprint2.pkl\n",
            "Chargement du modèle \n",
            "\n",
            "Pipeline(steps=[('cleaner', TextNormalizer(removedigit=True)),\n",
            "                ('tfidf',\n",
            "                 TfidfVectorizer(lowercase=False, stop_words='english')),\n",
            "                ('lr', LogisticRegression(C=100, solver='liblinear'))])\n",
            "Accuracy : 0.850\n",
            "Classification Report\n",
            "              precision    recall  f1-score   support\n",
            "\n",
            "       False    0.84615   0.86275   0.85437        51\n",
            "        True    0.85417   0.83673   0.84536        49\n",
            "\n",
            "    accuracy                        0.85000       100\n",
            "   macro avg    0.85016   0.84974   0.84986       100\n",
            "weighted avg    0.85008   0.85000   0.84995       100\n",
            "\n"
          ]
        },
        {
          "data": {
            "image/png": "[encoded data removed]",
            "text/plain": [
              "<Figure size 800x500 with 2 Axes>"
            ]
          },
          "metadata": {},
          "output_type": "display_data"
        }
      ],
      "source": [
        "import pickle\n",
        "from sklearn.linear_model import LogisticRegression\n",
        "from sklearn.model_selection import train_test_split\n",
        "# Création d'un jeu d'apprentissage et de test\n",
        "trainsize=0.9 # 70% pour le jeu d'apprentissage, il reste 30% du jeu de données pour\n",
        "testsize= 0.1\n",
        "seed=30\n",
        "train_title,test_title,train_note,test_note=train_test_split(X_train,y_train, train_size=trainsize,random_state=seed,test_size=testsize)\n",
        "\n",
        "pipeline=Pipeline([\n",
        "    (\"cleaner\", TextNormalizer(removedigit=True, getlemmatisation=False)),\n",
        "    (\"tfidf\", TfidfVectorizer(lowercase=False, stop_words='english')),\n",
        "    ('lr', LogisticRegression(C=100,penalty='l2', solver='liblinear'))\n",
        "])\n",
        "pipeline.fit(train_title,train_note)\n",
        "filename='./Sprint2/LogisticRegression_Sprint2.pkl'\n",
        "print(\"Sauvegarde du modèle dans \", filename)\n",
        "pickle.dump(pipeline, open(filename, \"wb\"))\n",
        "\n",
        "\n",
        "\n",
        "print (\"Chargement du modèle \\n\")\n",
        "# le chargement se fait via la fonction load\n",
        "clf_loaded = pickle.load(open(filename, 'rb'))\n",
        "# affichage du modèle sauvegardé\n",
        "print (clf_loaded)\n",
        "\n",
        "\n",
        "# test  avec les données qu'il a apprise c'est parfait woahhha c'est beau\n",
        "y_pred = clf_loaded.predict(test_title)\n",
        "# autres mesures et matrice de confusion\n",
        "MyshowAllScores(test_note,y_pred)"
      ]
    }
  ],
  "metadata": {
    "colab": {
      "provenance": []
    },
    "kernelspec": {
      "display_name": "base",
      "language": "python",
      "name": "python3"
    },
    "language_info": {
      "codemirror_mode": {
        "name": "ipython",
        "version": 3
      },
      "file_extension": ".py",
      "mimetype": "text/x-python",
      "name": "python",
      "nbconvert_exporter": "python",
      "pygments_lexer": "ipython3",
      "version": "3.9.13"
    },
    "vscode": {
      "interpreter": {
        "hash": "e6822839c80bb80c42f7f9e096efdd447a89633a8e8a553b5cfb2012f3a4eafe"
      }
    }
  },
  "nbformat": 4,
  "nbformat_minor": 0
}
