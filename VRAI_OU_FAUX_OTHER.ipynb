{
 "cells": [
  {
   "attachments": {},
   "cell_type": "markdown",
   "metadata": {},
   "source": [
    "## Tâche de classification {VRAI} vs {FAUX}\n",
    "\n",
    "Etudiants : Cazeres Mathieu (22200082), Martin-Chantereau Etienne (21909526), Moreaux Victor (22200010), Poiret Valentin (21609227)"
   ]
  },
  {
   "attachments": {},
   "cell_type": "markdown",
   "metadata": {
    "collapsed": false
   },
   "source": [
    "_____________________________________________________________________________________________________\n",
    "_____________________________________________________________________________________________________\n",
    "                    \n",
    "## Introduction Notebook\n",
    "        \n",
    "_____________________________________________________________________________________________________\n",
    "_____________________________________________________________________________________________________"
   ]
  },
  {
   "attachments": {},
   "cell_type": "markdown",
   "metadata": {},
   "source": [
    "        -> Importation librairies"
   ]
  },
  {
   "cell_type": "code",
   "execution_count": 3,
   "metadata": {
    "collapsed": false
   },
   "outputs": [],
   "source": [
    "import pandas as pd\n",
    "# fonctions utilities (affichage, confusion, etc.)\n",
    "from Fonction.MyNLPUtilities import *\n",
    "# fonctions utilities (fonction de clean, import etc etc)\n",
    "from Fonction.myFonction import *\n",
    "from Fonction.AllModels import *"
   ]
  },
  {
   "attachments": {},
   "cell_type": "markdown",
   "metadata": {
    "collapsed": false
   },
   "source": [
    "        -> Chargement des données brutes"
   ]
  },
  {
   "cell_type": "code",
   "execution_count": 4,
   "metadata": {
    "collapsed": false
   },
   "outputs": [
    {
     "name": "stdout",
     "output_type": "stream",
     "text": [
      "data_brute avant drop de duplicate : \n",
      " false      893\n",
      "true       421\n",
      "mixture    414\n",
      "other      148\n",
      "Name: our rating, dtype: int64 \n",
      "\n",
      "data après drop de duplicate : \n",
      " false      815\n",
      "true       411\n",
      "mixture    374\n",
      "other      127\n",
      "Name: our rating, dtype: int64 \n",
      "\n",
      "data_to_test avant drop duplicates : \n",
      " false    815\n",
      "true     411\n",
      "other    127\n",
      "Name: our rating, dtype: int64 \n",
      "\n",
      "datato_test après drop duplicates : \n",
      " false    801\n",
      "true     407\n",
      "other    126\n",
      "Name: our rating, dtype: int64 \n",
      "\n"
     ]
    },
    {
     "data": {
      "text/html": [
       "<div>\n",
       "<style scoped>\n",
       "    .dataframe tbody tr th:only-of-type {\n",
       "        vertical-align: middle;\n",
       "    }\n",
       "\n",
       "    .dataframe tbody tr th {\n",
       "        vertical-align: top;\n",
       "    }\n",
       "\n",
       "    .dataframe thead th {\n",
       "        text-align: right;\n",
       "    }\n",
       "</style>\n",
       "<table border=\"1\" class=\"dataframe\">\n",
       "  <thead>\n",
       "    <tr style=\"text-align: right;\">\n",
       "      <th></th>\n",
       "      <th>text</th>\n",
       "      <th>title</th>\n",
       "      <th>our rating</th>\n",
       "    </tr>\n",
       "  </thead>\n",
       "  <tbody>\n",
       "    <tr>\n",
       "      <th>count</th>\n",
       "      <td>1334</td>\n",
       "      <td>1324</td>\n",
       "      <td>1334</td>\n",
       "    </tr>\n",
       "    <tr>\n",
       "      <th>unique</th>\n",
       "      <td>1323</td>\n",
       "      <td>1220</td>\n",
       "      <td>3</td>\n",
       "    </tr>\n",
       "    <tr>\n",
       "      <th>top</th>\n",
       "      <td>ADVERTISEMENT The fire that gutted a flank of ...</td>\n",
       "      <td>Marine Corps. Rebukes Pelosi: “WE DON’T WORK F...</td>\n",
       "      <td>false</td>\n",
       "    </tr>\n",
       "    <tr>\n",
       "      <th>freq</th>\n",
       "      <td>2</td>\n",
       "      <td>4</td>\n",
       "      <td>801</td>\n",
       "    </tr>\n",
       "  </tbody>\n",
       "</table>\n",
       "</div>"
      ],
      "text/plain": [
       "                                                     text  \\\n",
       "count                                                1334   \n",
       "unique                                               1323   \n",
       "top     ADVERTISEMENT The fire that gutted a flank of ...   \n",
       "freq                                                    2   \n",
       "\n",
       "                                                    title our rating  \n",
       "count                                                1324       1334  \n",
       "unique                                               1220          3  \n",
       "top     Marine Corps. Rebukes Pelosi: “WE DON’T WORK F...      false  \n",
       "freq                                                    4        801  "
      ]
     },
     "metadata": {},
     "output_type": "display_data"
    }
   ],
   "source": [
    "Init_train = pd.read_csv('./Data_brut/HAI817_Projet_train.csv', sep=\",\")\n",
    "Init_test = pd.read_csv('./Data_brut/HAI817_Projet_test.csv', sep=\",\")\n",
    "data_brute = pd.concat([Init_train,Init_test], ignore_index = True)\n",
    "\n",
    "print(\"data_brute avant drop de duplicate : \\n\", data_brute['our rating'].value_counts(),'\\n')\n",
    "data_brute = data_brute.drop_duplicates()\n",
    "print(\"data après drop de duplicate : \\n\", data_brute['our rating'].value_counts(),'\\n')\n",
    "\n",
    "\n",
    "data_to_test = data_brute[~data_brute['our rating'].isin(['mixture'])]\n",
    "data_to_test = data_to_test.drop(columns=['public_id', 'ID'])\n",
    "print(\"data_to_test avant drop duplicates : \\n\", data_to_test['our rating'].value_counts(),'\\n')\n",
    "data_to_test = data_to_test.drop_duplicates()\n",
    "print(\"datato_test après drop duplicates : \\n\", data_to_test['our rating'].value_counts(),'\\n')\n",
    "\n",
    "display(data_to_test.describe())"
   ]
  },
  {
   "cell_type": "markdown",
   "metadata": {},
   "source": [
    "        -> Initialisation des dataframes équilibrage "
   ]
  },
  {
   "attachments": {},
   "cell_type": "markdown",
   "metadata": {},
   "source": [
    "Lors de la visualisation les différentes données, nous nous sommes rendus compte que les données n'était pas du tout bien isolés je décide donc de tester tout les modèles en prenant différente classification : Texte, Titre, Texte+Titre pour ensuite sélectionner le meilleur de classification que je souhaite et le meilleur classifieur.\n",
    "\n",
    "Je crée donc 3 dataframe correspondant à chaque type de classification.  \n",
    "J'équilibre les dataframes en fonctions du nombre de other en appliquant la formule suivante : \n",
    "    nombre_de_True  = len(Other)/2\n",
    "    nombre_de_False = len(Other)/2\n",
    "    nombre_de_Other = Nombre de other dans le jeu de données d'origine \n",
    "Au regard du faible nombre d'other dans le jeu de données nous décidons d'opérer un oversampling d'environ 20% sur les données classées others"
   ]
  },
  {
   "cell_type": "code",
   "execution_count": 6,
   "metadata": {},
   "outputs": [],
   "source": [
    "from pandas import DataFrame\n",
    "\n",
    "\n",
    "def initDataToTest(df : DataFrame, columnToDrop : list[str], columnToCount : str, valueToMerge : list[str], size : int, valueOfReplacement : str) :\n",
    "    data = df.copy()\n",
    "    data = data.drop(columns=columnToDrop)\n",
    "    print(\"data\", valueToMerge ,\"avant drop duplicates : \\n\", data[columnToCount].value_counts(),'\\n')\n",
    "    data = data.drop_duplicates()\n",
    "    print(\"data\", valueToMerge ,\"après drop duplicates : \\n\", data[columnToCount].value_counts(),'\\n')\n",
    "    if size > 0 :\n",
    "        data = balanceSample(data,size,valueToMerge)\n",
    "    if valueOfReplacement is not None : \n",
    "        data = data.replace(valueToMerge, valueOfReplacement)\n",
    "    return data"
   ]
  },
  {
   "attachments": {},
   "cell_type": "markdown",
   "metadata": {},
   "source": [
    "❗IMPORTANT❗\n",
    "Ceci est le code permettant de créer des jeux de données équilibrés, si vous souhaitez les recréers il faut recharger la cellule attention toutefois cela risque d'écraser les anciens dataframes si vous les enregistrer par la suite et faussera les résultats des classifieurs"
   ]
  },
  {
   "cell_type": "code",
   "execution_count": 5,
   "metadata": {},
   "outputs": [
    {
     "name": "stdout",
     "output_type": "stream",
     "text": [
      "dataFrame text only :\n",
      "data ['other'] avant drop duplicates : \n",
      " our rating\n",
      "other         126\n",
      "dtype: int64 \n",
      "\n",
      "data ['other'] après drop duplicates : \n",
      " our rating\n",
      "other         126\n",
      "dtype: int64 \n",
      "\n",
      "data ['true', 'false'] avant drop duplicates : \n",
      " our rating\n",
      "false         801\n",
      "true          407\n",
      "other         126\n",
      "dtype: int64 \n",
      "\n",
      "data ['true', 'false'] après drop duplicates : \n",
      " our rating\n",
      "false         800\n",
      "true          400\n",
      "other         126\n",
      "dtype: int64 \n",
      "\n",
      "dataFrame title only :\n",
      "data ['other'] avant drop duplicates : \n",
      " our rating\n",
      "other         126\n",
      "dtype: int64 \n",
      "\n",
      "data ['other'] après drop duplicates : \n",
      " our rating\n",
      "other         125\n",
      "dtype: int64 \n",
      "\n",
      "data ['true', 'false'] avant drop duplicates : \n",
      " our rating\n",
      "false         801\n",
      "true          407\n",
      "other         126\n",
      "dtype: int64 \n",
      "\n",
      "data ['true', 'false'] après drop duplicates : \n",
      " our rating\n",
      "false         702\n",
      "true          400\n",
      "other         125\n",
      "dtype: int64 \n",
      "\n",
      "dataFrame text_title concatenate only :\n",
      "data ['other'] avant drop duplicates : \n",
      " our rating\n",
      "other         126\n",
      "dtype: int64 \n",
      "\n",
      "data ['other'] après drop duplicates : \n",
      " our rating\n",
      "other         126\n",
      "dtype: int64 \n",
      "\n",
      "data ['true', 'false'] avant drop duplicates : \n",
      " our rating\n",
      "false         801\n",
      "true          407\n",
      "other         126\n",
      "dtype: int64 \n",
      "\n",
      "data ['true', 'false'] après drop duplicates : \n",
      " our rating\n",
      "false         801\n",
      "true          407\n",
      "other         126\n",
      "dtype: int64 \n",
      "\n"
     ]
    }
   ],
   "source": [
    "\"\"\"\n",
    "print(\"dataFrame text only :\")\n",
    "df_text = pd.concat([initDataToTest(data_to_test[data_to_test['our rating'] == 'other'],['title'], ['our rating'], ['other'], 0, None),\n",
    "                             initDataToTest(data_to_test,['title'], ['our rating'], ['true', 'false'], 75,'true/false')])\n",
    "df_text = balanceSample(df_text, 150, ['true/false', 'other'])\n",
    "X_train_text  = df_text['text']\n",
    "Y_train_text = df_text['our rating']\n",
    "\n",
    "\n",
    "print(\"dataFrame title only :\")\n",
    "df_title = pd.concat([initDataToTest(data_to_test[data_to_test['our rating'] == 'other'],['text'], ['our rating'], ['other'], 0, None),\n",
    "                             initDataToTest(data_to_test,['text'], ['our rating'], ['true', 'false'], 75,'true/false')])\n",
    "df_title = balanceSample(df_title, 150, ['true/false', 'other'])\n",
    "X_train_title = df_title['title']\n",
    "Y_train_title = df_title['our rating']\n",
    "\n",
    "\n",
    "print(\"dataFrame text_title concatenate only :\")\n",
    "df_text_titre_concat = data_to_test.copy()\n",
    "df_text_titre_concat = df_text_titre_concat.fillna('')\n",
    "df_text_titre_concat['title_text'] = df_text_titre_concat['title'].str.cat(df_text_titre_concat['text'], sep=' ')\n",
    "df_text_and_title = pd.concat([initDataToTest(df_text_titre_concat[df_text_titre_concat['our rating'] == 'other'],['text', 'title'], ['our rating'], ['other'], 0, None),\n",
    "                             initDataToTest(df_text_titre_concat,['text', 'title'], ['our rating'], ['true', 'false'], 75,'true/false')])\n",
    "df_text_and_title = balanceSample(df_text_and_title, 150, ['true/false', 'other'])\n",
    "X_train_text_and_title = df_text_and_title['title_text']\n",
    "Y_train_text_and_title = df_text_and_title['our rating']\n",
    "\"\"\"\n"
   ]
  },
  {
   "attachments": {},
   "cell_type": "markdown",
   "metadata": {},
   "source": [
    "    -> Enregistrement DataFrame à lancer seulement si de nouveau jeux de données sont crées"
   ]
  },
  {
   "cell_type": "code",
   "execution_count": 8,
   "metadata": {},
   "outputs": [],
   "source": [
    "df_text.to_csv(\"./Data_equilibre/True_And_False_VS_Other/balanced_df_TFO_text.csv\")\n",
    "df_title.to_csv(\"./Data_equilibre/True_And_False_VS_Other/balanced_df_TFO_title.csv\")\n",
    "df_text_and_title.to_csv(\"./Data_equilibre/True_And_False_VS_Other/balanced_df_TFO_text_and_title.csv\")"
   ]
  },
  {
   "attachments": {},
   "cell_type": "markdown",
   "metadata": {},
   "source": [
    "        -> Chargement des jeux de données équilibrés"
   ]
  },
  {
   "cell_type": "code",
   "execution_count": 10,
   "metadata": {},
   "outputs": [],
   "source": [
    "df_text = pd.read_csv(\"./Data_equilibre/True_And_False_VS_Other/balanced_df_TFO_text.csv\")\n",
    "X_train_text  = df_text['text']\n",
    "Y_train_text = df_text['our rating']\n",
    "df_title = pd.read_csv(\"./Data_equilibre/True_And_False_VS_Other/balanced_df_TFO_title.csv\")\n",
    "X_train_title = df_title['title']\n",
    "Y_train_title = df_title['our rating']\n",
    "df_text_and_title = pd.read_csv(\"./Data_equilibre/True_And_False_VS_Other/balanced_df_TFO_text_and_title.csv\")\n",
    "X_train_text_and_title = df_text_and_title['title_text']\n",
    "Y_train_text_and_title = df_text_and_title['our rating']"
   ]
  },
  {
   "attachments": {},
   "cell_type": "markdown",
   "metadata": {
    "collapsed": false
   },
   "source": [
    "        -> Première prédiction des modèles \n",
    "\n",
    "Cela permet de partir sur une première estimation pour savoir lesquels sont les plus performants puis nous allons vérifier cela après les différents test"
   ]
  },
  {
   "cell_type": "code",
   "execution_count": 11,
   "metadata": {
    "collapsed": false
   },
   "outputs": [
    {
     "name": "stdout",
     "output_type": "stream",
     "text": [
      "Fonction Text\n"
     ]
    },
    {
     "name": "stderr",
     "output_type": "stream",
     "text": [
      "[nltk_data] Downloading package omw-1.4 to\n",
      "[nltk_data]     C:\\Users\\33683\\AppData\\Roaming\\nltk_data...\n",
      "[nltk_data]   Package omw-1.4 is already up-to-date!\n"
     ]
    },
    {
     "name": "stdout",
     "output_type": "stream",
     "text": [
      "Evaluation de  MultinomialNB\n",
      "MultinomialNB : 0.660 (0.095) in 0.534 s\n",
      "Evaluation de  LR\n",
      "LR : 0.677 (0.083) in 2.817 s\n",
      "Evaluation de  KNN\n",
      "KNN : 0.557 (0.109) in 1.219 s\n",
      "Evaluation de  CART\n",
      "CART : 0.550 (0.079) in 8.088 s\n",
      "Evaluation de  RF\n",
      "RF : 0.643 (0.086) in 12.640 s\n",
      "Evaluation de  SVM\n",
      "SVM : 0.690 (0.045) in 308.819 s\n",
      "\n",
      "Le meilleur resultat : \n",
      "Classifier :  SVM  accuracy : 0.690  (0.045)  en 308.819   s\n",
      "\n",
      "Tous les résultats : \n",
      "\n",
      "Classifier :  SVM  accuracy : 0.690  (0.045)  en 308.819   s\n",
      "Classifier :  LR  accuracy : 0.677  (0.083)  en 2.817   s\n",
      "Classifier :  MultinomialNB  accuracy : 0.660  (0.095)  en 0.534   s\n",
      "Classifier :  RF  accuracy : 0.643  (0.086)  en 12.640   s\n",
      "Classifier :  KNN  accuracy : 0.557  (0.109)  en 1.219   s\n",
      "Classifier :  CART  accuracy : 0.550  (0.079)  en 8.088   s\n"
     ]
    },
    {
     "data": {
      "image/png": "[encoded data removed]",
      "text/plain": [
       "<Figure size 640x480 with 1 Axes>"
      ]
     },
     "metadata": {},
     "output_type": "display_data"
    }
   ],
   "source": [
    "print(\"Fonction Text\")\n",
    "testAllModel(X_train_text,Y_train_text,5)\n",
    "\n",
    "\n"
   ]
  },
  {
   "cell_type": "code",
   "execution_count": 12,
   "metadata": {},
   "outputs": [
    {
     "name": "stdout",
     "output_type": "stream",
     "text": [
      "Fonction Titre\n",
      "Evaluation de  MultinomialNB\n"
     ]
    },
    {
     "name": "stderr",
     "output_type": "stream",
     "text": [
      "[nltk_data] Downloading package omw-1.4 to\n",
      "[nltk_data]     C:\\Users\\33683\\AppData\\Roaming\\nltk_data...\n",
      "[nltk_data]   Package omw-1.4 is already up-to-date!\n"
     ]
    },
    {
     "name": "stdout",
     "output_type": "stream",
     "text": [
      "MultinomialNB : 0.587 (0.107) in 0.147 s\n",
      "Evaluation de  LR\n",
      "LR : 0.617 (0.101) in 0.443 s\n",
      "Evaluation de  KNN\n",
      "KNN : 0.560 (0.071) in 0.367 s\n",
      "Evaluation de  CART\n",
      "CART : 0.627 (0.071) in 1.949 s\n",
      "Evaluation de  RF\n",
      "RF : 0.623 (0.062) in 7.689 s\n",
      "Evaluation de  SVM\n",
      "SVM : 0.667 (0.045) in 1.894 s\n",
      "\n",
      "Le meilleur resultat : \n",
      "Classifier :  SVM  accuracy : 0.667  (0.045)  en 1.894   s\n",
      "\n",
      "Tous les résultats : \n",
      "\n",
      "Classifier :  SVM  accuracy : 0.667  (0.045)  en 1.894   s\n",
      "Classifier :  CART  accuracy : 0.627  (0.071)  en 1.949   s\n",
      "Classifier :  RF  accuracy : 0.623  (0.062)  en 7.689   s\n",
      "Classifier :  LR  accuracy : 0.617  (0.101)  en 0.443   s\n",
      "Classifier :  MultinomialNB  accuracy : 0.587  (0.107)  en 0.147   s\n",
      "Classifier :  KNN  accuracy : 0.560  (0.071)  en 0.367   s\n"
     ]
    },
    {
     "data": {
      "image/png": "[encoded data removed]",
      "text/plain": [
       "<Figure size 640x480 with 1 Axes>"
      ]
     },
     "metadata": {},
     "output_type": "display_data"
    }
   ],
   "source": [
    "print(\"Fonction Titre\")\n",
    "testAllModel(X_train_title,Y_train_title,5)"
   ]
  },
  {
   "cell_type": "code",
   "execution_count": 13,
   "metadata": {},
   "outputs": [
    {
     "name": "stdout",
     "output_type": "stream",
     "text": [
      "Fonction titre et text \n"
     ]
    },
    {
     "name": "stderr",
     "output_type": "stream",
     "text": [
      "[nltk_data] Downloading package omw-1.4 to\n",
      "[nltk_data]     C:\\Users\\33683\\AppData\\Roaming\\nltk_data...\n",
      "[nltk_data]   Package omw-1.4 is already up-to-date!\n"
     ]
    },
    {
     "name": "stdout",
     "output_type": "stream",
     "text": [
      "Evaluation de  MultinomialNB\n",
      "MultinomialNB : 0.627 (0.090) in 0.522 s\n",
      "Evaluation de  LR\n",
      "LR : 0.623 (0.099) in 2.528 s\n",
      "Evaluation de  KNN\n",
      "KNN : 0.610 (0.084) in 0.923 s\n",
      "Evaluation de  CART\n",
      "CART : 0.577 (0.076) in 8.669 s\n",
      "Evaluation de  RF\n",
      "RF : 0.660 (0.059) in 12.323 s\n",
      "Evaluation de  SVM\n",
      "SVM : 0.640 (0.080) in 305.789 s\n",
      "\n",
      "Le meilleur resultat : \n",
      "Classifier :  RF  accuracy : 0.660  (0.059)  en 12.323   s\n",
      "\n",
      "Tous les résultats : \n",
      "\n",
      "Classifier :  RF  accuracy : 0.660  (0.059)  en 12.323   s\n",
      "Classifier :  SVM  accuracy : 0.640  (0.080)  en 305.789   s\n",
      "Classifier :  MultinomialNB  accuracy : 0.627  (0.090)  en 0.522   s\n",
      "Classifier :  LR  accuracy : 0.623  (0.099)  en 2.528   s\n",
      "Classifier :  KNN  accuracy : 0.610  (0.084)  en 0.923   s\n",
      "Classifier :  CART  accuracy : 0.577  (0.076)  en 8.669   s\n"
     ]
    },
    {
     "data": {
      "image/png": "[encoded data removed]",
      "text/plain": [
       "<Figure size 640x480 with 1 Axes>"
      ]
     },
     "metadata": {},
     "output_type": "display_data"
    }
   ],
   "source": [
    "print(\"Fonction titre et text \")\n",
    "testAllModel(X_train_text_and_title, Y_train_text_and_title,5)"
   ]
  },
  {
   "attachments": {},
   "cell_type": "markdown",
   "metadata": {
    "collapsed": false
   },
   "source": [
    "_____________________________________________________________________________________________________\n",
    "_____________________________________________________________________________________________________\n",
    "                    \n",
    "## 1. Test des Classifieurs avec les données Brutes\n",
    "_____________________________________________________________________________________________________\n",
    "_____________________________________________________________________________________________________"
   ]
  },
  {
   "attachments": {},
   "cell_type": "markdown",
   "metadata": {},
   "source": [
    "        1.1 Test SVC"
   ]
  },
  {
   "attachments": {},
   "cell_type": "markdown",
   "metadata": {},
   "source": [
    "        ---> Texte"
   ]
  },
  {
   "cell_type": "code",
   "execution_count": 12,
   "metadata": {
    "collapsed": false
   },
   "outputs": [
    {
     "name": "stdout",
     "output_type": "stream",
     "text": [
      "Test SVC Text\n",
      "Application de gridsearch ...\n",
      "pipeline : ['cleaner', 'tfidf', 'svm']\n",
      "parameters :\n",
      "{'cleaner__getstemmer': [True, False], 'cleaner__removedigit': [True, False], 'cleaner__getlemmatisation': [True, False], 'tfidf__stop_words': ['english', None], 'tfidf__lowercase': [True, False], 'svm__C': [0.001, 0.01, 0.1, 1, 10], 'svm__gamma': [0.001, 0.01, 0.1, 1], 'svm__kernel': ['linear', 'rbf', 'poly', 'sigmoid']}\n",
      "Fitting 5 folds for each of 2560 candidates, totalling 12800 fits\n",
      "réalisé en  6501.005 s\n",
      "Meilleur résultat : 0.703\n",
      "Ensemble des meilleurs paramètres :\n",
      "\tcleaner__getlemmatisation: True\n",
      "\tcleaner__getstemmer: False\n",
      "\tcleaner__removedigit: True\n",
      "\tsvm__C: 10\n",
      "\tsvm__gamma: 1\n",
      "\tsvm__kernel: 'rbf'\n",
      "\ttfidf__lowercase: False\n",
      "\ttfidf__stop_words: None\n",
      "\n",
      "Les premiers résultats : \n",
      "      cleaner__getlemmatisation  cleaner__getstemmer  cleaner__removedigit  \\\n",
      "951                       True                False                  True   \n",
      "620                       True                 True                 False   \n",
      "544                       True                 True                 False   \n",
      "528                       True                 True                 False   \n",
      "514                       True                 True                 False   \n",
      "\n",
      "     svm__C  svm__gamma svm__kernel  tfidf__lowercase tfidf__stop_words  \\\n",
      "951    10.0       1.000         rbf             False              None   \n",
      "620    10.0       0.100     sigmoid              True           english   \n",
      "544     1.0       0.100      linear              True           english   \n",
      "528     1.0       0.010      linear              True           english   \n",
      "514     1.0       0.001      linear             False           english   \n",
      "\n",
      "     accuracy  \n",
      "951  0.703333  \n",
      "620  0.700000  \n",
      "544  0.700000  \n",
      "528  0.700000  \n",
      "514  0.700000  \n"
     ]
    }
   ],
   "source": [
    "print(\"Test SVC Text\")\n",
    "testSVC(X_train_text,Y_train_text, 5,'/True_And_False_VS_Other/Texte/data_svc_TFO_Texte')"
   ]
  },
  {
   "cell_type": "code",
   "execution_count": 20,
   "metadata": {},
   "outputs": [
    {
     "name": "stdout",
     "output_type": "stream",
     "text": [
      "Sauvegarde du modèle dans  ./Modele/TFO_svm_not_DE.pkl\n",
      "Chargement du modèle \n",
      "\n",
      "Pipeline(steps=[('cleaner',\n",
      "                 TextNormalizer(getlemmatisation=True, removedigit=True)),\n",
      "                ('tfidf', TfidfVectorizer(lowercase=False)),\n",
      "                ('svm', SVC(C=10, gamma=1, probability=True))])\n",
      "Accuracy : 0.567\n",
      "Classification Report\n",
      "              precision    recall  f1-score   support\n",
      "\n",
      "       other    0.57143   0.53333   0.55172        15\n",
      "  true/false    0.56250   0.60000   0.58065        15\n",
      "\n",
      "    accuracy                        0.56667        30\n",
      "   macro avg    0.56696   0.56667   0.56618        30\n",
      "weighted avg    0.56696   0.56667   0.56618        30\n",
      "\n"
     ]
    },
    {
     "data": {
      "image/png": "[encoded data removed]",
      "text/plain": [
       "<Figure size 800x500 with 2 Axes>"
      ]
     },
     "metadata": {},
     "output_type": "display_data"
    }
   ],
   "source": [
    "from sklearn.model_selection import train_test_split\n",
    "import pickle\n",
    "# Création d'un jeu d'apprentissage et de test\n",
    "trainsize=0.9 # 70% pour le jeu d'apprentissage, il reste 30% du jeu de données pour\n",
    "testsize= 0.1\n",
    "seed=30\n",
    "\n",
    "train_title,test_title,train_note,test_note=train_test_split(X_train_text,Y_train_text, train_size=trainsize,random_state=seed,test_size=testsize,stratify=Y_train_text)\n",
    "\n",
    "pipeline=Pipeline([\n",
    "    (\"cleaner\", TextNormalizer(removedigit=True, getlemmatisation=True, getstemmer=False)),\n",
    "    (\"tfidf\", TfidfVectorizer(lowercase=False, stop_words=None)),\n",
    "    ('svm', SVC(C=10, gamma=1, kernel='rbf',probability=True))\n",
    "])\n",
    "pipeline.fit(train_title,train_note)\n",
    "filename='./Modele/True_And_False_VS_Other/TFO_svm_not_DE.pkl'\n",
    "print(\"Sauvegarde du modèle dans \", filename)\n",
    "pickle.dump(pipeline, open(filename, \"wb\"))\n",
    "\n",
    "\n",
    "print (\"Chargement du modèle \\n\")\n",
    "# le chargement se fait via la fonction load\n",
    "clf_loaded = pickle.load(open(filename, 'rb'))\n",
    "# affichage du modèle sauvegardé\n",
    "print (clf_loaded)\n",
    "\n",
    "\n",
    "# test  avec les données qu'il a apprise c'est parfait woahhha c'est beau\n",
    "y_pred = clf_loaded.predict(test_title)\n",
    "# autres mesures et matrice de confusion\n",
    "MyshowAllScores(test_note,y_pred)"
   ]
  },
  {
   "attachments": {},
   "cell_type": "markdown",
   "metadata": {},
   "source": [
    "        ---> Titre"
   ]
  },
  {
   "cell_type": "code",
   "execution_count": 13,
   "metadata": {},
   "outputs": [
    {
     "name": "stdout",
     "output_type": "stream",
     "text": [
      "Test SVC Titre\n",
      "Application de gridsearch ...\n",
      "pipeline : ['cleaner', 'tfidf', 'svm']\n",
      "parameters :\n",
      "{'cleaner__getstemmer': [True, False], 'cleaner__removedigit': [True, False], 'cleaner__getlemmatisation': [True, False], 'tfidf__stop_words': ['english', None], 'tfidf__lowercase': [True, False], 'svm__C': [0.001, 0.01, 0.1, 1, 10], 'svm__gamma': [0.001, 0.01, 0.1, 1], 'svm__kernel': ['linear', 'rbf', 'poly', 'sigmoid']}\n",
      "Fitting 5 folds for each of 2560 candidates, totalling 12800 fits\n",
      "réalisé en  222.986 s\n",
      "Meilleur résultat : 0.660\n",
      "Ensemble des meilleurs paramètres :\n",
      "\tcleaner__getlemmatisation: True\n",
      "\tcleaner__getstemmer: False\n",
      "\tcleaner__removedigit: False\n",
      "\tsvm__C: 0.001\n",
      "\tsvm__gamma: 0.001\n",
      "\tsvm__kernel: 'poly'\n",
      "\ttfidf__lowercase: True\n",
      "\ttfidf__stop_words: 'english'\n",
      "\n",
      "Les premiers résultats : \n",
      "       cleaner__getlemmatisation  cleaner__getstemmer  cleaner__removedigit  \\\n",
      "2296                      False                False                 False   \n",
      "2360                      False                False                 False   \n",
      "2200                      False                False                  True   \n",
      "2536                      False                False                 False   \n",
      "1112                       True                False                 False   \n",
      "\n",
      "      svm__C  svm__gamma svm__kernel  tfidf__lowercase tfidf__stop_words  \\\n",
      "2296   0.001        1.00        poly              True           english   \n",
      "2360   0.010        1.00        poly              True           english   \n",
      "2200  10.000        0.01        poly              True           english   \n",
      "2536  10.000        0.10        poly              True           english   \n",
      "1112   0.100        0.01        poly              True           english   \n",
      "\n",
      "      accuracy  \n",
      "2296      0.66  \n",
      "2360      0.66  \n",
      "2200      0.66  \n",
      "2536      0.66  \n",
      "1112      0.66  \n"
     ]
    }
   ],
   "source": [
    "print(\"Test SVC Titre\")\n",
    "testSVC(X_train_title,Y_train_title, 5, '/True_And_False_VS_Other/Titre/data_svc_TFO_Titre')"
   ]
  },
  {
   "attachments": {},
   "cell_type": "markdown",
   "metadata": {},
   "source": [
    "        ---> Texte et Titre"
   ]
  },
  {
   "cell_type": "code",
   "execution_count": 4,
   "metadata": {},
   "outputs": [
    {
     "name": "stdout",
     "output_type": "stream",
     "text": [
      "Test SVC Text and Titre\n",
      "Application de gridsearch ...\n",
      "pipeline : ['cleaner', 'tfidf', 'svm']\n",
      "parameters :\n",
      "{'cleaner__getstemmer': [True, False], 'cleaner__removedigit': [True, False], 'cleaner__getlemmatisation': [True, False], 'tfidf__stop_words': ['english', None], 'tfidf__lowercase': [True, False], 'svm__C': [0.001, 0.01, 0.1, 1, 10], 'svm__gamma': [0.001, 0.01, 0.1, 1], 'svm__kernel': ['linear', 'rbf', 'poly', 'sigmoid']}\n",
      "Fitting 5 folds for each of 2560 candidates, totalling 12800 fits\n",
      "réalisé en  6559.843 s\n",
      "Meilleur résultat : 0.673\n",
      "Ensemble des meilleurs paramètres :\n",
      "\tcleaner__getlemmatisation: True\n",
      "\tcleaner__getstemmer: False\n",
      "\tcleaner__removedigit: False\n",
      "\tsvm__C: 1\n",
      "\tsvm__gamma: 0.001\n",
      "\tsvm__kernel: 'linear'\n",
      "\ttfidf__lowercase: True\n",
      "\ttfidf__stop_words: None\n",
      "\n",
      "Les premiers résultats : \n",
      "       cleaner__getlemmatisation  cleaner__getstemmer  cleaner__removedigit  \\\n",
      "1201                       True                False                 False   \n",
      "1153                       True                False                 False   \n",
      "1261                       True                False                 False   \n",
      "1169                       True                False                 False   \n",
      "1185                       True                False                 False   \n",
      "\n",
      "      svm__C  svm__gamma svm__kernel  tfidf__lowercase tfidf__stop_words  \\\n",
      "1201     1.0       1.000      linear              True              None   \n",
      "1153     1.0       0.001      linear              True              None   \n",
      "1261    10.0       0.100     sigmoid              True              None   \n",
      "1169     1.0       0.010      linear              True              None   \n",
      "1185     1.0       0.100      linear              True              None   \n",
      "\n",
      "      accuracy  \n",
      "1201  0.673333  \n",
      "1153  0.673333  \n",
      "1261  0.673333  \n",
      "1169  0.673333  \n",
      "1185  0.673333  \n"
     ]
    }
   ],
   "source": [
    "print(\"Test SVC Text and Titre\")\n",
    "testSVC(X_train_text_and_title,Y_train_text_and_title, 5,'/True_And_False_VS_Other/Titre_And_Texte/data_svc_TFO_Titre_And_Texte')"
   ]
  },
  {
   "attachments": {},
   "cell_type": "markdown",
   "metadata": {
    "collapsed": false
   },
   "source": [
    "        1.2 Test RFC"
   ]
  },
  {
   "attachments": {},
   "cell_type": "markdown",
   "metadata": {},
   "source": [
    "        ---> Texte"
   ]
  },
  {
   "cell_type": "code",
   "execution_count": 5,
   "metadata": {
    "collapsed": false
   },
   "outputs": [
    {
     "name": "stdout",
     "output_type": "stream",
     "text": [
      "Test RFC Text\n",
      "Application de gridsearch ...\n",
      "pipeline : ['cleaner', 'tfidf', 'rfc']\n",
      "parameters :\n",
      "{'cleaner__getstemmer': [True, False], 'cleaner__removedigit': [True, False], 'cleaner__getlemmatisation': [True, False], 'tfidf__stop_words': ['english', None], 'tfidf__lowercase': [True, False], 'rfc__n_estimators': [500, 1200], 'rfc__max_depth': [25, 30], 'rfc__min_samples_split': [5, 10, 15], 'rfc__min_samples_leaf': [1, 2]}\n",
      "Fitting 5 folds for each of 768 candidates, totalling 3840 fits\n",
      "réalisé en  3044.708 s\n",
      "Meilleur résultat : 0.720\n",
      "Ensemble des meilleurs paramètres :\n",
      "\tcleaner__getlemmatisation: True\n",
      "\tcleaner__getstemmer: True\n",
      "\tcleaner__removedigit: False\n",
      "\trfc__max_depth: 30\n",
      "\trfc__min_samples_leaf: 2\n",
      "\trfc__min_samples_split: 10\n",
      "\trfc__n_estimators: 1200\n",
      "\ttfidf__lowercase: True\n",
      "\ttfidf__stop_words: None\n",
      "\n",
      "Les premiers résultats : \n",
      "      cleaner__getlemmatisation  cleaner__getstemmer  cleaner__removedigit  \\\n",
      "181                       True                 True                 False   \n",
      "141                       True                 True                 False   \n",
      "507                      False                 True                 False   \n",
      "547                      False                 True                 False   \n",
      "541                      False                 True                 False   \n",
      "\n",
      "     rfc__max_depth  rfc__min_samples_leaf  rfc__min_samples_split  \\\n",
      "181              30                      2                      10   \n",
      "141              25                      2                      15   \n",
      "507              25                      2                       5   \n",
      "547              30                      1                      15   \n",
      "541              30                      1                      10   \n",
      "\n",
      "     rfc__n_estimators  tfidf__lowercase tfidf__stop_words  accuracy  \n",
      "181               1200              True              None  0.720000  \n",
      "141               1200              True              None  0.716667  \n",
      "507                500             False              None  0.713333  \n",
      "547                500             False              None  0.710000  \n",
      "541               1200              True              None  0.710000  \n"
     ]
    }
   ],
   "source": [
    "print(\"Test RFC Text\")\n",
    "testRFC(X_train_text,Y_train_text,5,'/True_And_False_VS_Other/Texte/data_RFC_TFO_Texte')"
   ]
  },
  {
   "cell_type": "code",
   "execution_count": 21,
   "metadata": {},
   "outputs": [
    {
     "name": "stdout",
     "output_type": "stream",
     "text": [
      "Sauvegarde du modèle dans  ./Modele/True_And_False_VS_Other/TFO_RFC_not_DE.pkl.pkl\n",
      "Chargement du modèle \n",
      "\n",
      "Pipeline(steps=[('cleaner',\n",
      "                 TextNormalizer(getlemmatisation=True, getstemmer=True)),\n",
      "                ('tfidf', TfidfVectorizer(stop_words='english')),\n",
      "                ('rfc',\n",
      "                 RandomForestClassifier(max_depth=30, min_samples_leaf=2,\n",
      "                                        min_samples_split=10,\n",
      "                                        n_estimators=1200))])\n",
      "Accuracy : 0.633\n",
      "Classification Report\n",
      "              precision    recall  f1-score   support\n",
      "\n",
      "       other    0.61111   0.73333   0.66667        15\n",
      "  true/false    0.66667   0.53333   0.59259        15\n",
      "\n",
      "    accuracy                        0.63333        30\n",
      "   macro avg    0.63889   0.63333   0.62963        30\n",
      "weighted avg    0.63889   0.63333   0.62963        30\n",
      "\n"
     ]
    },
    {
     "data": {
      "image/png": "[encoded data removed]",
      "text/plain": [
       "<Figure size 800x500 with 2 Axes>"
      ]
     },
     "metadata": {},
     "output_type": "display_data"
    }
   ],
   "source": [
    "import pickle\n",
    "from sklearn.ensemble import RandomForestClassifier\n",
    "from sklearn.model_selection import train_test_split\n",
    "# Création d'un jeu d'apprentissage et de test\n",
    "trainsize=0.9 # 70% pour le jeu d'apprentissage, il reste 30% du jeu de données pour\n",
    "testsize= 0.1\n",
    "seed=30\n",
    "train_title,test_title,train_note,test_note=train_test_split(X_train_text,Y_train_text, train_size=trainsize,random_state=seed,test_size=testsize,stratify=Y_train_text)\n",
    "\n",
    "pipeline=Pipeline([\n",
    "    (\"cleaner\", TextNormalizer(removedigit=False, getlemmatisation=True, getstemmer=True)),\n",
    "    (\"tfidf\", TfidfVectorizer(lowercase=True, stop_words='english')),\n",
    "    ('rfc', RandomForestClassifier(max_depth=30,min_samples_leaf=2, min_samples_split=10, n_estimators=1200))\n",
    "])\n",
    "pipeline.fit(train_title,train_note)\n",
    "filename='./Modele/True_And_False_VS_Other/TFO_RFC_not_DE.pkl.pkl'\n",
    "print(\"Sauvegarde du modèle dans \", filename)\n",
    "pickle.dump(pipeline, open(filename, \"wb\"))\n",
    "\n",
    "\n",
    "\n",
    "print (\"Chargement du modèle \\n\")\n",
    "# le chargement se fait via la fonction load\n",
    "clf_loaded = pickle.load(open(filename, 'rb'))\n",
    "# affichage du modèle sauvegardé\n",
    "print (clf_loaded)\n",
    "\n",
    "\n",
    "# test  avec les données qu'il a apprise c'est parfait woahhha c'est beau\n",
    "y_pred = clf_loaded.predict(test_title)\n",
    "# autres mesures et matrice de confusion\n",
    "MyshowAllScores(test_note,y_pred)"
   ]
  },
  {
   "attachments": {},
   "cell_type": "markdown",
   "metadata": {},
   "source": [
    "        ---> Title"
   ]
  },
  {
   "cell_type": "code",
   "execution_count": 18,
   "metadata": {},
   "outputs": [
    {
     "name": "stdout",
     "output_type": "stream",
     "text": [
      "Test RFC Title\n",
      "Application de gridsearch ...\n",
      "pipeline : ['cleaner', 'tfidf', 'rfc']\n",
      "parameters :\n",
      "{'cleaner__getstemmer': [True, False], 'cleaner__removedigit': [True, False], 'cleaner__getlemmatisation': [True, False], 'tfidf__stop_words': ['english', None], 'tfidf__lowercase': [True, False], 'rfc__n_estimators': [500, 1200], 'rfc__max_depth': [25, 30], 'rfc__min_samples_split': [5, 10, 15], 'rfc__min_samples_leaf': [1, 2]}\n",
      "Fitting 5 folds for each of 768 candidates, totalling 3840 fits\n",
      "réalisé en  1281.896 s\n",
      "Meilleur résultat : 0.663\n",
      "Ensemble des meilleurs paramètres :\n",
      "\tcleaner__getlemmatisation: False\n",
      "\tcleaner__getstemmer: True\n",
      "\tcleaner__removedigit: False\n",
      "\trfc__max_depth: 30\n",
      "\trfc__min_samples_leaf: 1\n",
      "\trfc__min_samples_split: 5\n",
      "\trfc__n_estimators: 1200\n",
      "\ttfidf__lowercase: False\n",
      "\ttfidf__stop_words: 'english'\n",
      "\n",
      "Les premiers résultats : \n",
      "      cleaner__getlemmatisation  cleaner__getstemmer  cleaner__removedigit  \\\n",
      "534                      False                 True                 False   \n",
      "542                      False                 True                 False   \n",
      "636                      False                False                  True   \n",
      "632                      False                False                  True   \n",
      "580                      False                False                  True   \n",
      "\n",
      "     rfc__max_depth  rfc__min_samples_leaf  rfc__min_samples_split  \\\n",
      "534              30                      1                       5   \n",
      "542              30                      1                      10   \n",
      "636              30                      1                      10   \n",
      "632              30                      1                      10   \n",
      "580              25                      1                       5   \n",
      "\n",
      "     rfc__n_estimators  tfidf__lowercase tfidf__stop_words  accuracy  \n",
      "534               1200             False           english  0.663333  \n",
      "542               1200             False           english  0.660000  \n",
      "636               1200              True           english  0.656667  \n",
      "632                500              True           english  0.656667  \n",
      "580               1200              True           english  0.656667  \n"
     ]
    }
   ],
   "source": [
    "print(\"Test RFC Title\")\n",
    "testRFC(X_train_title,Y_train_title,5,'/True_And_False_VS_Other/Titre/data_rfc_TFO_Titre')"
   ]
  },
  {
   "attachments": {},
   "cell_type": "markdown",
   "metadata": {},
   "source": [
    "        ---> Texte et titre"
   ]
  },
  {
   "cell_type": "code",
   "execution_count": 6,
   "metadata": {},
   "outputs": [
    {
     "name": "stdout",
     "output_type": "stream",
     "text": [
      "Test RFC Text and title\n",
      "Application de gridsearch ...\n",
      "pipeline : ['cleaner', 'tfidf', 'rfc']\n",
      "parameters :\n",
      "{'cleaner__getstemmer': [True, False], 'cleaner__removedigit': [True, False], 'cleaner__getlemmatisation': [True, False], 'tfidf__stop_words': ['english', None], 'tfidf__lowercase': [True, False], 'rfc__n_estimators': [500, 1200], 'rfc__max_depth': [25, 30], 'rfc__min_samples_split': [5, 10, 15], 'rfc__min_samples_leaf': [1, 2]}\n",
      "Fitting 5 folds for each of 768 candidates, totalling 3840 fits\n",
      "réalisé en  3288.387 s\n",
      "Meilleur résultat : 0.663\n",
      "Ensemble des meilleurs paramètres :\n",
      "\tcleaner__getlemmatisation: False\n",
      "\tcleaner__getstemmer: True\n",
      "\tcleaner__removedigit: False\n",
      "\trfc__max_depth: 25\n",
      "\trfc__min_samples_leaf: 1\n",
      "\trfc__min_samples_split: 10\n",
      "\trfc__n_estimators: 500\n",
      "\ttfidf__lowercase: False\n",
      "\ttfidf__stop_words: 'english'\n",
      "\n",
      "Les premiers résultats : \n",
      "      cleaner__getlemmatisation  cleaner__getstemmer  cleaner__removedigit  \\\n",
      "490                      False                 True                 False   \n",
      "369                       True                False                 False   \n",
      "689                      False                False                 False   \n",
      "467                      False                 True                  True   \n",
      "753                      False                False                 False   \n",
      "\n",
      "     rfc__max_depth  rfc__min_samples_leaf  rfc__min_samples_split  \\\n",
      "490              25                      1                      10   \n",
      "369              30                      2                      10   \n",
      "689              25                      1                      15   \n",
      "467              30                      2                      10   \n",
      "753              30                      2                      10   \n",
      "\n",
      "     rfc__n_estimators  tfidf__lowercase tfidf__stop_words  accuracy  \n",
      "490                500             False           english  0.663333  \n",
      "369                500              True              None  0.650000  \n",
      "689                500              True              None  0.650000  \n",
      "467                500             False              None  0.650000  \n",
      "753                500              True              None  0.646667  \n"
     ]
    }
   ],
   "source": [
    "print(\"Test RFC Text and title\")\n",
    "testRFC(X_train_text_and_title,Y_train_text_and_title,5,'/True_And_False_VS_Other/Titre_And_Texte/data_svc_TFO_Titre_And_Texte')"
   ]
  },
  {
   "attachments": {},
   "cell_type": "markdown",
   "metadata": {
    "collapsed": false
   },
   "source": [
    "        1.3 Test LR"
   ]
  },
  {
   "attachments": {},
   "cell_type": "markdown",
   "metadata": {},
   "source": [
    "        ---> Texte"
   ]
  },
  {
   "cell_type": "code",
   "execution_count": 8,
   "metadata": {
    "collapsed": false
   },
   "outputs": [
    {
     "name": "stdout",
     "output_type": "stream",
     "text": [
      "Test LR text\n",
      "Application de gridsearch ...\n",
      "pipeline : ['cleaner', 'tfidf', 'lr']\n",
      "parameters :\n",
      "{'cleaner__getstemmer': [True, False], 'cleaner__removedigit': [True, False], 'cleaner__getlemmatisation': [True, False], 'tfidf__stop_words': ['english', None], 'tfidf__lowercase': [True, False], 'lr__solver': ['newton-cg', 'lbfgs', 'liblinear'], 'lr__penalty': ['l2'], 'lr__C': [100, 10, 1.0, 0.1, 0.01]}\n",
      "Fitting 5 folds for each of 480 candidates, totalling 2400 fits\n",
      "réalisé en  941.495 s\n",
      "Meilleur résultat : 0.710\n",
      "Ensemble des meilleurs paramètres :\n",
      "\tcleaner__getlemmatisation: True\n",
      "\tcleaner__getstemmer: True\n",
      "\tcleaner__removedigit: False\n",
      "\tlr__C: 1.0\n",
      "\tlr__penalty: 'l2'\n",
      "\tlr__solver: 'liblinear'\n",
      "\ttfidf__lowercase: True\n",
      "\ttfidf__stop_words: 'english'\n",
      "\n",
      "Les premiers résultats : \n",
      "     cleaner__getlemmatisation  cleaner__getstemmer  cleaner__removedigit  \\\n",
      "94                       True                 True                 False   \n",
      "92                       True                 True                 False   \n",
      "86                       True                 True                 False   \n",
      "90                       True                 True                 False   \n",
      "88                       True                 True                 False   \n",
      "\n",
      "    lr__C lr__penalty lr__solver  tfidf__lowercase tfidf__stop_words  accuracy  \n",
      "94    1.0          l2  liblinear             False           english  0.710000  \n",
      "92    1.0          l2  liblinear              True           english  0.710000  \n",
      "86    1.0          l2  newton-cg             False           english  0.706667  \n",
      "90    1.0          l2      lbfgs             False           english  0.706667  \n",
      "88    1.0          l2      lbfgs              True           english  0.706667  \n"
     ]
    }
   ],
   "source": [
    "print(\"Test LR text\")\n",
    "testLR(X_train_text,Y_train_text,5,'/True_And_False_VS_Other/Texte/data_LR_TFO_Texte')"
   ]
  },
  {
   "attachments": {},
   "cell_type": "markdown",
   "metadata": {},
   "source": [
    "        ---> Titre"
   ]
  },
  {
   "cell_type": "code",
   "execution_count": 17,
   "metadata": {},
   "outputs": [
    {
     "name": "stdout",
     "output_type": "stream",
     "text": [
      "Test LR Titre\n",
      "Application de gridsearch ...\n",
      "pipeline : ['cleaner', 'tfidf', 'lr']\n",
      "parameters :\n",
      "{'cleaner__getstemmer': [True, False], 'cleaner__removedigit': [True, False], 'cleaner__getlemmatisation': [True, False], 'tfidf__stop_words': ['english', None], 'tfidf__lowercase': [True, False], 'lr__solver': ['newton-cg', 'lbfgs', 'liblinear'], 'lr__penalty': ['l2'], 'lr__C': [100, 10, 1.0, 0.1, 0.01]}\n",
      "Fitting 5 folds for each of 480 candidates, totalling 2400 fits\n",
      "réalisé en  93.201 s\n",
      "Meilleur résultat : 0.653\n",
      "Ensemble des meilleurs paramètres :\n",
      "\tcleaner__getlemmatisation: True\n",
      "\tcleaner__getstemmer: True\n",
      "\tcleaner__removedigit: True\n",
      "\tlr__C: 1.0\n",
      "\tlr__penalty: 'l2'\n",
      "\tlr__solver: 'newton-cg'\n",
      "\ttfidf__lowercase: True\n",
      "\ttfidf__stop_words: 'english'\n",
      "\n",
      "Les premiers résultats : \n",
      "     cleaner__getlemmatisation  cleaner__getstemmer  cleaner__removedigit  \\\n",
      "26                       True                 True                  True   \n",
      "28                       True                 True                  True   \n",
      "30                       True                 True                  True   \n",
      "32                       True                 True                  True   \n",
      "34                       True                 True                  True   \n",
      "\n",
      "    lr__C lr__penalty lr__solver  tfidf__lowercase tfidf__stop_words  accuracy  \n",
      "26    1.0          l2  newton-cg             False           english  0.653333  \n",
      "28    1.0          l2      lbfgs              True           english  0.653333  \n",
      "30    1.0          l2      lbfgs             False           english  0.653333  \n",
      "32    1.0          l2  liblinear              True           english  0.653333  \n",
      "34    1.0          l2  liblinear             False           english  0.653333  \n"
     ]
    }
   ],
   "source": [
    "print(\"Test LR Titre\")\n",
    "testLR(X_train_title,Y_train_title,5,'/True_And_False_VS_Other/Titre/data_LR_TFO_Titre')"
   ]
  },
  {
   "attachments": {},
   "cell_type": "markdown",
   "metadata": {},
   "source": [
    "        ---> Texte et Titre"
   ]
  },
  {
   "cell_type": "code",
   "execution_count": 9,
   "metadata": {},
   "outputs": [
    {
     "name": "stdout",
     "output_type": "stream",
     "text": [
      "Test LR Texte et Titre\n",
      "Application de gridsearch ...\n",
      "pipeline : ['cleaner', 'tfidf', 'lr']\n",
      "parameters :\n",
      "{'cleaner__getstemmer': [True, False], 'cleaner__removedigit': [True, False], 'cleaner__getlemmatisation': [True, False], 'tfidf__stop_words': ['english', None], 'tfidf__lowercase': [True, False], 'lr__solver': ['newton-cg', 'lbfgs', 'liblinear'], 'lr__penalty': ['l2'], 'lr__C': [100, 10, 1.0, 0.1, 0.01]}\n",
      "Fitting 5 folds for each of 480 candidates, totalling 2400 fits\n",
      "réalisé en  1079.282 s\n",
      "Meilleur résultat : 0.663\n",
      "Ensemble des meilleurs paramètres :\n",
      "\tcleaner__getlemmatisation: False\n",
      "\tcleaner__getstemmer: True\n",
      "\tcleaner__removedigit: False\n",
      "\tlr__C: 100\n",
      "\tlr__penalty: 'l2'\n",
      "\tlr__solver: 'newton-cg'\n",
      "\ttfidf__lowercase: True\n",
      "\ttfidf__stop_words: None\n",
      "\n",
      "Les premiers résultats : \n",
      "      cleaner__getlemmatisation  cleaner__getstemmer  cleaner__removedigit  \\\n",
      "305                      False                 True                 False   \n",
      "301                      False                 True                 False   \n",
      "309                      False                 True                 False   \n",
      "307                      False                 True                 False   \n",
      "303                      False                 True                 False   \n",
      "\n",
      "     lr__C lr__penalty lr__solver  tfidf__lowercase tfidf__stop_words  \\\n",
      "305  100.0          l2      lbfgs              True              None   \n",
      "301  100.0          l2  newton-cg              True              None   \n",
      "309  100.0          l2  liblinear              True              None   \n",
      "307  100.0          l2      lbfgs             False              None   \n",
      "303  100.0          l2  newton-cg             False              None   \n",
      "\n",
      "     accuracy  \n",
      "305  0.663333  \n",
      "301  0.663333  \n",
      "309  0.663333  \n",
      "307  0.663333  \n",
      "303  0.663333  \n"
     ]
    }
   ],
   "source": [
    "print(\"Test LR Texte et Titre\")\n",
    "testLR(X_train_text_and_title, Y_train_text_and_title,5,'/True_And_False_VS_Other/Titre_And_Texte/data_LR_TFO_Titre_And_Texte')"
   ]
  },
  {
   "cell_type": "code",
   "execution_count": null,
   "metadata": {
    "collapsed": false
   },
   "outputs": [],
   "source": [
    "import pickle\n",
    "from sklearn.linear_model import LogisticRegression\n",
    "from sklearn.model_selection import train_test_split\n",
    "# Création d'un jeu d'apprentissage et de test\n",
    "trainsize=0.9 # 70% pour le jeu d'apprentissage, il reste 30% du jeu de données pour\n",
    "testsize= 0.1\n",
    "seed=30\n",
    "train_title,test_title,train_note,test_note=train_test_split(X_train,y_train, train_size=trainsize,random_state=seed,test_size=testsize)\n",
    "\n",
    "pipeline=Pipeline([\n",
    "    (\"cleaner\", TextNormalizer(removedigit=True, getlemmatisation=False)),\n",
    "    (\"tfidf\", TfidfVectorizer(lowercase=True, stop_words=None)),\n",
    "    ('lr', LogisticRegression(C=10,penalty='l2', solver='liblinear'))\n",
    "])\n",
    "pipeline.fit(train_title,train_note)\n",
    "filename='./Modele/Sprint1/LogisticRegression_Sprint1.pkl'\n",
    "print(\"Sauvegarde du modèle dans \", filename)\n",
    "pickle.dump(pipeline, open(filename, \"wb\"))\n",
    "\n",
    "\n",
    "\n",
    "print (\"Chargement du modèle \\n\")\n",
    "# le chargement se fait via la fonction load\n",
    "clf_loaded = pickle.load(open(filename, 'rb'))\n",
    "# affichage du modèle sauvegardé\n",
    "print (clf_loaded)\n",
    "\n",
    "\n",
    "# test  avec les données qu'il a apprise c'est parfait woahhha c'est beau\n",
    "y_pred = clf_loaded.predict(test_title)\n",
    "# autres mesures et matrice de confusion\n",
    "MyshowAllScores(test_note,y_pred)"
   ]
  },
  {
   "attachments": {},
   "cell_type": "markdown",
   "metadata": {},
   "source": [
    "        1.4 Test CART"
   ]
  },
  {
   "attachments": {},
   "cell_type": "markdown",
   "metadata": {},
   "source": [
    "        ---> Texte"
   ]
  },
  {
   "cell_type": "code",
   "execution_count": 7,
   "metadata": {},
   "outputs": [
    {
     "name": "stdout",
     "output_type": "stream",
     "text": [
      "Test CART, Texte\n",
      "Application de gridsearch ...\n",
      "pipeline : ['cleaner', 'tfidf', 'CART']\n",
      "parameters :\n",
      "{'cleaner__getstemmer': [True, False], 'cleaner__removedigit': [True, False], 'cleaner__getlemmatisation': [True, False], 'tfidf__stop_words': ['english', None], 'tfidf__lowercase': [True, False], 'CART__max_depth': [10, 20, 30], 'CART__min_samples_split': [2, 5, 10], 'CART__min_samples_leaf': [1, 2, 4], 'CART__criterion': ['gini', 'entropy']}\n",
      "Fitting 5 folds for each of 1728 candidates, totalling 8640 fits\n",
      "réalisé en  3389.543 s\n",
      "Meilleur résultat : 0.677\n",
      "Ensemble des meilleurs paramètres :\n",
      "\tCART__criterion: 'entropy'\n",
      "\tCART__max_depth: 10\n",
      "\tCART__min_samples_leaf: 1\n",
      "\tCART__min_samples_split: 5\n",
      "\tcleaner__getlemmatisation: False\n",
      "\tcleaner__getstemmer: True\n",
      "\tcleaner__removedigit: True\n",
      "\ttfidf__lowercase: True\n",
      "\ttfidf__stop_words: None\n",
      "\n",
      "Les premiers résultats : \n",
      "      CART__criterion  CART__max_depth  CART__min_samples_leaf  \\\n",
      "913          entropy               10                       1   \n",
      "702             gini               30                       2   \n",
      "1203         entropy               20                       1   \n",
      "1157         entropy               20                       1   \n",
      "290             gini               20                       1   \n",
      "\n",
      "      CART__min_samples_split  cleaner__getlemmatisation  cleaner__getstemmer  \\\n",
      "913                         5                      False                 True   \n",
      "702                         2                      False                False   \n",
      "1203                        5                      False                 True   \n",
      "1157                        2                       True                 True   \n",
      "290                         2                       True                 True   \n",
      "\n",
      "      cleaner__removedigit  tfidf__lowercase tfidf__stop_words  accuracy  \n",
      "913                   True              True              None  0.676667  \n",
      "702                  False             False           english  0.670000  \n",
      "1203                  True             False              None  0.670000  \n",
      "1157                 False              True              None  0.666667  \n",
      "290                   True             False           english  0.666667  \n"
     ]
    }
   ],
   "source": [
    "print(\"Test CART, Texte\")\n",
    "testCART(X_train_text, Y_train_text,5,'/True_And_False_VS_Other/Texte/data_CART_TFO_Texte')"
   ]
  },
  {
   "attachments": {},
   "cell_type": "markdown",
   "metadata": {},
   "source": [
    "        ---> Titre"
   ]
  },
  {
   "cell_type": "code",
   "execution_count": 5,
   "metadata": {},
   "outputs": [
    {
     "name": "stdout",
     "output_type": "stream",
     "text": [
      "Test CART, Title\n",
      "Application de gridsearch ...\n",
      "pipeline : ['cleaner', 'tfidf', 'CART']\n",
      "parameters :\n",
      "{'cleaner__getstemmer': [True, False], 'cleaner__removedigit': [True, False], 'cleaner__getlemmatisation': [True, False], 'tfidf__stop_words': ['english', None], 'tfidf__lowercase': [True, False], 'CART__max_depth': [10, 20, 30], 'CART__min_samples_split': [2, 5, 10], 'CART__min_samples_leaf': [1, 2, 4], 'CART__criterion': ['gini', 'entropy']}\n",
      "Fitting 5 folds for each of 1728 candidates, totalling 8640 fits\n",
      "réalisé en  283.017 s\n",
      "Meilleur résultat : 0.657\n",
      "Ensemble des meilleurs paramètres :\n",
      "\tCART__criterion: 'gini'\n",
      "\tCART__max_depth: 30\n",
      "\tCART__min_samples_leaf: 2\n",
      "\tCART__min_samples_split: 2\n",
      "\tcleaner__getlemmatisation: False\n",
      "\tcleaner__getstemmer: True\n",
      "\tcleaner__removedigit: True\n",
      "\ttfidf__lowercase: True\n",
      "\ttfidf__stop_words: 'english'\n",
      "\n",
      "Les premiers résultats : \n",
      "     CART__criterion  CART__max_depth  CART__min_samples_leaf  \\\n",
      "688            gini               30                       2   \n",
      "754            gini               30                       2   \n",
      "704            gini               30                       2   \n",
      "690            gini               30                       2   \n",
      "710            gini               30                       2   \n",
      "\n",
      "     CART__min_samples_split  cleaner__getlemmatisation  cleaner__getstemmer  \\\n",
      "688                        2                      False                 True   \n",
      "754                       10                      False                 True   \n",
      "704                        5                       True                 True   \n",
      "690                        2                      False                 True   \n",
      "710                        5                       True                 True   \n",
      "\n",
      "     cleaner__removedigit  tfidf__lowercase tfidf__stop_words  accuracy  \n",
      "688                  True              True           english  0.656667  \n",
      "754                  True             False           english  0.653333  \n",
      "704                  True              True           english  0.643333  \n",
      "690                  True             False           english  0.643333  \n",
      "710                 False             False           english  0.643333  \n"
     ]
    }
   ],
   "source": [
    "print(\"Test CART, Title\")\n",
    "testCART(X_train_title, Y_train_title,5,'/True_And_False_VS_Other/Titre/data_CART_TFO_Titre')"
   ]
  },
  {
   "attachments": {},
   "cell_type": "markdown",
   "metadata": {},
   "source": [
    "        ---> Texte et Titre"
   ]
  },
  {
   "cell_type": "code",
   "execution_count": 7,
   "metadata": {},
   "outputs": [
    {
     "name": "stdout",
     "output_type": "stream",
     "text": [
      "Test CART, Text and title\n",
      "Application de gridsearch ...\n",
      "pipeline : ['cleaner', 'tfidf', 'CART']\n",
      "parameters :\n",
      "{'cleaner__getstemmer': [True, False], 'cleaner__removedigit': [True, False], 'cleaner__getlemmatisation': [True, False], 'tfidf__stop_words': ['english', None], 'tfidf__lowercase': [True, False], 'CART__max_depth': [10, 20, 30], 'CART__min_samples_split': [2, 5, 10], 'CART__min_samples_leaf': [1, 2, 4], 'CART__criterion': ['gini', 'entropy']}\n",
      "Fitting 5 folds for each of 1728 candidates, totalling 8640 fits\n",
      "réalisé en  4087.149 s\n",
      "Meilleur résultat : 0.650\n",
      "Ensemble des meilleurs paramètres :\n",
      "\tCART__criterion: 'gini'\n",
      "\tCART__max_depth: 20\n",
      "\tCART__min_samples_leaf: 1\n",
      "\tCART__min_samples_split: 2\n",
      "\tcleaner__getlemmatisation: True\n",
      "\tcleaner__getstemmer: True\n",
      "\tcleaner__removedigit: True\n",
      "\ttfidf__lowercase: True\n",
      "\ttfidf__stop_words: 'english'\n",
      "\n",
      "Les premiers résultats : \n",
      "     CART__criterion  CART__max_depth  CART__min_samples_leaf  \\\n",
      "288            gini               20                       1   \n",
      "608            gini               30                       1   \n",
      "322            gini               20                       1   \n",
      "416            gini               20                       2   \n",
      "576            gini               30                       1   \n",
      "\n",
      "     CART__min_samples_split  cleaner__getlemmatisation  cleaner__getstemmer  \\\n",
      "288                        2                       True                 True   \n",
      "608                        5                       True                 True   \n",
      "322                        5                       True                 True   \n",
      "416                        5                       True                 True   \n",
      "576                        2                       True                 True   \n",
      "\n",
      "     cleaner__removedigit  tfidf__lowercase tfidf__stop_words  accuracy  \n",
      "288                  True              True           english  0.650000  \n",
      "608                  True              True           english  0.646667  \n",
      "322                  True             False           english  0.646667  \n",
      "416                  True              True           english  0.643333  \n",
      "576                  True              True           english  0.640000  \n"
     ]
    }
   ],
   "source": [
    "print(\"Test CART, Text and title\")\n",
    "testCART(X_train_text_and_title, Y_train_text_and_title,5,'/True_And_False_VS_Other/Titre_And_Texte/data_CART_TFO_Titre_And_Texte')"
   ]
  },
  {
   "attachments": {},
   "cell_type": "markdown",
   "metadata": {},
   "source": [
    "        1.5 Test KNN"
   ]
  },
  {
   "attachments": {},
   "cell_type": "markdown",
   "metadata": {},
   "source": [
    "        ---> Texte"
   ]
  },
  {
   "cell_type": "code",
   "execution_count": 12,
   "metadata": {},
   "outputs": [
    {
     "name": "stdout",
     "output_type": "stream",
     "text": [
      "Test KNN text\n",
      "Application de gridsearch ...\n",
      "pipeline : ['cleaner', 'tfidf', 'KNN']\n",
      "parameters :\n",
      "{'cleaner__getstemmer': [True, False], 'cleaner__removedigit': [True, False], 'cleaner__getlemmatisation': [True, False], 'tfidf__stop_words': ['english', None], 'tfidf__lowercase': [True, False], 'KNN__n_neighbors': [1, 2, 3, 4, 5, 6, 7, 8, 9, 10, 11, 12, 13, 14], 'KNN__algorithm': ['auto', 'ball_tree', 'kd_tree', 'brute'], 'KNN__weights': ['uniform', 'distance'], 'KNN__metric': ['minkowski', 'euclidean', 'manhattan']}\n",
      "Fitting 5 folds for each of 10752 candidates, totalling 53760 fits\n",
      "réalisé en  25578.512 s\n",
      "Meilleur résultat : 0.707\n",
      "Ensemble des meilleurs paramètres :\n",
      "\tKNN__algorithm: 'auto'\n",
      "\tKNN__metric: 'minkowski'\n",
      "\tKNN__n_neighbors: 14\n",
      "\tKNN__weights: 'distance'\n",
      "\tcleaner__getlemmatisation: True\n",
      "\tcleaner__getstemmer: True\n",
      "\tcleaner__removedigit: False\n",
      "\ttfidf__lowercase: True\n",
      "\ttfidf__stop_words: 'english'\n",
      "\n",
      "Les premiers résultats : \n",
      "      KNN__algorithm KNN__metric  KNN__n_neighbors KNN__weights  \\\n",
      "868            auto   minkowski                14     distance   \n",
      "3558      ball_tree   minkowski                14     distance   \n",
      "4454      ball_tree   euclidean                14     distance   \n",
      "4452      ball_tree   euclidean                14     distance   \n",
      "7142        kd_tree   euclidean                14     distance   \n",
      "\n",
      "      cleaner__getlemmatisation  cleaner__getstemmer  cleaner__removedigit  \\\n",
      "868                        True                 True                 False   \n",
      "3558                       True                 True                 False   \n",
      "4454                       True                 True                 False   \n",
      "4452                       True                 True                 False   \n",
      "7142                       True                 True                 False   \n",
      "\n",
      "      tfidf__lowercase tfidf__stop_words  accuracy  \n",
      "868               True           english  0.706667  \n",
      "3558             False           english  0.706667  \n",
      "4454             False           english  0.706667  \n",
      "4452              True           english  0.706667  \n",
      "7142             False           english  0.706667  \n"
     ]
    }
   ],
   "source": [
    "print(\"Test KNN text\")\n",
    "testKNeighborsClassifier(X_train_text, Y_train_text,5,'/True_And_False_VS_Other/Texte/data_KNN_TFO_Texte')"
   ]
  },
  {
   "attachments": {},
   "cell_type": "markdown",
   "metadata": {},
   "source": [
    "        ---> Titre"
   ]
  },
  {
   "cell_type": "code",
   "execution_count": 6,
   "metadata": {},
   "outputs": [
    {
     "name": "stdout",
     "output_type": "stream",
     "text": [
      "Test KNN title\n",
      "Application de gridsearch ...\n",
      "pipeline : ['cleaner', 'tfidf', 'KNN']\n",
      "parameters :\n",
      "{'cleaner__getstemmer': [True, False], 'cleaner__removedigit': [True, False], 'cleaner__getlemmatisation': [True, False], 'tfidf__stop_words': ['english', None], 'tfidf__lowercase': [True, False], 'KNN__n_neighbors': [1, 2, 3, 4, 5, 6, 7, 8, 9, 10, 11, 12, 13, 14], 'KNN__algorithm': ['auto', 'ball_tree', 'kd_tree', 'brute'], 'KNN__weights': ['uniform', 'distance'], 'KNN__metric': ['minkowski', 'euclidean', 'manhattan']}\n",
      "Fitting 5 folds for each of 10752 candidates, totalling 53760 fits\n",
      "réalisé en  1517.085 s\n",
      "Meilleur résultat : 0.683\n",
      "Ensemble des meilleurs paramètres :\n",
      "\tKNN__algorithm: 'auto'\n",
      "\tKNN__metric: 'minkowski'\n",
      "\tKNN__n_neighbors: 11\n",
      "\tKNN__weights: 'distance'\n",
      "\tcleaner__getlemmatisation: False\n",
      "\tcleaner__getstemmer: False\n",
      "\tcleaner__removedigit: False\n",
      "\ttfidf__lowercase: True\n",
      "\ttfidf__stop_words: 'english'\n",
      "\n",
      "Les premiers résultats : \n",
      "      KNN__algorithm KNN__metric  KNN__n_neighbors KNN__weights  \\\n",
      "4284      ball_tree   euclidean                11     distance   \n",
      "8764          brute   minkowski                11     distance   \n",
      "1596           auto   euclidean                11     distance   \n",
      "3388      ball_tree   minkowski                11     distance   \n",
      "6076        kd_tree   minkowski                11     distance   \n",
      "\n",
      "      cleaner__getlemmatisation  cleaner__getstemmer  cleaner__removedigit  \\\n",
      "4284                      False                False                 False   \n",
      "8764                      False                False                 False   \n",
      "1596                      False                False                 False   \n",
      "3388                      False                False                 False   \n",
      "6076                      False                False                 False   \n",
      "\n",
      "      tfidf__lowercase tfidf__stop_words  accuracy  \n",
      "4284              True           english  0.683333  \n",
      "8764              True           english  0.683333  \n",
      "1596              True           english  0.683333  \n",
      "3388              True           english  0.683333  \n",
      "6076              True           english  0.683333  \n"
     ]
    }
   ],
   "source": [
    "print(\"Test KNN title\")\n",
    "testKNeighborsClassifier(X_train_title, Y_train_title,5,'/True_And_False_VS_Other/Titre/data_KNN_TFO_Titre')"
   ]
  },
  {
   "attachments": {},
   "cell_type": "markdown",
   "metadata": {},
   "source": [
    "        ---> Texte et Titre"
   ]
  },
  {
   "cell_type": "code",
   "execution_count": 8,
   "metadata": {},
   "outputs": [
    {
     "name": "stdout",
     "output_type": "stream",
     "text": [
      "Test KNN text and title\n",
      "Application de gridsearch ...\n",
      "pipeline : ['cleaner', 'tfidf', 'KNN']\n",
      "parameters :\n",
      "{'cleaner__getstemmer': [True, False], 'cleaner__removedigit': [True, False], 'cleaner__getlemmatisation': [True, False], 'tfidf__stop_words': ['english', None], 'tfidf__lowercase': [True, False], 'KNN__n_neighbors': [1, 2, 3, 4, 5, 6, 7, 8, 9, 10, 11, 12, 13, 14], 'KNN__algorithm': ['auto', 'ball_tree', 'kd_tree', 'brute'], 'KNN__weights': ['uniform', 'distance'], 'KNN__metric': ['minkowski', 'euclidean', 'manhattan']}\n",
      "Fitting 5 folds for each of 10752 candidates, totalling 53760 fits\n",
      "réalisé en  22120.986 s\n",
      "Meilleur résultat : 0.673\n",
      "Ensemble des meilleurs paramètres :\n",
      "\tKNN__algorithm: 'auto'\n",
      "\tKNN__metric: 'minkowski'\n",
      "\tKNN__n_neighbors: 9\n",
      "\tKNN__weights: 'distance'\n",
      "\tcleaner__getlemmatisation: False\n",
      "\tcleaner__getstemmer: True\n",
      "\tcleaner__removedigit: False\n",
      "\ttfidf__lowercase: True\n",
      "\ttfidf__stop_words: None\n",
      "\n",
      "Les premiers résultats : \n",
      "      KNN__algorithm KNN__metric  KNN__n_neighbors KNN__weights  \\\n",
      "4151      ball_tree   euclidean                 9     distance   \n",
      "8629          brute   minkowski                 9     distance   \n",
      "6839        kd_tree   euclidean                 9     distance   \n",
      "6837        kd_tree   euclidean                 9     distance   \n",
      "9527          brute   euclidean                 9     distance   \n",
      "\n",
      "      cleaner__getlemmatisation  cleaner__getstemmer  cleaner__removedigit  \\\n",
      "4151                      False                 True                 False   \n",
      "8629                      False                 True                 False   \n",
      "6839                      False                 True                 False   \n",
      "6837                      False                 True                 False   \n",
      "9527                      False                 True                 False   \n",
      "\n",
      "      tfidf__lowercase tfidf__stop_words  accuracy  \n",
      "4151             False              None  0.673333  \n",
      "8629              True              None  0.673333  \n",
      "6839             False              None  0.673333  \n",
      "6837              True              None  0.673333  \n",
      "9527             False              None  0.673333  \n"
     ]
    }
   ],
   "source": [
    "print(\"Test KNN text and title\")\n",
    "testKNeighborsClassifier(X_train_text_and_title, Y_train_text_and_title,5,'/True_And_False_VS_Other/Titre_And_Texte/data_KNN_TFO_Titre_And_Texte')"
   ]
  },
  {
   "attachments": {},
   "cell_type": "markdown",
   "metadata": {},
   "source": [
    "        1.6 Test MB"
   ]
  },
  {
   "attachments": {},
   "cell_type": "markdown",
   "metadata": {},
   "source": [
    "        ---> Texte"
   ]
  },
  {
   "cell_type": "code",
   "execution_count": 5,
   "metadata": {},
   "outputs": [
    {
     "name": "stdout",
     "output_type": "stream",
     "text": [
      "MultinomialNB test Text\n",
      "Application de gridsearch ...\n",
      "pipeline : ['cleaner', 'tfidf', 'MultinomialNB']\n",
      "parameters :\n",
      "{'cleaner__getstemmer': [True, False], 'cleaner__removedigit': [True, False], 'cleaner__getlemmatisation': [True, False], 'tfidf__stop_words': ['english', None], 'tfidf__lowercase': [True, False], 'MultinomialNB__alpha': [0.1, 0.5, 1.0, 2.0], 'MultinomialNB__fit_prior': [True, False], 'MultinomialNB__force_alpha': [True, False]}\n",
      "Fitting 5 folds for each of 512 candidates, totalling 2560 fits\n",
      "réalisé en  1010.455 s\n",
      "Meilleur résultat : 0.707\n",
      "Ensemble des meilleurs paramètres :\n",
      "\tMultinomialNB__alpha: 1.0\n",
      "\tMultinomialNB__fit_prior: True\n",
      "\tMultinomialNB__force_alpha: True\n",
      "\tcleaner__getlemmatisation: True\n",
      "\tcleaner__getstemmer: False\n",
      "\tcleaner__removedigit: False\n",
      "\ttfidf__lowercase: False\n",
      "\ttfidf__stop_words: 'english'\n",
      "\n",
      "Les premiers résultats : \n",
      "      MultinomialNB__alpha  MultinomialNB__fit_prior  \\\n",
      "334                   1.0                     False   \n",
      "302                   1.0                      True   \n",
      "366                   1.0                     False   \n",
      "270                   1.0                      True   \n",
      "350                   1.0                     False   \n",
      "\n",
      "     MultinomialNB__force_alpha  cleaner__getlemmatisation  \\\n",
      "334                        True                       True   \n",
      "302                       False                       True   \n",
      "366                       False                       True   \n",
      "270                        True                       True   \n",
      "350                        True                      False   \n",
      "\n",
      "     cleaner__getstemmer  cleaner__removedigit  tfidf__lowercase  \\\n",
      "334                False                 False             False   \n",
      "302                False                 False             False   \n",
      "366                False                 False             False   \n",
      "270                False                 False             False   \n",
      "350                False                 False             False   \n",
      "\n",
      "    tfidf__stop_words  accuracy  \n",
      "334           english  0.706667  \n",
      "302           english  0.706667  \n",
      "366           english  0.706667  \n",
      "270           english  0.706667  \n",
      "350           english  0.700000  \n"
     ]
    }
   ],
   "source": [
    "print(\"MultinomialNB test Text\")\n",
    "testMNB(X_train_text, Y_train_text,5,'/True_And_False_VS_Other/Texte/data_MNB_TFO_Texte')"
   ]
  },
  {
   "attachments": {},
   "cell_type": "markdown",
   "metadata": {},
   "source": [
    "        ---> Texte et Titre"
   ]
  },
  {
   "cell_type": "code",
   "execution_count": 8,
   "metadata": {},
   "outputs": [
    {
     "name": "stdout",
     "output_type": "stream",
     "text": [
      "MultinomialNB test Title\n",
      "Application de gridsearch ...\n",
      "pipeline : ['cleaner', 'tfidf', 'MultinomialNB']\n",
      "parameters :\n",
      "{'cleaner__getstemmer': [True, False], 'cleaner__removedigit': [True, False], 'cleaner__getlemmatisation': [True, False], 'tfidf__stop_words': ['english', None], 'tfidf__lowercase': [True, False], 'MultinomialNB__alpha': [0.1, 0.5, 1.0, 2.0], 'MultinomialNB__fit_prior': [True, False], 'MultinomialNB__force_alpha': [True, False]}\n",
      "Fitting 5 folds for each of 512 candidates, totalling 2560 fits\n",
      "réalisé en  73.155 s\n",
      "Meilleur résultat : 0.657\n",
      "Ensemble des meilleurs paramètres :\n",
      "\tMultinomialNB__alpha: 0.1\n",
      "\tMultinomialNB__fit_prior: True\n",
      "\tMultinomialNB__force_alpha: True\n",
      "\tcleaner__getlemmatisation: False\n",
      "\tcleaner__getstemmer: True\n",
      "\tcleaner__removedigit: False\n",
      "\ttfidf__lowercase: True\n",
      "\ttfidf__stop_words: 'english'\n",
      "\n",
      "Les premiers résultats : \n",
      "      MultinomialNB__alpha  MultinomialNB__fit_prior  \\\n",
      "20                    0.1                      True   \n",
      "54                    0.1                      True   \n",
      "86                    0.1                     False   \n",
      "84                    0.1                     False   \n",
      "116                   0.1                     False   \n",
      "\n",
      "     MultinomialNB__force_alpha  cleaner__getlemmatisation  \\\n",
      "20                         True                      False   \n",
      "54                        False                      False   \n",
      "86                         True                      False   \n",
      "84                         True                      False   \n",
      "116                       False                      False   \n",
      "\n",
      "     cleaner__getstemmer  cleaner__removedigit  tfidf__lowercase  \\\n",
      "20                  True                 False              True   \n",
      "54                  True                 False             False   \n",
      "86                  True                 False             False   \n",
      "84                  True                 False              True   \n",
      "116                 True                 False              True   \n",
      "\n",
      "    tfidf__stop_words  accuracy  \n",
      "20            english  0.656667  \n",
      "54            english  0.656667  \n",
      "86            english  0.656667  \n",
      "84            english  0.656667  \n",
      "116           english  0.656667  \n"
     ]
    }
   ],
   "source": [
    "print(\"MultinomialNB test Title\")\n",
    "testMNB(X_train_title, Y_train_title,5,'/True_And_False_VS_Other/Titre/data_MNB_TFO_Titre')"
   ]
  },
  {
   "attachments": {},
   "cell_type": "markdown",
   "metadata": {},
   "source": [
    "        ---> Texte et Titre"
   ]
  },
  {
   "cell_type": "code",
   "execution_count": 6,
   "metadata": {},
   "outputs": [
    {
     "name": "stdout",
     "output_type": "stream",
     "text": [
      "MultinomialNB test Text and Title\n",
      "Application de gridsearch ...\n",
      "pipeline : ['cleaner', 'tfidf', 'MultinomialNB']\n",
      "parameters :\n",
      "{'cleaner__getstemmer': [True, False], 'cleaner__removedigit': [True, False], 'cleaner__getlemmatisation': [True, False], 'tfidf__stop_words': ['english', None], 'tfidf__lowercase': [True, False], 'MultinomialNB__alpha': [0.1, 0.5, 1.0, 2.0], 'MultinomialNB__fit_prior': [True, False], 'MultinomialNB__force_alpha': [True, False]}\n",
      "Fitting 5 folds for each of 512 candidates, totalling 2560 fits\n",
      "réalisé en  987.406 s\n",
      "Meilleur résultat : 0.677\n",
      "Ensemble des meilleurs paramètres :\n",
      "\tMultinomialNB__alpha: 1.0\n",
      "\tMultinomialNB__fit_prior: True\n",
      "\tMultinomialNB__force_alpha: True\n",
      "\tcleaner__getlemmatisation: True\n",
      "\tcleaner__getstemmer: True\n",
      "\tcleaner__removedigit: False\n",
      "\ttfidf__lowercase: True\n",
      "\ttfidf__stop_words: None\n",
      "\n",
      "Les premiers résultats : \n",
      "      MultinomialNB__alpha  MultinomialNB__fit_prior  \\\n",
      "277                   1.0                      True   \n",
      "295                   1.0                      True   \n",
      "327                   1.0                     False   \n",
      "293                   1.0                      True   \n",
      "343                   1.0                     False   \n",
      "\n",
      "     MultinomialNB__force_alpha  cleaner__getlemmatisation  \\\n",
      "277                        True                      False   \n",
      "295                       False                       True   \n",
      "327                        True                       True   \n",
      "293                       False                       True   \n",
      "343                        True                      False   \n",
      "\n",
      "     cleaner__getstemmer  cleaner__removedigit  tfidf__lowercase  \\\n",
      "277                 True                 False              True   \n",
      "295                 True                 False             False   \n",
      "327                 True                 False             False   \n",
      "293                 True                 False              True   \n",
      "343                 True                 False             False   \n",
      "\n",
      "    tfidf__stop_words  accuracy  \n",
      "277              None  0.676667  \n",
      "295              None  0.676667  \n",
      "327              None  0.676667  \n",
      "293              None  0.676667  \n",
      "343              None  0.676667  \n"
     ]
    }
   ],
   "source": [
    "print(\"MultinomialNB test Text and Title\")\n",
    "testMNB(X_train_text_and_title, Y_train_text_and_title,5,'/True_And_False_VS_Other/Titre_And_Texte/data_MNB_TFO_Titre_And_Texte')"
   ]
  },
  {
   "attachments": {},
   "cell_type": "markdown",
   "metadata": {},
   "source": [
    "_____________________________________________________________________________________________________\n",
    "_____________________________________________________________________________________________________\n",
    "                    \n",
    "## 2. Enrichissement des Jeux de données et Nouveau test des Classifieurs\n",
    "_____________________________________________________________________________________________________\n",
    "_____________________________________________________________________________________________________"
   ]
  },
  {
   "attachments": {},
   "cell_type": "markdown",
   "metadata": {},
   "source": [
    "Après nos premiers résultats, nous nous rendons compte que la meilleur classification ce fait sur le texte. Afin d'essayer d'augmenter notre score nous essayons d'enrichir nos données en convertissant le jeu de données allemands du challenge à l'aide de l'API deepl cf le notebook Traduction dans le dossier Autre_Notebook pour la traduction. \n",
    "Nous concaténons ensuite nos jeu de données brut et le jeu de données allemandes et réequilibrons les jeux de données pour avoir le même nombre de true/false que de other cette fois nous ne testons sans oversampling. "
   ]
  },
  {
   "cell_type": "code",
   "execution_count": 22,
   "metadata": {},
   "outputs": [
    {
     "name": "stdout",
     "output_type": "stream",
     "text": [
      "data ['other'] avant drop duplicates : \n",
      " our rating\n",
      "other         55\n",
      "dtype: int64 \n",
      "\n",
      "data ['other'] après drop duplicates : \n",
      " our rating\n",
      "other         55\n",
      "dtype: int64 \n",
      "\n"
     ]
    }
   ],
   "source": [
    "df_allemand =  pd.read_csv(\"./Data_brut/data_allemand_all.csv\")\n",
    "#display(df_allemand)\n",
    "df_allemand = df_allemand.drop(columns=[\"ID\", \"Unnamed: 0\"], axis=1)\n",
    "df_allemand = df_allemand.replace(\"Other\", \"other\")\n",
    "#display(df_allemand)\n",
    "df_allemand_text = initDataToTest(df_allemand, [\"title\"],[\"our rating\"], [\"other\"], 0, None)"
   ]
  },
  {
   "attachments": {},
   "cell_type": "markdown",
   "metadata": {},
   "source": [
    "❗IMPORTANT❗\n",
    "Ceci est le code permettant de créer des jeux de données équilibrés avec les jeux de données allemandes, si vous souhaitez les recréers il faut recharger la cellule attention toutefois cela risque d'écraser les anciens dataframes si vous les enregistrer par la suite et faussera les résultats des classifieurs"
   ]
  },
  {
   "cell_type": "code",
   "execution_count": 19,
   "metadata": {},
   "outputs": [
    {
     "name": "stdout",
     "output_type": "stream",
     "text": [
      "Valeur du dataset de base:  false    801\n",
      "true     407\n",
      "other    126\n",
      "Name: our rating, dtype: int64\n",
      "data ['true', 'false'] avant drop duplicates : \n",
      " our rating\n",
      "false         726\n",
      "true          331\n",
      "dtype: int64 \n",
      "\n",
      "data ['true', 'false'] après drop duplicates : \n",
      " our rating\n",
      "false         725\n",
      "true          324\n",
      "dtype: int64 \n",
      "\n",
      "Manque une row dans le dataset :\n",
      " true/false    54\n",
      "Name: our rating, dtype: int64\n",
      "Choix aléatoire d'une row à ajouter dans le data set\n",
      "Nouveau nombre de row : \n",
      " true/false    54\n",
      "false          1\n",
      "Name: our rating, dtype: int64\n",
      "Nouveau nombre de row :  true/false    55\n",
      "Name: our rating, dtype: int64\n"
     ]
    }
   ],
   "source": [
    "\"\"\"\n",
    "import random\n",
    "print(\"Valeur du dataset de base: \", data_to_test['our rating'].value_counts())\n",
    "data_to_add = initDataToTest(data_to_test[~data_to_test['text'].isin(df_text['text'])],['title'], ['our rating'], ['true', 'false'], 27 ,'true/false')\n",
    "print(\"Manque une row dans le dataset :\\n\", data_to_add['our rating'].value_counts())\n",
    "print(\"Choix aléatoire d'une row à ajouter dans le data set\")\n",
    "data_to_random = data_to_test[~data_to_test['text'].isin(data_to_add['text'])]\n",
    "random_row_index = random.randint(0, len(data_to_random) - 1)\n",
    "random_row = data_to_random.iloc[random_row_index]\n",
    "data_to_add = data_to_add.append(random_row, ignore_index=True)\n",
    "print(\"Nouveau nombre de row : \\n\", data_to_add['our rating'].value_counts())\n",
    "data_to_add = data_to_add.replace(\"false\", \"true/false\")\n",
    "print(\"Nouveau nombre de row : \", data_to_add['our rating'].value_counts())\n",
    "\n",
    "\"\"\""
   ]
  },
  {
   "attachments": {},
   "cell_type": "markdown",
   "metadata": {},
   "source": [
    "    -> Enregistrement DataFrame à lancer seulement si de nouveau jeux de données sont crées"
   ]
  },
  {
   "cell_type": "code",
   "execution_count": 20,
   "metadata": {},
   "outputs": [],
   "source": [
    "df_text_EN_and_DE = pd.concat([df_text, df_allemand_text, data_to_add])\n",
    "df_text_EN_and_DE.to_csv(\"./Data_equilibre/True_And_False_VS_Other/balanced_df_TFO_text_EN_and_DE.csv\")"
   ]
  },
  {
   "attachments": {},
   "cell_type": "markdown",
   "metadata": {},
   "source": [
    "    -> Chargement des données Anglaise et Allemandes traduites"
   ]
  },
  {
   "cell_type": "code",
   "execution_count": 14,
   "metadata": {},
   "outputs": [
    {
     "data": {
      "text/html": [
       "<div>\n",
       "<style scoped>\n",
       "    .dataframe tbody tr th:only-of-type {\n",
       "        vertical-align: middle;\n",
       "    }\n",
       "\n",
       "    .dataframe tbody tr th {\n",
       "        vertical-align: top;\n",
       "    }\n",
       "\n",
       "    .dataframe thead th {\n",
       "        text-align: right;\n",
       "    }\n",
       "</style>\n",
       "<table border=\"1\" class=\"dataframe\">\n",
       "  <thead>\n",
       "    <tr style=\"text-align: right;\">\n",
       "      <th></th>\n",
       "      <th>Unnamed: 0.1</th>\n",
       "      <th>Unnamed: 0</th>\n",
       "      <th>text</th>\n",
       "      <th>our rating</th>\n",
       "      <th>title</th>\n",
       "    </tr>\n",
       "  </thead>\n",
       "  <tbody>\n",
       "    <tr>\n",
       "      <th>0</th>\n",
       "      <td>0</td>\n",
       "      <td>0.0</td>\n",
       "      <td>(CNN) Even though the coronavirus pandemic con...</td>\n",
       "      <td>true/false</td>\n",
       "      <td>NaN</td>\n",
       "    </tr>\n",
       "    <tr>\n",
       "      <th>1</th>\n",
       "      <td>1</td>\n",
       "      <td>1.0</td>\n",
       "      <td>As we try to come to terms with the extent of ...</td>\n",
       "      <td>true/false</td>\n",
       "      <td>NaN</td>\n",
       "    </tr>\n",
       "    <tr>\n",
       "      <th>2</th>\n",
       "      <td>2</td>\n",
       "      <td>2.0</td>\n",
       "      <td>HOUSTON — In Texas, marijuana is illegal, and ...</td>\n",
       "      <td>true/false</td>\n",
       "      <td>NaN</td>\n",
       "    </tr>\n",
       "    <tr>\n",
       "      <th>3</th>\n",
       "      <td>3</td>\n",
       "      <td>3.0</td>\n",
       "      <td>Milwaukee County Executive Chris Abele high-fi...</td>\n",
       "      <td>true/false</td>\n",
       "      <td>NaN</td>\n",
       "    </tr>\n",
       "    <tr>\n",
       "      <th>4</th>\n",
       "      <td>4</td>\n",
       "      <td>4.0</td>\n",
       "      <td>Extremely hot days, when temperatures soar to ...</td>\n",
       "      <td>true/false</td>\n",
       "      <td>NaN</td>\n",
       "    </tr>\n",
       "    <tr>\n",
       "      <th>...</th>\n",
       "      <td>...</td>\n",
       "      <td>...</td>\n",
       "      <td>...</td>\n",
       "      <td>...</td>\n",
       "      <td>...</td>\n",
       "    </tr>\n",
       "    <tr>\n",
       "      <th>405</th>\n",
       "      <td>50</td>\n",
       "      <td>NaN</td>\n",
       "      <td>There was joy in the air Tuesday, as State Rep...</td>\n",
       "      <td>true/false</td>\n",
       "      <td>NaN</td>\n",
       "    </tr>\n",
       "    <tr>\n",
       "      <th>406</th>\n",
       "      <td>51</td>\n",
       "      <td>NaN</td>\n",
       "      <td>@chris_najdek  Chris_najdek IG  Cnajdek27@gmai...</td>\n",
       "      <td>true/false</td>\n",
       "      <td>NaN</td>\n",
       "    </tr>\n",
       "    <tr>\n",
       "      <th>407</th>\n",
       "      <td>52</td>\n",
       "      <td>NaN</td>\n",
       "      <td>The chant “lock her up” has finally seen fruit...</td>\n",
       "      <td>true/false</td>\n",
       "      <td>NaN</td>\n",
       "    </tr>\n",
       "    <tr>\n",
       "      <th>408</th>\n",
       "      <td>53</td>\n",
       "      <td>NaN</td>\n",
       "      <td>The Daily Star's FREE newsletter is spectacula...</td>\n",
       "      <td>true/false</td>\n",
       "      <td>NaN</td>\n",
       "    </tr>\n",
       "    <tr>\n",
       "      <th>409</th>\n",
       "      <td>54</td>\n",
       "      <td>NaN</td>\n",
       "      <td>This is HUGE!  Pennsylvania Judge Patricia A. ...</td>\n",
       "      <td>true/false</td>\n",
       "      <td>BREAKING HUGE: Pennsylvania Judge Files Memora...</td>\n",
       "    </tr>\n",
       "  </tbody>\n",
       "</table>\n",
       "<p>410 rows × 5 columns</p>\n",
       "</div>"
      ],
      "text/plain": [
       "     Unnamed: 0.1  Unnamed: 0  \\\n",
       "0               0         0.0   \n",
       "1               1         1.0   \n",
       "2               2         2.0   \n",
       "3               3         3.0   \n",
       "4               4         4.0   \n",
       "..            ...         ...   \n",
       "405            50         NaN   \n",
       "406            51         NaN   \n",
       "407            52         NaN   \n",
       "408            53         NaN   \n",
       "409            54         NaN   \n",
       "\n",
       "                                                  text  our rating  \\\n",
       "0    (CNN) Even though the coronavirus pandemic con...  true/false   \n",
       "1    As we try to come to terms with the extent of ...  true/false   \n",
       "2    HOUSTON — In Texas, marijuana is illegal, and ...  true/false   \n",
       "3    Milwaukee County Executive Chris Abele high-fi...  true/false   \n",
       "4    Extremely hot days, when temperatures soar to ...  true/false   \n",
       "..                                                 ...         ...   \n",
       "405  There was joy in the air Tuesday, as State Rep...  true/false   \n",
       "406  @chris_najdek  Chris_najdek IG  Cnajdek27@gmai...  true/false   \n",
       "407  The chant “lock her up” has finally seen fruit...  true/false   \n",
       "408  The Daily Star's FREE newsletter is spectacula...  true/false   \n",
       "409  This is HUGE!  Pennsylvania Judge Patricia A. ...  true/false   \n",
       "\n",
       "                                                 title  \n",
       "0                                                  NaN  \n",
       "1                                                  NaN  \n",
       "2                                                  NaN  \n",
       "3                                                  NaN  \n",
       "4                                                  NaN  \n",
       "..                                                 ...  \n",
       "405                                                NaN  \n",
       "406                                                NaN  \n",
       "407                                                NaN  \n",
       "408                                                NaN  \n",
       "409  BREAKING HUGE: Pennsylvania Judge Files Memora...  \n",
       "\n",
       "[410 rows x 5 columns]"
      ]
     },
     "metadata": {},
     "output_type": "display_data"
    },
    {
     "name": "stdout",
     "output_type": "stream",
     "text": [
      "true/false    205\n",
      "other         205\n",
      "Name: our rating, dtype: int64\n"
     ]
    }
   ],
   "source": [
    "df_text_EN_and_DE = pd.read_csv(\"./Data_equilibre/True_And_False_VS_Other/balanced_df_TFO_text_EN_and_DE.csv\")\n",
    "display(df_text_EN_and_DE)\n",
    "print(df_text_EN_and_DE['our rating'].value_counts())\n"
   ]
  },
  {
   "attachments": {},
   "cell_type": "markdown",
   "metadata": {},
   "source": [
    "_____________________________________________________________________________________________________\n",
    "_____________________________________________________________________________________________________\n",
    "                    \n",
    "        2. Nouveau Test des Classifieurs avec les données Allemandes seulement avec le Texte\n",
    "_____________________________________________________________________________________________________\n",
    "_____________________________________________________________________________________________________"
   ]
  },
  {
   "cell_type": "code",
   "execution_count": 15,
   "metadata": {},
   "outputs": [],
   "source": [
    "X_train_text_DE = df_text_EN_and_DE['text']\n",
    "Y_train_text_DE = df_text_EN_and_DE['our rating']"
   ]
  },
  {
   "attachments": {},
   "cell_type": "markdown",
   "metadata": {},
   "source": [
    "        2.1  SVC"
   ]
  },
  {
   "cell_type": "code",
   "execution_count": 25,
   "metadata": {},
   "outputs": [
    {
     "name": "stdout",
     "output_type": "stream",
     "text": [
      "Test SVC Text\n",
      "Application de gridsearch ...\n",
      "pipeline : ['cleaner', 'tfidf', 'svm']\n",
      "parameters :\n",
      "{'cleaner__getstemmer': [True, False], 'cleaner__removedigit': [True, False], 'cleaner__getlemmatisation': [True, False], 'tfidf__stop_words': ['english', None], 'tfidf__lowercase': [True, False], 'svm__C': [0.001, 0.01, 0.1, 1, 10], 'svm__gamma': [0.001, 0.01, 0.1, 1], 'svm__kernel': ['linear', 'rbf', 'poly', 'sigmoid']}\n",
      "Fitting 5 folds for each of 2560 candidates, totalling 12800 fits\n",
      "réalisé en  7215.753 s\n",
      "Meilleur résultat : 0.722\n",
      "Ensemble des meilleurs paramètres :\n",
      "\tcleaner__getlemmatisation: True\n",
      "\tcleaner__getstemmer: True\n",
      "\tcleaner__removedigit: False\n",
      "\tsvm__C: 10\n",
      "\tsvm__gamma: 0.1\n",
      "\tsvm__kernel: 'rbf'\n",
      "\ttfidf__lowercase: True\n",
      "\ttfidf__stop_words: None\n",
      "\n",
      "Les premiers résultats : \n",
      "       cleaner__getlemmatisation  cleaner__getstemmer  cleaner__removedigit  \\\n",
      "613                        True                 True                 False   \n",
      "615                        True                 True                 False   \n",
      "1893                      False                 True                 False   \n",
      "1895                      False                 True                 False   \n",
      "1253                       True                False                 False   \n",
      "\n",
      "      svm__C  svm__gamma svm__kernel  tfidf__lowercase tfidf__stop_words  \\\n",
      "613     10.0         0.1         rbf              True              None   \n",
      "615     10.0         0.1         rbf             False              None   \n",
      "1893    10.0         0.1         rbf              True              None   \n",
      "1895    10.0         0.1         rbf             False              None   \n",
      "1253    10.0         0.1         rbf              True              None   \n",
      "\n",
      "      accuracy  \n",
      "613   0.721951  \n",
      "615   0.721951  \n",
      "1893  0.719512  \n",
      "1895  0.719512  \n",
      "1253  0.714634  \n"
     ]
    }
   ],
   "source": [
    "print(\"Test SVC Text\")\n",
    "testSVC(X_train_text_DE,Y_train_text_DE, 5,'/True_And_False_VS_Other/Texte/data_EN_And_DE_SVC_TFO_Texte')"
   ]
  },
  {
   "cell_type": "code",
   "execution_count": 23,
   "metadata": {},
   "outputs": [
    {
     "name": "stdout",
     "output_type": "stream",
     "text": [
      "Sauvegarde du modèle dans  ./Modele/True_And_False_VS_Other/TFO_svm_DE.pkl\n",
      "Chargement du modèle \n",
      "\n",
      "Pipeline(steps=[('cleaner',\n",
      "                 TextNormalizer(getlemmatisation=True, getstemmer=True)),\n",
      "                ('tfidf', TfidfVectorizer()),\n",
      "                ('svm', SVC(C=10, gamma=0.1, probability=True))])\n",
      "Accuracy : 0.805\n",
      "Classification Report\n",
      "              precision    recall  f1-score   support\n",
      "\n",
      "       other    0.83333   0.75000   0.78947        20\n",
      "  true/false    0.78261   0.85714   0.81818        21\n",
      "\n",
      "    accuracy                        0.80488        41\n",
      "   macro avg    0.80797   0.80357   0.80383        41\n",
      "weighted avg    0.80735   0.80488   0.80418        41\n",
      "\n"
     ]
    },
    {
     "data": {
      "image/png": "[encoded data removed]",
      "text/plain": [
       "<Figure size 800x500 with 2 Axes>"
      ]
     },
     "metadata": {},
     "output_type": "display_data"
    }
   ],
   "source": [
    "from sklearn.model_selection import train_test_split\n",
    "import pickle\n",
    "# Création d'un jeu d'apprentissage et de test\n",
    "trainsize=0.9 # 70% pour le jeu d'apprentissage, il reste 30% du jeu de données pour\n",
    "testsize= 0.1\n",
    "seed=30\n",
    "\n",
    "train_title,test_title,train_note,test_note=train_test_split(X_train_text_DE,Y_train_text_DE, train_size=trainsize,random_state=seed,test_size=testsize,stratify=Y_train_text_DE)\n",
    "\n",
    "pipeline=Pipeline([\n",
    "    (\"cleaner\", TextNormalizer(removedigit=False, getlemmatisation=True, getstemmer=True)),\n",
    "    (\"tfidf\", TfidfVectorizer(lowercase=True, stop_words=None)),\n",
    "    ('svm', SVC(C=10, gamma=0.1, kernel='rbf',probability=True))\n",
    "])\n",
    "pipeline.fit(train_title,train_note)\n",
    "filename='./Modele/True_And_False_VS_Other/TFO_svm_DE.pkl'\n",
    "print(\"Sauvegarde du modèle dans \", filename)\n",
    "pickle.dump(pipeline, open(filename, \"wb\"))\n",
    "\n",
    "\n",
    "print (\"Chargement du modèle \\n\")\n",
    "# le chargement se fait via la fonction load\n",
    "clf_loaded = pickle.load(open(filename, 'rb'))\n",
    "# affichage du modèle sauvegardé\n",
    "print (clf_loaded)\n",
    "\n",
    "\n",
    "# test  avec les données qu'il a apprise c'est parfait woahhha c'est beau\n",
    "y_pred = clf_loaded.predict(test_title)\n",
    "# autres mesures et matrice de confusion\n",
    "MyshowAllScores(test_note,y_pred)"
   ]
  },
  {
   "attachments": {},
   "cell_type": "markdown",
   "metadata": {},
   "source": [
    "        2.2  RFC"
   ]
  },
  {
   "cell_type": "code",
   "execution_count": 26,
   "metadata": {},
   "outputs": [
    {
     "name": "stdout",
     "output_type": "stream",
     "text": [
      "Test RFC Text\n",
      "Application de gridsearch ...\n",
      "pipeline : ['cleaner', 'tfidf', 'rfc']\n",
      "parameters :\n",
      "{'cleaner__getstemmer': [True, False], 'cleaner__removedigit': [True, False], 'cleaner__getlemmatisation': [True, False], 'tfidf__stop_words': ['english', None], 'tfidf__lowercase': [True, False], 'rfc__n_estimators': [500, 1200], 'rfc__max_depth': [25, 30], 'rfc__min_samples_split': [5, 10, 15], 'rfc__min_samples_leaf': [1, 2]}\n",
      "Fitting 5 folds for each of 768 candidates, totalling 3840 fits\n",
      "réalisé en  3698.907 s\n",
      "Meilleur résultat : 0.710\n",
      "Ensemble des meilleurs paramètres :\n",
      "\tcleaner__getlemmatisation: True\n",
      "\tcleaner__getstemmer: True\n",
      "\tcleaner__removedigit: False\n",
      "\trfc__max_depth: 25\n",
      "\trfc__min_samples_leaf: 2\n",
      "\trfc__min_samples_split: 5\n",
      "\trfc__n_estimators: 500\n",
      "\ttfidf__lowercase: True\n",
      "\ttfidf__stop_words: None\n",
      "\n",
      "Les premiers résultats : \n",
      "      cleaner__getlemmatisation  cleaner__getstemmer  cleaner__removedigit  \\\n",
      "121                       True                 True                 False   \n",
      "657                      False                False                  True   \n",
      "107                       True                 True                 False   \n",
      "669                      False                False                  True   \n",
      "339                       True                False                 False   \n",
      "\n",
      "     rfc__max_depth  rfc__min_samples_leaf  rfc__min_samples_split  \\\n",
      "121              25                      2                       5   \n",
      "657              30                      2                      10   \n",
      "107              25                      1                      10   \n",
      "669              30                      2                      15   \n",
      "339              30                      1                       5   \n",
      "\n",
      "     rfc__n_estimators  tfidf__lowercase tfidf__stop_words  accuracy  \n",
      "121                500              True              None  0.709756  \n",
      "657                500              True              None  0.704878  \n",
      "107                500             False              None  0.704878  \n",
      "669               1200              True              None  0.704878  \n",
      "339                500             False              None  0.702439  \n"
     ]
    }
   ],
   "source": [
    "print(\"Test RFC Text\")\n",
    "testRFC(X_train_text_DE,Y_train_text_DE,5,'/True_And_False_VS_Other/Texte/data_EN_And_DE_RFC_TFO_Texte')"
   ]
  },
  {
   "cell_type": "code",
   "execution_count": 22,
   "metadata": {},
   "outputs": [
    {
     "name": "stdout",
     "output_type": "stream",
     "text": [
      "Sauvegarde du modèle dans  ./Modele/True_And_False_VS_Other/TFO_RFC_DE.pkl\n",
      "Chargement du modèle \n",
      "\n",
      "Pipeline(steps=[('cleaner',\n",
      "                 TextNormalizer(getlemmatisation=True, getstemmer=True)),\n",
      "                ('tfidf', TfidfVectorizer(stop_words='english')),\n",
      "                ('rfc',\n",
      "                 RandomForestClassifier(max_depth=25, min_samples_leaf=2,\n",
      "                                        min_samples_split=5,\n",
      "                                        n_estimators=500))])\n",
      "Accuracy : 0.780\n",
      "Classification Report\n",
      "              precision    recall  f1-score   support\n",
      "\n",
      "       other    0.76190   0.80000   0.78049        20\n",
      "  true/false    0.80000   0.76190   0.78049        21\n",
      "\n",
      "    accuracy                        0.78049        41\n",
      "   macro avg    0.78095   0.78095   0.78049        41\n",
      "weighted avg    0.78142   0.78049   0.78049        41\n",
      "\n"
     ]
    },
    {
     "data": {
      "image/png": "[encoded data removed]",
      "text/plain": [
       "<Figure size 800x500 with 2 Axes>"
      ]
     },
     "metadata": {},
     "output_type": "display_data"
    }
   ],
   "source": [
    "import pickle\n",
    "from sklearn.ensemble import RandomForestClassifier\n",
    "from sklearn.model_selection import train_test_split\n",
    "# Création d'un jeu d'apprentissage et de test\n",
    "trainsize=0.9 # 70% pour le jeu d'apprentissage, il reste 30% du jeu de données pour\n",
    "testsize= 0.1\n",
    "seed=30\n",
    "train_title,test_title,train_note,test_note=train_test_split(X_train_text_DE,Y_train_text_DE, train_size=trainsize,random_state=seed,test_size=testsize,stratify=Y_train_text_DE)\n",
    "\n",
    "pipeline=Pipeline([\n",
    "    (\"cleaner\", TextNormalizer(removedigit=False, getlemmatisation=True, getstemmer=True)),\n",
    "    (\"tfidf\", TfidfVectorizer(lowercase=True, stop_words='english')),\n",
    "    ('rfc', RandomForestClassifier(max_depth=25,min_samples_leaf=2, min_samples_split=5, n_estimators=500))\n",
    "])\n",
    "pipeline.fit(train_title,train_note)\n",
    "filename='./Modele/True_And_False_VS_Other/TFO_RFC_DE.pkl'\n",
    "print(\"Sauvegarde du modèle dans \", filename)\n",
    "pickle.dump(pipeline, open(filename, \"wb\"))\n",
    "\n",
    "\n",
    "\n",
    "print (\"Chargement du modèle \\n\")\n",
    "# le chargement se fait via la fonction load\n",
    "clf_loaded = pickle.load(open(filename, 'rb'))\n",
    "# affichage du modèle sauvegardé\n",
    "print (clf_loaded)\n",
    "\n",
    "\n",
    "# test  avec les données qu'il a apprise c'est parfait woahhha c'est beau\n",
    "y_pred = clf_loaded.predict(test_title)\n",
    "# autres mesures et matrice de confusion\n",
    "MyshowAllScores(test_note,y_pred)"
   ]
  },
  {
   "attachments": {},
   "cell_type": "markdown",
   "metadata": {},
   "source": [
    "        2.3  LR"
   ]
  },
  {
   "cell_type": "code",
   "execution_count": 27,
   "metadata": {},
   "outputs": [
    {
     "name": "stdout",
     "output_type": "stream",
     "text": [
      "Test LR text\n",
      "Application de gridsearch ...\n",
      "pipeline : ['cleaner', 'tfidf', 'lr']\n",
      "parameters :\n",
      "{'cleaner__getstemmer': [True, False], 'cleaner__removedigit': [True, False], 'cleaner__getlemmatisation': [True, False], 'tfidf__stop_words': ['english', None], 'tfidf__lowercase': [True, False], 'lr__solver': ['newton-cg', 'lbfgs', 'liblinear'], 'lr__penalty': ['l2'], 'lr__C': [100, 10, 1.0, 0.1, 0.01]}\n",
      "Fitting 5 folds for each of 480 candidates, totalling 2400 fits\n",
      "réalisé en  1256.716 s\n",
      "Meilleur résultat : 0.710\n",
      "Ensemble des meilleurs paramètres :\n",
      "\tcleaner__getlemmatisation: False\n",
      "\tcleaner__getstemmer: True\n",
      "\tcleaner__removedigit: False\n",
      "\tlr__C: 100\n",
      "\tlr__penalty: 'l2'\n",
      "\tlr__solver: 'newton-cg'\n",
      "\ttfidf__lowercase: True\n",
      "\ttfidf__stop_words: None\n",
      "\n",
      "Les premiers résultats : \n",
      "      cleaner__getlemmatisation  cleaner__getstemmer  cleaner__removedigit  \\\n",
      "301                      False                 True                 False   \n",
      "303                      False                 True                 False   \n",
      "305                      False                 True                 False   \n",
      "307                      False                 True                 False   \n",
      "309                      False                 True                 False   \n",
      "\n",
      "     lr__C lr__penalty lr__solver  tfidf__lowercase tfidf__stop_words  \\\n",
      "301  100.0          l2  newton-cg              True              None   \n",
      "303  100.0          l2  newton-cg             False              None   \n",
      "305  100.0          l2      lbfgs              True              None   \n",
      "307  100.0          l2      lbfgs             False              None   \n",
      "309  100.0          l2  liblinear              True              None   \n",
      "\n",
      "     accuracy  \n",
      "301  0.709756  \n",
      "303  0.709756  \n",
      "305  0.709756  \n",
      "307  0.709756  \n",
      "309  0.709756  \n"
     ]
    }
   ],
   "source": [
    "print(\"Test LR text\")\n",
    "testLR(X_train_text_DE,Y_train_text_DE,5,'/True_And_False_VS_Other/Texte/data_EN_And_DE_LR_TFO_Texte')\n"
   ]
  },
  {
   "attachments": {},
   "cell_type": "markdown",
   "metadata": {},
   "source": [
    "        2.4  CART"
   ]
  },
  {
   "cell_type": "code",
   "execution_count": 28,
   "metadata": {},
   "outputs": [
    {
     "name": "stdout",
     "output_type": "stream",
     "text": [
      "Test CART, Texte\n",
      "Application de gridsearch ...\n",
      "pipeline : ['cleaner', 'tfidf', 'CART']\n",
      "parameters :\n",
      "{'cleaner__getstemmer': [True, False], 'cleaner__removedigit': [True, False], 'cleaner__getlemmatisation': [True, False], 'tfidf__stop_words': ['english', None], 'tfidf__lowercase': [True, False], 'CART__max_depth': [10, 20, 30], 'CART__min_samples_split': [2, 5, 10], 'CART__min_samples_leaf': [1, 2, 4], 'CART__criterion': ['gini', 'entropy']}\n",
      "Fitting 5 folds for each of 1728 candidates, totalling 8640 fits\n",
      "réalisé en  4589.401 s\n",
      "Meilleur résultat : 0.695\n",
      "Ensemble des meilleurs paramètres :\n",
      "\tCART__criterion: 'gini'\n",
      "\tCART__max_depth: 20\n",
      "\tCART__min_samples_leaf: 1\n",
      "\tCART__min_samples_split: 5\n",
      "\tcleaner__getlemmatisation: True\n",
      "\tcleaner__getstemmer: False\n",
      "\tcleaner__removedigit: True\n",
      "\ttfidf__lowercase: True\n",
      "\ttfidf__stop_words: None\n",
      "\n",
      "Les premiers résultats : \n",
      "      CART__criterion  CART__max_depth  CART__min_samples_leaf  \\\n",
      "329             gini               20                       1   \n",
      "1612         entropy               30                       2   \n",
      "1580         entropy               30                       2   \n",
      "361             gini               20                       1   \n",
      "1468         entropy               30                       1   \n",
      "\n",
      "      CART__min_samples_split  cleaner__getlemmatisation  cleaner__getstemmer  \\\n",
      "329                         5                       True                False   \n",
      "1612                       10                       True                False   \n",
      "1580                        5                       True                False   \n",
      "361                        10                       True                False   \n",
      "1468                        2                      False                False   \n",
      "\n",
      "      cleaner__removedigit  tfidf__lowercase tfidf__stop_words  accuracy  \n",
      "329                   True              True              None  0.695122  \n",
      "1612                 False              True           english  0.678049  \n",
      "1580                 False              True           english  0.678049  \n",
      "361                   True              True              None  0.673171  \n",
      "1468                 False              True           english  0.673171  \n"
     ]
    }
   ],
   "source": [
    "print(\"Test CART, Texte\")\n",
    "testCART(X_train_text_DE,Y_train_text_DE,5,'/True_And_False_VS_Other/Texte/data_EN_And_DE_CART_TFO_Texte')\n"
   ]
  },
  {
   "attachments": {},
   "cell_type": "markdown",
   "metadata": {},
   "source": [
    "        2.5  KNN"
   ]
  },
  {
   "cell_type": "code",
   "execution_count": 29,
   "metadata": {},
   "outputs": [
    {
     "name": "stdout",
     "output_type": "stream",
     "text": [
      "Test KNN text\n",
      "Application de gridsearch ...\n",
      "pipeline : ['cleaner', 'tfidf', 'KNN']\n",
      "parameters :\n",
      "{'cleaner__getstemmer': [True, False], 'cleaner__removedigit': [True, False], 'cleaner__getlemmatisation': [True, False], 'tfidf__stop_words': ['english', None], 'tfidf__lowercase': [True, False], 'KNN__n_neighbors': [1, 2, 3, 4, 5, 6, 7, 8, 9, 10, 11, 12, 13, 14], 'KNN__algorithm': ['auto', 'ball_tree', 'kd_tree', 'brute'], 'KNN__weights': ['uniform', 'distance'], 'KNN__metric': ['minkowski', 'euclidean', 'manhattan']}\n",
      "Fitting 5 folds for each of 10752 candidates, totalling 53760 fits\n",
      "réalisé en  36830.463 s\n",
      "Meilleur résultat : 0.712\n",
      "Ensemble des meilleurs paramètres :\n",
      "\tKNN__algorithm: 'auto'\n",
      "\tKNN__metric: 'minkowski'\n",
      "\tKNN__n_neighbors: 4\n",
      "\tKNN__weights: 'distance'\n",
      "\tcleaner__getlemmatisation: True\n",
      "\tcleaner__getstemmer: True\n",
      "\tcleaner__removedigit: True\n",
      "\ttfidf__lowercase: True\n",
      "\ttfidf__stop_words: None\n",
      "\n",
      "Les premiers résultats : \n",
      "      KNN__algorithm KNN__metric  KNN__n_neighbors KNN__weights  \\\n",
      "6497        kd_tree   euclidean                 4     distance   \n",
      "227            auto   minkowski                 4     distance   \n",
      "2915      ball_tree   minkowski                 4     distance   \n",
      "2913      ball_tree   minkowski                 4     distance   \n",
      "1123           auto   euclidean                 4     distance   \n",
      "\n",
      "      cleaner__getlemmatisation  cleaner__getstemmer  cleaner__removedigit  \\\n",
      "6497                       True                 True                  True   \n",
      "227                        True                 True                  True   \n",
      "2915                       True                 True                  True   \n",
      "2913                       True                 True                  True   \n",
      "1123                       True                 True                  True   \n",
      "\n",
      "      tfidf__lowercase tfidf__stop_words  accuracy  \n",
      "6497              True              None  0.712195  \n",
      "227              False              None  0.712195  \n",
      "2915             False              None  0.712195  \n",
      "2913              True              None  0.712195  \n",
      "1123             False              None  0.712195  \n"
     ]
    }
   ],
   "source": [
    "print(\"Test KNN text\")\n",
    "testKNeighborsClassifier(X_train_text_DE,Y_train_text_DE,5,'/True_And_False_VS_Other/Texte/data_EN_And_DE_KNN_TFO_Texte')\n"
   ]
  },
  {
   "attachments": {},
   "cell_type": "markdown",
   "metadata": {},
   "source": [
    "        2.6  MB"
   ]
  },
  {
   "cell_type": "code",
   "execution_count": 30,
   "metadata": {},
   "outputs": [
    {
     "name": "stdout",
     "output_type": "stream",
     "text": [
      "MultinomialNB test Text\n",
      "Application de gridsearch ...\n",
      "pipeline : ['cleaner', 'tfidf', 'MultinomialNB']\n",
      "parameters :\n",
      "{'cleaner__getstemmer': [True, False], 'cleaner__removedigit': [True, False], 'cleaner__getlemmatisation': [True, False], 'tfidf__stop_words': ['english', None], 'tfidf__lowercase': [True, False], 'MultinomialNB__alpha': [0.1, 0.5, 1.0, 2.0], 'MultinomialNB__fit_prior': [True, False], 'MultinomialNB__force_alpha': [True, False]}\n",
      "Fitting 5 folds for each of 512 candidates, totalling 2560 fits\n",
      "réalisé en  1360.580 s\n",
      "Meilleur résultat : 0.693\n",
      "Ensemble des meilleurs paramètres :\n",
      "\tMultinomialNB__alpha: 0.1\n",
      "\tMultinomialNB__fit_prior: True\n",
      "\tMultinomialNB__force_alpha: True\n",
      "\tcleaner__getlemmatisation: True\n",
      "\tcleaner__getstemmer: False\n",
      "\tcleaner__removedigit: True\n",
      "\ttfidf__lowercase: True\n",
      "\ttfidf__stop_words: None\n",
      "\n",
      "Les premiers résultats : \n",
      "      MultinomialNB__alpha  MultinomialNB__fit_prior  \\\n",
      "105                   0.1                     False   \n",
      "41                    0.1                      True   \n",
      "73                    0.1                     False   \n",
      "9                     0.1                      True   \n",
      "0                     0.1                      True   \n",
      "\n",
      "     MultinomialNB__force_alpha  cleaner__getlemmatisation  \\\n",
      "105                       False                       True   \n",
      "41                        False                       True   \n",
      "73                         True                       True   \n",
      "9                          True                       True   \n",
      "0                          True                       True   \n",
      "\n",
      "     cleaner__getstemmer  cleaner__removedigit  tfidf__lowercase  \\\n",
      "105                False                  True              True   \n",
      "41                 False                  True              True   \n",
      "73                 False                  True              True   \n",
      "9                  False                  True              True   \n",
      "0                   True                  True              True   \n",
      "\n",
      "    tfidf__stop_words  accuracy  \n",
      "105              None  0.692683  \n",
      "41               None  0.692683  \n",
      "73               None  0.692683  \n",
      "9                None  0.692683  \n",
      "0             english  0.687805  \n"
     ]
    }
   ],
   "source": [
    "print(\"MultinomialNB test Text\")\n",
    "testMNB(X_train_text_DE,Y_train_text_DE,5,'/True_And_False_VS_Other/Texte/data_EN_And_DE_MNB_TFO_Texte')"
   ]
  }
 ],
 "metadata": {
  "kernelspec": {
   "display_name": "Python 3",
   "language": "python",
   "name": "python3"
  },
  "language_info": {
   "codemirror_mode": {
    "name": "ipython",
    "version": 3
   },
   "file_extension": ".py",
   "mimetype": "text/x-python",
   "name": "python",
   "nbconvert_exporter": "python",
   "pygments_lexer": "ipython3",
   "version": "3.11.2"
  }
 },
 "nbformat": 4,
 "nbformat_minor": 0
}
