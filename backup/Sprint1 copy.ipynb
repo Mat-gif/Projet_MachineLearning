{
 "cells": [
  {
   "cell_type": "markdown",
   "metadata": {
    "collapsed": false
   },
   "source": [
    "-> Chargement des librairies et fonctions"
   ]
  },
  {
   "cell_type": "code",
   "execution_count": 3,
   "metadata": {
    "collapsed": false
   },
   "outputs": [
    {
     "name": "stderr",
     "output_type": "stream",
     "text": [
      "[nltk_data] Error loading wordnet: <urlopen error [Errno 11001]\n",
      "[nltk_data]     getaddrinfo failed>\n",
      "[nltk_data] Error loading stopwords: <urlopen error [Errno 11001]\n",
      "[nltk_data]     getaddrinfo failed>\n",
      "[nltk_data] Error loading punkt: <urlopen error [Errno 11001]\n",
      "[nltk_data]     getaddrinfo failed>\n",
      "[nltk_data] Error loading wordnet: <urlopen error [Errno 11001]\n",
      "[nltk_data]     getaddrinfo failed>\n",
      "[nltk_data] Error loading stopwords: <urlopen error [Errno 11001]\n",
      "[nltk_data]     getaddrinfo failed>\n",
      "[nltk_data] Error loading punkt: <urlopen error [Errno 11001]\n",
      "[nltk_data]     getaddrinfo failed>\n"
     ]
    }
   ],
   "source": [
    "# fonctions utilities (affichage, confusion, etc.)\n",
    "from Fonction.MyNLPUtilities import *\n",
    "# fonctions utilities (fonction de clean, import etc etc)\n",
    "from Fonction.myFonction import *\n",
    "from Fonction.AllModels_ALL import *"
   ]
  },
  {
   "attachments": {},
   "cell_type": "markdown",
   "metadata": {
    "collapsed": false
   },
   "source": [
    "-> Chargement des données brutes"
   ]
  },
  {
   "cell_type": "code",
   "execution_count": 4,
   "metadata": {
    "collapsed": false
   },
   "outputs": [
    {
     "name": "stdout",
     "output_type": "stream",
     "text": [
      "data_brute avant drop de duplicate : \n",
      " false      893\n",
      "true       421\n",
      "mixture    414\n",
      "other      148\n",
      "Name: our rating, dtype: int64 \n",
      "\n",
      "data après drop de duplicate : \n",
      " false      815\n",
      "true       411\n",
      "mixture    374\n",
      "other      127\n",
      "Name: our rating, dtype: int64 \n",
      "\n",
      "data_to_test avant drop duplicates : \n",
      " false    815\n",
      "true     411\n",
      "other    127\n",
      "Name: our rating, dtype: int64 \n",
      "\n",
      "datato_test après drop duplicates : \n",
      " false    801\n",
      "true     407\n",
      "other    126\n",
      "Name: our rating, dtype: int64 \n",
      "\n"
     ]
    },
    {
     "data": {
      "text/html": [
       "<div>\n",
       "<style scoped>\n",
       "    .dataframe tbody tr th:only-of-type {\n",
       "        vertical-align: middle;\n",
       "    }\n",
       "\n",
       "    .dataframe tbody tr th {\n",
       "        vertical-align: top;\n",
       "    }\n",
       "\n",
       "    .dataframe thead th {\n",
       "        text-align: right;\n",
       "    }\n",
       "</style>\n",
       "<table border=\"1\" class=\"dataframe\">\n",
       "  <thead>\n",
       "    <tr style=\"text-align: right;\">\n",
       "      <th></th>\n",
       "      <th>text</th>\n",
       "      <th>title</th>\n",
       "      <th>our rating</th>\n",
       "    </tr>\n",
       "  </thead>\n",
       "  <tbody>\n",
       "    <tr>\n",
       "      <th>count</th>\n",
       "      <td>1334</td>\n",
       "      <td>1324</td>\n",
       "      <td>1334</td>\n",
       "    </tr>\n",
       "    <tr>\n",
       "      <th>unique</th>\n",
       "      <td>1323</td>\n",
       "      <td>1220</td>\n",
       "      <td>3</td>\n",
       "    </tr>\n",
       "    <tr>\n",
       "      <th>top</th>\n",
       "      <td>ADVERTISEMENT The fire that gutted a flank of ...</td>\n",
       "      <td>Marine Corps. Rebukes Pelosi: “WE DON’T WORK F...</td>\n",
       "      <td>false</td>\n",
       "    </tr>\n",
       "    <tr>\n",
       "      <th>freq</th>\n",
       "      <td>2</td>\n",
       "      <td>4</td>\n",
       "      <td>801</td>\n",
       "    </tr>\n",
       "  </tbody>\n",
       "</table>\n",
       "</div>"
      ],
      "text/plain": [
       "                                                     text  \\\n",
       "count                                                1334   \n",
       "unique                                               1323   \n",
       "top     ADVERTISEMENT The fire that gutted a flank of ...   \n",
       "freq                                                    2   \n",
       "\n",
       "                                                    title our rating  \n",
       "count                                                1324       1334  \n",
       "unique                                               1220          3  \n",
       "top     Marine Corps. Rebukes Pelosi: “WE DON’T WORK F...      false  \n",
       "freq                                                    4        801  "
      ]
     },
     "metadata": {},
     "output_type": "display_data"
    }
   ],
   "source": [
    "import pandas as pd\n",
    "Init_train = pd.read_csv('./Data_brut/HAI817_Projet_train.csv', sep=\",\")\n",
    "Init_test = pd.read_csv('./Data_brut/HAI817_Projet_test.csv', sep=\",\")\n",
    "data_brute = pd.concat([Init_train,Init_test], ignore_index = True)\n",
    "\n",
    "print(\"data_brute avant drop de duplicate : \\n\", data_brute['our rating'].value_counts(),'\\n')\n",
    "data_brute = data_brute.drop_duplicates()\n",
    "print(\"data après drop de duplicate : \\n\", data_brute['our rating'].value_counts(),'\\n')\n",
    "\n",
    "\n",
    "data_to_test = data_brute[~data_brute['our rating'].isin(['mixture'])]\n",
    "data_to_test = data_to_test.drop(columns=['public_id', 'ID'])\n",
    "print(\"data_to_test avant drop duplicates : \\n\", data_to_test['our rating'].value_counts(),'\\n')\n",
    "data_to_test = data_to_test.drop_duplicates()\n",
    "print(\"datato_test après drop duplicates : \\n\", data_to_test['our rating'].value_counts(),'\\n')\n",
    "\n",
    "display(data_to_test.describe())\n",
    "\n",
    "#data_equilibre = balanceSample(data_brute,150,[\"false\",\"true\",\"mixture\",\"other\"])\n",
    "# print(data_equilibre['our rating'].value_counts())\n",
    "# data_equilibre.to_csv('./Data_equilibre/MyData_Sprint1.csv', sep=',', index=False)\n",
    "#mySample = pd.read_csv('./Data_equilibre/MyData_Sprint1.csv', sep=\",\")\n",
    "#print(mySample['our rating'].value_counts())\n",
    "#X_train = mySample['text']\n",
    "#y_train = mySample['our rating']"
   ]
  },
  {
   "attachments": {},
   "cell_type": "markdown",
   "metadata": {},
   "source": [
    "Lorsque que nous avons visualiser les différentes données cf le rapport nous nous sommes rendus compte que les données n'était pas du tout bien isolés je décide donc de tester tout les modèles en prenant différent Texte, Titre, Texte+Titre pour ensuite sélectionner le meilleur de classification que je souhaite et le meilleur classifieur.\n",
    "\n",
    "Je crée donc 3 dataframe correspondant à chaque type de classification \n",
    "J'harmonise chacun des jeux de données et j'enregistre le tout dans des variables, ici je test en moyenne en n'harmonistant pas les faux et vrais il y a donc globalement plus de faux en terme de propotion dans true false\n",
    "\n",
    "Je fais une première harmonisation entre les trues et les falses pour en récupérer le même nombre dans ma concaténation des true et false"
   ]
  },
  {
   "cell_type": "code",
   "execution_count": 5,
   "metadata": {},
   "outputs": [
    {
     "name": "stdout",
     "output_type": "stream",
     "text": [
      "dataFrame text only :\n",
      "data ['other'] avant drop duplicates : \n",
      " our rating\n",
      "other         126\n",
      "dtype: int64 \n",
      "\n",
      "data ['other'] après drop duplicates : \n",
      " our rating\n",
      "other         126\n",
      "dtype: int64 \n",
      "\n",
      "data ['true', 'false'] avant drop duplicates : \n",
      " our rating\n",
      "false         801\n",
      "true          407\n",
      "other         126\n",
      "dtype: int64 \n",
      "\n",
      "data ['true', 'false'] après drop duplicates : \n",
      " our rating\n",
      "false         800\n",
      "true          400\n",
      "other         126\n",
      "dtype: int64 \n",
      "\n",
      "dataFrame title only :\n",
      "data ['other'] avant drop duplicates : \n",
      " our rating\n",
      "other         126\n",
      "dtype: int64 \n",
      "\n",
      "data ['other'] après drop duplicates : \n",
      " our rating\n",
      "other         125\n",
      "dtype: int64 \n",
      "\n",
      "data ['true', 'false'] avant drop duplicates : \n",
      " our rating\n",
      "false         801\n",
      "true          407\n",
      "other         126\n",
      "dtype: int64 \n",
      "\n",
      "data ['true', 'false'] après drop duplicates : \n",
      " our rating\n",
      "false         702\n",
      "true          400\n",
      "other         125\n",
      "dtype: int64 \n",
      "\n",
      "dataFrame text_title concatenate only :\n",
      "data ['other'] avant drop duplicates : \n",
      " our rating\n",
      "other         126\n",
      "dtype: int64 \n",
      "\n",
      "data ['other'] après drop duplicates : \n",
      " our rating\n",
      "other         126\n",
      "dtype: int64 \n",
      "\n",
      "data ['true', 'false'] avant drop duplicates : \n",
      " our rating\n",
      "false         801\n",
      "true          407\n",
      "other         126\n",
      "dtype: int64 \n",
      "\n",
      "data ['true', 'false'] après drop duplicates : \n",
      " our rating\n",
      "false         801\n",
      "true          407\n",
      "other         126\n",
      "dtype: int64 \n",
      "\n"
     ]
    }
   ],
   "source": [
    "from pandas import DataFrame\n",
    "\n",
    "\n",
    "def initDataToTest(df : DataFrame, columnToDrop : list[str], columnToCount : str, valueToMerge : list[str], size : int, valueOfReplacement : str) :\n",
    "    data = df.copy()\n",
    "    data = data.drop(columns=columnToDrop)\n",
    "    print(\"data\", valueToMerge ,\"avant drop duplicates : \\n\", data[columnToCount].value_counts(),'\\n')\n",
    "    data = data.drop_duplicates()\n",
    "    print(\"data\", valueToMerge ,\"après drop duplicates : \\n\", data[columnToCount].value_counts(),'\\n')\n",
    "    if size > 0 :\n",
    "        data = balanceSample(data,size,valueToMerge)\n",
    "    if valueOfReplacement is not None : \n",
    "        data = data.replace(valueToMerge, valueOfReplacement)\n",
    "    return data\n",
    "\n",
    "print(\"dataFrame text only :\")\n",
    "df_text = pd.concat([initDataToTest(data_to_test[data_to_test['our rating'] == 'other'],['title'], ['our rating'], ['other'], 0, None),\n",
    "                             initDataToTest(data_to_test,['title'], ['our rating'], ['true', 'false'], 75,'true/false')])\n",
    "df_text = balanceSample(df_text, 150, ['true/false', 'other'])\n",
    "X_train_text  = df_text['text']\n",
    "Y_train_text = df_text['our rating']\n",
    "\n",
    "\n",
    "print(\"dataFrame title only :\")\n",
    "df_title = pd.concat([initDataToTest(data_to_test[data_to_test['our rating'] == 'other'],['text'], ['our rating'], ['other'], 0, None),\n",
    "                             initDataToTest(data_to_test,['text'], ['our rating'], ['true', 'false'], 75,'true/false')])\n",
    "df_title = balanceSample(df_title, 150, ['true/false', 'other'])\n",
    "X_train_title = df_title['title']\n",
    "Y_train_title = df_title['our rating']\n",
    "\n",
    "\n",
    "print(\"dataFrame text_title concatenate only :\")\n",
    "df_text_titre_concat = data_to_test.copy()\n",
    "df_text_titre_concat = df_text_titre_concat.fillna('')\n",
    "df_text_titre_concat['title_text'] = df_text_titre_concat['title'].str.cat(df_text_titre_concat['text'], sep=' ')\n",
    "df_text_and_title = pd.concat([initDataToTest(df_text_titre_concat[df_text_titre_concat['our rating'] == 'other'],['text', 'title'], ['our rating'], ['other'], 0, None),\n",
    "                             initDataToTest(df_text_titre_concat,['text', 'title'], ['our rating'], ['true', 'false'], 75,'true/false')])\n",
    "df_text_and_title = balanceSample(df_text_and_title, 150, ['true/false', 'other'])\n",
    "X_train_text_and_title = df_text_and_title['title_text']\n",
    "Y_train_text_and_title = df_text_and_title['our rating']\n"
   ]
  },
  {
   "cell_type": "code",
   "execution_count": 2,
   "metadata": {},
   "outputs": [
    {
     "ename": "NameError",
     "evalue": "name 'df_text' is not defined",
     "output_type": "error",
     "traceback": [
      "\u001b[1;31m---------------------------------------------------------------------------\u001b[0m",
      "\u001b[1;31mNameError\u001b[0m                                 Traceback (most recent call last)",
      "Cell \u001b[1;32mIn[2], line 1\u001b[0m\n\u001b[1;32m----> 1\u001b[0m df_text\u001b[39m.\u001b[39mto_csv(\u001b[39m\"\u001b[39m\u001b[39m./DataFrame/df_text.csv\u001b[39m\u001b[39m\"\u001b[39m)\n\u001b[0;32m      2\u001b[0m df_title\u001b[39m.\u001b[39mto_csv(\u001b[39m\"\u001b[39m\u001b[39m./DataFrame/df_title.csv\u001b[39m\u001b[39m\"\u001b[39m)\n\u001b[0;32m      3\u001b[0m df_text_and_title\u001b[39m.\u001b[39mto_csv(\u001b[39m\"\u001b[39m\u001b[39m./DataFrame/df_text_and_title.csv\u001b[39m\u001b[39m\"\u001b[39m)\n",
      "\u001b[1;31mNameError\u001b[0m: name 'df_text' is not defined"
     ]
    }
   ],
   "source": [
    "df_text.to_csv(\"./DataFrame/df_text.csv\")\n",
    "df_title.to_csv(\"./DataFrame/df_title.csv\")\n",
    "df_text_and_title.to_csv(\"./DataFrame/df_text_and_title.csv\")"
   ]
  },
  {
   "attachments": {},
   "cell_type": "markdown",
   "metadata": {},
   "source": [
    "Chargement Dataframe"
   ]
  },
  {
   "cell_type": "code",
   "execution_count": 4,
   "metadata": {},
   "outputs": [],
   "source": [
    "df_text = pd.read_csv(\"./DataFrame/df_text.csv\")\n",
    "X_train_text  = df_text['text']\n",
    "Y_train_text = df_text['our rating']\n",
    "df_title = pd.read_csv(\"./DataFrame/df_title.csv\")\n",
    "X_train_title = df_title['title']\n",
    "Y_train_title = df_title['our rating']\n",
    "df_text_and_title = pd.read_csv(\"./DataFrame/df_text_and_title.csv\")\n",
    "X_train_text_and_title = df_text_and_title['title_text']\n",
    "Y_train_text_and_title = df_text_and_title['our rating']"
   ]
  },
  {
   "cell_type": "markdown",
   "metadata": {
    "collapsed": false
   },
   "source": [
    "-> Je test tout les models"
   ]
  },
  {
   "cell_type": "code",
   "execution_count": 8,
   "metadata": {
    "collapsed": false
   },
   "outputs": [
    {
     "name": "stdout",
     "output_type": "stream",
     "text": [
      "Fonction Text\n"
     ]
    },
    {
     "name": "stderr",
     "output_type": "stream",
     "text": [
      "[nltk_data] Downloading package omw-1.4 to\n",
      "[nltk_data]     C:\\Users\\33683\\AppData\\Roaming\\nltk_data...\n",
      "[nltk_data]   Package omw-1.4 is already up-to-date!\n"
     ]
    },
    {
     "name": "stdout",
     "output_type": "stream",
     "text": [
      "Evaluation de  MultinomialNB\n",
      "MultinomialNB : 0.660 (0.095) in 0.503 s\n",
      "Evaluation de  LR\n",
      "LR : 0.677 (0.083) in 2.635 s\n",
      "Evaluation de  KNN\n",
      "KNN : 0.557 (0.109) in 0.986 s\n",
      "Evaluation de  CART\n",
      "CART : 0.580 (0.075) in 6.527 s\n",
      "Evaluation de  RF\n",
      "RF : 0.650 (0.089) in 9.535 s\n",
      "Evaluation de  SVM\n",
      "SVM : 0.690 (0.045) in 278.235 s\n",
      "\n",
      "Le meilleur resultat : \n",
      "Classifier :  SVM  accuracy : 0.690  (0.045)  en 278.235   s\n",
      "\n",
      "Tous les résultats : \n",
      "\n",
      "Classifier :  SVM  accuracy : 0.690  (0.045)  en 278.235   s\n",
      "Classifier :  LR  accuracy : 0.677  (0.083)  en 2.635   s\n",
      "Classifier :  MultinomialNB  accuracy : 0.660  (0.095)  en 0.503   s\n",
      "Classifier :  RF  accuracy : 0.650  (0.089)  en 9.535   s\n",
      "Classifier :  CART  accuracy : 0.580  (0.075)  en 6.527   s\n",
      "Classifier :  KNN  accuracy : 0.557  (0.109)  en 0.986   s\n",
      "Fonction Titre\n"
     ]
    },
    {
     "name": "stderr",
     "output_type": "stream",
     "text": [
      "[nltk_data] Downloading package omw-1.4 to\n",
      "[nltk_data]     C:\\Users\\33683\\AppData\\Roaming\\nltk_data...\n",
      "[nltk_data]   Package omw-1.4 is already up-to-date!\n"
     ]
    },
    {
     "name": "stdout",
     "output_type": "stream",
     "text": [
      "Evaluation de  MultinomialNB\n",
      "MultinomialNB : 0.587 (0.107) in 0.159 s\n",
      "Evaluation de  LR\n",
      "LR : 0.617 (0.101) in 0.441 s\n",
      "Evaluation de  KNN\n",
      "KNN : 0.560 (0.071) in 0.290 s\n",
      "Evaluation de  CART\n",
      "CART : 0.627 (0.077) in 1.278 s\n",
      "Evaluation de  RF\n",
      "RF : 0.663 (0.050) in 6.051 s\n",
      "Evaluation de  SVM\n",
      "SVM : 0.667 (0.045) in 1.647 s\n",
      "\n",
      "Le meilleur resultat : \n",
      "Classifier :  SVM  accuracy : 0.667  (0.045)  en 1.647   s\n",
      "\n",
      "Tous les résultats : \n",
      "\n",
      "Classifier :  SVM  accuracy : 0.667  (0.045)  en 1.647   s\n",
      "Classifier :  RF  accuracy : 0.663  (0.050)  en 6.051   s\n",
      "Classifier :  CART  accuracy : 0.627  (0.077)  en 1.278   s\n",
      "Classifier :  LR  accuracy : 0.617  (0.101)  en 0.441   s\n",
      "Classifier :  MultinomialNB  accuracy : 0.587  (0.107)  en 0.159   s\n",
      "Classifier :  KNN  accuracy : 0.560  (0.071)  en 0.290   s\n",
      "Fonction titre et text \n"
     ]
    },
    {
     "name": "stderr",
     "output_type": "stream",
     "text": [
      "[nltk_data] Downloading package omw-1.4 to\n",
      "[nltk_data]     C:\\Users\\33683\\AppData\\Roaming\\nltk_data...\n",
      "[nltk_data]   Package omw-1.4 is already up-to-date!\n"
     ]
    },
    {
     "name": "stdout",
     "output_type": "stream",
     "text": [
      "Evaluation de  MultinomialNB\n",
      "MultinomialNB : 0.627 (0.090) in 0.486 s\n",
      "Evaluation de  LR\n",
      "LR : 0.623 (0.099) in 2.566 s\n",
      "Evaluation de  KNN\n",
      "KNN : 0.610 (0.084) in 0.881 s\n",
      "Evaluation de  CART\n",
      "CART : 0.570 (0.053) in 7.925 s\n",
      "Evaluation de  RF\n",
      "RF : 0.647 (0.058) in 9.742 s\n",
      "Evaluation de  SVM\n",
      "SVM : 0.640 (0.080) in 277.343 s\n",
      "\n",
      "Le meilleur resultat : \n",
      "Classifier :  RF  accuracy : 0.647  (0.058)  en 9.742   s\n",
      "\n",
      "Tous les résultats : \n",
      "\n",
      "Classifier :  RF  accuracy : 0.647  (0.058)  en 9.742   s\n",
      "Classifier :  SVM  accuracy : 0.640  (0.080)  en 277.343   s\n",
      "Classifier :  MultinomialNB  accuracy : 0.627  (0.090)  en 0.486   s\n",
      "Classifier :  LR  accuracy : 0.623  (0.099)  en 2.566   s\n",
      "Classifier :  KNN  accuracy : 0.610  (0.084)  en 0.881   s\n",
      "Classifier :  CART  accuracy : 0.570  (0.053)  en 7.925   s\n"
     ]
    },
    {
     "data": {
      "image/png": "[encoded data removed]",
      "text/plain": [
       "<Figure size 640x480 with 1 Axes>"
      ]
     },
     "metadata": {},
     "output_type": "display_data"
    },
    {
     "data": {
      "image/png": "[encoded data removed]",
      "text/plain": [
       "<Figure size 640x480 with 1 Axes>"
      ]
     },
     "metadata": {},
     "output_type": "display_data"
    },
    {
     "data": {
      "image/png": "[encoded data removed]",
      "text/plain": [
       "<Figure size 640x480 with 1 Axes>"
      ]
     },
     "metadata": {},
     "output_type": "display_data"
    }
   ],
   "source": [
    "print(\"Fonction Text\")\n",
    "\n",
    "testAllModel(X_train_text,Y_train_text,5)\n",
    "\n",
    "print(\"Fonction Titre\")\n",
    "\n",
    "testAllModel(X_train_title,Y_train_title,5)\n",
    "\n",
    "print(\"Fonction titre et text \")\n",
    "\n",
    "testAllModel(X_train_text_and_title, Y_train_text_and_title,5)\n"
   ]
  },
  {
   "cell_type": "markdown",
   "metadata": {
    "collapsed": false
   },
   "source": [
    "-> je test les hyper-parametres de SVC"
   ]
  },
  {
   "attachments": {},
   "cell_type": "markdown",
   "metadata": {},
   "source": [
    "Pour le Texte"
   ]
  },
  {
   "cell_type": "code",
   "execution_count": 12,
   "metadata": {
    "collapsed": false
   },
   "outputs": [
    {
     "name": "stdout",
     "output_type": "stream",
     "text": [
      "Test SVC Text\n",
      "Application de gridsearch ...\n",
      "pipeline : ['cleaner', 'tfidf', 'svm']\n",
      "parameters :\n",
      "{'cleaner__getstemmer': [True, False], 'cleaner__removedigit': [True, False], 'cleaner__getlemmatisation': [True, False], 'tfidf__stop_words': ['english', None], 'tfidf__lowercase': [True, False], 'svm__C': [0.001, 0.01, 0.1, 1, 10], 'svm__gamma': [0.001, 0.01, 0.1, 1], 'svm__kernel': ['linear', 'rbf', 'poly', 'sigmoid']}\n",
      "Fitting 5 folds for each of 2560 candidates, totalling 12800 fits\n",
      "réalisé en  6501.005 s\n",
      "Meilleur résultat : 0.703\n",
      "Ensemble des meilleurs paramètres :\n",
      "\tcleaner__getlemmatisation: True\n",
      "\tcleaner__getstemmer: False\n",
      "\tcleaner__removedigit: True\n",
      "\tsvm__C: 10\n",
      "\tsvm__gamma: 1\n",
      "\tsvm__kernel: 'rbf'\n",
      "\ttfidf__lowercase: False\n",
      "\ttfidf__stop_words: None\n",
      "\n",
      "Les premiers résultats : \n",
      "      cleaner__getlemmatisation  cleaner__getstemmer  cleaner__removedigit  \\\n",
      "951                       True                False                  True   \n",
      "620                       True                 True                 False   \n",
      "544                       True                 True                 False   \n",
      "528                       True                 True                 False   \n",
      "514                       True                 True                 False   \n",
      "\n",
      "     svm__C  svm__gamma svm__kernel  tfidf__lowercase tfidf__stop_words  \\\n",
      "951    10.0       1.000         rbf             False              None   \n",
      "620    10.0       0.100     sigmoid              True           english   \n",
      "544     1.0       0.100      linear              True           english   \n",
      "528     1.0       0.010      linear              True           english   \n",
      "514     1.0       0.001      linear             False           english   \n",
      "\n",
      "     accuracy  \n",
      "951  0.703333  \n",
      "620  0.700000  \n",
      "544  0.700000  \n",
      "528  0.700000  \n",
      "514  0.700000  \n"
     ]
    }
   ],
   "source": [
    "print(\"Test SVC Text\")\n",
    "testSVC(X_train_text,Y_train_text, 5)"
   ]
  },
  {
   "attachments": {},
   "cell_type": "markdown",
   "metadata": {},
   "source": [
    "Pour le Titre\n"
   ]
  },
  {
   "cell_type": "code",
   "execution_count": 13,
   "metadata": {},
   "outputs": [
    {
     "name": "stdout",
     "output_type": "stream",
     "text": [
      "Test SVC Titre\n",
      "Application de gridsearch ...\n",
      "pipeline : ['cleaner', 'tfidf', 'svm']\n",
      "parameters :\n",
      "{'cleaner__getstemmer': [True, False], 'cleaner__removedigit': [True, False], 'cleaner__getlemmatisation': [True, False], 'tfidf__stop_words': ['english', None], 'tfidf__lowercase': [True, False], 'svm__C': [0.001, 0.01, 0.1, 1, 10], 'svm__gamma': [0.001, 0.01, 0.1, 1], 'svm__kernel': ['linear', 'rbf', 'poly', 'sigmoid']}\n",
      "Fitting 5 folds for each of 2560 candidates, totalling 12800 fits\n",
      "réalisé en  222.986 s\n",
      "Meilleur résultat : 0.660\n",
      "Ensemble des meilleurs paramètres :\n",
      "\tcleaner__getlemmatisation: True\n",
      "\tcleaner__getstemmer: False\n",
      "\tcleaner__removedigit: False\n",
      "\tsvm__C: 0.001\n",
      "\tsvm__gamma: 0.001\n",
      "\tsvm__kernel: 'poly'\n",
      "\ttfidf__lowercase: True\n",
      "\ttfidf__stop_words: 'english'\n",
      "\n",
      "Les premiers résultats : \n",
      "       cleaner__getlemmatisation  cleaner__getstemmer  cleaner__removedigit  \\\n",
      "2296                      False                False                 False   \n",
      "2360                      False                False                 False   \n",
      "2200                      False                False                  True   \n",
      "2536                      False                False                 False   \n",
      "1112                       True                False                 False   \n",
      "\n",
      "      svm__C  svm__gamma svm__kernel  tfidf__lowercase tfidf__stop_words  \\\n",
      "2296   0.001        1.00        poly              True           english   \n",
      "2360   0.010        1.00        poly              True           english   \n",
      "2200  10.000        0.01        poly              True           english   \n",
      "2536  10.000        0.10        poly              True           english   \n",
      "1112   0.100        0.01        poly              True           english   \n",
      "\n",
      "      accuracy  \n",
      "2296      0.66  \n",
      "2360      0.66  \n",
      "2200      0.66  \n",
      "2536      0.66  \n",
      "1112      0.66  \n"
     ]
    }
   ],
   "source": [
    "print(\"Test SVC Titre\")\n",
    "testSVC(X_train_title,Y_train_title, 5)"
   ]
  },
  {
   "cell_type": "code",
   "execution_count": 4,
   "metadata": {},
   "outputs": [
    {
     "name": "stdout",
     "output_type": "stream",
     "text": [
      "Test SVC Text and Titre\n",
      "Application de gridsearch ...\n",
      "pipeline : ['cleaner', 'tfidf', 'svm']\n",
      "parameters :\n",
      "{'cleaner__getstemmer': [True, False], 'cleaner__removedigit': [True, False], 'cleaner__getlemmatisation': [True, False], 'tfidf__stop_words': ['english', None], 'tfidf__lowercase': [True, False], 'svm__C': [0.001, 0.01, 0.1, 1, 10], 'svm__gamma': [0.001, 0.01, 0.1, 1], 'svm__kernel': ['linear', 'rbf', 'poly', 'sigmoid']}\n",
      "Fitting 5 folds for each of 2560 candidates, totalling 12800 fits\n",
      "réalisé en  6559.843 s\n",
      "Meilleur résultat : 0.673\n",
      "Ensemble des meilleurs paramètres :\n",
      "\tcleaner__getlemmatisation: True\n",
      "\tcleaner__getstemmer: False\n",
      "\tcleaner__removedigit: False\n",
      "\tsvm__C: 1\n",
      "\tsvm__gamma: 0.001\n",
      "\tsvm__kernel: 'linear'\n",
      "\ttfidf__lowercase: True\n",
      "\ttfidf__stop_words: None\n",
      "\n",
      "Les premiers résultats : \n",
      "       cleaner__getlemmatisation  cleaner__getstemmer  cleaner__removedigit  \\\n",
      "1201                       True                False                 False   \n",
      "1153                       True                False                 False   \n",
      "1261                       True                False                 False   \n",
      "1169                       True                False                 False   \n",
      "1185                       True                False                 False   \n",
      "\n",
      "      svm__C  svm__gamma svm__kernel  tfidf__lowercase tfidf__stop_words  \\\n",
      "1201     1.0       1.000      linear              True              None   \n",
      "1153     1.0       0.001      linear              True              None   \n",
      "1261    10.0       0.100     sigmoid              True              None   \n",
      "1169     1.0       0.010      linear              True              None   \n",
      "1185     1.0       0.100      linear              True              None   \n",
      "\n",
      "      accuracy  \n",
      "1201  0.673333  \n",
      "1153  0.673333  \n",
      "1261  0.673333  \n",
      "1169  0.673333  \n",
      "1185  0.673333  \n"
     ]
    }
   ],
   "source": [
    "print(\"Test SVC Text and Titre\")\n",
    "testSVC(X_train_text_and_title,Y_train_text_and_title, 5)"
   ]
  },
  {
   "attachments": {},
   "cell_type": "markdown",
   "metadata": {},
   "source": [
    "Pour le Texte et le Titre"
   ]
  },
  {
   "cell_type": "markdown",
   "metadata": {
    "collapsed": false
   },
   "source": [
    "-> Ajuster pretraitement"
   ]
  },
  {
   "cell_type": "markdown",
   "metadata": {
    "collapsed": false
   },
   "source": [
    "-> enregistrement du modele SVC"
   ]
  },
  {
   "cell_type": "code",
   "execution_count": null,
   "metadata": {
    "collapsed": false
   },
   "outputs": [],
   "source": [
    "from sklearn.model_selection import train_test_split\n",
    "import pickle\n",
    "# Création d'un jeu d'apprentissage et de test\n",
    "trainsize=0.9 # 70% pour le jeu d'apprentissage, il reste 30% du jeu de données pour\n",
    "testsize= 0.1\n",
    "seed=30\n",
    "\n",
    "train_title,test_title,train_note,test_note=train_test_split(X_train,y_train, train_size=trainsize,random_state=seed,test_size=testsize)\n",
    "\n",
    "pipeline=Pipeline([\n",
    "    (\"cleaner\", TextNormalizer(removedigit=False, getlemmatisation=True)),\n",
    "    (\"tfidf\", TfidfVectorizer(lowercase=False, stop_words=None)),\n",
    "    ('svm', SVC(C=10, gamma=1, kernel='rbf'))\n",
    "])\n",
    "pipeline.fit(train_title,train_note)\n",
    "filename='./Modele/Sprint1/SentimentModel_Sprint1.pkl'\n",
    "print(\"Sauvegarde du modèle dans \", filename)\n",
    "pickle.dump(pipeline, open(filename, \"wb\"))\n",
    "\n",
    "\n",
    "print (\"Chargement du modèle \\n\")\n",
    "# le chargement se fait via la fonction load\n",
    "clf_loaded = pickle.load(open(filename, 'rb'))\n",
    "# affichage du modèle sauvegardé\n",
    "print (clf_loaded)\n",
    "\n",
    "\n",
    "# test  avec les données qu'il a apprise c'est parfait woahhha c'est beau\n",
    "y_pred = clf_loaded.predict(test_title)\n",
    "# autres mesures et matrice de confusion\n",
    "MyshowAllScores(test_note,y_pred)"
   ]
  },
  {
   "cell_type": "markdown",
   "metadata": {
    "collapsed": false
   },
   "source": [
    "-> Second Modèle"
   ]
  },
  {
   "cell_type": "code",
   "execution_count": 5,
   "metadata": {
    "collapsed": false
   },
   "outputs": [
    {
     "name": "stdout",
     "output_type": "stream",
     "text": [
      "Test RFC Text\n",
      "Application de gridsearch ...\n",
      "pipeline : ['cleaner', 'tfidf', 'rfc']\n",
      "parameters :\n",
      "{'cleaner__getstemmer': [True, False], 'cleaner__removedigit': [True, False], 'cleaner__getlemmatisation': [True, False], 'tfidf__stop_words': ['english', None], 'tfidf__lowercase': [True, False], 'rfc__n_estimators': [500, 1200], 'rfc__max_depth': [25, 30], 'rfc__min_samples_split': [5, 10, 15], 'rfc__min_samples_leaf': [1, 2]}\n",
      "Fitting 5 folds for each of 768 candidates, totalling 3840 fits\n",
      "réalisé en  3044.708 s\n",
      "Meilleur résultat : 0.720\n",
      "Ensemble des meilleurs paramètres :\n",
      "\tcleaner__getlemmatisation: True\n",
      "\tcleaner__getstemmer: True\n",
      "\tcleaner__removedigit: False\n",
      "\trfc__max_depth: 30\n",
      "\trfc__min_samples_leaf: 2\n",
      "\trfc__min_samples_split: 10\n",
      "\trfc__n_estimators: 1200\n",
      "\ttfidf__lowercase: True\n",
      "\ttfidf__stop_words: None\n",
      "\n",
      "Les premiers résultats : \n",
      "      cleaner__getlemmatisation  cleaner__getstemmer  cleaner__removedigit  \\\n",
      "181                       True                 True                 False   \n",
      "141                       True                 True                 False   \n",
      "507                      False                 True                 False   \n",
      "547                      False                 True                 False   \n",
      "541                      False                 True                 False   \n",
      "\n",
      "     rfc__max_depth  rfc__min_samples_leaf  rfc__min_samples_split  \\\n",
      "181              30                      2                      10   \n",
      "141              25                      2                      15   \n",
      "507              25                      2                       5   \n",
      "547              30                      1                      15   \n",
      "541              30                      1                      10   \n",
      "\n",
      "     rfc__n_estimators  tfidf__lowercase tfidf__stop_words  accuracy  \n",
      "181               1200              True              None  0.720000  \n",
      "141               1200              True              None  0.716667  \n",
      "507                500             False              None  0.713333  \n",
      "547                500             False              None  0.710000  \n",
      "541               1200              True              None  0.710000  \n"
     ]
    }
   ],
   "source": [
    "print(\"Test RFC Text\")\n",
    "testRFC(X_train_text,Y_train_text,5)"
   ]
  },
  {
   "cell_type": "code",
   "execution_count": 18,
   "metadata": {},
   "outputs": [
    {
     "name": "stdout",
     "output_type": "stream",
     "text": [
      "Test RFC Title\n",
      "Application de gridsearch ...\n",
      "pipeline : ['cleaner', 'tfidf', 'rfc']\n",
      "parameters :\n",
      "{'cleaner__getstemmer': [True, False], 'cleaner__removedigit': [True, False], 'cleaner__getlemmatisation': [True, False], 'tfidf__stop_words': ['english', None], 'tfidf__lowercase': [True, False], 'rfc__n_estimators': [500, 1200], 'rfc__max_depth': [25, 30], 'rfc__min_samples_split': [5, 10, 15], 'rfc__min_samples_leaf': [1, 2]}\n",
      "Fitting 5 folds for each of 768 candidates, totalling 3840 fits\n",
      "réalisé en  1281.896 s\n",
      "Meilleur résultat : 0.663\n",
      "Ensemble des meilleurs paramètres :\n",
      "\tcleaner__getlemmatisation: False\n",
      "\tcleaner__getstemmer: True\n",
      "\tcleaner__removedigit: False\n",
      "\trfc__max_depth: 30\n",
      "\trfc__min_samples_leaf: 1\n",
      "\trfc__min_samples_split: 5\n",
      "\trfc__n_estimators: 1200\n",
      "\ttfidf__lowercase: False\n",
      "\ttfidf__stop_words: 'english'\n",
      "\n",
      "Les premiers résultats : \n",
      "      cleaner__getlemmatisation  cleaner__getstemmer  cleaner__removedigit  \\\n",
      "534                      False                 True                 False   \n",
      "542                      False                 True                 False   \n",
      "636                      False                False                  True   \n",
      "632                      False                False                  True   \n",
      "580                      False                False                  True   \n",
      "\n",
      "     rfc__max_depth  rfc__min_samples_leaf  rfc__min_samples_split  \\\n",
      "534              30                      1                       5   \n",
      "542              30                      1                      10   \n",
      "636              30                      1                      10   \n",
      "632              30                      1                      10   \n",
      "580              25                      1                       5   \n",
      "\n",
      "     rfc__n_estimators  tfidf__lowercase tfidf__stop_words  accuracy  \n",
      "534               1200             False           english  0.663333  \n",
      "542               1200             False           english  0.660000  \n",
      "636               1200              True           english  0.656667  \n",
      "632                500              True           english  0.656667  \n",
      "580               1200              True           english  0.656667  \n"
     ]
    }
   ],
   "source": [
    "print(\"Test RFC Title\")\n",
    "testRFC(X_train_title,Y_train_title,5)"
   ]
  },
  {
   "cell_type": "code",
   "execution_count": 6,
   "metadata": {},
   "outputs": [
    {
     "name": "stdout",
     "output_type": "stream",
     "text": [
      "Test RFC Text and title\n",
      "Application de gridsearch ...\n",
      "pipeline : ['cleaner', 'tfidf', 'rfc']\n",
      "parameters :\n",
      "{'cleaner__getstemmer': [True, False], 'cleaner__removedigit': [True, False], 'cleaner__getlemmatisation': [True, False], 'tfidf__stop_words': ['english', None], 'tfidf__lowercase': [True, False], 'rfc__n_estimators': [500, 1200], 'rfc__max_depth': [25, 30], 'rfc__min_samples_split': [5, 10, 15], 'rfc__min_samples_leaf': [1, 2]}\n",
      "Fitting 5 folds for each of 768 candidates, totalling 3840 fits\n",
      "réalisé en  3288.387 s\n",
      "Meilleur résultat : 0.663\n",
      "Ensemble des meilleurs paramètres :\n",
      "\tcleaner__getlemmatisation: False\n",
      "\tcleaner__getstemmer: True\n",
      "\tcleaner__removedigit: False\n",
      "\trfc__max_depth: 25\n",
      "\trfc__min_samples_leaf: 1\n",
      "\trfc__min_samples_split: 10\n",
      "\trfc__n_estimators: 500\n",
      "\ttfidf__lowercase: False\n",
      "\ttfidf__stop_words: 'english'\n",
      "\n",
      "Les premiers résultats : \n",
      "      cleaner__getlemmatisation  cleaner__getstemmer  cleaner__removedigit  \\\n",
      "490                      False                 True                 False   \n",
      "369                       True                False                 False   \n",
      "689                      False                False                 False   \n",
      "467                      False                 True                  True   \n",
      "753                      False                False                 False   \n",
      "\n",
      "     rfc__max_depth  rfc__min_samples_leaf  rfc__min_samples_split  \\\n",
      "490              25                      1                      10   \n",
      "369              30                      2                      10   \n",
      "689              25                      1                      15   \n",
      "467              30                      2                      10   \n",
      "753              30                      2                      10   \n",
      "\n",
      "     rfc__n_estimators  tfidf__lowercase tfidf__stop_words  accuracy  \n",
      "490                500             False           english  0.663333  \n",
      "369                500              True              None  0.650000  \n",
      "689                500              True              None  0.650000  \n",
      "467                500             False              None  0.650000  \n",
      "753                500              True              None  0.646667  \n"
     ]
    }
   ],
   "source": [
    "print(\"Test RFC Text and title\")\n",
    "testRFC(X_train_text_and_title,Y_train_text_and_title,5)"
   ]
  },
  {
   "cell_type": "code",
   "execution_count": null,
   "metadata": {
    "collapsed": false
   },
   "outputs": [],
   "source": [
    "import pickle\n",
    "from sklearn.ensemble import RandomForestClassifier\n",
    "from sklearn.model_selection import train_test_split\n",
    "# Création d'un jeu d'apprentissage et de test\n",
    "trainsize=0.9 # 70% pour le jeu d'apprentissage, il reste 30% du jeu de données pour\n",
    "testsize= 0.1\n",
    "seed=30\n",
    "train_title,test_title,train_note,test_note=train_test_split(X_train,y_train, train_size=trainsize,random_state=seed,test_size=testsize)\n",
    "\n",
    "pipeline=Pipeline([\n",
    "    (\"cleaner\", TextNormalizer(removedigit=False, getlemmatisation=True)),\n",
    "    (\"tfidf\", TfidfVectorizer(lowercase=False, stop_words=None)),\n",
    "    ('rfc', RandomForestClassifier(max_depth=25,min_samples_leaf=1, min_samples_split=10, n_estimators=500))\n",
    "])\n",
    "pipeline.fit(train_title,train_note)\n",
    "filename='./Modele/Sprint1/RandomForestClassifier_Sprint1.pkl'\n",
    "print(\"Sauvegarde du modèle dans \", filename)\n",
    "pickle.dump(pipeline, open(filename, \"wb\"))\n",
    "\n",
    "\n",
    "\n",
    "print (\"Chargement du modèle \\n\")\n",
    "# le chargement se fait via la fonction load\n",
    "clf_loaded = pickle.load(open(filename, 'rb'))\n",
    "# affichage du modèle sauvegardé\n",
    "print (clf_loaded)\n",
    "\n",
    "\n",
    "# test  avec les données qu'il a apprise c'est parfait woahhha c'est beau\n",
    "y_pred = clf_loaded.predict(test_title)\n",
    "# autres mesures et matrice de confusion\n",
    "MyshowAllScores(test_note,y_pred)"
   ]
  },
  {
   "cell_type": "markdown",
   "metadata": {
    "collapsed": false
   },
   "source": [
    "-> Le dernier modele"
   ]
  },
  {
   "cell_type": "code",
   "execution_count": 8,
   "metadata": {
    "collapsed": false
   },
   "outputs": [
    {
     "name": "stdout",
     "output_type": "stream",
     "text": [
      "Test LR text\n",
      "Application de gridsearch ...\n",
      "pipeline : ['cleaner', 'tfidf', 'lr']\n",
      "parameters :\n",
      "{'cleaner__getstemmer': [True, False], 'cleaner__removedigit': [True, False], 'cleaner__getlemmatisation': [True, False], 'tfidf__stop_words': ['english', None], 'tfidf__lowercase': [True, False], 'lr__solver': ['newton-cg', 'lbfgs', 'liblinear'], 'lr__penalty': ['l2'], 'lr__C': [100, 10, 1.0, 0.1, 0.01]}\n",
      "Fitting 5 folds for each of 480 candidates, totalling 2400 fits\n",
      "réalisé en  941.495 s\n",
      "Meilleur résultat : 0.710\n",
      "Ensemble des meilleurs paramètres :\n",
      "\tcleaner__getlemmatisation: True\n",
      "\tcleaner__getstemmer: True\n",
      "\tcleaner__removedigit: False\n",
      "\tlr__C: 1.0\n",
      "\tlr__penalty: 'l2'\n",
      "\tlr__solver: 'liblinear'\n",
      "\ttfidf__lowercase: True\n",
      "\ttfidf__stop_words: 'english'\n",
      "\n",
      "Les premiers résultats : \n",
      "     cleaner__getlemmatisation  cleaner__getstemmer  cleaner__removedigit  \\\n",
      "94                       True                 True                 False   \n",
      "92                       True                 True                 False   \n",
      "86                       True                 True                 False   \n",
      "90                       True                 True                 False   \n",
      "88                       True                 True                 False   \n",
      "\n",
      "    lr__C lr__penalty lr__solver  tfidf__lowercase tfidf__stop_words  accuracy  \n",
      "94    1.0          l2  liblinear             False           english  0.710000  \n",
      "92    1.0          l2  liblinear              True           english  0.710000  \n",
      "86    1.0          l2  newton-cg             False           english  0.706667  \n",
      "90    1.0          l2      lbfgs             False           english  0.706667  \n",
      "88    1.0          l2      lbfgs              True           english  0.706667  \n"
     ]
    }
   ],
   "source": [
    "print(\"Test LR text\")\n",
    "testLR(X_train_text,Y_train_text,5)"
   ]
  },
  {
   "attachments": {},
   "cell_type": "markdown",
   "metadata": {},
   "source": [
    "azea"
   ]
  },
  {
   "cell_type": "code",
   "execution_count": 17,
   "metadata": {},
   "outputs": [
    {
     "name": "stdout",
     "output_type": "stream",
     "text": [
      "Test LR Titre\n",
      "Application de gridsearch ...\n",
      "pipeline : ['cleaner', 'tfidf', 'lr']\n",
      "parameters :\n",
      "{'cleaner__getstemmer': [True, False], 'cleaner__removedigit': [True, False], 'cleaner__getlemmatisation': [True, False], 'tfidf__stop_words': ['english', None], 'tfidf__lowercase': [True, False], 'lr__solver': ['newton-cg', 'lbfgs', 'liblinear'], 'lr__penalty': ['l2'], 'lr__C': [100, 10, 1.0, 0.1, 0.01]}\n",
      "Fitting 5 folds for each of 480 candidates, totalling 2400 fits\n",
      "réalisé en  93.201 s\n",
      "Meilleur résultat : 0.653\n",
      "Ensemble des meilleurs paramètres :\n",
      "\tcleaner__getlemmatisation: True\n",
      "\tcleaner__getstemmer: True\n",
      "\tcleaner__removedigit: True\n",
      "\tlr__C: 1.0\n",
      "\tlr__penalty: 'l2'\n",
      "\tlr__solver: 'newton-cg'\n",
      "\ttfidf__lowercase: True\n",
      "\ttfidf__stop_words: 'english'\n",
      "\n",
      "Les premiers résultats : \n",
      "     cleaner__getlemmatisation  cleaner__getstemmer  cleaner__removedigit  \\\n",
      "26                       True                 True                  True   \n",
      "28                       True                 True                  True   \n",
      "30                       True                 True                  True   \n",
      "32                       True                 True                  True   \n",
      "34                       True                 True                  True   \n",
      "\n",
      "    lr__C lr__penalty lr__solver  tfidf__lowercase tfidf__stop_words  accuracy  \n",
      "26    1.0          l2  newton-cg             False           english  0.653333  \n",
      "28    1.0          l2      lbfgs              True           english  0.653333  \n",
      "30    1.0          l2      lbfgs             False           english  0.653333  \n",
      "32    1.0          l2  liblinear              True           english  0.653333  \n",
      "34    1.0          l2  liblinear             False           english  0.653333  \n"
     ]
    }
   ],
   "source": [
    "print(\"Test LR Titre\")\n",
    "testLR(X_train_title,Y_train_title,5)"
   ]
  },
  {
   "attachments": {},
   "cell_type": "markdown",
   "metadata": {},
   "source": [
    "aze"
   ]
  },
  {
   "cell_type": "code",
   "execution_count": 9,
   "metadata": {},
   "outputs": [
    {
     "name": "stdout",
     "output_type": "stream",
     "text": [
      "Test LR Texte et Titre\n",
      "Application de gridsearch ...\n",
      "pipeline : ['cleaner', 'tfidf', 'lr']\n",
      "parameters :\n",
      "{'cleaner__getstemmer': [True, False], 'cleaner__removedigit': [True, False], 'cleaner__getlemmatisation': [True, False], 'tfidf__stop_words': ['english', None], 'tfidf__lowercase': [True, False], 'lr__solver': ['newton-cg', 'lbfgs', 'liblinear'], 'lr__penalty': ['l2'], 'lr__C': [100, 10, 1.0, 0.1, 0.01]}\n",
      "Fitting 5 folds for each of 480 candidates, totalling 2400 fits\n",
      "réalisé en  1079.282 s\n",
      "Meilleur résultat : 0.663\n",
      "Ensemble des meilleurs paramètres :\n",
      "\tcleaner__getlemmatisation: False\n",
      "\tcleaner__getstemmer: True\n",
      "\tcleaner__removedigit: False\n",
      "\tlr__C: 100\n",
      "\tlr__penalty: 'l2'\n",
      "\tlr__solver: 'newton-cg'\n",
      "\ttfidf__lowercase: True\n",
      "\ttfidf__stop_words: None\n",
      "\n",
      "Les premiers résultats : \n",
      "      cleaner__getlemmatisation  cleaner__getstemmer  cleaner__removedigit  \\\n",
      "305                      False                 True                 False   \n",
      "301                      False                 True                 False   \n",
      "309                      False                 True                 False   \n",
      "307                      False                 True                 False   \n",
      "303                      False                 True                 False   \n",
      "\n",
      "     lr__C lr__penalty lr__solver  tfidf__lowercase tfidf__stop_words  \\\n",
      "305  100.0          l2      lbfgs              True              None   \n",
      "301  100.0          l2  newton-cg              True              None   \n",
      "309  100.0          l2  liblinear              True              None   \n",
      "307  100.0          l2      lbfgs             False              None   \n",
      "303  100.0          l2  newton-cg             False              None   \n",
      "\n",
      "     accuracy  \n",
      "305  0.663333  \n",
      "301  0.663333  \n",
      "309  0.663333  \n",
      "307  0.663333  \n",
      "303  0.663333  \n"
     ]
    }
   ],
   "source": [
    "print(\"Test LR Texte et Titre\")\n",
    "testLR(X_train_text_and_title, Y_train_text_and_title,5)"
   ]
  },
  {
   "cell_type": "code",
   "execution_count": null,
   "metadata": {
    "collapsed": false
   },
   "outputs": [],
   "source": [
    "import pickle\n",
    "from sklearn.linear_model import LogisticRegression\n",
    "from sklearn.model_selection import train_test_split\n",
    "# Création d'un jeu d'apprentissage et de test\n",
    "trainsize=0.9 # 70% pour le jeu d'apprentissage, il reste 30% du jeu de données pour\n",
    "testsize= 0.1\n",
    "seed=30\n",
    "train_title,test_title,train_note,test_note=train_test_split(X_train,y_train, train_size=trainsize,random_state=seed,test_size=testsize)\n",
    "\n",
    "pipeline=Pipeline([\n",
    "    (\"cleaner\", TextNormalizer(removedigit=True, getlemmatisation=False)),\n",
    "    (\"tfidf\", TfidfVectorizer(lowercase=True, stop_words=None)),\n",
    "    ('lr', LogisticRegression(C=10,penalty='l2', solver='liblinear'))\n",
    "])\n",
    "pipeline.fit(train_title,train_note)\n",
    "filename='./Modele/Sprint1/LogisticRegression_Sprint1.pkl'\n",
    "print(\"Sauvegarde du modèle dans \", filename)\n",
    "pickle.dump(pipeline, open(filename, \"wb\"))\n",
    "\n",
    "\n",
    "\n",
    "print (\"Chargement du modèle \\n\")\n",
    "# le chargement se fait via la fonction load\n",
    "clf_loaded = pickle.load(open(filename, 'rb'))\n",
    "# affichage du modèle sauvegardé\n",
    "print (clf_loaded)\n",
    "\n",
    "\n",
    "# test  avec les données qu'il a apprise c'est parfait woahhha c'est beau\n",
    "y_pred = clf_loaded.predict(test_title)\n",
    "# autres mesures et matrice de confusion\n",
    "MyshowAllScores(test_note,y_pred)"
   ]
  },
  {
   "attachments": {},
   "cell_type": "markdown",
   "metadata": {},
   "source": [
    "Afin d'améliorer nos jeux de données nous avons traduit grâce à l'API deepl l'ensemble des textes du jeux de données allemands nous les concaténons aux jeux de données précédents afin de l'améliorer ! Nous allons donc retester l'ensemble des modèles. "
   ]
  },
  {
   "cell_type": "code",
   "execution_count": 7,
   "metadata": {},
   "outputs": [
    {
     "name": "stdout",
     "output_type": "stream",
     "text": [
      "Test CART, Texte\n",
      "Application de gridsearch ...\n",
      "pipeline : ['cleaner', 'tfidf', 'CART']\n",
      "parameters :\n",
      "{'cleaner__getstemmer': [True, False], 'cleaner__removedigit': [True, False], 'cleaner__getlemmatisation': [True, False], 'tfidf__stop_words': ['english', None], 'tfidf__lowercase': [True, False], 'CART__max_depth': [10, 20, 30], 'CART__min_samples_split': [2, 5, 10], 'CART__min_samples_leaf': [1, 2, 4], 'CART__criterion': ['gini', 'entropy']}\n",
      "Fitting 5 folds for each of 1728 candidates, totalling 8640 fits\n",
      "réalisé en  3389.543 s\n",
      "Meilleur résultat : 0.677\n",
      "Ensemble des meilleurs paramètres :\n",
      "\tCART__criterion: 'entropy'\n",
      "\tCART__max_depth: 10\n",
      "\tCART__min_samples_leaf: 1\n",
      "\tCART__min_samples_split: 5\n",
      "\tcleaner__getlemmatisation: False\n",
      "\tcleaner__getstemmer: True\n",
      "\tcleaner__removedigit: True\n",
      "\ttfidf__lowercase: True\n",
      "\ttfidf__stop_words: None\n",
      "\n",
      "Les premiers résultats : \n",
      "      CART__criterion  CART__max_depth  CART__min_samples_leaf  \\\n",
      "913          entropy               10                       1   \n",
      "702             gini               30                       2   \n",
      "1203         entropy               20                       1   \n",
      "1157         entropy               20                       1   \n",
      "290             gini               20                       1   \n",
      "\n",
      "      CART__min_samples_split  cleaner__getlemmatisation  cleaner__getstemmer  \\\n",
      "913                         5                      False                 True   \n",
      "702                         2                      False                False   \n",
      "1203                        5                      False                 True   \n",
      "1157                        2                       True                 True   \n",
      "290                         2                       True                 True   \n",
      "\n",
      "      cleaner__removedigit  tfidf__lowercase tfidf__stop_words  accuracy  \n",
      "913                   True              True              None  0.676667  \n",
      "702                  False             False           english  0.670000  \n",
      "1203                  True             False              None  0.670000  \n",
      "1157                 False              True              None  0.666667  \n",
      "290                   True             False           english  0.666667  \n"
     ]
    }
   ],
   "source": [
    "print(\"Test CART, Texte\")\n",
    "testCART(X_train_text, Y_train_text,5)"
   ]
  },
  {
   "cell_type": "code",
   "execution_count": 5,
   "metadata": {},
   "outputs": [
    {
     "name": "stdout",
     "output_type": "stream",
     "text": [
      "Test CART, Title\n",
      "Application de gridsearch ...\n",
      "pipeline : ['cleaner', 'tfidf', 'CART']\n",
      "parameters :\n",
      "{'cleaner__getstemmer': [True, False], 'cleaner__removedigit': [True, False], 'cleaner__getlemmatisation': [True, False], 'tfidf__stop_words': ['english', None], 'tfidf__lowercase': [True, False], 'CART__max_depth': [10, 20, 30], 'CART__min_samples_split': [2, 5, 10], 'CART__min_samples_leaf': [1, 2, 4], 'CART__criterion': ['gini', 'entropy']}\n",
      "Fitting 5 folds for each of 1728 candidates, totalling 8640 fits\n",
      "réalisé en  283.017 s\n",
      "Meilleur résultat : 0.657\n",
      "Ensemble des meilleurs paramètres :\n",
      "\tCART__criterion: 'gini'\n",
      "\tCART__max_depth: 30\n",
      "\tCART__min_samples_leaf: 2\n",
      "\tCART__min_samples_split: 2\n",
      "\tcleaner__getlemmatisation: False\n",
      "\tcleaner__getstemmer: True\n",
      "\tcleaner__removedigit: True\n",
      "\ttfidf__lowercase: True\n",
      "\ttfidf__stop_words: 'english'\n",
      "\n",
      "Les premiers résultats : \n",
      "     CART__criterion  CART__max_depth  CART__min_samples_leaf  \\\n",
      "688            gini               30                       2   \n",
      "754            gini               30                       2   \n",
      "704            gini               30                       2   \n",
      "690            gini               30                       2   \n",
      "710            gini               30                       2   \n",
      "\n",
      "     CART__min_samples_split  cleaner__getlemmatisation  cleaner__getstemmer  \\\n",
      "688                        2                      False                 True   \n",
      "754                       10                      False                 True   \n",
      "704                        5                       True                 True   \n",
      "690                        2                      False                 True   \n",
      "710                        5                       True                 True   \n",
      "\n",
      "     cleaner__removedigit  tfidf__lowercase tfidf__stop_words  accuracy  \n",
      "688                  True              True           english  0.656667  \n",
      "754                  True             False           english  0.653333  \n",
      "704                  True              True           english  0.643333  \n",
      "690                  True             False           english  0.643333  \n",
      "710                 False             False           english  0.643333  \n"
     ]
    }
   ],
   "source": [
    "print(\"Test CART, Title\")\n",
    "testCART(X_train_title, Y_train_title,5)"
   ]
  },
  {
   "cell_type": "code",
   "execution_count": 7,
   "metadata": {},
   "outputs": [
    {
     "name": "stdout",
     "output_type": "stream",
     "text": [
      "Test CART, Text and title\n",
      "Application de gridsearch ...\n",
      "pipeline : ['cleaner', 'tfidf', 'CART']\n",
      "parameters :\n",
      "{'cleaner__getstemmer': [True, False], 'cleaner__removedigit': [True, False], 'cleaner__getlemmatisation': [True, False], 'tfidf__stop_words': ['english', None], 'tfidf__lowercase': [True, False], 'CART__max_depth': [10, 20, 30], 'CART__min_samples_split': [2, 5, 10], 'CART__min_samples_leaf': [1, 2, 4], 'CART__criterion': ['gini', 'entropy']}\n",
      "Fitting 5 folds for each of 1728 candidates, totalling 8640 fits\n",
      "réalisé en  4087.149 s\n",
      "Meilleur résultat : 0.650\n",
      "Ensemble des meilleurs paramètres :\n",
      "\tCART__criterion: 'gini'\n",
      "\tCART__max_depth: 20\n",
      "\tCART__min_samples_leaf: 1\n",
      "\tCART__min_samples_split: 2\n",
      "\tcleaner__getlemmatisation: True\n",
      "\tcleaner__getstemmer: True\n",
      "\tcleaner__removedigit: True\n",
      "\ttfidf__lowercase: True\n",
      "\ttfidf__stop_words: 'english'\n",
      "\n",
      "Les premiers résultats : \n",
      "     CART__criterion  CART__max_depth  CART__min_samples_leaf  \\\n",
      "288            gini               20                       1   \n",
      "608            gini               30                       1   \n",
      "322            gini               20                       1   \n",
      "416            gini               20                       2   \n",
      "576            gini               30                       1   \n",
      "\n",
      "     CART__min_samples_split  cleaner__getlemmatisation  cleaner__getstemmer  \\\n",
      "288                        2                       True                 True   \n",
      "608                        5                       True                 True   \n",
      "322                        5                       True                 True   \n",
      "416                        5                       True                 True   \n",
      "576                        2                       True                 True   \n",
      "\n",
      "     cleaner__removedigit  tfidf__lowercase tfidf__stop_words  accuracy  \n",
      "288                  True              True           english  0.650000  \n",
      "608                  True              True           english  0.646667  \n",
      "322                  True             False           english  0.646667  \n",
      "416                  True              True           english  0.643333  \n",
      "576                  True              True           english  0.640000  \n"
     ]
    }
   ],
   "source": [
    "print(\"Test CART, Text and title\")\n",
    "testCART(X_train_text_and_title, Y_train_text_and_title,5)"
   ]
  },
  {
   "cell_type": "code",
   "execution_count": 12,
   "metadata": {},
   "outputs": [
    {
     "name": "stdout",
     "output_type": "stream",
     "text": [
      "Test KNN text\n",
      "Application de gridsearch ...\n",
      "pipeline : ['cleaner', 'tfidf', 'KNN']\n",
      "parameters :\n",
      "{'cleaner__getstemmer': [True, False], 'cleaner__removedigit': [True, False], 'cleaner__getlemmatisation': [True, False], 'tfidf__stop_words': ['english', None], 'tfidf__lowercase': [True, False], 'KNN__n_neighbors': [1, 2, 3, 4, 5, 6, 7, 8, 9, 10, 11, 12, 13, 14], 'KNN__algorithm': ['auto', 'ball_tree', 'kd_tree', 'brute'], 'KNN__weights': ['uniform', 'distance'], 'KNN__metric': ['minkowski', 'euclidean', 'manhattan']}\n",
      "Fitting 5 folds for each of 10752 candidates, totalling 53760 fits\n",
      "réalisé en  25578.512 s\n",
      "Meilleur résultat : 0.707\n",
      "Ensemble des meilleurs paramètres :\n",
      "\tKNN__algorithm: 'auto'\n",
      "\tKNN__metric: 'minkowski'\n",
      "\tKNN__n_neighbors: 14\n",
      "\tKNN__weights: 'distance'\n",
      "\tcleaner__getlemmatisation: True\n",
      "\tcleaner__getstemmer: True\n",
      "\tcleaner__removedigit: False\n",
      "\ttfidf__lowercase: True\n",
      "\ttfidf__stop_words: 'english'\n",
      "\n",
      "Les premiers résultats : \n",
      "      KNN__algorithm KNN__metric  KNN__n_neighbors KNN__weights  \\\n",
      "868            auto   minkowski                14     distance   \n",
      "3558      ball_tree   minkowski                14     distance   \n",
      "4454      ball_tree   euclidean                14     distance   \n",
      "4452      ball_tree   euclidean                14     distance   \n",
      "7142        kd_tree   euclidean                14     distance   \n",
      "\n",
      "      cleaner__getlemmatisation  cleaner__getstemmer  cleaner__removedigit  \\\n",
      "868                        True                 True                 False   \n",
      "3558                       True                 True                 False   \n",
      "4454                       True                 True                 False   \n",
      "4452                       True                 True                 False   \n",
      "7142                       True                 True                 False   \n",
      "\n",
      "      tfidf__lowercase tfidf__stop_words  accuracy  \n",
      "868               True           english  0.706667  \n",
      "3558             False           english  0.706667  \n",
      "4454             False           english  0.706667  \n",
      "4452              True           english  0.706667  \n",
      "7142             False           english  0.706667  \n"
     ]
    }
   ],
   "source": [
    "print(\"Test KNN text\")\n",
    "testKNeighborsClassifier(X_train_text, Y_train_text,5)"
   ]
  },
  {
   "cell_type": "code",
   "execution_count": 6,
   "metadata": {},
   "outputs": [
    {
     "name": "stdout",
     "output_type": "stream",
     "text": [
      "Test KNN title\n",
      "Application de gridsearch ...\n",
      "pipeline : ['cleaner', 'tfidf', 'KNN']\n",
      "parameters :\n",
      "{'cleaner__getstemmer': [True, False], 'cleaner__removedigit': [True, False], 'cleaner__getlemmatisation': [True, False], 'tfidf__stop_words': ['english', None], 'tfidf__lowercase': [True, False], 'KNN__n_neighbors': [1, 2, 3, 4, 5, 6, 7, 8, 9, 10, 11, 12, 13, 14], 'KNN__algorithm': ['auto', 'ball_tree', 'kd_tree', 'brute'], 'KNN__weights': ['uniform', 'distance'], 'KNN__metric': ['minkowski', 'euclidean', 'manhattan']}\n",
      "Fitting 5 folds for each of 10752 candidates, totalling 53760 fits\n",
      "réalisé en  1517.085 s\n",
      "Meilleur résultat : 0.683\n",
      "Ensemble des meilleurs paramètres :\n",
      "\tKNN__algorithm: 'auto'\n",
      "\tKNN__metric: 'minkowski'\n",
      "\tKNN__n_neighbors: 11\n",
      "\tKNN__weights: 'distance'\n",
      "\tcleaner__getlemmatisation: False\n",
      "\tcleaner__getstemmer: False\n",
      "\tcleaner__removedigit: False\n",
      "\ttfidf__lowercase: True\n",
      "\ttfidf__stop_words: 'english'\n",
      "\n",
      "Les premiers résultats : \n",
      "      KNN__algorithm KNN__metric  KNN__n_neighbors KNN__weights  \\\n",
      "4284      ball_tree   euclidean                11     distance   \n",
      "8764          brute   minkowski                11     distance   \n",
      "1596           auto   euclidean                11     distance   \n",
      "3388      ball_tree   minkowski                11     distance   \n",
      "6076        kd_tree   minkowski                11     distance   \n",
      "\n",
      "      cleaner__getlemmatisation  cleaner__getstemmer  cleaner__removedigit  \\\n",
      "4284                      False                False                 False   \n",
      "8764                      False                False                 False   \n",
      "1596                      False                False                 False   \n",
      "3388                      False                False                 False   \n",
      "6076                      False                False                 False   \n",
      "\n",
      "      tfidf__lowercase tfidf__stop_words  accuracy  \n",
      "4284              True           english  0.683333  \n",
      "8764              True           english  0.683333  \n",
      "1596              True           english  0.683333  \n",
      "3388              True           english  0.683333  \n",
      "6076              True           english  0.683333  \n"
     ]
    }
   ],
   "source": [
    "print(\"Test KNN title\")\n",
    "testKNeighborsClassifier(X_train_title, Y_train_title,5)"
   ]
  },
  {
   "cell_type": "code",
   "execution_count": 8,
   "metadata": {},
   "outputs": [
    {
     "name": "stdout",
     "output_type": "stream",
     "text": [
      "Test KNN text and title\n",
      "Application de gridsearch ...\n",
      "pipeline : ['cleaner', 'tfidf', 'KNN']\n",
      "parameters :\n",
      "{'cleaner__getstemmer': [True, False], 'cleaner__removedigit': [True, False], 'cleaner__getlemmatisation': [True, False], 'tfidf__stop_words': ['english', None], 'tfidf__lowercase': [True, False], 'KNN__n_neighbors': [1, 2, 3, 4, 5, 6, 7, 8, 9, 10, 11, 12, 13, 14], 'KNN__algorithm': ['auto', 'ball_tree', 'kd_tree', 'brute'], 'KNN__weights': ['uniform', 'distance'], 'KNN__metric': ['minkowski', 'euclidean', 'manhattan']}\n",
      "Fitting 5 folds for each of 10752 candidates, totalling 53760 fits\n",
      "réalisé en  22120.986 s\n",
      "Meilleur résultat : 0.673\n",
      "Ensemble des meilleurs paramètres :\n",
      "\tKNN__algorithm: 'auto'\n",
      "\tKNN__metric: 'minkowski'\n",
      "\tKNN__n_neighbors: 9\n",
      "\tKNN__weights: 'distance'\n",
      "\tcleaner__getlemmatisation: False\n",
      "\tcleaner__getstemmer: True\n",
      "\tcleaner__removedigit: False\n",
      "\ttfidf__lowercase: True\n",
      "\ttfidf__stop_words: None\n",
      "\n",
      "Les premiers résultats : \n",
      "      KNN__algorithm KNN__metric  KNN__n_neighbors KNN__weights  \\\n",
      "4151      ball_tree   euclidean                 9     distance   \n",
      "8629          brute   minkowski                 9     distance   \n",
      "6839        kd_tree   euclidean                 9     distance   \n",
      "6837        kd_tree   euclidean                 9     distance   \n",
      "9527          brute   euclidean                 9     distance   \n",
      "\n",
      "      cleaner__getlemmatisation  cleaner__getstemmer  cleaner__removedigit  \\\n",
      "4151                      False                 True                 False   \n",
      "8629                      False                 True                 False   \n",
      "6839                      False                 True                 False   \n",
      "6837                      False                 True                 False   \n",
      "9527                      False                 True                 False   \n",
      "\n",
      "      tfidf__lowercase tfidf__stop_words  accuracy  \n",
      "4151             False              None  0.673333  \n",
      "8629              True              None  0.673333  \n",
      "6839             False              None  0.673333  \n",
      "6837              True              None  0.673333  \n",
      "9527             False              None  0.673333  \n"
     ]
    }
   ],
   "source": [
    "print(\"Test KNN text and title\")\n",
    "testKNeighborsClassifier(X_train_text_and_title, Y_train_text_and_title,5)"
   ]
  },
  {
   "cell_type": "code",
   "execution_count": 5,
   "metadata": {},
   "outputs": [
    {
     "name": "stdout",
     "output_type": "stream",
     "text": [
      "MultinomialNB test Text\n",
      "Application de gridsearch ...\n",
      "pipeline : ['cleaner', 'tfidf', 'MultinomialNB']\n",
      "parameters :\n",
      "{'cleaner__getstemmer': [True, False], 'cleaner__removedigit': [True, False], 'cleaner__getlemmatisation': [True, False], 'tfidf__stop_words': ['english', None], 'tfidf__lowercase': [True, False], 'MultinomialNB__alpha': [0.1, 0.5, 1.0, 2.0], 'MultinomialNB__fit_prior': [True, False], 'MultinomialNB__force_alpha': [True, False]}\n",
      "Fitting 5 folds for each of 512 candidates, totalling 2560 fits\n",
      "réalisé en  1010.455 s\n",
      "Meilleur résultat : 0.707\n",
      "Ensemble des meilleurs paramètres :\n",
      "\tMultinomialNB__alpha: 1.0\n",
      "\tMultinomialNB__fit_prior: True\n",
      "\tMultinomialNB__force_alpha: True\n",
      "\tcleaner__getlemmatisation: True\n",
      "\tcleaner__getstemmer: False\n",
      "\tcleaner__removedigit: False\n",
      "\ttfidf__lowercase: False\n",
      "\ttfidf__stop_words: 'english'\n",
      "\n",
      "Les premiers résultats : \n",
      "      MultinomialNB__alpha  MultinomialNB__fit_prior  \\\n",
      "334                   1.0                     False   \n",
      "302                   1.0                      True   \n",
      "366                   1.0                     False   \n",
      "270                   1.0                      True   \n",
      "350                   1.0                     False   \n",
      "\n",
      "     MultinomialNB__force_alpha  cleaner__getlemmatisation  \\\n",
      "334                        True                       True   \n",
      "302                       False                       True   \n",
      "366                       False                       True   \n",
      "270                        True                       True   \n",
      "350                        True                      False   \n",
      "\n",
      "     cleaner__getstemmer  cleaner__removedigit  tfidf__lowercase  \\\n",
      "334                False                 False             False   \n",
      "302                False                 False             False   \n",
      "366                False                 False             False   \n",
      "270                False                 False             False   \n",
      "350                False                 False             False   \n",
      "\n",
      "    tfidf__stop_words  accuracy  \n",
      "334           english  0.706667  \n",
      "302           english  0.706667  \n",
      "366           english  0.706667  \n",
      "270           english  0.706667  \n",
      "350           english  0.700000  \n"
     ]
    }
   ],
   "source": [
    "print(\"MultinomialNB test Text\")\n",
    "testMultinomialNB(X_train_text, Y_train_text,5)"
   ]
  },
  {
   "cell_type": "code",
   "execution_count": 8,
   "metadata": {},
   "outputs": [
    {
     "name": "stdout",
     "output_type": "stream",
     "text": [
      "MultinomialNB test Title\n",
      "Application de gridsearch ...\n",
      "pipeline : ['cleaner', 'tfidf', 'MultinomialNB']\n",
      "parameters :\n",
      "{'cleaner__getstemmer': [True, False], 'cleaner__removedigit': [True, False], 'cleaner__getlemmatisation': [True, False], 'tfidf__stop_words': ['english', None], 'tfidf__lowercase': [True, False], 'MultinomialNB__alpha': [0.1, 0.5, 1.0, 2.0], 'MultinomialNB__fit_prior': [True, False], 'MultinomialNB__force_alpha': [True, False]}\n",
      "Fitting 5 folds for each of 512 candidates, totalling 2560 fits\n",
      "réalisé en  73.155 s\n",
      "Meilleur résultat : 0.657\n",
      "Ensemble des meilleurs paramètres :\n",
      "\tMultinomialNB__alpha: 0.1\n",
      "\tMultinomialNB__fit_prior: True\n",
      "\tMultinomialNB__force_alpha: True\n",
      "\tcleaner__getlemmatisation: False\n",
      "\tcleaner__getstemmer: True\n",
      "\tcleaner__removedigit: False\n",
      "\ttfidf__lowercase: True\n",
      "\ttfidf__stop_words: 'english'\n",
      "\n",
      "Les premiers résultats : \n",
      "      MultinomialNB__alpha  MultinomialNB__fit_prior  \\\n",
      "20                    0.1                      True   \n",
      "54                    0.1                      True   \n",
      "86                    0.1                     False   \n",
      "84                    0.1                     False   \n",
      "116                   0.1                     False   \n",
      "\n",
      "     MultinomialNB__force_alpha  cleaner__getlemmatisation  \\\n",
      "20                         True                      False   \n",
      "54                        False                      False   \n",
      "86                         True                      False   \n",
      "84                         True                      False   \n",
      "116                       False                      False   \n",
      "\n",
      "     cleaner__getstemmer  cleaner__removedigit  tfidf__lowercase  \\\n",
      "20                  True                 False              True   \n",
      "54                  True                 False             False   \n",
      "86                  True                 False             False   \n",
      "84                  True                 False              True   \n",
      "116                 True                 False              True   \n",
      "\n",
      "    tfidf__stop_words  accuracy  \n",
      "20            english  0.656667  \n",
      "54            english  0.656667  \n",
      "86            english  0.656667  \n",
      "84            english  0.656667  \n",
      "116           english  0.656667  \n"
     ]
    }
   ],
   "source": [
    "print(\"MultinomialNB test Title\")\n",
    "testMultinomialNB(X_train_title, Y_train_title,5)"
   ]
  },
  {
   "cell_type": "code",
   "execution_count": 6,
   "metadata": {},
   "outputs": [
    {
     "name": "stdout",
     "output_type": "stream",
     "text": [
      "MultinomialNB test Text and Title\n",
      "Application de gridsearch ...\n",
      "pipeline : ['cleaner', 'tfidf', 'MultinomialNB']\n",
      "parameters :\n",
      "{'cleaner__getstemmer': [True, False], 'cleaner__removedigit': [True, False], 'cleaner__getlemmatisation': [True, False], 'tfidf__stop_words': ['english', None], 'tfidf__lowercase': [True, False], 'MultinomialNB__alpha': [0.1, 0.5, 1.0, 2.0], 'MultinomialNB__fit_prior': [True, False], 'MultinomialNB__force_alpha': [True, False]}\n",
      "Fitting 5 folds for each of 512 candidates, totalling 2560 fits\n",
      "réalisé en  987.406 s\n",
      "Meilleur résultat : 0.677\n",
      "Ensemble des meilleurs paramètres :\n",
      "\tMultinomialNB__alpha: 1.0\n",
      "\tMultinomialNB__fit_prior: True\n",
      "\tMultinomialNB__force_alpha: True\n",
      "\tcleaner__getlemmatisation: True\n",
      "\tcleaner__getstemmer: True\n",
      "\tcleaner__removedigit: False\n",
      "\ttfidf__lowercase: True\n",
      "\ttfidf__stop_words: None\n",
      "\n",
      "Les premiers résultats : \n",
      "      MultinomialNB__alpha  MultinomialNB__fit_prior  \\\n",
      "277                   1.0                      True   \n",
      "295                   1.0                      True   \n",
      "327                   1.0                     False   \n",
      "293                   1.0                      True   \n",
      "343                   1.0                     False   \n",
      "\n",
      "     MultinomialNB__force_alpha  cleaner__getlemmatisation  \\\n",
      "277                        True                      False   \n",
      "295                       False                       True   \n",
      "327                        True                       True   \n",
      "293                       False                       True   \n",
      "343                        True                      False   \n",
      "\n",
      "     cleaner__getstemmer  cleaner__removedigit  tfidf__lowercase  \\\n",
      "277                 True                 False              True   \n",
      "295                 True                 False             False   \n",
      "327                 True                 False             False   \n",
      "293                 True                 False              True   \n",
      "343                 True                 False             False   \n",
      "\n",
      "    tfidf__stop_words  accuracy  \n",
      "277              None  0.676667  \n",
      "295              None  0.676667  \n",
      "327              None  0.676667  \n",
      "293              None  0.676667  \n",
      "343              None  0.676667  \n"
     ]
    }
   ],
   "source": [
    "print(\"MultinomialNB test Text and Title\")\n",
    "testMultinomialNB(X_train_text_and_title, Y_train_text_and_title,5)"
   ]
  }
 ],
 "metadata": {
  "kernelspec": {
   "display_name": "Python 3",
   "language": "python",
   "name": "python3"
  },
  "language_info": {
   "codemirror_mode": {
    "name": "ipython",
    "version": 3
   },
   "file_extension": ".py",
   "mimetype": "text/x-python",
   "name": "python",
   "nbconvert_exporter": "python",
   "pygments_lexer": "ipython3",
   "version": "3.11.2"
  }
 },
 "nbformat": 4,
 "nbformat_minor": 0
}
